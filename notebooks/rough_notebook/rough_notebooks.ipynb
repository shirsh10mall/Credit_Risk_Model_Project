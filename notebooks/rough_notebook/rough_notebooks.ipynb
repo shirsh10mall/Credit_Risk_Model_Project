{
 "cells": [
  {
   "cell_type": "code",
   "execution_count": 1,
   "metadata": {},
   "outputs": [
    {
     "name": "stdout",
     "output_type": "stream",
     "text": [
      "Current directory for notebook:  /Users/shirshmall/Personal_Drive/Credit_Risk_Model_Project\n"
     ]
    }
   ],
   "source": [
    "from dotenv import load_dotenv\n",
    "import os\n",
    "from pathlib import Path\n",
    "import pandas\n",
    "import pyspark\n",
    "\n",
    "CURRENT_DIRECTORY_NOTEBOOK = None\n",
    "def intitate_notebook():\n",
    "    load_dotenv()\n",
    "    global CURRENT_DIRECTORY_NOTEBOOK\n",
    "    if CURRENT_DIRECTORY_NOTEBOOK is None:\n",
    "        os.chdir(os.getenv('PROJECT_BASE_PATH'))\n",
    "        CURRENT_DIRECTORY_NOTEBOOK = Path(os.getcwd())\n",
    "        print(\"Current directory for notebook: \", CURRENT_DIRECTORY_NOTEBOOK)\n",
    "    else:\n",
    "        print(\"Current directory for notebook is already set: \", CURRENT_DIRECTORY_NOTEBOOK)\n",
    "\n",
    "intitate_notebook()"
   ]
  },
  {
   "cell_type": "code",
   "execution_count": 2,
   "metadata": {},
   "outputs": [
    {
     "name": "stderr",
     "output_type": "stream",
     "text": [
      "24/07/08 21:19:36 WARN Utils: Your hostname, Shirshs-MacBook-Air.local resolves to a loopback address: 127.0.0.1; using 192.168.68.100 instead (on interface en0)\n",
      "24/07/08 21:19:36 WARN Utils: Set SPARK_LOCAL_IP if you need to bind to another address\n",
      "Setting default log level to \"WARN\".\n",
      "To adjust logging level use sc.setLogLevel(newLevel). For SparkR, use setLogLevel(newLevel).\n",
      "24/07/08 21:19:37 WARN NativeCodeLoader: Unable to load native-hadoop library for your platform... using builtin-java classes where applicable\n"
     ]
    }
   ],
   "source": [
    "from pyspark.sql import SparkSession\n",
    "\n",
    "parquet_file_path = CURRENT_DIRECTORY_NOTEBOOK / Path(\"raw_main_dataset/home-credit-credit-risk-model-stability/parquet_files/train/train_base.parquet\")\n",
    "\n",
    "spark = SparkSession.builder \\\n",
    "    .appName(\"Read Parquet File with Env Variables\") \\\n",
    "    .getOrCreate()"
   ]
  },
  {
   "cell_type": "code",
   "execution_count": 3,
   "metadata": {},
   "outputs": [
    {
     "name": "stderr",
     "output_type": "stream",
     "text": [
      "                                                                                \r"
     ]
    },
    {
     "name": "stdout",
     "output_type": "stream",
     "text": [
      "+-------+-------------+------+--------+------+\n",
      "|case_id|date_decision| MONTH|WEEK_NUM|target|\n",
      "+-------+-------------+------+--------+------+\n",
      "|      0|   2019-01-03|201901|       0|     0|\n",
      "|      1|   2019-01-03|201901|       0|     0|\n",
      "|      2|   2019-01-04|201901|       0|     0|\n",
      "|      3|   2019-01-03|201901|       0|     0|\n",
      "|      4|   2019-01-04|201901|       0|     1|\n",
      "|      5|   2019-01-02|201901|       0|     0|\n",
      "|      6|   2019-01-03|201901|       0|     0|\n",
      "|      7|   2019-01-03|201901|       0|     0|\n",
      "|      8|   2019-01-03|201901|       0|     0|\n",
      "|      9|   2019-01-03|201901|       0|     0|\n",
      "|     10|   2019-01-03|201901|       0|     0|\n",
      "|     11|   2019-01-03|201901|       0|     0|\n",
      "|     12|   2019-01-03|201901|       0|     0|\n",
      "|     13|   2019-01-03|201901|       0|     0|\n",
      "|     14|   2019-01-03|201901|       0|     0|\n",
      "|     15|   2019-01-03|201901|       0|     0|\n",
      "|     16|   2019-01-03|201901|       0|     0|\n",
      "|     17|   2019-01-03|201901|       0|     0|\n",
      "|     18|   2019-01-03|201901|       0|     0|\n",
      "|     19|   2019-01-03|201901|       0|     0|\n",
      "+-------+-------------+------+--------+------+\n",
      "only showing top 20 rows\n",
      "\n"
     ]
    }
   ],
   "source": [
    "df = spark.read.parquet(str(parquet_file_path))\n",
    "df.show()"
   ]
  },
  {
   "cell_type": "code",
   "execution_count": null,
   "metadata": {},
   "outputs": [],
   "source": []
  },
  {
   "cell_type": "code",
   "execution_count": null,
   "metadata": {},
   "outputs": [],
   "source": []
  },
  {
   "cell_type": "code",
   "execution_count": null,
   "metadata": {},
   "outputs": [],
   "source": []
  },
  {
   "cell_type": "code",
   "execution_count": 4,
   "metadata": {},
   "outputs": [],
   "source": [
    "# Stop the Spark session\n",
    "spark.stop()"
   ]
  },
  {
   "cell_type": "code",
   "execution_count": null,
   "metadata": {},
   "outputs": [],
   "source": []
  },
  {
   "cell_type": "code",
   "execution_count": null,
   "metadata": {},
   "outputs": [],
   "source": []
  },
  {
   "cell_type": "code",
   "execution_count": null,
   "metadata": {},
   "outputs": [],
   "source": []
  }
 ],
 "metadata": {
  "kernelspec": {
   "display_name": "credit_risk_project",
   "language": "python",
   "name": "python3"
  },
  "language_info": {
   "codemirror_mode": {
    "name": "ipython",
    "version": 3
   },
   "file_extension": ".py",
   "mimetype": "text/x-python",
   "name": "python",
   "nbconvert_exporter": "python",
   "pygments_lexer": "ipython3",
   "version": "3.11.9"
  }
 },
 "nbformat": 4,
 "nbformat_minor": 2
}
