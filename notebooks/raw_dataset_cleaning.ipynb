{
 "cells": [
  {
   "cell_type": "code",
   "execution_count": 1,
   "metadata": {},
   "outputs": [
    {
     "name": "stdout",
     "output_type": "stream",
     "text": [
      "Current directory for notebook:  /Users/shirshmall/Personal_Drive/Credit_Risk_Model_Project\n"
     ]
    }
   ],
   "source": [
    "from dotenv import load_dotenv\n",
    "import os\n",
    "from pathlib import Path\n",
    "\n",
    "CURRENT_DIRECTORY_NOTEBOOK = None\n",
    "\n",
    "\n",
    "def intitate_notebook():\n",
    "    load_dotenv()\n",
    "    global CURRENT_DIRECTORY_NOTEBOOK\n",
    "    if CURRENT_DIRECTORY_NOTEBOOK is None:\n",
    "        os.chdir(os.getenv(\"PROJECT_BASE_PATH\"))\n",
    "        CURRENT_DIRECTORY_NOTEBOOK = Path(os.getcwd())\n",
    "        print(\"Current directory for notebook: \", CURRENT_DIRECTORY_NOTEBOOK)\n",
    "    else:\n",
    "        print(\n",
    "            \"Current directory for notebook is already set: \",\n",
    "            CURRENT_DIRECTORY_NOTEBOOK,\n",
    "        )\n",
    "\n",
    "intitate_notebook()\n",
    "\n",
    "from src.utils.common import clear_gc\n",
    "clear_gc()\n",
    "\n",
    "TRAIN_PARQUET_FOLDER_PATH = (\n",
    "    \"raw_main_dataset/home-credit-credit-risk-model-stability/parquet_files/train\"\n",
    ")\n",
    "\n",
    "CLEANED_DATASET_DIRECTORY_PATH = Path(\"datasets/cleaned_data\")"
   ]
  },
  {
   "cell_type": "code",
   "execution_count": 2,
   "metadata": {},
   "outputs": [],
   "source": [
    "from src.utils.common import import_parquet_file, import_and_concatenate_parquet_files\n",
    "from src.data_cleaning import get_columns_high_missing_values, clean_credit_bureau_dataset, clean_tax_registry_dataset, clean_static_cb_dataset, clean_static_dataset, clean_person_dataset, clean_previous_applications_dataset, clean_base_dataset, get_max_per_group, reduce_mem_usage, set_table_dtypes\n",
    "from pyspark.sql.functions import countDistinct"
   ]
  },
  {
   "cell_type": "code",
   "execution_count": null,
   "metadata": {},
   "outputs": [],
   "source": [
    "# Run Above"
   ]
  },
  {
   "cell_type": "markdown",
   "metadata": {},
   "source": [
    "### Data Info\n",
    "- Data Name: Base\n",
    "- Relevant for Training: Yes"
   ]
  },
  {
   "cell_type": "code",
   "execution_count": null,
   "metadata": {},
   "outputs": [],
   "source": [
    "base_df, spark = import_parquet_file(\n",
    "    file_path=(\n",
    "        CURRENT_DIRECTORY_NOTEBOOK\n",
    "        / TRAIN_PARQUET_FOLDER_PATH\n",
    "        / Path(\"train_base.parquet\")\n",
    "    ),\n",
    "    app_name=\"Base_Data_Cleaning_Train\",\n",
    ")\n",
    "\n",
    "# base_df.show()"
   ]
  },
  {
   "cell_type": "code",
   "execution_count": null,
   "metadata": {},
   "outputs": [],
   "source": [
    "base_df = clean_base_dataset(base_df)"
   ]
  },
  {
   "cell_type": "code",
   "execution_count": null,
   "metadata": {},
   "outputs": [],
   "source": [
    "# SAVE the data in .parquet file # Coalesce to a single partition\n",
    "base_df.coalesce(1).write.parquet(\n",
    "    str(CURRENT_DIRECTORY_NOTEBOOK / CLEANED_DATASET_DIRECTORY_PATH) + \"/base_data\" \n",
    ")"
   ]
  },
  {
   "cell_type": "code",
   "execution_count": null,
   "metadata": {},
   "outputs": [],
   "source": [
    "spark.stop()"
   ]
  },
  {
   "cell_type": "markdown",
   "metadata": {},
   "source": [
    "### Data Info\n",
    "- Data Name: Previous Applications (applprev)\n",
    "- Depth: 1\n",
    "- Source: Internal data source\n",
    "- Relevant for Training: Yes"
   ]
  },
  {
   "cell_type": "code",
   "execution_count": null,
   "metadata": {},
   "outputs": [],
   "source": [
    "train_applprev_df, spark = import_and_concatenate_parquet_files(\n",
    "    data_file_names=[\"train_applprev_1_0.parquet\", \"train_applprev_1_1.parquet\"],\n",
    "    app_name=\"Previous_Application_Train_Dataset_Cleaning\",\n",
    "    base_path=TRAIN_PARQUET_FOLDER_PATH,\n",
    ")\n",
    "\n",
    "train_applprev_df.sort(\"case_id\", \"num_group1\")\n",
    "train_applprev_df.show(5)"
   ]
  },
  {
   "cell_type": "code",
   "execution_count": null,
   "metadata": {},
   "outputs": [],
   "source": [
    "train_applprev_df = clean_previous_applications_dataset(train_applprev_df)"
   ]
  },
  {
   "cell_type": "code",
   "execution_count": null,
   "metadata": {},
   "outputs": [],
   "source": [
    "print(\n",
    "    \"Total Number of Row: \", \n",
    "    train_applprev_df.count(),\n",
    "    \"\\nTotal Number of Unique Case ID: \",\n",
    "    train_applprev_df.select(countDistinct(\"case_id\")).collect()[0][0],\n",
    ")\n",
    "\n",
    "train_applprev_df.show()"
   ]
  },
  {
   "cell_type": "code",
   "execution_count": null,
   "metadata": {},
   "outputs": [],
   "source": [
    "# SAVE the data in .parquet file # Coalesce to a single partition\n",
    "train_applprev_df.coalesce(1).write.parquet(\n",
    "    str(CURRENT_DIRECTORY_NOTEBOOK / CLEANED_DATASET_DIRECTORY_PATH) + \"/previous_applications_data\" \n",
    ")"
   ]
  },
  {
   "cell_type": "code",
   "execution_count": null,
   "metadata": {},
   "outputs": [],
   "source": [
    "spark.stop()\n"
   ]
  },
  {
   "cell_type": "markdown",
   "metadata": {},
   "source": [
    "### Data Info\n",
    "- Data Name: Credit Bureau (credit_bureau)\n",
    "- Depth: 1\n",
    "- Source: External data source, Credit bureau provider A and B\n",
    "- Relevant for Training: Yes"
   ]
  },
  {
   "cell_type": "markdown",
   "metadata": {},
   "source": [
    "##### Provider A"
   ]
  },
  {
   "cell_type": "code",
   "execution_count": 3,
   "metadata": {},
   "outputs": [
    {
     "name": "stderr",
     "output_type": "stream",
     "text": [
      "\u001b[32m2024-07-25 12:46:43.990\u001b[0m | \u001b[1mINFO    \u001b[0m | \u001b[36msrc.utils.common\u001b[0m:\u001b[36mimport_and_concatenate_parquet_files\u001b[0m:\u001b[36m57\u001b[0m - \u001b[1mInitializing SparkSession\u001b[0m\n",
      "24/07/25 12:46:45 WARN Utils: Your hostname, Shirshs-MacBook-Air.local resolves to a loopback address: 127.0.0.1; using 192.168.1.83 instead (on interface en0)\n",
      "24/07/25 12:46:45 WARN Utils: Set SPARK_LOCAL_IP if you need to bind to another address\n",
      "Setting default log level to \"WARN\".\n",
      "To adjust logging level use sc.setLogLevel(newLevel). For SparkR, use setLogLevel(newLevel).\n",
      "24/07/25 12:46:45 WARN NativeCodeLoader: Unable to load native-hadoop library for your platform... using builtin-java classes where applicable\n",
      "\u001b[32m2024-07-25 12:46:45.977\u001b[0m | \u001b[1mINFO    \u001b[0m | \u001b[36msrc.utils.common\u001b[0m:\u001b[36mimport_and_concatenate_parquet_files\u001b[0m:\u001b[36m70\u001b[0m - \u001b[1mReading file train_credit_bureau_a_1_0.parquet with app name Credit_Bureau_A_Train_Dataset_Cleaning\u001b[0m\n",
      "\u001b[32m2024-07-25 12:46:47.998\u001b[0m | \u001b[1mINFO    \u001b[0m | \u001b[36msrc.utils.common\u001b[0m:\u001b[36mimport_and_concatenate_parquet_files\u001b[0m:\u001b[36m72\u001b[0m - \u001b[1mFile Loaded - Rows Count: 4108212\u001b[0m\n",
      "\u001b[32m2024-07-25 12:46:48.002\u001b[0m | \u001b[1mINFO    \u001b[0m | \u001b[36msrc.utils.common\u001b[0m:\u001b[36mimport_and_concatenate_parquet_files\u001b[0m:\u001b[36m70\u001b[0m - \u001b[1mReading file train_credit_bureau_a_1_1.parquet with app name Credit_Bureau_A_Train_Dataset_Cleaning\u001b[0m\n",
      "\u001b[32m2024-07-25 12:46:48.238\u001b[0m | \u001b[1mINFO    \u001b[0m | \u001b[36msrc.utils.common\u001b[0m:\u001b[36mimport_and_concatenate_parquet_files\u001b[0m:\u001b[36m72\u001b[0m - \u001b[1mFile Loaded - Rows Count: 6009192\u001b[0m\n",
      "\u001b[32m2024-07-25 12:46:48.241\u001b[0m | \u001b[1mINFO    \u001b[0m | \u001b[36msrc.utils.common\u001b[0m:\u001b[36mimport_and_concatenate_parquet_files\u001b[0m:\u001b[36m70\u001b[0m - \u001b[1mReading file train_credit_bureau_a_1_2.parquet with app name Credit_Bureau_A_Train_Dataset_Cleaning\u001b[0m\n",
      "\u001b[32m2024-07-25 12:46:48.571\u001b[0m | \u001b[1mINFO    \u001b[0m | \u001b[36msrc.utils.common\u001b[0m:\u001b[36mimport_and_concatenate_parquet_files\u001b[0m:\u001b[36m72\u001b[0m - \u001b[1mFile Loaded - Rows Count: 3743810\u001b[0m\n",
      "\u001b[32m2024-07-25 12:46:48.574\u001b[0m | \u001b[1mINFO    \u001b[0m | \u001b[36msrc.utils.common\u001b[0m:\u001b[36mimport_and_concatenate_parquet_files\u001b[0m:\u001b[36m70\u001b[0m - \u001b[1mReading file train_credit_bureau_a_1_3.parquet with app name Credit_Bureau_A_Train_Dataset_Cleaning\u001b[0m\n",
      "\u001b[32m2024-07-25 12:46:48.788\u001b[0m | \u001b[1mINFO    \u001b[0m | \u001b[36msrc.utils.common\u001b[0m:\u001b[36mimport_and_concatenate_parquet_files\u001b[0m:\u001b[36m72\u001b[0m - \u001b[1mFile Loaded - Rows Count: 2079323\u001b[0m\n",
      "\u001b[32m2024-07-25 12:46:48.791\u001b[0m | \u001b[1mINFO    \u001b[0m | \u001b[36msrc.utils.common\u001b[0m:\u001b[36mimport_and_concatenate_parquet_files\u001b[0m:\u001b[36m92\u001b[0m - \u001b[1mConcatenating DataFrames\u001b[0m\n",
      "\u001b[32m2024-07-25 12:46:48.853\u001b[0m | \u001b[1mINFO    \u001b[0m | \u001b[36msrc.utils.common\u001b[0m:\u001b[36mimport_and_concatenate_parquet_files\u001b[0m:\u001b[36m97\u001b[0m - \u001b[1mConcatenation complete\u001b[0m\n",
      "24/07/25 12:46:49 WARN SparkStringUtils: Truncated the string representation of a plan since it was too large. This behavior can be adjusted by setting 'spark.sql.debug.maxToStringFields'.\n"
     ]
    },
    {
     "name": "stdout",
     "output_type": "stream",
     "text": [
      "+-------+------------------------+-----------------------+-------------------------+--------------------------+---------------+---------------+--------------------+------------+------------+------------------+------------------+--------------------+--------------------+--------------------+-----------------+---------------+----------------+-----------+-----------+--------------------+-------------------+-------------------+-------------------+-------------------------+-------------------------+----------------+----------------+-----------------+----------------+---------------+-----------------------+-----------------------+----------------+----------------+----------+------------------------+------------------------+-------------------+-------------------+---------------------------+--------------------------+-----------------------------+-----------------------------+-------------------------------+-------------------------------+--------------------------+--------------------------+----------------------+----------------------+-----------------+------------------+---------------------+----------------------+---------------------------+---------------------------+---------------------+--------------------+------------------------------+------------------------------+---------------------------+-----------------------------+-----------------------+----------------------+-----------------------+----------------------+------------------+------------------+--------------------+-------------------+-------------------+----------------+---------------+--------------+----------------+--------------------------+--------------------------+--------------------------+---------------------------+\n",
      "|case_id|annualeffectiverate_199L|annualeffectiverate_63L|classificationofcontr_13M|classificationofcontr_400M|contractst_545M|contractst_964M|contractsum_5085717L|credlmt_230A|credlmt_935A|dateofcredend_289D|dateofcredend_353D|dateofcredstart_181D|dateofcredstart_739D|dateofrealrepmt_138D|debtoutstand_525A|debtoverdue_47A|description_351M|dpdmax_139P|dpdmax_757P|dpdmaxdatemonth_442T|dpdmaxdatemonth_89T|dpdmaxdateyear_596T|dpdmaxdateyear_896T|financialinstitution_382M|financialinstitution_591M|instlamount_768A|instlamount_852A|interestrate_508L|lastupdate_1112D|lastupdate_388D|monthlyinstlamount_332A|monthlyinstlamount_674A|nominalrate_281L|nominalrate_498L|num_group1|numberofcontrsvalue_258L|numberofcontrsvalue_358L|numberofinstls_229L|numberofinstls_320L|numberofoutstandinstls_520L|numberofoutstandinstls_59L|numberofoverdueinstlmax_1039L|numberofoverdueinstlmax_1151L|numberofoverdueinstlmaxdat_148D|numberofoverdueinstlmaxdat_641D|numberofoverdueinstls_725L|numberofoverdueinstls_834L|outstandingamount_354A|outstandingamount_362A|overdueamount_31A|overdueamount_659A|overdueamountmax2_14A|overdueamountmax2_398A|overdueamountmax2date_1002D|overdueamountmax2date_1142D|overdueamountmax_155A|overdueamountmax_35A|overdueamountmaxdatemonth_284T|overdueamountmaxdatemonth_365T|overdueamountmaxdateyear_2T|overdueamountmaxdateyear_994T|periodicityofpmts_1102L|periodicityofpmts_837L|prolongationcount_1120L|prolongationcount_599L|purposeofcred_426M|purposeofcred_874M|refreshdate_3813885D|residualamount_488A|residualamount_856A|subjectrole_182M|subjectrole_93M|totalamount_6A|totalamount_996A|totaldebtoverduevalue_178A|totaldebtoverduevalue_718A|totaloutstanddebtvalue_39A|totaloutstanddebtvalue_668A|\n",
      "+-------+------------------------+-----------------------+-------------------------+--------------------------+---------------+---------------+--------------------+------------+------------+------------------+------------------+--------------------+--------------------+--------------------+-----------------+---------------+----------------+-----------+-----------+--------------------+-------------------+-------------------+-------------------+-------------------------+-------------------------+----------------+----------------+-----------------+----------------+---------------+-----------------------+-----------------------+----------------+----------------+----------+------------------------+------------------------+-------------------+-------------------+---------------------------+--------------------------+-----------------------------+-----------------------------+-------------------------------+-------------------------------+--------------------------+--------------------------+----------------------+----------------------+-----------------+------------------+---------------------+----------------------+---------------------------+---------------------------+---------------------+--------------------+------------------------------+------------------------------+---------------------------+-----------------------------+-----------------------+----------------------+-----------------------+----------------------+------------------+------------------+--------------------+-------------------+-------------------+----------------+---------------+--------------+----------------+--------------------------+--------------------------+--------------------------+---------------------------+\n",
      "|    388|                    NULL|                   NULL|                 ea6782cc|                  a55475b1|       7241344e|       a55475b1|                NULL|        NULL|    135806.0|        2020-08-06|              NULL|                NULL|          2018-08-06|                NULL|             NULL|           NULL|        a55475b1|        0.0|       NULL|                NULL|                8.0|             2018.0|               NULL|                 a55475b1|               P204_66_73|          8742.8|            NULL|             NULL|      2019-01-11|           NULL|                 8742.8|                   NULL|            NULL|            NULL|         1|                    NULL|                    NULL|               NULL|               NULL|                       NULL|                      NULL|                          0.0|                         NULL|                           NULL|                           NULL|                       0.0|                      NULL|                  NULL|                  NULL|             NULL|               0.0|                  0.0|                  NULL|                       NULL|                       NULL|                  0.0|                NULL|                          NULL|                           8.0|                     2018.0|                         NULL|                   NULL|                  NULL|                   NULL|                  NULL|          60c73645|          a55475b1|                NULL|               NULL|         114325.805|        a55475b1|       a55475b1|          NULL|            NULL|                      NULL|                      NULL|                      NULL|                       NULL|\n",
      "|    388|                    NULL|                   NULL|                 4408ff0f|                  a55475b1|       7241344e|       a55475b1|                NULL|        NULL|        NULL|        2023-06-20|              NULL|                NULL|          2018-06-20|                NULL|         374419.5|            0.0|        a55475b1|        0.0|       NULL|                NULL|                7.0|             2018.0|               NULL|                 a55475b1|                 55b002a9|            NULL|            NULL|             NULL|      2019-01-24|           NULL|              7811.4463|                   NULL|            NULL|            NULL|         0|                     2.0|                     1.0|               NULL|               60.0|                       NULL|                      54.0|                          0.0|                         NULL|                           NULL|                           NULL|                       0.0|                      NULL|                  NULL|              260093.7|             NULL|               0.0|                  0.0|                  NULL|                       NULL|                       NULL|                  0.0|                NULL|                          NULL|                           7.0|                     2018.0|                         NULL|                   NULL|                  30.0|                   NULL|                  NULL|          96a8fdfe|          a55475b1|                NULL|               NULL|               NULL|        ab3c25cf|       ab3c25cf|          NULL|       268897.62|                       0.0|                       0.0|                  374419.5|                        0.0|\n",
      "|    388|                    NULL|                   NULL|                 a55475b1|                  a55475b1|       a55475b1|       a55475b1|                NULL|        NULL|        NULL|              NULL|              NULL|                NULL|                NULL|                NULL|             NULL|           NULL|        a55475b1|       NULL|       NULL|                NULL|               NULL|               NULL|               NULL|                 a55475b1|                 a55475b1|            NULL|            NULL|             NULL|            NULL|           NULL|                   NULL|                   NULL|            NULL|            NULL|         2|                    NULL|                    NULL|               NULL|               NULL|                       NULL|                      NULL|                         NULL|                         NULL|                           NULL|                           NULL|                      NULL|                      NULL|                  NULL|                  NULL|             NULL|              NULL|                 NULL|                  NULL|                       NULL|                       NULL|                 NULL|                NULL|                          NULL|                          NULL|                       NULL|                         NULL|                   NULL|                  NULL|                   NULL|                  NULL|          a55475b1|          a55475b1|          2019-01-28|               NULL|               NULL|        a55475b1|       a55475b1|          NULL|            NULL|                      NULL|                      NULL|                      NULL|                       NULL|\n",
      "|    388|                    NULL|                   NULL|                 a55475b1|                  a55475b1|       a55475b1|       a55475b1|                NULL|        NULL|        NULL|              NULL|              NULL|                NULL|                NULL|                NULL|             NULL|           NULL|        a55475b1|       NULL|       NULL|                NULL|               NULL|               NULL|               NULL|                 a55475b1|                 a55475b1|            NULL|            NULL|             NULL|            NULL|           NULL|                   NULL|                   NULL|            NULL|            NULL|         3|                    NULL|                    NULL|               NULL|               NULL|                       NULL|                      NULL|                         NULL|                         NULL|                           NULL|                           NULL|                      NULL|                      NULL|                  NULL|                  NULL|             NULL|              NULL|                 NULL|                  NULL|                       NULL|                       NULL|                 NULL|                NULL|                          NULL|                          NULL|                       NULL|                         NULL|                   NULL|                  NULL|                   NULL|                  NULL|          a55475b1|          a55475b1|          2019-01-28|               NULL|               NULL|        a55475b1|       a55475b1|          NULL|            NULL|                      NULL|                      NULL|                      NULL|                       NULL|\n",
      "|    388|                    NULL|                   NULL|                 a55475b1|                  a55475b1|       a55475b1|       a55475b1|                NULL|        NULL|        NULL|              NULL|              NULL|                NULL|                NULL|                NULL|             NULL|           NULL|        a55475b1|       NULL|       NULL|                NULL|               NULL|               NULL|               NULL|                 a55475b1|                 a55475b1|            NULL|            NULL|             NULL|            NULL|           NULL|                   NULL|                   NULL|            NULL|            NULL|         4|                    NULL|                    NULL|               NULL|               NULL|                       NULL|                      NULL|                         NULL|                         NULL|                           NULL|                           NULL|                      NULL|                      NULL|                  NULL|                  NULL|             NULL|              NULL|                 NULL|                  NULL|                       NULL|                       NULL|                 NULL|                NULL|                          NULL|                          NULL|                       NULL|                         NULL|                   NULL|                  NULL|                   NULL|                  NULL|          a55475b1|          a55475b1|          2019-01-28|               NULL|               NULL|        a55475b1|       a55475b1|          NULL|            NULL|                      NULL|                      NULL|                      NULL|                       NULL|\n",
      "|    388|                    NULL|                   NULL|                 a55475b1|                  a55475b1|       a55475b1|       a55475b1|                NULL|        NULL|        NULL|              NULL|              NULL|                NULL|                NULL|                NULL|             NULL|           NULL|        a55475b1|       NULL|       NULL|                NULL|               NULL|               NULL|               NULL|                 a55475b1|                 a55475b1|            NULL|            NULL|             NULL|            NULL|           NULL|                   NULL|                   NULL|            NULL|            NULL|         5|                    NULL|                    NULL|               NULL|               NULL|                       NULL|                      NULL|                         NULL|                         NULL|                           NULL|                           NULL|                      NULL|                      NULL|                  NULL|                  NULL|             NULL|              NULL|                 NULL|                  NULL|                       NULL|                       NULL|                 NULL|                NULL|                          NULL|                          NULL|                       NULL|                         NULL|                   NULL|                  NULL|                   NULL|                  NULL|          a55475b1|          a55475b1|                NULL|               NULL|               NULL|        a55475b1|       a55475b1|          NULL|            NULL|                      NULL|                      NULL|                      NULL|                       NULL|\n",
      "|    388|                    NULL|                   NULL|                 a55475b1|                  a55475b1|       a55475b1|       a55475b1|                NULL|        NULL|        NULL|              NULL|              NULL|                NULL|                NULL|                NULL|             NULL|           NULL|        a55475b1|       NULL|       NULL|                NULL|               NULL|               NULL|               NULL|                 a55475b1|                 a55475b1|            NULL|            NULL|             NULL|            NULL|           NULL|                   NULL|                   NULL|            NULL|            NULL|         6|                    NULL|                    NULL|               NULL|               NULL|                       NULL|                      NULL|                         NULL|                         NULL|                           NULL|                           NULL|                      NULL|                      NULL|                  NULL|                  NULL|             NULL|              NULL|                 NULL|                  NULL|                       NULL|                       NULL|                 NULL|                NULL|                          NULL|                          NULL|                       NULL|                         NULL|                   NULL|                  NULL|                   NULL|                  NULL|          a55475b1|          a55475b1|          2019-01-03|               NULL|               NULL|        a55475b1|       a55475b1|          NULL|            NULL|                      NULL|                      NULL|                      NULL|                       NULL|\n",
      "|    388|                    NULL|                   NULL|                 a55475b1|                  a55475b1|       a55475b1|       a55475b1|                NULL|        NULL|        NULL|              NULL|              NULL|                NULL|                NULL|                NULL|             NULL|           NULL|        a55475b1|       NULL|       NULL|                NULL|               NULL|               NULL|               NULL|                 a55475b1|                 a55475b1|            NULL|            NULL|             NULL|            NULL|           NULL|                   NULL|                   NULL|            NULL|            NULL|         7|                    NULL|                    NULL|               NULL|               NULL|                       NULL|                      NULL|                         NULL|                         NULL|                           NULL|                           NULL|                      NULL|                      NULL|                  NULL|                  NULL|             NULL|              NULL|                 NULL|                  NULL|                       NULL|                       NULL|                 NULL|                NULL|                          NULL|                          NULL|                       NULL|                         NULL|                   NULL|                  NULL|                   NULL|                  NULL|          a55475b1|          a55475b1|          2019-01-24|               NULL|               NULL|        a55475b1|       a55475b1|          NULL|            NULL|                      NULL|                      NULL|                      NULL|                       NULL|\n",
      "|    388|                    NULL|                   NULL|                 a55475b1|                  a55475b1|       a55475b1|       a55475b1|                NULL|        NULL|        NULL|              NULL|              NULL|                NULL|                NULL|                NULL|             NULL|           NULL|        a55475b1|       NULL|       NULL|                NULL|               NULL|               NULL|               NULL|                 a55475b1|                 a55475b1|            NULL|            NULL|             NULL|            NULL|           NULL|                   NULL|                   NULL|            NULL|            NULL|         8|                    NULL|                    NULL|               NULL|               NULL|                       NULL|                      NULL|                         NULL|                         NULL|                           NULL|                           NULL|                      NULL|                      NULL|                  NULL|                  NULL|             NULL|              NULL|                 NULL|                  NULL|                       NULL|                       NULL|                 NULL|                NULL|                          NULL|                          NULL|                       NULL|                         NULL|                   NULL|                  NULL|                   NULL|                  NULL|          a55475b1|          a55475b1|          2018-11-02|               NULL|               NULL|        a55475b1|       a55475b1|          NULL|            NULL|                      NULL|                      NULL|                      NULL|                       NULL|\n",
      "|    388|                    NULL|                   NULL|                 a55475b1|                  a55475b1|       a55475b1|       a55475b1|                NULL|        NULL|        NULL|              NULL|              NULL|                NULL|                NULL|                NULL|             NULL|           NULL|        a55475b1|       NULL|       NULL|                NULL|               NULL|               NULL|               NULL|                 a55475b1|                 a55475b1|            NULL|            NULL|             NULL|            NULL|           NULL|                   NULL|                   NULL|            NULL|            NULL|         9|                    NULL|                    NULL|               NULL|               NULL|                       NULL|                      NULL|                         NULL|                         NULL|                           NULL|                           NULL|                      NULL|                      NULL|                  NULL|                  NULL|             NULL|              NULL|                 NULL|                  NULL|                       NULL|                       NULL|                 NULL|                NULL|                          NULL|                          NULL|                       NULL|                         NULL|                   NULL|                  NULL|                   NULL|                  NULL|          a55475b1|          a55475b1|          2019-01-09|               NULL|               NULL|        a55475b1|       a55475b1|          NULL|            NULL|                      NULL|                      NULL|                      NULL|                       NULL|\n",
      "+-------+------------------------+-----------------------+-------------------------+--------------------------+---------------+---------------+--------------------+------------+------------+------------------+------------------+--------------------+--------------------+--------------------+-----------------+---------------+----------------+-----------+-----------+--------------------+-------------------+-------------------+-------------------+-------------------------+-------------------------+----------------+----------------+-----------------+----------------+---------------+-----------------------+-----------------------+----------------+----------------+----------+------------------------+------------------------+-------------------+-------------------+---------------------------+--------------------------+-----------------------------+-----------------------------+-------------------------------+-------------------------------+--------------------------+--------------------------+----------------------+----------------------+-----------------+------------------+---------------------+----------------------+---------------------------+---------------------------+---------------------+--------------------+------------------------------+------------------------------+---------------------------+-----------------------------+-----------------------+----------------------+-----------------------+----------------------+------------------+------------------+--------------------+-------------------+-------------------+----------------+---------------+--------------+----------------+--------------------------+--------------------------+--------------------------+---------------------------+\n",
      "only showing top 10 rows\n",
      "\n"
     ]
    },
    {
     "name": "stderr",
     "output_type": "stream",
     "text": [
      "[Stage 20:======================================>                 (22 + 8) / 32]\r"
     ]
    },
    {
     "name": "stdout",
     "output_type": "stream",
     "text": [
      "Total Number of Row:  15940537 \n",
      "Total Number of Unique Case ID:  1386273\n"
     ]
    },
    {
     "name": "stderr",
     "output_type": "stream",
     "text": [
      "                                                                                \r"
     ]
    },
    {
     "name": "stderr",
     "output_type": "stream",
     "text": [
      "24/07/25 12:46:58 WARN GarbageCollectionMetrics: To enable non-built-in garbage collector(s) List(G1 Concurrent GC), users should configure it(them) to spark.eventLog.gcMetrics.youngGenerationGarbageCollectors or spark.eventLog.gcMetrics.oldGenerationGarbageCollectors\n"
     ]
    }
   ],
   "source": [
    "credit_bureau_df, spark = import_and_concatenate_parquet_files(\n",
    "    data_file_names=[\n",
    "        \"train_credit_bureau_a_1_0.parquet\", \n",
    "        \"train_credit_bureau_a_1_1.parquet\", \n",
    "        \"train_credit_bureau_a_1_2.parquet\", \n",
    "        \"train_credit_bureau_a_1_3.parquet\"],\n",
    "    app_name=\"Credit_Bureau_A_Train_Dataset_Cleaning\",\n",
    "    base_path=TRAIN_PARQUET_FOLDER_PATH,\n",
    ")\n",
    "# credit_bureau_df.sort(\"case_id\", \"num_group1\")\n",
    "credit_bureau_df = set_table_dtypes(credit_bureau_df)\n",
    "credit_bureau_df.show(10)\n",
    "print(\n",
    "    \"Total Number of Row: \", \n",
    "    credit_bureau_df.count(),\n",
    "    \"\\nTotal Number of Unique Case ID: \",\n",
    "    credit_bureau_df.select(countDistinct(\"case_id\")).collect()[0][0],\n",
    ")"
   ]
  },
  {
   "cell_type": "code",
   "execution_count": null,
   "metadata": {},
   "outputs": [],
   "source": [
    "# missing_values_dict = get_columns_high_missing_values( credit_bureau_df, threshold=10)\n",
    "# credit_bureau_df = credit_bureau_df.drop(*list(missing_values_dict.keys()))\n",
    "# credit_bureau_df.show(5)"
   ]
  },
  {
   "cell_type": "markdown",
   "metadata": {},
   "source": [
    "#### Saving and Load the dataframe because it is cause 'Out of Memory' issue. - Needs Restart and Run separately"
   ]
  },
  {
   "cell_type": "code",
   "execution_count": null,
   "metadata": {},
   "outputs": [],
   "source": [
    "grouped_max_train_applprev_df = get_max_per_group(\n",
    "    df=credit_bureau_df, group_by_column=\"case_id\", join_indicator=False,\n",
    "    columns_to_skip=[\"dpdmaxdatemonth_442T\", \"dpdmaxdatemonth_89T\", \"dpdmaxdateyear_596T\", \"dpdmaxdateyear_896T\" ]\n",
    ")"
   ]
  },
  {
   "cell_type": "code",
   "execution_count": null,
   "metadata": {},
   "outputs": [],
   "source": [
    "# SAVE the data in .parquet file # Coalesce to a single partition\n",
    "grouped_max_train_applprev_df.coalesce(1).write.parquet(\n",
    "    str(CURRENT_DIRECTORY_NOTEBOOK / CLEANED_DATASET_DIRECTORY_PATH) + \"/credit_bureau_data_temp_group_max\" \n",
    ")"
   ]
  },
  {
   "cell_type": "code",
   "execution_count": null,
   "metadata": {},
   "outputs": [],
   "source": [
    "print(\n",
    "    \"Total Number of Row: \", \n",
    "    grouped_max_train_applprev_df.count(),\n",
    "    \"\\nTotal Number of Unique Case ID: \",\n",
    "    grouped_max_train_applprev_df.select(countDistinct(\"case_id\")).collect()[0][0],\n",
    ")\n",
    "\n",
    "grouped_max_train_applprev_df.show(10)"
   ]
  },
  {
   "cell_type": "code",
   "execution_count": null,
   "metadata": {},
   "outputs": [],
   "source": [
    "spark.stop()"
   ]
  },
  {
   "cell_type": "markdown",
   "metadata": {},
   "source": [
    "***"
   ]
  },
  {
   "cell_type": "code",
   "execution_count": 4,
   "metadata": {},
   "outputs": [
    {
     "name": "stderr",
     "output_type": "stream",
     "text": [
      "100%|██████████| 79/79 [00:24<00:00,  3.28it/s]\n",
      "\u001b[32m2024-07-25 12:47:46.736\u001b[0m | \u001b[34m\u001b[1mDEBUG   \u001b[0m | \u001b[36msrc.data_cleaning\u001b[0m:\u001b[36mprocess_group_credit_bureau_dataset\u001b[0m:\u001b[36m412\u001b[0m - \u001b[34m\u001b[1mGroup 0: Total Number of Rows: 1386273, Total Number of Unique Case ID: 1386273\u001b[0m\n",
      "100%|██████████| 79/79 [00:22<00:00,  3.58it/s]\n",
      "\u001b[32m2024-07-25 12:48:12.155\u001b[0m | \u001b[34m\u001b[1mDEBUG   \u001b[0m | \u001b[36msrc.data_cleaning\u001b[0m:\u001b[36mprocess_group_credit_bureau_dataset\u001b[0m:\u001b[36m412\u001b[0m - \u001b[34m\u001b[1mGroup 1: Total Number of Rows: 1386081, Total Number of Unique Case ID: 1386081\u001b[0m\n"
     ]
    }
   ],
   "source": [
    "credit_bureau_df = clean_credit_bureau_dataset(credit_bureau_df)"
   ]
  },
  {
   "cell_type": "code",
   "execution_count": 5,
   "metadata": {},
   "outputs": [
    {
     "name": "stderr",
     "output_type": "stream",
     "text": [
      "                                                                                \r"
     ]
    },
    {
     "name": "stdout",
     "output_type": "stream",
     "text": [
      "+-------------------------------------+--------------------------------------+---------------------------+---------------------------+-----------------------------+---------------------------+----------------------------+-------------------------------------+-------------------------------------+----------------------+------------------------------+------------------------------+----------------------------+---------------------------+-------------------------------------+--------------------------------------+---------------------------+---------------------------+----------------------------+-------------------------------------+-------------------------------------+----------------------+------------------------------+------------------------------+----------------------------+---------------------------+-------+\n",
      "|classificationofcontr_13M_num_group_0|classificationofcontr_400M_num_group_0|contractst_545M_num_group_0|contractst_964M_num_group_0|debtoutstand_525A_num_group_0|debtoverdue_47A_num_group_0|description_351M_num_group_0|financialinstitution_382M_num_group_0|financialinstitution_591M_num_group_0|num_group1_num_group_0|purposeofcred_426M_num_group_0|purposeofcred_874M_num_group_0|subjectrole_182M_num_group_0|subjectrole_93M_num_group_0|classificationofcontr_13M_num_group_1|classificationofcontr_400M_num_group_1|contractst_545M_num_group_1|contractst_964M_num_group_1|description_351M_num_group_1|financialinstitution_382M_num_group_1|financialinstitution_591M_num_group_1|num_group1_num_group_1|purposeofcred_426M_num_group_1|purposeofcred_874M_num_group_1|subjectrole_182M_num_group_1|subjectrole_93M_num_group_1|case_id|\n",
      "+-------------------------------------+--------------------------------------+---------------------------+---------------------------+-----------------------------+---------------------------+----------------------------+-------------------------------------+-------------------------------------+----------------------+------------------------------+------------------------------+----------------------------+---------------------------+-------------------------------------+--------------------------------------+---------------------------+---------------------------+----------------------------+-------------------------------------+-------------------------------------+----------------------+------------------------------+------------------------------+----------------------------+---------------------------+-------+\n",
      "|                             ea6782cc|                              a55475b1|                   7241344e|                   a55475b1|                      97023.8|                        0.0|                    a55475b1|                             a55475b1|                         P150_136_157|                     0|                      96a8fdfe|                      a55475b1|                    ab3c25cf|                   ab3c25cf|                             a55475b1|                              a55475b1|                   a55475b1|                   a55475b1|                    a55475b1|                             a55475b1|                             a55475b1|                     1|                      a55475b1|                      a55475b1|                    a55475b1|                   a55475b1|    436|\n",
      "|                             ea6782cc|                              a55475b1|                   7241344e|                   a55475b1|                    229841.92|                        0.0|                    a55475b1|                             a55475b1|                         P150_136_157|                     0|                      96a8fdfe|                      a55475b1|                    ab3c25cf|                   ab3c25cf|                             ea6782cc|                              a55475b1|                   7241344e|                   a55475b1|                    a55475b1|                             a55475b1|                           P204_66_73|                     1|                      60c73645|                      a55475b1|                    a55475b1|                   a55475b1|    460|\n",
      "|                             ea6782cc|                              a55475b1|                   7241344e|                   a55475b1|                    62455.613|                        0.0|                    a55475b1|                             a55475b1|                         P150_136_157|                     0|                      96a8fdfe|                      a55475b1|                    ab3c25cf|                   ab3c25cf|                             a55475b1|                              a55475b1|                   a55475b1|                   a55475b1|                    a55475b1|                             a55475b1|                             a55475b1|                     1|                      a55475b1|                      a55475b1|                    a55475b1|                   a55475b1|    463|\n",
      "|                             ea6782cc|                              a55475b1|                   7241344e|                   a55475b1|                          0.0|                        0.0|                    a55475b1|                             a55475b1|                           P204_66_73|                     0|                      60c73645|                      a55475b1|                    ab3c25cf|                   a55475b1|                             a55475b1|                              a55475b1|                   a55475b1|                   a55475b1|                    a55475b1|                             a55475b1|                             a55475b1|                     1|                      a55475b1|                      a55475b1|                    a55475b1|                   a55475b1|    471|\n",
      "|                             ea6782cc|                              a55475b1|                   7241344e|                   a55475b1|                    19236.086|                        0.0|                    a55475b1|                             a55475b1|                         P133_127_114|                     0|                      96a8fdfe|                      a55475b1|                    ab3c25cf|                   ab3c25cf|                             a55475b1|                              a55475b1|                   a55475b1|                   a55475b1|                    a55475b1|                             a55475b1|                             a55475b1|                     1|                      a55475b1|                      a55475b1|                    a55475b1|                   a55475b1|    481|\n",
      "|                             ea6782cc|                              a55475b1|                   7241344e|                   a55475b1|                    357824.97|                        0.0|                    a55475b1|                             a55475b1|                           P204_66_73|                     0|                      60c73645|                      a55475b1|                    ab3c25cf|                   ab3c25cf|                             a55475b1|                              a55475b1|                   a55475b1|                   a55475b1|                    a55475b1|                             a55475b1|                             a55475b1|                     1|                      a55475b1|                      a55475b1|                    a55475b1|                   a55475b1|    497|\n",
      "|                             01f63ac8|                              a55475b1|                   7241344e|                   a55475b1|                    63153.844|                        0.0|                    a55475b1|                             a55475b1|                             50babcd4|                     0|                      60c73645|                      a55475b1|                    ab3c25cf|                   ab3c25cf|                             a55475b1|                              a55475b1|                   a55475b1|                   a55475b1|                    a55475b1|                             a55475b1|                             a55475b1|                     1|                      a55475b1|                      a55475b1|                    a55475b1|                   a55475b1|    501|\n",
      "|                             ea6782cc|                              a55475b1|                   7241344e|                   a55475b1|                     40095.52|                        0.0|                    a55475b1|                             a55475b1|                         P150_136_157|                     0|                      96a8fdfe|                      a55475b1|                    ab3c25cf|                   ab3c25cf|                             00135d9c|                              a55475b1|                   7241344e|                   a55475b1|                    a55475b1|                             a55475b1|                             d6a7d943|                     1|                      96a8fdfe|                      a55475b1|                    be4fd70b|                   a55475b1|    516|\n",
      "|                             ea6782cc|                              a55475b1|                   7241344e|                   a55475b1|                          0.0|                        0.0|                    a55475b1|                             a55475b1|                           P204_66_73|                     0|                      60c73645|                      a55475b1|                    ab3c25cf|                   ab3c25cf|                             a55475b1|                              a55475b1|                   a55475b1|                   a55475b1|                    a55475b1|                             a55475b1|                             a55475b1|                     1|                      a55475b1|                      a55475b1|                    a55475b1|                   a55475b1|    530|\n",
      "|                             ea6782cc|                              a55475b1|                   7241344e|                   a55475b1|                    386685.44|                        0.0|                    a55475b1|                             a55475b1|                         P150_136_157|                     0|                      96a8fdfe|                      a55475b1|                    ab3c25cf|                   ab3c25cf|                             ea6782cc|                              a55475b1|                   7241344e|                   a55475b1|                    a55475b1|                             a55475b1|                           P204_66_73|                     1|                      60c73645|                      a55475b1|                    a55475b1|                   a55475b1|    540|\n",
      "+-------------------------------------+--------------------------------------+---------------------------+---------------------------+-----------------------------+---------------------------+----------------------------+-------------------------------------+-------------------------------------+----------------------+------------------------------+------------------------------+----------------------------+---------------------------+-------------------------------------+--------------------------------------+---------------------------+---------------------------+----------------------------+-------------------------------------+-------------------------------------+----------------------+------------------------------+------------------------------+----------------------------+---------------------------+-------+\n",
      "only showing top 10 rows\n",
      "\n"
     ]
    },
    {
     "name": "stderr",
     "output_type": "stream",
     "text": [
      "[Stage 542:>                                                        (0 + 8) / 8]\r"
     ]
    },
    {
     "name": "stdout",
     "output_type": "stream",
     "text": [
      "Total Number of Row:  1386273 \n",
      "Total Number of Unique Case ID:  1386273\n"
     ]
    },
    {
     "name": "stderr",
     "output_type": "stream",
     "text": [
      "                                                                                \r"
     ]
    }
   ],
   "source": [
    "credit_bureau_df.show(10)\n",
    "\n",
    "print(\n",
    "    \"Total Number of Row: \", \n",
    "    credit_bureau_df.count(),\n",
    "    \"\\nTotal Number of Unique Case ID: \",\n",
    "    credit_bureau_df.select(countDistinct(\"case_id\")).collect()[0][0],\n",
    ")"
   ]
  },
  {
   "cell_type": "code",
   "execution_count": 6,
   "metadata": {},
   "outputs": [
    {
     "name": "stderr",
     "output_type": "stream",
     "text": [
      "100%|██████████| 27/27 [02:22<00:00,  5.29s/it]                                 \n"
     ]
    },
    {
     "data": {
      "application/vnd.plotly.v1+json": {
       "config": {
        "plotlyServerURL": "https://plot.ly"
       },
       "data": [
        {
         "type": "bar",
         "x": [
          "debtoutstand_525A_num_group_0",
          "debtoverdue_47A_num_group_0",
          "classificationofcontr_13M_num_group_1",
          "classificationofcontr_400M_num_group_1",
          "contractst_545M_num_group_1",
          "contractst_964M_num_group_1",
          "description_351M_num_group_1",
          "financialinstitution_382M_num_group_1",
          "financialinstitution_591M_num_group_1",
          "num_group1_num_group_1",
          "purposeofcred_426M_num_group_1",
          "purposeofcred_874M_num_group_1",
          "subjectrole_182M_num_group_1",
          "subjectrole_93M_num_group_1",
          "classificationofcontr_13M_num_group_0",
          "classificationofcontr_400M_num_group_0",
          "contractst_545M_num_group_0",
          "contractst_964M_num_group_0",
          "description_351M_num_group_0",
          "financialinstitution_382M_num_group_0",
          "financialinstitution_591M_num_group_0",
          "num_group1_num_group_0",
          "purposeofcred_426M_num_group_0",
          "purposeofcred_874M_num_group_0",
          "subjectrole_182M_num_group_0",
          "subjectrole_93M_num_group_0",
          "case_id"
         ],
         "y": [
          0.041983072598254456,
          0.041983072598254456,
          0.013850085805609718,
          0.013850085805609718,
          0.013850085805609718,
          0.013850085805609718,
          0.013850085805609718,
          0.013850085805609718,
          0.013850085805609718,
          0.013850085805609718,
          0.013850085805609718,
          0.013850085805609718,
          0.013850085805609718,
          0.013850085805609718,
          0,
          0,
          0,
          0,
          0,
          0,
          0,
          0,
          0,
          0,
          0,
          0,
          0
         ]
        }
       ],
       "layout": {
        "bargap": 0.2,
        "height": 600,
        "template": {
         "data": {
          "bar": [
           {
            "error_x": {
             "color": "#2a3f5f"
            },
            "error_y": {
             "color": "#2a3f5f"
            },
            "marker": {
             "line": {
              "color": "#E5ECF6",
              "width": 0.5
             },
             "pattern": {
              "fillmode": "overlay",
              "size": 10,
              "solidity": 0.2
             }
            },
            "type": "bar"
           }
          ],
          "barpolar": [
           {
            "marker": {
             "line": {
              "color": "#E5ECF6",
              "width": 0.5
             },
             "pattern": {
              "fillmode": "overlay",
              "size": 10,
              "solidity": 0.2
             }
            },
            "type": "barpolar"
           }
          ],
          "carpet": [
           {
            "aaxis": {
             "endlinecolor": "#2a3f5f",
             "gridcolor": "white",
             "linecolor": "white",
             "minorgridcolor": "white",
             "startlinecolor": "#2a3f5f"
            },
            "baxis": {
             "endlinecolor": "#2a3f5f",
             "gridcolor": "white",
             "linecolor": "white",
             "minorgridcolor": "white",
             "startlinecolor": "#2a3f5f"
            },
            "type": "carpet"
           }
          ],
          "choropleth": [
           {
            "colorbar": {
             "outlinewidth": 0,
             "ticks": ""
            },
            "type": "choropleth"
           }
          ],
          "contour": [
           {
            "colorbar": {
             "outlinewidth": 0,
             "ticks": ""
            },
            "colorscale": [
             [
              0,
              "#0d0887"
             ],
             [
              0.1111111111111111,
              "#46039f"
             ],
             [
              0.2222222222222222,
              "#7201a8"
             ],
             [
              0.3333333333333333,
              "#9c179e"
             ],
             [
              0.4444444444444444,
              "#bd3786"
             ],
             [
              0.5555555555555556,
              "#d8576b"
             ],
             [
              0.6666666666666666,
              "#ed7953"
             ],
             [
              0.7777777777777778,
              "#fb9f3a"
             ],
             [
              0.8888888888888888,
              "#fdca26"
             ],
             [
              1,
              "#f0f921"
             ]
            ],
            "type": "contour"
           }
          ],
          "contourcarpet": [
           {
            "colorbar": {
             "outlinewidth": 0,
             "ticks": ""
            },
            "type": "contourcarpet"
           }
          ],
          "heatmap": [
           {
            "colorbar": {
             "outlinewidth": 0,
             "ticks": ""
            },
            "colorscale": [
             [
              0,
              "#0d0887"
             ],
             [
              0.1111111111111111,
              "#46039f"
             ],
             [
              0.2222222222222222,
              "#7201a8"
             ],
             [
              0.3333333333333333,
              "#9c179e"
             ],
             [
              0.4444444444444444,
              "#bd3786"
             ],
             [
              0.5555555555555556,
              "#d8576b"
             ],
             [
              0.6666666666666666,
              "#ed7953"
             ],
             [
              0.7777777777777778,
              "#fb9f3a"
             ],
             [
              0.8888888888888888,
              "#fdca26"
             ],
             [
              1,
              "#f0f921"
             ]
            ],
            "type": "heatmap"
           }
          ],
          "heatmapgl": [
           {
            "colorbar": {
             "outlinewidth": 0,
             "ticks": ""
            },
            "colorscale": [
             [
              0,
              "#0d0887"
             ],
             [
              0.1111111111111111,
              "#46039f"
             ],
             [
              0.2222222222222222,
              "#7201a8"
             ],
             [
              0.3333333333333333,
              "#9c179e"
             ],
             [
              0.4444444444444444,
              "#bd3786"
             ],
             [
              0.5555555555555556,
              "#d8576b"
             ],
             [
              0.6666666666666666,
              "#ed7953"
             ],
             [
              0.7777777777777778,
              "#fb9f3a"
             ],
             [
              0.8888888888888888,
              "#fdca26"
             ],
             [
              1,
              "#f0f921"
             ]
            ],
            "type": "heatmapgl"
           }
          ],
          "histogram": [
           {
            "marker": {
             "pattern": {
              "fillmode": "overlay",
              "size": 10,
              "solidity": 0.2
             }
            },
            "type": "histogram"
           }
          ],
          "histogram2d": [
           {
            "colorbar": {
             "outlinewidth": 0,
             "ticks": ""
            },
            "colorscale": [
             [
              0,
              "#0d0887"
             ],
             [
              0.1111111111111111,
              "#46039f"
             ],
             [
              0.2222222222222222,
              "#7201a8"
             ],
             [
              0.3333333333333333,
              "#9c179e"
             ],
             [
              0.4444444444444444,
              "#bd3786"
             ],
             [
              0.5555555555555556,
              "#d8576b"
             ],
             [
              0.6666666666666666,
              "#ed7953"
             ],
             [
              0.7777777777777778,
              "#fb9f3a"
             ],
             [
              0.8888888888888888,
              "#fdca26"
             ],
             [
              1,
              "#f0f921"
             ]
            ],
            "type": "histogram2d"
           }
          ],
          "histogram2dcontour": [
           {
            "colorbar": {
             "outlinewidth": 0,
             "ticks": ""
            },
            "colorscale": [
             [
              0,
              "#0d0887"
             ],
             [
              0.1111111111111111,
              "#46039f"
             ],
             [
              0.2222222222222222,
              "#7201a8"
             ],
             [
              0.3333333333333333,
              "#9c179e"
             ],
             [
              0.4444444444444444,
              "#bd3786"
             ],
             [
              0.5555555555555556,
              "#d8576b"
             ],
             [
              0.6666666666666666,
              "#ed7953"
             ],
             [
              0.7777777777777778,
              "#fb9f3a"
             ],
             [
              0.8888888888888888,
              "#fdca26"
             ],
             [
              1,
              "#f0f921"
             ]
            ],
            "type": "histogram2dcontour"
           }
          ],
          "mesh3d": [
           {
            "colorbar": {
             "outlinewidth": 0,
             "ticks": ""
            },
            "type": "mesh3d"
           }
          ],
          "parcoords": [
           {
            "line": {
             "colorbar": {
              "outlinewidth": 0,
              "ticks": ""
             }
            },
            "type": "parcoords"
           }
          ],
          "pie": [
           {
            "automargin": true,
            "type": "pie"
           }
          ],
          "scatter": [
           {
            "fillpattern": {
             "fillmode": "overlay",
             "size": 10,
             "solidity": 0.2
            },
            "type": "scatter"
           }
          ],
          "scatter3d": [
           {
            "line": {
             "colorbar": {
              "outlinewidth": 0,
              "ticks": ""
             }
            },
            "marker": {
             "colorbar": {
              "outlinewidth": 0,
              "ticks": ""
             }
            },
            "type": "scatter3d"
           }
          ],
          "scattercarpet": [
           {
            "marker": {
             "colorbar": {
              "outlinewidth": 0,
              "ticks": ""
             }
            },
            "type": "scattercarpet"
           }
          ],
          "scattergeo": [
           {
            "marker": {
             "colorbar": {
              "outlinewidth": 0,
              "ticks": ""
             }
            },
            "type": "scattergeo"
           }
          ],
          "scattergl": [
           {
            "marker": {
             "colorbar": {
              "outlinewidth": 0,
              "ticks": ""
             }
            },
            "type": "scattergl"
           }
          ],
          "scattermapbox": [
           {
            "marker": {
             "colorbar": {
              "outlinewidth": 0,
              "ticks": ""
             }
            },
            "type": "scattermapbox"
           }
          ],
          "scatterpolar": [
           {
            "marker": {
             "colorbar": {
              "outlinewidth": 0,
              "ticks": ""
             }
            },
            "type": "scatterpolar"
           }
          ],
          "scatterpolargl": [
           {
            "marker": {
             "colorbar": {
              "outlinewidth": 0,
              "ticks": ""
             }
            },
            "type": "scatterpolargl"
           }
          ],
          "scatterternary": [
           {
            "marker": {
             "colorbar": {
              "outlinewidth": 0,
              "ticks": ""
             }
            },
            "type": "scatterternary"
           }
          ],
          "surface": [
           {
            "colorbar": {
             "outlinewidth": 0,
             "ticks": ""
            },
            "colorscale": [
             [
              0,
              "#0d0887"
             ],
             [
              0.1111111111111111,
              "#46039f"
             ],
             [
              0.2222222222222222,
              "#7201a8"
             ],
             [
              0.3333333333333333,
              "#9c179e"
             ],
             [
              0.4444444444444444,
              "#bd3786"
             ],
             [
              0.5555555555555556,
              "#d8576b"
             ],
             [
              0.6666666666666666,
              "#ed7953"
             ],
             [
              0.7777777777777778,
              "#fb9f3a"
             ],
             [
              0.8888888888888888,
              "#fdca26"
             ],
             [
              1,
              "#f0f921"
             ]
            ],
            "type": "surface"
           }
          ],
          "table": [
           {
            "cells": {
             "fill": {
              "color": "#EBF0F8"
             },
             "line": {
              "color": "white"
             }
            },
            "header": {
             "fill": {
              "color": "#C8D4E3"
             },
             "line": {
              "color": "white"
             }
            },
            "type": "table"
           }
          ]
         },
         "layout": {
          "annotationdefaults": {
           "arrowcolor": "#2a3f5f",
           "arrowhead": 0,
           "arrowwidth": 1
          },
          "autotypenumbers": "strict",
          "coloraxis": {
           "colorbar": {
            "outlinewidth": 0,
            "ticks": ""
           }
          },
          "colorscale": {
           "diverging": [
            [
             0,
             "#8e0152"
            ],
            [
             0.1,
             "#c51b7d"
            ],
            [
             0.2,
             "#de77ae"
            ],
            [
             0.3,
             "#f1b6da"
            ],
            [
             0.4,
             "#fde0ef"
            ],
            [
             0.5,
             "#f7f7f7"
            ],
            [
             0.6,
             "#e6f5d0"
            ],
            [
             0.7,
             "#b8e186"
            ],
            [
             0.8,
             "#7fbc41"
            ],
            [
             0.9,
             "#4d9221"
            ],
            [
             1,
             "#276419"
            ]
           ],
           "sequential": [
            [
             0,
             "#0d0887"
            ],
            [
             0.1111111111111111,
             "#46039f"
            ],
            [
             0.2222222222222222,
             "#7201a8"
            ],
            [
             0.3333333333333333,
             "#9c179e"
            ],
            [
             0.4444444444444444,
             "#bd3786"
            ],
            [
             0.5555555555555556,
             "#d8576b"
            ],
            [
             0.6666666666666666,
             "#ed7953"
            ],
            [
             0.7777777777777778,
             "#fb9f3a"
            ],
            [
             0.8888888888888888,
             "#fdca26"
            ],
            [
             1,
             "#f0f921"
            ]
           ],
           "sequentialminus": [
            [
             0,
             "#0d0887"
            ],
            [
             0.1111111111111111,
             "#46039f"
            ],
            [
             0.2222222222222222,
             "#7201a8"
            ],
            [
             0.3333333333333333,
             "#9c179e"
            ],
            [
             0.4444444444444444,
             "#bd3786"
            ],
            [
             0.5555555555555556,
             "#d8576b"
            ],
            [
             0.6666666666666666,
             "#ed7953"
            ],
            [
             0.7777777777777778,
             "#fb9f3a"
            ],
            [
             0.8888888888888888,
             "#fdca26"
            ],
            [
             1,
             "#f0f921"
            ]
           ]
          },
          "colorway": [
           "#636efa",
           "#EF553B",
           "#00cc96",
           "#ab63fa",
           "#FFA15A",
           "#19d3f3",
           "#FF6692",
           "#B6E880",
           "#FF97FF",
           "#FECB52"
          ],
          "font": {
           "color": "#2a3f5f"
          },
          "geo": {
           "bgcolor": "white",
           "lakecolor": "white",
           "landcolor": "#E5ECF6",
           "showlakes": true,
           "showland": true,
           "subunitcolor": "white"
          },
          "hoverlabel": {
           "align": "left"
          },
          "hovermode": "closest",
          "mapbox": {
           "style": "light"
          },
          "paper_bgcolor": "white",
          "plot_bgcolor": "#E5ECF6",
          "polar": {
           "angularaxis": {
            "gridcolor": "white",
            "linecolor": "white",
            "ticks": ""
           },
           "bgcolor": "#E5ECF6",
           "radialaxis": {
            "gridcolor": "white",
            "linecolor": "white",
            "ticks": ""
           }
          },
          "scene": {
           "xaxis": {
            "backgroundcolor": "#E5ECF6",
            "gridcolor": "white",
            "gridwidth": 2,
            "linecolor": "white",
            "showbackground": true,
            "ticks": "",
            "zerolinecolor": "white"
           },
           "yaxis": {
            "backgroundcolor": "#E5ECF6",
            "gridcolor": "white",
            "gridwidth": 2,
            "linecolor": "white",
            "showbackground": true,
            "ticks": "",
            "zerolinecolor": "white"
           },
           "zaxis": {
            "backgroundcolor": "#E5ECF6",
            "gridcolor": "white",
            "gridwidth": 2,
            "linecolor": "white",
            "showbackground": true,
            "ticks": "",
            "zerolinecolor": "white"
           }
          },
          "shapedefaults": {
           "line": {
            "color": "#2a3f5f"
           }
          },
          "ternary": {
           "aaxis": {
            "gridcolor": "white",
            "linecolor": "white",
            "ticks": ""
           },
           "baxis": {
            "gridcolor": "white",
            "linecolor": "white",
            "ticks": ""
           },
           "bgcolor": "#E5ECF6",
           "caxis": {
            "gridcolor": "white",
            "linecolor": "white",
            "ticks": ""
           }
          },
          "title": {
           "x": 0.05
          },
          "xaxis": {
           "automargin": true,
           "gridcolor": "white",
           "linecolor": "white",
           "ticks": "",
           "title": {
            "standoff": 15
           },
           "zerolinecolor": "white",
           "zerolinewidth": 2
          },
          "yaxis": {
           "automargin": true,
           "gridcolor": "white",
           "linecolor": "white",
           "ticks": "",
           "title": {
            "standoff": 15
           },
           "zerolinecolor": "white",
           "zerolinewidth": 2
          }
         }
        },
        "title": {
         "text": "Percentage of Missing Values by Column"
        },
        "width": 1800,
        "xaxis": {
         "tickmode": "linear",
         "title": {
          "text": "Columns"
         }
        },
        "yaxis": {
         "title": {
          "text": "Percentage of Missing Values"
         }
        }
       }
      }
     },
     "metadata": {},
     "output_type": "display_data"
    }
   ],
   "source": [
    "missing_values_dict = get_columns_high_missing_values(credit_bureau_df)"
   ]
  },
  {
   "cell_type": "code",
   "execution_count": 7,
   "metadata": {},
   "outputs": [
    {
     "name": "stderr",
     "output_type": "stream",
     "text": [
      "\u001b[32m2024-07-25 12:54:45.111\u001b[0m | \u001b[1mINFO    \u001b[0m | \u001b[36msrc.utils.common\u001b[0m:\u001b[36mimport_parquet_file\u001b[0m:\u001b[36m37\u001b[0m - \u001b[1mStarting Spark session with app name: Credit_Bureau_Temp_Data_Cleaning_Train\u001b[0m\n",
      "24/07/25 12:54:45 WARN SparkSession: Using an existing Spark session; only runtime SQL configurations will take effect.\n",
      "\u001b[32m2024-07-25 12:54:45.134\u001b[0m | \u001b[1mINFO    \u001b[0m | \u001b[36msrc.utils.common\u001b[0m:\u001b[36mimport_parquet_file\u001b[0m:\u001b[36m41\u001b[0m - \u001b[1mReading Parquet file from path: /Users/shirshmall/Personal_Drive/Credit_Risk_Model_Project/datasets/cleaned_data/credit_bureau_data_temp_group_max\u001b[0m\n",
      "\u001b[32m2024-07-25 12:54:45.253\u001b[0m | \u001b[1mINFO    \u001b[0m | \u001b[36msrc.utils.common\u001b[0m:\u001b[36mimport_parquet_file\u001b[0m:\u001b[36m44\u001b[0m - \u001b[1mParquet file loaded successfully\u001b[0m\n"
     ]
    },
    {
     "name": "stdout",
     "output_type": "stream",
     "text": [
      "+-------+----------------------------+---------------------------+------------------------+----------------+----------------+---------------------+-------------------+---------------+---------------+--------------------+--------------------+---------------------+---------------------------+---------------------------+--------------------+--------------------+----------------------------+----------------------------+-----------------------+-----------------------+-------------------------------+------------------------------+---------------------------------+---------------------------------+------------------------------+------------------------------+--------------------------+--------------------------+---------------------+----------------------+-------------------------+--------------------------+-------------------------+------------------------+----------------------------------+----------------------------------+-------------------------------+---------------------------------+---------------------------+--------------------------+---------------------------+--------------------------+-----------------------+-----------------------+------------------+--------------------+------------------------------+------------------------------+------------------------------+-------------------------------+\n",
      "|case_id|Max_annualeffectiverate_199L|Max_annualeffectiverate_63L|Max_contractsum_5085717L|Max_credlmt_230A|Max_credlmt_935A|Max_debtoutstand_525A|Max_debtoverdue_47A|Max_dpdmax_139P|Max_dpdmax_757P|Max_instlamount_768A|Max_instlamount_852A|Max_interestrate_508L|Max_monthlyinstlamount_332A|Max_monthlyinstlamount_674A|Max_nominalrate_281L|Max_nominalrate_498L|Max_numberofcontrsvalue_258L|Max_numberofcontrsvalue_358L|Max_numberofinstls_229L|Max_numberofinstls_320L|Max_numberofoutstandinstls_520L|Max_numberofoutstandinstls_59L|Max_numberofoverdueinstlmax_1039L|Max_numberofoverdueinstlmax_1151L|Max_numberofoverdueinstls_725L|Max_numberofoverdueinstls_834L|Max_outstandingamount_354A|Max_outstandingamount_362A|Max_overdueamount_31A|Max_overdueamount_659A|Max_overdueamountmax2_14A|Max_overdueamountmax2_398A|Max_overdueamountmax_155A|Max_overdueamountmax_35A|Max_overdueamountmaxdatemonth_284T|Max_overdueamountmaxdatemonth_365T|Max_overdueamountmaxdateyear_2T|Max_overdueamountmaxdateyear_994T|Max_periodicityofpmts_1102L|Max_periodicityofpmts_837L|Max_prolongationcount_1120L|Max_prolongationcount_599L|Max_residualamount_488A|Max_residualamount_856A|Max_totalamount_6A|Max_totalamount_996A|Max_totaldebtoverduevalue_178A|Max_totaldebtoverduevalue_718A|Max_totaloutstanddebtvalue_39A|Max_totaloutstanddebtvalue_668A|\n",
      "+-------+----------------------------+---------------------------+------------------------+----------------+----------------+---------------------+-------------------+---------------+---------------+--------------------+--------------------+---------------------+---------------------------+---------------------------+--------------------+--------------------+----------------------------+----------------------------+-----------------------+-----------------------+-------------------------------+------------------------------+---------------------------------+---------------------------------+------------------------------+------------------------------+--------------------------+--------------------------+---------------------+----------------------+-------------------------+--------------------------+-------------------------+------------------------+----------------------------------+----------------------------------+-------------------------------+---------------------------------+---------------------------+--------------------------+---------------------------+--------------------------+-----------------------+-----------------------+------------------+--------------------+------------------------------+------------------------------+------------------------------+-------------------------------+\n",
      "|    463|                        NULL|                       NULL|                    NULL|            NULL|            NULL|            62455.613|                0.0|            0.0|           NULL|                NULL|                NULL|                 NULL|                  4698.0264|                       NULL|                NULL|                NULL|                         1.0|                         5.0|                   NULL|                   20.0|                           NULL|                          15.0|                              0.0|                             NULL|                           0.0|                          NULL|                      NULL|                 62455.613|                 NULL|                   0.0|                      0.0|                      NULL|                      0.0|                    NULL|                              NULL|                               8.0|                         2018.0|                             NULL|                       NULL|                      30.0|                       NULL|                      NULL|                   NULL|                   NULL|              NULL|             80000.0|                           0.0|                           0.0|                     62455.613|                            0.0|\n",
      "|    471|                        NULL|                       NULL|                    NULL|            NULL|             0.0|                  0.0|                0.0|            0.0|           NULL|                 0.0|                NULL|                 NULL|                        0.0|                       NULL|                NULL|                NULL|                         1.0|                        NULL|                   NULL|                   NULL|                           NULL|                          NULL|                              5.0|                             NULL|                           0.0|                          NULL|                      NULL|                      NULL|                 NULL|                   0.0|                 6919.726|                      NULL|                      0.0|                    NULL|                              NULL|                               2.0|                         2017.0|                             NULL|                       NULL|                      NULL|                       NULL|                      NULL|                   NULL|                    0.0|              NULL|                NULL|                           0.0|                          NULL|                           0.0|                           NULL|\n",
      "|    833|                        NULL|                      32.29|                    NULL|            NULL|        146000.0|            228303.36|                0.0|           18.0|           NULL|           7350.8003|                NULL|                 NULL|                  7350.8003|                       NULL|                25.9|                NULL|                         2.0|                         5.0|                   NULL|                   36.0|                           NULL|                          17.0|                             20.0|                             NULL|                           0.0|                          NULL|                      NULL|                  88387.59|                 NULL|                   0.0|                 6245.818|                      NULL|                 6245.818|                    NULL|                              NULL|                              11.0|                         2018.0|                             NULL|                       NULL|                      30.0|                       NULL|                      NULL|                   NULL|              139915.77|              NULL|            155744.0|                           0.0|                           0.0|                     228303.36|                            0.0|\n",
      "|   1088|                        NULL|                       NULL|                    NULL|            NULL|             0.0|                  0.0|                0.0|           45.0|           NULL|                 0.0|                NULL|                 NULL|                        0.0|                       NULL|                NULL|                NULL|                         1.0|                         1.0|                   NULL|                   NULL|                           NULL|                          NULL|                             50.0|                             NULL|                           0.0|                          NULL|                      NULL|                      NULL|                 NULL|                   0.0|                 7453.682|                      NULL|                 7453.682|                    NULL|                              NULL|                               7.0|                         2018.0|                             NULL|                       NULL|                      NULL|                       NULL|                      NULL|                   NULL|                    0.0|              NULL|                NULL|                           0.0|                           0.0|                           0.0|                            0.0|\n",
      "|   1342|                        NULL|                       NULL|                    NULL|            NULL|         54000.0|            31430.504|                0.0|            0.0|           NULL|            5620.122|                NULL|                 NULL|                   5620.122|                       NULL|                NULL|                NULL|                         1.0|                        NULL|                   NULL|                   NULL|                           NULL|                          NULL|                              0.0|                             NULL|                           0.0|                          NULL|                      NULL|                      NULL|                 NULL|                   0.0|                      0.0|                      NULL|                      0.0|                    NULL|                              NULL|                               5.0|                         2018.0|                             NULL|                       NULL|                      NULL|                       NULL|                      NULL|                   NULL|              31430.504|              NULL|                NULL|                           0.0|                          NULL|                     31430.504|                           NULL|\n",
      "|   1591|                        NULL|                      20.18|                    NULL|            NULL|         55978.0|             168545.4|                0.0|            0.0|           NULL|              4538.6|                NULL|                 NULL|                     4854.0|                       NULL|                30.0|                NULL|                         2.0|                         7.0|                   NULL|                   36.0|                           NULL|                          30.0|                              0.0|                             NULL|                           0.0|                          NULL|                      NULL|                 124715.08|                 NULL|                   0.0|                      0.0|                      NULL|                      0.0|                    NULL|                              NULL|                              10.0|                         2018.0|                             NULL|                       NULL|                      30.0|                       NULL|                      NULL|                   NULL|               43830.32|              NULL|            133760.0|                           0.0|                           0.0|                      168545.4|                            0.0|\n",
      "|   1829|                        NULL|                       NULL|                    NULL|            NULL|         62000.0|             85724.82|                0.0|            0.0|           NULL|              6509.4|                NULL|                 NULL|                     6509.4|                       NULL|                NULL|                NULL|                         2.0|                         3.0|                   NULL|                   NULL|                           NULL|                          NULL|                              0.0|                             NULL|                           0.0|                          NULL|                      NULL|                      NULL|                 NULL|                   0.0|                    9.762|                      NULL|                      0.0|                    NULL|                              NULL|                              12.0|                         2018.0|                             NULL|                       NULL|                      NULL|                       NULL|                      NULL|                   NULL|               57310.82|              NULL|                NULL|                           0.0|                           0.0|                      85724.82|                            0.0|\n",
      "|   2122|                        NULL|                       NULL|                    NULL|            NULL|            NULL|            11030.998|                0.0|            0.0|           NULL|                NULL|                NULL|                 NULL|                   2286.532|                       NULL|                NULL|                NULL|                         1.0|                         2.0|                   NULL|                    6.0|                           NULL|                           5.0|                              0.0|                             NULL|                           0.0|                          NULL|                      NULL|                 11030.998|                 NULL|                   0.0|                      0.0|                      NULL|                      0.0|                    NULL|                              NULL|                              12.0|                         2018.0|                             NULL|                       NULL|                      30.0|                       NULL|                      NULL|                   NULL|                   NULL|              NULL|             12870.0|                           0.0|                           0.0|                     11030.998|                            0.0|\n",
      "|   2142|                        NULL|                       NULL|                    NULL|            NULL|            NULL|             135805.2|                0.0|            0.0|           NULL|                NULL|                NULL|                 NULL|                   6689.246|                       NULL|                NULL|                NULL|                         1.0|                         5.0|                   NULL|                   25.0|                           NULL|                          24.0|                              0.0|                             NULL|                           0.0|                          NULL|                      NULL|                  135805.2|                 NULL|                   0.0|                      0.0|                      NULL|                      0.0|                    NULL|                              NULL|                               1.0|                         2019.0|                             NULL|                       NULL|                      30.0|                       NULL|                      NULL|                   NULL|                   NULL|              NULL|            140000.0|                           0.0|                           0.0|                      135805.2|                            0.0|\n",
      "|   2366|                        NULL|                       NULL|                    NULL|            NULL|             0.0|                  0.0|                0.0|            0.0|           NULL|                 0.0|                NULL|                 NULL|                        0.0|                       NULL|                NULL|                NULL|                         1.0|                        NULL|                   NULL|                   NULL|                           NULL|                          NULL|                              0.0|                             NULL|                           0.0|                          NULL|                      NULL|                      NULL|                 NULL|                   0.0|                      0.0|                      NULL|                      0.0|                    NULL|                              NULL|                               5.0|                         2017.0|                             NULL|                       NULL|                      NULL|                       NULL|                      NULL|                   NULL|                    0.0|              NULL|                NULL|                           0.0|                          NULL|                           0.0|                           NULL|\n",
      "|   2866|                        NULL|                      23.81|                    NULL|            NULL|            NULL|            43483.055|                0.0|            0.0|           NULL|                NULL|                NULL|                 NULL|                     4090.8|                       NULL|               21.46|                NULL|                         2.0|                        NULL|                   NULL|                   36.0|                           NULL|                          16.0|                              0.0|                             NULL|                           0.0|                          NULL|                      NULL|                  39425.35|                 NULL|                   0.0|                      0.0|                      NULL|                      0.0|                    NULL|                              NULL|                               6.0|                         2018.0|                             NULL|                       NULL|                      30.0|                       NULL|                      NULL|                   NULL|                   NULL|              NULL|             76000.0|                           0.0|                          NULL|                     43483.055|                           NULL|\n",
      "|   3175|                        NULL|                       NULL|                    NULL|            NULL|         17978.0|            117962.73|                0.0|            0.0|           NULL|           1498.2001|                NULL|                 NULL|                   5832.724|                       NULL|                NULL|                NULL|                         2.0|                         2.0|                   NULL|                   27.0|                           NULL|                          21.0|                              0.0|                             NULL|                           0.0|                          NULL|                      NULL|                  99984.73|                 NULL|                   0.0|                      0.0|                      NULL|                      0.0|                    NULL|                              NULL|                               9.0|                         2018.0|                             NULL|                       NULL|                      30.0|                       NULL|                      NULL|                   NULL|                17978.0|              NULL|            120000.0|                           0.0|                           0.0|                     117962.73|                            0.0|\n",
      "|   3794|                        NULL|                      41.01|                    NULL|            NULL|            NULL|            29320.932|                0.0|            4.0|           NULL|                NULL|                NULL|                 NULL|                  3232.4001|                       NULL|               34.91|                NULL|                         2.0|                         8.0|                   NULL|                   18.0|                           NULL|                           9.0|                              4.0|                             NULL|                           0.0|                          NULL|                      NULL|                 25274.516|                 NULL|                   0.0|                   3070.8|                      NULL|                   3070.8|                    NULL|                              NULL|                              12.0|                         2018.0|                             NULL|                       NULL|                      30.0|                       NULL|                      NULL|                   NULL|                   NULL|              NULL|             44800.0|                           0.0|                           0.0|                     29320.932|                            0.0|\n",
      "|   3997|                        NULL|                       NULL|                    NULL|            NULL|         14000.0|            204049.05|                0.0|            6.0|           NULL|            1249.004|                NULL|                 NULL|                  10996.807|                       NULL|                NULL|                NULL|                         3.0|                         9.0|                   NULL|                   36.0|                           NULL|                          18.0|                              6.0|                             NULL|                           0.0|                          NULL|                      NULL|                  173324.5|                 NULL|                   0.0|                 2246.122|                      NULL|                 2246.122|                    NULL|                              NULL|                              11.0|                         2019.0|                             NULL|                       NULL|                      30.0|                       NULL|                      NULL|                   NULL|              12559.778|              NULL|            300000.0|                           0.0|                           0.0|                     204049.05|                            0.0|\n",
      "|   4101|                        NULL|                      11.79|                    NULL|            NULL|        278233.0|            1016576.3|                0.0|           16.0|           NULL|             11957.0|                NULL|                 NULL|                  16252.601|                       NULL|                11.0|                NULL|                         2.0|                        18.0|                   NULL|                  180.0|                           NULL|                          63.0|                             17.0|                             NULL|                           0.0|                          NULL|                      NULL|                  779092.2|                 NULL|                   0.0|                16252.601|                      NULL|                16252.601|                    NULL|                              NULL|                              10.0|                         2017.0|                             NULL|                       NULL|                      30.0|                       NULL|                      NULL|                   NULL|              237484.12|              NULL|           1428646.9|                           0.0|                           0.0|                     1016576.3|                            0.0|\n",
      "|   4818|                        NULL|                       NULL|                    NULL|            NULL|         22642.0|            13193.669|                0.0|            0.0|           NULL|              1432.6|                NULL|                 NULL|                     1432.6|                       NULL|                NULL|                NULL|                         1.0|                        NULL|                   NULL|                   NULL|                           NULL|                          NULL|                              0.0|                             NULL|                           0.0|                          NULL|                      NULL|                      NULL|                 NULL|                   0.0|                      0.0|                      NULL|                      0.0|                    NULL|                              NULL|                               9.0|                         2018.0|                             NULL|                       NULL|                      NULL|                       NULL|                      NULL|                   NULL|              13193.669|              NULL|                NULL|                           0.0|                          NULL|                     13193.669|                           NULL|\n",
      "|   4900|                        NULL|                       NULL|                    NULL|            NULL|            NULL|             73219.97|                0.0|            5.0|           NULL|                NULL|                NULL|                 NULL|                  7978.9243|                       NULL|                NULL|                NULL|                         1.0|                         2.0|                   NULL|                   60.0|                           NULL|                          10.0|                              6.0|                             NULL|                           0.0|                          NULL|                      NULL|                  73219.97|                 NULL|                   0.0|                7849.6846|                      NULL|                7849.6846|                    NULL|                              NULL|                              11.0|                         2018.0|                             NULL|                       NULL|                      30.0|                       NULL|                      NULL|                   NULL|                   NULL|              NULL|            290261.0|                           0.0|                           0.0|                      73219.97|                            0.0|\n",
      "|   5300|                        NULL|                       NULL|                    NULL|            NULL|         20000.0|               6934.4|                0.0|            0.0|           NULL|              4374.6|                NULL|                 NULL|                     4374.6|                       NULL|                NULL|                NULL|                         2.0|                         2.0|                   NULL|                   NULL|                           NULL|                          NULL|                              0.0|                             NULL|                           0.0|                          NULL|                      NULL|                      NULL|                 NULL|                   0.0|                      0.0|                      NULL|                      0.0|                    NULL|                              NULL|                              11.0|                         2018.0|                             NULL|                       NULL|                      NULL|                       NULL|                      NULL|                   NULL|                 6934.4|              NULL|                NULL|                           0.0|                           0.0|                        6934.4|                            0.0|\n",
      "|   5518|                        NULL|                       0.12|                    NULL|            NULL|         81794.0|           104108.805|                0.0|            0.0|           NULL|           6673.8003|                NULL|                 NULL|                  6673.8003|                       NULL|                0.12|                NULL|                         3.0|                        NULL|                   NULL|                    6.0|                           NULL|                           6.0|                              0.0|                             NULL|                           0.0|                          NULL|                      NULL|                 19618.623|                 NULL|                   0.0|                      0.0|                      NULL|                      0.0|                    NULL|                              NULL|                              12.0|                         2019.0|                             NULL|                       NULL|                      30.0|                       NULL|                      NULL|                   NULL|              74551.375|              NULL|             19617.8|                           0.0|                          NULL|                    104108.805|                           NULL|\n",
      "|   5803|                        NULL|                       NULL|                    NULL|            NULL|         62000.0|              26024.9|                0.0|            0.0|           NULL|              3916.6|                NULL|                 NULL|                     3916.6|                       NULL|                NULL|                NULL|                         1.0|                        NULL|                   NULL|                   NULL|                           NULL|                          NULL|                              0.0|                             NULL|                           0.0|                          NULL|                      NULL|                      NULL|                 NULL|                   0.0|                      0.0|                      NULL|                      0.0|                    NULL|                              NULL|                               4.0|                         2017.0|                             NULL|                       NULL|                      NULL|                       NULL|                      NULL|                   NULL|                26024.9|              NULL|                NULL|                           0.0|                          NULL|                       26024.9|                           NULL|\n",
      "+-------+----------------------------+---------------------------+------------------------+----------------+----------------+---------------------+-------------------+---------------+---------------+--------------------+--------------------+---------------------+---------------------------+---------------------------+--------------------+--------------------+----------------------------+----------------------------+-----------------------+-----------------------+-------------------------------+------------------------------+---------------------------------+---------------------------------+------------------------------+------------------------------+--------------------------+--------------------------+---------------------+----------------------+-------------------------+--------------------------+-------------------------+------------------------+----------------------------------+----------------------------------+-------------------------------+---------------------------------+---------------------------+--------------------------+---------------------------+--------------------------+-----------------------+-----------------------+------------------+--------------------+------------------------------+------------------------------+------------------------------+-------------------------------+\n",
      "only showing top 20 rows\n",
      "\n"
     ]
    }
   ],
   "source": [
    "grouped_max_train_applprev_df, spark = import_parquet_file(\n",
    "    file_path=(\n",
    "        str(CURRENT_DIRECTORY_NOTEBOOK / CLEANED_DATASET_DIRECTORY_PATH) + \"/credit_bureau_data_temp_group_max\" \n",
    "    ),\n",
    "    app_name=\"Credit_Bureau_Temp_Data_Cleaning_Train\",\n",
    ")\n",
    "\n",
    "grouped_max_train_applprev_df.show()"
   ]
  },
  {
   "cell_type": "code",
   "execution_count": 8,
   "metadata": {},
   "outputs": [],
   "source": [
    "credit_bureau_df = credit_bureau_df.join(\n",
    "    grouped_max_train_applprev_df, on=\"case_id\", how=\"left\"\n",
    ")"
   ]
  },
  {
   "cell_type": "code",
   "execution_count": 9,
   "metadata": {},
   "outputs": [
    {
     "name": "stderr",
     "output_type": "stream",
     "text": [
      "                                                                                \r"
     ]
    },
    {
     "name": "stdout",
     "output_type": "stream",
     "text": [
      "Number of columns:  77 Total Number of Row:  1386273 \n",
      "Total Number of Unique Case ID:  1386273\n"
     ]
    },
    {
     "name": "stderr",
     "output_type": "stream",
     "text": [
      "[Stage 833:=================================================>       (7 + 1) / 8]\r"
     ]
    },
    {
     "name": "stdout",
     "output_type": "stream",
     "text": [
      "+-------+-------------------------------------+--------------------------------------+---------------------------+---------------------------+-----------------------------+---------------------------+----------------------------+-------------------------------------+-------------------------------------+----------------------+------------------------------+------------------------------+----------------------------+---------------------------+-------------------------------------+--------------------------------------+---------------------------+---------------------------+----------------------------+-------------------------------------+-------------------------------------+----------------------+------------------------------+------------------------------+----------------------------+---------------------------+----------------------------+---------------------------+------------------------+----------------+----------------+---------------------+-------------------+---------------+---------------+--------------------+--------------------+---------------------+---------------------------+---------------------------+--------------------+--------------------+----------------------------+----------------------------+-----------------------+-----------------------+-------------------------------+------------------------------+---------------------------------+---------------------------------+------------------------------+------------------------------+--------------------------+--------------------------+---------------------+----------------------+-------------------------+--------------------------+-------------------------+------------------------+----------------------------------+----------------------------------+-------------------------------+---------------------------------+---------------------------+--------------------------+---------------------------+--------------------------+-----------------------+-----------------------+------------------+--------------------+------------------------------+------------------------------+------------------------------+-------------------------------+\n",
      "|case_id|classificationofcontr_13M_num_group_0|classificationofcontr_400M_num_group_0|contractst_545M_num_group_0|contractst_964M_num_group_0|debtoutstand_525A_num_group_0|debtoverdue_47A_num_group_0|description_351M_num_group_0|financialinstitution_382M_num_group_0|financialinstitution_591M_num_group_0|num_group1_num_group_0|purposeofcred_426M_num_group_0|purposeofcred_874M_num_group_0|subjectrole_182M_num_group_0|subjectrole_93M_num_group_0|classificationofcontr_13M_num_group_1|classificationofcontr_400M_num_group_1|contractst_545M_num_group_1|contractst_964M_num_group_1|description_351M_num_group_1|financialinstitution_382M_num_group_1|financialinstitution_591M_num_group_1|num_group1_num_group_1|purposeofcred_426M_num_group_1|purposeofcred_874M_num_group_1|subjectrole_182M_num_group_1|subjectrole_93M_num_group_1|Max_annualeffectiverate_199L|Max_annualeffectiverate_63L|Max_contractsum_5085717L|Max_credlmt_230A|Max_credlmt_935A|Max_debtoutstand_525A|Max_debtoverdue_47A|Max_dpdmax_139P|Max_dpdmax_757P|Max_instlamount_768A|Max_instlamount_852A|Max_interestrate_508L|Max_monthlyinstlamount_332A|Max_monthlyinstlamount_674A|Max_nominalrate_281L|Max_nominalrate_498L|Max_numberofcontrsvalue_258L|Max_numberofcontrsvalue_358L|Max_numberofinstls_229L|Max_numberofinstls_320L|Max_numberofoutstandinstls_520L|Max_numberofoutstandinstls_59L|Max_numberofoverdueinstlmax_1039L|Max_numberofoverdueinstlmax_1151L|Max_numberofoverdueinstls_725L|Max_numberofoverdueinstls_834L|Max_outstandingamount_354A|Max_outstandingamount_362A|Max_overdueamount_31A|Max_overdueamount_659A|Max_overdueamountmax2_14A|Max_overdueamountmax2_398A|Max_overdueamountmax_155A|Max_overdueamountmax_35A|Max_overdueamountmaxdatemonth_284T|Max_overdueamountmaxdatemonth_365T|Max_overdueamountmaxdateyear_2T|Max_overdueamountmaxdateyear_994T|Max_periodicityofpmts_1102L|Max_periodicityofpmts_837L|Max_prolongationcount_1120L|Max_prolongationcount_599L|Max_residualamount_488A|Max_residualamount_856A|Max_totalamount_6A|Max_totalamount_996A|Max_totaldebtoverduevalue_178A|Max_totaldebtoverduevalue_718A|Max_totaloutstanddebtvalue_39A|Max_totaloutstanddebtvalue_668A|\n",
      "+-------+-------------------------------------+--------------------------------------+---------------------------+---------------------------+-----------------------------+---------------------------+----------------------------+-------------------------------------+-------------------------------------+----------------------+------------------------------+------------------------------+----------------------------+---------------------------+-------------------------------------+--------------------------------------+---------------------------+---------------------------+----------------------------+-------------------------------------+-------------------------------------+----------------------+------------------------------+------------------------------+----------------------------+---------------------------+----------------------------+---------------------------+------------------------+----------------+----------------+---------------------+-------------------+---------------+---------------+--------------------+--------------------+---------------------+---------------------------+---------------------------+--------------------+--------------------+----------------------------+----------------------------+-----------------------+-----------------------+-------------------------------+------------------------------+---------------------------------+---------------------------------+------------------------------+------------------------------+--------------------------+--------------------------+---------------------+----------------------+-------------------------+--------------------------+-------------------------+------------------------+----------------------------------+----------------------------------+-------------------------------+---------------------------------+---------------------------+--------------------------+---------------------------+--------------------------+-----------------------+-----------------------+------------------+--------------------+------------------------------+------------------------------+------------------------------+-------------------------------+\n",
      "|    436|                             ea6782cc|                              a55475b1|                   7241344e|                   a55475b1|                      97023.8|                        0.0|                    a55475b1|                             a55475b1|                         P150_136_157|                     0|                      96a8fdfe|                      a55475b1|                    ab3c25cf|                   ab3c25cf|                             a55475b1|                              a55475b1|                   a55475b1|                   a55475b1|                    a55475b1|                             a55475b1|                             a55475b1|                     1|                      a55475b1|                      a55475b1|                    a55475b1|                   a55475b1|                        NULL|                       NULL|                    NULL|            NULL|            NULL|              97023.8|                0.0|            0.0|           NULL|                NULL|                NULL|                 NULL|                   4066.416|                       NULL|                NULL|                NULL|                         1.0|                         5.0|                   NULL|                   48.0|                           NULL|                          30.0|                              0.0|                             NULL|                           0.0|                          NULL|                      NULL|                   97023.8|                 NULL|                   0.0|                      0.0|                      NULL|                      0.0|                    NULL|                              NULL|                               7.0|                         2017.0|                             NULL|                       NULL|                      30.0|                       NULL|                      NULL|                   NULL|                   NULL|              NULL|            136000.0|                           0.0|                           0.0|                       97023.8|                            0.0|\n",
      "|    460|                             ea6782cc|                              a55475b1|                   7241344e|                   a55475b1|                    229841.92|                        0.0|                    a55475b1|                             a55475b1|                         P150_136_157|                     0|                      96a8fdfe|                      a55475b1|                    ab3c25cf|                   ab3c25cf|                             ea6782cc|                              a55475b1|                   7241344e|                   a55475b1|                    a55475b1|                             a55475b1|                           P204_66_73|                     1|                      60c73645|                      a55475b1|                    a55475b1|                   a55475b1|                        NULL|                       NULL|                    NULL|            NULL|         69634.0|            229841.92|                0.0|            0.0|           NULL|              9552.2|                NULL|                 NULL|                     9552.2|                       NULL|                NULL|                NULL|                         2.0|                         2.0|                   NULL|                   35.0|                           NULL|                          28.0|                              0.0|                             NULL|                           0.0|                          NULL|                      NULL|                 185837.42|                 NULL|                   0.0|                      0.0|                      NULL|                      0.0|                    NULL|                              NULL|                               6.0|                         2018.0|                             NULL|                       NULL|                      30.0|                       NULL|                      NULL|                   NULL|              44004.492|              NULL|            220000.0|                           0.0|                           0.0|                     229841.92|                            0.0|\n",
      "|    463|                             ea6782cc|                              a55475b1|                   7241344e|                   a55475b1|                    62455.613|                        0.0|                    a55475b1|                             a55475b1|                         P150_136_157|                     0|                      96a8fdfe|                      a55475b1|                    ab3c25cf|                   ab3c25cf|                             a55475b1|                              a55475b1|                   a55475b1|                   a55475b1|                    a55475b1|                             a55475b1|                             a55475b1|                     1|                      a55475b1|                      a55475b1|                    a55475b1|                   a55475b1|                        NULL|                       NULL|                    NULL|            NULL|            NULL|            62455.613|                0.0|            0.0|           NULL|                NULL|                NULL|                 NULL|                  4698.0264|                       NULL|                NULL|                NULL|                         1.0|                         5.0|                   NULL|                   20.0|                           NULL|                          15.0|                              0.0|                             NULL|                           0.0|                          NULL|                      NULL|                 62455.613|                 NULL|                   0.0|                      0.0|                      NULL|                      0.0|                    NULL|                              NULL|                               8.0|                         2018.0|                             NULL|                       NULL|                      30.0|                       NULL|                      NULL|                   NULL|                   NULL|              NULL|             80000.0|                           0.0|                           0.0|                     62455.613|                            0.0|\n",
      "|    471|                             ea6782cc|                              a55475b1|                   7241344e|                   a55475b1|                          0.0|                        0.0|                    a55475b1|                             a55475b1|                           P204_66_73|                     0|                      60c73645|                      a55475b1|                    ab3c25cf|                   a55475b1|                             a55475b1|                              a55475b1|                   a55475b1|                   a55475b1|                    a55475b1|                             a55475b1|                             a55475b1|                     1|                      a55475b1|                      a55475b1|                    a55475b1|                   a55475b1|                        NULL|                       NULL|                    NULL|            NULL|             0.0|                  0.0|                0.0|            0.0|           NULL|                 0.0|                NULL|                 NULL|                        0.0|                       NULL|                NULL|                NULL|                         1.0|                        NULL|                   NULL|                   NULL|                           NULL|                          NULL|                              5.0|                             NULL|                           0.0|                          NULL|                      NULL|                      NULL|                 NULL|                   0.0|                 6919.726|                      NULL|                      0.0|                    NULL|                              NULL|                               2.0|                         2017.0|                             NULL|                       NULL|                      NULL|                       NULL|                      NULL|                   NULL|                    0.0|              NULL|                NULL|                           0.0|                          NULL|                           0.0|                           NULL|\n",
      "|    481|                             ea6782cc|                              a55475b1|                   7241344e|                   a55475b1|                    19236.086|                        0.0|                    a55475b1|                             a55475b1|                         P133_127_114|                     0|                      96a8fdfe|                      a55475b1|                    ab3c25cf|                   ab3c25cf|                             a55475b1|                              a55475b1|                   a55475b1|                   a55475b1|                    a55475b1|                             a55475b1|                             a55475b1|                     1|                      a55475b1|                      a55475b1|                    a55475b1|                   a55475b1|                        NULL|                      48.02|                    NULL|            NULL|            NULL|            19236.086|                0.0|            0.0|           NULL|                NULL|                NULL|                 NULL|                     2117.6|                       NULL|                40.0|                NULL|                         1.0|                         4.0|                   NULL|                   18.0|                           NULL|                          11.0|                              0.0|                             NULL|                           0.0|                          NULL|                      NULL|                 19236.086|                 NULL|                   0.0|                      0.0|                      NULL|                      0.0|                    NULL|                              NULL|                               6.0|                         2018.0|                             NULL|                       NULL|                      30.0|                       NULL|                      NULL|                   NULL|                   NULL|              NULL|             28320.0|                           0.0|                           0.0|                     19236.086|                            0.0|\n",
      "+-------+-------------------------------------+--------------------------------------+---------------------------+---------------------------+-----------------------------+---------------------------+----------------------------+-------------------------------------+-------------------------------------+----------------------+------------------------------+------------------------------+----------------------------+---------------------------+-------------------------------------+--------------------------------------+---------------------------+---------------------------+----------------------------+-------------------------------------+-------------------------------------+----------------------+------------------------------+------------------------------+----------------------------+---------------------------+----------------------------+---------------------------+------------------------+----------------+----------------+---------------------+-------------------+---------------+---------------+--------------------+--------------------+---------------------+---------------------------+---------------------------+--------------------+--------------------+----------------------------+----------------------------+-----------------------+-----------------------+-------------------------------+------------------------------+---------------------------------+---------------------------------+------------------------------+------------------------------+--------------------------+--------------------------+---------------------+----------------------+-------------------------+--------------------------+-------------------------+------------------------+----------------------------------+----------------------------------+-------------------------------+---------------------------------+---------------------------+--------------------------+---------------------------+--------------------------+-----------------------+-----------------------+------------------+--------------------+------------------------------+------------------------------+------------------------------+-------------------------------+\n",
      "only showing top 5 rows\n",
      "\n"
     ]
    },
    {
     "name": "stderr",
     "output_type": "stream",
     "text": [
      "                                                                                \r"
     ]
    }
   ],
   "source": [
    "print(\n",
    "    \"Number of columns: \",\n",
    "    len(credit_bureau_df.columns),\n",
    "    \"Total Number of Row: \", \n",
    "    credit_bureau_df.count(),\n",
    "    \"\\nTotal Number of Unique Case ID: \",\n",
    "    credit_bureau_df.select(countDistinct(\"case_id\")).collect()[0][0],\n",
    ")\n",
    "\n",
    "credit_bureau_df.show(5)"
   ]
  },
  {
   "cell_type": "code",
   "execution_count": 10,
   "metadata": {},
   "outputs": [
    {
     "name": "stderr",
     "output_type": "stream",
     "text": [
      "                                                                                \r"
     ]
    }
   ],
   "source": [
    "# SAVE the data in .parquet file # Coalesce to a single partition\n",
    "credit_bureau_df.coalesce(1).write.parquet(\n",
    "    str(CURRENT_DIRECTORY_NOTEBOOK / CLEANED_DATASET_DIRECTORY_PATH) + \"/credit_bureau_data\" \n",
    ")"
   ]
  },
  {
   "cell_type": "code",
   "execution_count": 12,
   "metadata": {},
   "outputs": [],
   "source": [
    "spark.stop()"
   ]
  },
  {
   "cell_type": "markdown",
   "metadata": {},
   "source": [
    "### Data Info\n",
    "- Data Name: Debit Card (debitcard)\n",
    "- Depth: 1\n",
    "- Source: Internal data source\n",
    "- Relevant for Training: No"
   ]
  },
  {
   "cell_type": "code",
   "execution_count": null,
   "metadata": {},
   "outputs": [],
   "source": [
    "debit_card_df, spark = import_parquet_file(\n",
    "    file_path=(\n",
    "        CURRENT_DIRECTORY_NOTEBOOK\n",
    "        / TRAIN_PARQUET_FOLDER_PATH\n",
    "        / Path(\"train_debitcard_1.parquet\")\n",
    "    ),\n",
    "    app_name=\"Debit_Card_Data_Cleaning_Train\",\n",
    ")\n",
    "\n",
    "debit_card_df.show()"
   ]
  },
  {
   "cell_type": "code",
   "execution_count": null,
   "metadata": {},
   "outputs": [],
   "source": [
    "missing_values_dict = get_columns_high_missing_values(\n",
    "    debit_card_df, threshold=None, display=False\n",
    ")\n",
    "\n",
    "\n",
    "print(\n",
    "    \"Number of columns: \",\n",
    "    len(debit_card_df.columns),\n",
    "    \"\\nTotal Number of Row: \", \n",
    "    debit_card_df.count(),\n",
    "    \"\\nTotal Number of Unique Case ID: \",\n",
    "    debit_card_df.select(countDistinct(\"case_id\")).collect()[0][0],\n",
    ")"
   ]
  },
  {
   "cell_type": "code",
   "execution_count": null,
   "metadata": {},
   "outputs": [],
   "source": [
    "spark.stop()"
   ]
  },
  {
   "cell_type": "markdown",
   "metadata": {},
   "source": [
    "### Data Info\n",
    "- Data Name: Deposits (deposit)\n",
    "- Depth: 1\n",
    "- Source: Internal data source\n",
    "- Relevant for Training: No"
   ]
  },
  {
   "cell_type": "code",
   "execution_count": null,
   "metadata": {},
   "outputs": [],
   "source": [
    "deposit_df, spark = import_parquet_file(\n",
    "    file_path=(\n",
    "        CURRENT_DIRECTORY_NOTEBOOK\n",
    "        / TRAIN_PARQUET_FOLDER_PATH\n",
    "        / Path(\"train_deposit_1.parquet\")\n",
    "    ),\n",
    "    app_name=\"Deposit_Data_Cleaning_Train\",\n",
    ")\n",
    "\n",
    "deposit_df.show()"
   ]
  },
  {
   "cell_type": "code",
   "execution_count": null,
   "metadata": {},
   "outputs": [],
   "source": [
    "missing_values_dict = get_columns_high_missing_values(\n",
    "    deposit_df, threshold=None, display=False\n",
    ")\n",
    "\n",
    "\n",
    "print(\n",
    "    \"Number of columns: \",\n",
    "    len(deposit_df.columns),\n",
    "    \"\\nTotal Number of Row: \", \n",
    "    deposit_df.count(),\n",
    "    \"\\nTotal Number of Unique Case ID: \",\n",
    "    deposit_df.select(countDistinct(\"case_id\")).collect()[0][0],\n",
    ")"
   ]
  },
  {
   "cell_type": "code",
   "execution_count": null,
   "metadata": {},
   "outputs": [],
   "source": [
    "spark.stop()"
   ]
  },
  {
   "cell_type": "markdown",
   "metadata": {},
   "source": [
    "### Data Info\n",
    "- Data Name: Other (other)\n",
    "- Depth: 1\n",
    "- Source: Internal data source\n",
    "- Relevant for Training: No"
   ]
  },
  {
   "cell_type": "code",
   "execution_count": null,
   "metadata": {},
   "outputs": [],
   "source": [
    "other_df, spark = import_parquet_file(\n",
    "    file_path=(\n",
    "        CURRENT_DIRECTORY_NOTEBOOK\n",
    "        / TRAIN_PARQUET_FOLDER_PATH\n",
    "        / Path(\"train_other_1.parquet\")\n",
    "    ),\n",
    "    app_name=\"Other_Data_Cleaning_Train\",\n",
    ")\n",
    "\n",
    "other_df.show()"
   ]
  },
  {
   "cell_type": "code",
   "execution_count": null,
   "metadata": {},
   "outputs": [],
   "source": [
    "missing_values_dict = get_columns_high_missing_values(\n",
    "    other_df, threshold=None, display=False\n",
    ")\n",
    "\n",
    "print(\n",
    "    \"Number of columns: \",\n",
    "    len(other_df.columns),\n",
    "    \"\\nTotal Number of Row: \", \n",
    "    other_df.count(),\n",
    "    \"\\nTotal Number of Unique Case ID: \",\n",
    "    other_df.select(countDistinct(\"case_id\")).collect()[0][0],\n",
    ")"
   ]
  },
  {
   "cell_type": "code",
   "execution_count": null,
   "metadata": {},
   "outputs": [],
   "source": [
    "spark.stop()"
   ]
  },
  {
   "cell_type": "markdown",
   "metadata": {},
   "source": [
    "### Data Info\n",
    "- Data Name: Person (person)\n",
    "- Depth: 1\n",
    "- Source: Internal data source\n",
    "- Relevant for Training: Yes"
   ]
  },
  {
   "cell_type": "code",
   "execution_count": null,
   "metadata": {},
   "outputs": [],
   "source": [
    "person_df, spark = import_parquet_file(\n",
    "    file_path=(\n",
    "        CURRENT_DIRECTORY_NOTEBOOK\n",
    "        / TRAIN_PARQUET_FOLDER_PATH\n",
    "        / Path(\"train_person_1.parquet\")\n",
    "    ),\n",
    "    app_name=\"Person_Data_Cleaning_Train\",\n",
    ")\n",
    "\n",
    "person_df.show(10)"
   ]
  },
  {
   "cell_type": "code",
   "execution_count": null,
   "metadata": {},
   "outputs": [],
   "source": [
    "person_df = clean_person_dataset(person_df)"
   ]
  },
  {
   "cell_type": "code",
   "execution_count": null,
   "metadata": {},
   "outputs": [],
   "source": [
    "# SAVE the data in .parquet file # Coalesce to a single partition\n",
    "person_df.coalesce(1).write.parquet(\n",
    "    str(CURRENT_DIRECTORY_NOTEBOOK / CLEANED_DATASET_DIRECTORY_PATH) + \"/person_data\" \n",
    ")\n",
    "\n",
    "person_df.show()"
   ]
  },
  {
   "cell_type": "code",
   "execution_count": null,
   "metadata": {},
   "outputs": [],
   "source": [
    "spark.stop()"
   ]
  },
  {
   "cell_type": "markdown",
   "metadata": {},
   "source": [
    "### Data Info\n",
    "- Data Name: Static (static)\n",
    "- Depth: 0\n",
    "- Source: Internal data source\n",
    "- Relevant for Training: Yes"
   ]
  },
  {
   "cell_type": "code",
   "execution_count": null,
   "metadata": {},
   "outputs": [],
   "source": [
    "static_df, spark = import_and_concatenate_parquet_files(\n",
    "    data_file_names=[\n",
    "        \"train_static_0_0.parquet\", \n",
    "        \"train_static_0_1.parquet\", \n",
    "    ],\n",
    "    app_name=\"Static_Train_Dataset_Cleaning\",\n",
    "    base_path=TRAIN_PARQUET_FOLDER_PATH,\n",
    ")\n",
    "\n",
    "print(\n",
    "    \"Number of columns: \",\n",
    "    len(static_df.columns),\n",
    "    \"\\nTotal Number of Row: \", \n",
    "    static_df.count(),\n",
    "    \"\\nTotal Number of Unique Case ID: \",\n",
    "    static_df.select(countDistinct(\"case_id\")).collect()[0][0],\n",
    ")\n",
    "\n",
    "static_df.show(10)"
   ]
  },
  {
   "cell_type": "code",
   "execution_count": null,
   "metadata": {},
   "outputs": [],
   "source": [
    "static_df = clean_static_dataset(static_df)"
   ]
  },
  {
   "cell_type": "code",
   "execution_count": null,
   "metadata": {},
   "outputs": [],
   "source": [
    "print(\n",
    "    \"Number of columns: \",\n",
    "    len(static_df.columns),\n",
    "    \"\\nTotal Number of Row: \", \n",
    "    static_df.count(),\n",
    "    \"\\nTotal Number of Unique Case ID: \",\n",
    "    static_df.select(countDistinct(\"case_id\")).collect()[0][0],\n",
    ")\n",
    "\n",
    "static_df.show(10)"
   ]
  },
  {
   "cell_type": "code",
   "execution_count": null,
   "metadata": {},
   "outputs": [],
   "source": [
    "spark.stop()"
   ]
  },
  {
   "cell_type": "markdown",
   "metadata": {},
   "source": [
    "### Data Info\n",
    "- Data Name: Static Credit Bureau (static_cb)\n",
    "- Depth: 0\n",
    "- Source: External data source\n",
    "- Relevant for Training: Yes"
   ]
  },
  {
   "cell_type": "code",
   "execution_count": null,
   "metadata": {},
   "outputs": [],
   "source": [
    "static_cb_df, spark = import_parquet_file(\n",
    "    file_path=(\n",
    "        CURRENT_DIRECTORY_NOTEBOOK\n",
    "        / TRAIN_PARQUET_FOLDER_PATH\n",
    "        / Path(\"train_static_cb_0.parquet\")\n",
    "    ),\n",
    "    app_name=\"Static_CB_Data_Cleaning_Train\",\n",
    ")\n",
    "\n",
    "\n",
    "print(\n",
    "    \"Number of columns: \",\n",
    "    len(static_cb_df.columns),\n",
    "    \"\\nTotal Number of Row: \", \n",
    "    static_cb_df.count(),\n",
    "    \"\\nTotal Number of Unique Case ID: \",\n",
    "    static_cb_df.select(countDistinct(\"case_id\")).collect()[0][0],\n",
    ")\n",
    "\n",
    "static_cb_df.show(10)"
   ]
  },
  {
   "cell_type": "code",
   "execution_count": null,
   "metadata": {},
   "outputs": [],
   "source": [
    "static_cb_df = clean_static_cb_dataset(static_cb_df)"
   ]
  },
  {
   "cell_type": "code",
   "execution_count": null,
   "metadata": {},
   "outputs": [],
   "source": [
    "print(\n",
    "    \"Number of columns: \",\n",
    "    len(static_cb_df.columns),\n",
    "    \"\\nTotal Number of Row: \", \n",
    "    static_cb_df.count(),\n",
    "    \"\\nTotal Number of Unique Case ID: \",\n",
    "    static_cb_df.select(countDistinct(\"case_id\")).collect()[0][0],\n",
    ")\n",
    "\n",
    "static_cb_df.show(10)"
   ]
  },
  {
   "cell_type": "code",
   "execution_count": null,
   "metadata": {},
   "outputs": [],
   "source": [
    "static_cb_df.coalesce(1).write.parquet(\n",
    "    str(CURRENT_DIRECTORY_NOTEBOOK / CLEANED_DATASET_DIRECTORY_PATH) + \"/static_data\" \n",
    ")"
   ]
  },
  {
   "cell_type": "code",
   "execution_count": null,
   "metadata": {},
   "outputs": [],
   "source": [
    "spark.stop()"
   ]
  },
  {
   "cell_type": "markdown",
   "metadata": {},
   "source": [
    "### Data Info\n",
    "- Data Name: Tax Registry (tax_registry)\n",
    "- Depth: 1\n",
    "- Source: External data source, Tax registry provider A, B and C\n",
    "- Relevant for Training: Yes"
   ]
  },
  {
   "cell_type": "code",
   "execution_count": null,
   "metadata": {},
   "outputs": [],
   "source": [
    "tax_register_a_df, spark_a = import_parquet_file(\n",
    "    file_path=(\n",
    "        CURRENT_DIRECTORY_NOTEBOOK\n",
    "        / TRAIN_PARQUET_FOLDER_PATH\n",
    "        / Path(\"train_tax_registry_a_1.parquet\")\n",
    "    ),\n",
    "    app_name=\"Tax_Registry_A_Data_Cleaning_Train\",\n",
    ")\n",
    "\n",
    "tax_register_b_df, spark_b = import_parquet_file(\n",
    "    file_path=(\n",
    "        CURRENT_DIRECTORY_NOTEBOOK\n",
    "        / TRAIN_PARQUET_FOLDER_PATH\n",
    "        / Path(\"train_tax_registry_b_1.parquet\")\n",
    "    ),\n",
    "    app_name=\"Tax_Registry_B_Data_Cleaning_Train\",\n",
    ")\n",
    "\n",
    "tax_register_c_df, spark_c = import_parquet_file(\n",
    "    file_path=(\n",
    "        CURRENT_DIRECTORY_NOTEBOOK\n",
    "        / TRAIN_PARQUET_FOLDER_PATH\n",
    "        / Path(\"train_tax_registry_c_1.parquet\")\n",
    "    ),\n",
    "    app_name=\"Tax_Registry_C_Data_Cleaning_Train\",\n",
    ")"
   ]
  },
  {
   "cell_type": "code",
   "execution_count": null,
   "metadata": {},
   "outputs": [],
   "source": [
    "from pyspark.sql.functions import lit\n",
    "\n",
    "# Define the column mapping\n",
    "column_mapping = {\n",
    "    'case_id': 'case_id',\n",
    "    'amount_4527230A': 'amount',\n",
    "    'amount_4917619A': 'amount',\n",
    "    'pmtamount_36A': 'amount',\n",
    "    'name_4527232M': 'name',\n",
    "    'name_4917606M': 'name',\n",
    "    'employername_160M': 'name',\n",
    "    'num_group1': 'num_group',\n",
    "    'recorddate_4527225D': 'tax_registry_date',\n",
    "    'deductiondate_4917603D': 'tax_registry_date',\n",
    "    'processingdate_168D': 'tax_registry_date'\n",
    "}\n",
    "\n",
    "# Function to rename columns based on the mapping\n",
    "def rename_columns_add_indicator(df, column_mapping, indicator):\n",
    "    # Renaming\n",
    "    for old_name, new_name in column_mapping.items():\n",
    "        if old_name in df.columns:\n",
    "            df = df.withColumnRenamed(old_name, new_name)\n",
    "    \n",
    "    # Adding Indicator\n",
    "    df = df.withColumn(\"tax_registry_provider\", lit(indicator))\n",
    "    return df\n",
    "\n",
    "# Rename columns in each DataFrame\n",
    "tax_register_a_df = rename_columns_add_indicator(tax_register_a_df, column_mapping, indicator=\"a\")\n",
    "tax_register_b_df = rename_columns_add_indicator(tax_register_b_df, column_mapping, indicator=\"b\")\n",
    "tax_register_c_df = rename_columns_add_indicator(tax_register_c_df, column_mapping, indicator=\"c\")"
   ]
  },
  {
   "cell_type": "code",
   "execution_count": null,
   "metadata": {},
   "outputs": [],
   "source": [
    "tax_register_df = tax_register_a_df.unionByName(tax_register_b_df).unionByName(tax_register_c_df)\n",
    "\n",
    "print(\n",
    "    \"Number of columns: \",\n",
    "    len(tax_register_df.columns),\n",
    "    \"\\nTotal Number of Row: \", \n",
    "    tax_register_df.count(),\n",
    "    \"\\nTotal Number of Unique Case ID: \",\n",
    "    tax_register_df.select(countDistinct(\"case_id\")).collect()[0][0],\n",
    ")\n",
    "\n",
    "tax_register_df.show(10)"
   ]
  },
  {
   "cell_type": "code",
   "execution_count": null,
   "metadata": {},
   "outputs": [],
   "source": [
    "tax_register_df = clean_tax_registry_dataset(tax_register_df)"
   ]
  },
  {
   "cell_type": "code",
   "execution_count": null,
   "metadata": {},
   "outputs": [],
   "source": [
    "print(\n",
    "    \"Number of columns: \",\n",
    "    len(tax_register_df.columns),\n",
    "    \"\\nTotal Number of Row: \", \n",
    "    tax_register_df.count(),\n",
    "    \"\\nTotal Number of Unique Case ID: \",\n",
    "    tax_register_df.select(countDistinct(\"case_id\")).collect()[0][0],\n",
    ")\n",
    "\n",
    "tax_register_df.show()"
   ]
  },
  {
   "cell_type": "code",
   "execution_count": null,
   "metadata": {},
   "outputs": [],
   "source": [
    "tax_register_df.dropDuplicates([\"tax_registry_provider\"]).show()"
   ]
  },
  {
   "cell_type": "code",
   "execution_count": null,
   "metadata": {},
   "outputs": [],
   "source": [
    "tax_register_df.coalesce(1).write.parquet(\n",
    "    str(CURRENT_DIRECTORY_NOTEBOOK / CLEANED_DATASET_DIRECTORY_PATH) + \"/tax_registry_data\" \n",
    ")"
   ]
  },
  {
   "cell_type": "code",
   "execution_count": null,
   "metadata": {},
   "outputs": [],
   "source": [
    "spark_a.stop()\n",
    "spark_b.stop()\n",
    "spark_c.stop()"
   ]
  },
  {
   "cell_type": "code",
   "execution_count": null,
   "metadata": {},
   "outputs": [],
   "source": []
  }
 ],
 "metadata": {
  "kernelspec": {
   "display_name": "credit_risk_project",
   "language": "python",
   "name": "python3"
  },
  "language_info": {
   "codemirror_mode": {
    "name": "ipython",
    "version": 3
   },
   "file_extension": ".py",
   "mimetype": "text/x-python",
   "name": "python",
   "nbconvert_exporter": "python",
   "pygments_lexer": "ipython3",
   "version": "3.9.19"
  }
 },
 "nbformat": 4,
 "nbformat_minor": 2
}
