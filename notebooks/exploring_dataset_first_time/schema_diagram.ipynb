{
 "cells": [
  {
   "cell_type": "code",
   "execution_count": 1,
   "metadata": {},
   "outputs": [
    {
     "name": "stdout",
     "output_type": "stream",
     "text": [
      "Current directory for notebook:  /Users/shirshmall/Personal_Drive/Credit_Risk_Model_Project\n"
     ]
    }
   ],
   "source": [
    "from dotenv import load_dotenv\n",
    "import os\n",
    "from pathlib import Path\n",
    "from pyspark.sql import SparkSession\n",
    "from sqlalchemy import create_engine, MetaData\n",
    "from graphviz import Digraph\n",
    "\n",
    "\n",
    "CURRENT_DIRECTORY_NOTEBOOK = None\n",
    "\n",
    "\n",
    "def intitate_notebook():\n",
    "    load_dotenv()\n",
    "    global CURRENT_DIRECTORY_NOTEBOOK\n",
    "    if CURRENT_DIRECTORY_NOTEBOOK is None:\n",
    "        os.chdir(os.getenv(\"PROJECT_BASE_PATH\"))\n",
    "        CURRENT_DIRECTORY_NOTEBOOK = Path(os.getcwd())\n",
    "        print(\"Current directory for notebook: \", CURRENT_DIRECTORY_NOTEBOOK)\n",
    "    else:\n",
    "        print(\n",
    "            \"Current directory for notebook is already set: \",\n",
    "            CURRENT_DIRECTORY_NOTEBOOK,\n",
    "        )\n",
    "\n",
    "\n",
    "intitate_notebook()"
   ]
  },
  {
   "cell_type": "code",
   "execution_count": 2,
   "metadata": {},
   "outputs": [],
   "source": [
    "files_list = [\n",
    "    \"train_applprev_1_0.parquet\",\n",
    "    \"train_base.parquet\",\n",
    "    \"train_credit_bureau_a_1_0.parquet\",\n",
    "    # \"train_debitcard_1.parquet\",\n",
    "    # \"train_deposit_1.parquet\",\n",
    "    # \"train_other_1.parquet\",\n",
    "    # \"train_person_1.parquet\",\n",
    "    # \"train_static_0_0.parquet\",\n",
    "    # \"train_tax_registry_a_1.parquet\",\n",
    "]"
   ]
  },
  {
   "cell_type": "code",
   "execution_count": 4,
   "metadata": {},
   "outputs": [],
   "source": [
    "def import_parquet_file(file_name):\n",
    "    parquet_file_path = CURRENT_DIRECTORY_NOTEBOOK / Path(\n",
    "        \"raw_main_dataset/home-credit-credit-risk-model-stability/parquet_files/train/\" + file_name\n",
    "    )\n",
    "\n",
    "    spark = SparkSession.builder.appName(\"Parquet_File_Exploration\").getOrCreate()\n",
    "\n",
    "    df = \n",
    "    return spark.read.parquet(str(parquet_file_path))"
   ]
  }
 ],
 "metadata": {
  "kernelspec": {
   "display_name": "credit_risk_project",
   "language": "python",
   "name": "python3"
  },
  "language_info": {
   "codemirror_mode": {
    "name": "ipython",
    "version": 3
   },
   "file_extension": ".py",
   "mimetype": "text/x-python",
   "name": "python",
   "nbconvert_exporter": "python",
   "pygments_lexer": "ipython3",
   "version": "3.11.9"
  }
 },
 "nbformat": 4,
 "nbformat_minor": 2
}
