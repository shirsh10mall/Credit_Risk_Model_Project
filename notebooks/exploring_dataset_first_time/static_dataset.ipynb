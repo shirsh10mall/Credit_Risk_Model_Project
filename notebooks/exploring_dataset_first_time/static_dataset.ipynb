{
 "cells": [
  {
   "cell_type": "code",
   "execution_count": 1,
   "metadata": {},
   "outputs": [
    {
     "name": "stdout",
     "output_type": "stream",
     "text": [
      "Current directory for notebook:  /Users/shirshmall/Personal_Drive/Credit_Risk_Model_Project\n"
     ]
    }
   ],
   "source": [
    "from dotenv import load_dotenv\n",
    "import os\n",
    "from pathlib import Path\n",
    "from pyspark.sql import SparkSession\n",
    "\n",
    "CURRENT_DIRECTORY_NOTEBOOK = None\n",
    "\n",
    "\n",
    "def intitate_notebook():\n",
    "    load_dotenv()\n",
    "    global CURRENT_DIRECTORY_NOTEBOOK\n",
    "    if CURRENT_DIRECTORY_NOTEBOOK is None:\n",
    "        os.chdir(os.getenv(\"PROJECT_BASE_PATH\"))\n",
    "        CURRENT_DIRECTORY_NOTEBOOK = Path(os.getcwd())\n",
    "        print(\"Current directory for notebook: \", CURRENT_DIRECTORY_NOTEBOOK)\n",
    "    else:\n",
    "        print(\n",
    "            \"Current directory for notebook is already set: \",\n",
    "            CURRENT_DIRECTORY_NOTEBOOK,\n",
    "        )\n",
    "\n",
    "\n",
    "intitate_notebook()"
   ]
  },
  {
   "cell_type": "code",
   "execution_count": 2,
   "metadata": {},
   "outputs": [],
   "source": [
    "from notebooks.utils import column_stats, get_shape_df, get_columns_high_missing_values\n",
    "from tqdm import tqdm"
   ]
  },
  {
   "cell_type": "code",
   "execution_count": 3,
   "metadata": {},
   "outputs": [
    {
     "name": "stderr",
     "output_type": "stream",
     "text": [
      "24/07/17 10:48:08 WARN Utils: Your hostname, Shirshs-MacBook-Air.local resolves to a loopback address: 127.0.0.1; using 192.168.1.109 instead (on interface en0)\n",
      "24/07/17 10:48:08 WARN Utils: Set SPARK_LOCAL_IP if you need to bind to another address\n",
      "Setting default log level to \"WARN\".\n",
      "To adjust logging level use sc.setLogLevel(newLevel). For SparkR, use setLogLevel(newLevel).\n",
      "24/07/17 10:48:09 WARN NativeCodeLoader: Unable to load native-hadoop library for your platform... using builtin-java classes where applicable\n",
      "24/07/17 10:48:11 WARN SparkStringUtils: Truncated the string representation of a plan since it was too large. This behavior can be adjusted by setting 'spark.sql.debug.maxToStringFields'.\n",
      "                                                                                \r"
     ]
    },
    {
     "name": "stdout",
     "output_type": "stream",
     "text": [
      "+-------+-----------------------+------------------------------+------------+--------------------+-------------------+--------------------+---------------------+--------------------+--------------------+--------------------+-------------------------+------------------------+-------------------------+---------------------------+-------------------------+-------------------------+------------------------+------------------------------+----------------------+----------------+------------+----------------------+---------------------+---------------------+---------------+----------------+----------------+----------------+---------------+---------------+---------------+---------------+---------------+---------------+---------------+---------------+---------------+------------------------+------------------+------------------------+---------------+-------------+------------+--------------------------+--------------------+------------------------+-----------------------+-------------------------------+---------------------+-------------------------+--------------------+------------+-------------------------+--------+--------------------------+-------------------+----------------------+-----------------+---------------+--------------------------+------------------------+-----------------+---------------------+------------------+------------------------+----------------+----------------------+------------------------+--------------------------+-------------------------------+-----------------------+-----------------+---------------------+-------------------+----------------------+-----------------+------------------------+---------------------------+------------------------------+-------------------------+------------------+---------------------+-------------------------------+---------------------+-----------+------------+--------------------------+---------------------+---------------+-------------------+------------------------+----------------------------+---------------------------+-------------+--------------------------+------------------------+-----------------------+------------------+------------------+-----------------+-----------------+------------------+--------------------+-------------------------+------------------------+-------------------------------+---------------------+-------------------------+-------------------------+-----------------+------------------+-------------------+--------------------------+----------------------+---------------------+------------------------+---------------------------+--------------+---------------------+-----------------------+--------------------------+------------------------+-------------------------------+--------------------+---------------------------+------------------------------+------------------------+------------------------------+------------------------------+---------------------+----------------------------+-----------------------------+--------------------------+-----------------------+------------------------------+-------------------+--------------------------+-------------------------+----------------------------+---------------------+--------------------+-----------------+-------------+---------------+------------+----------------------------+---------------------------+---------------------------+-------------------------------+-------------------------------+-------------------------------+-----------+----------------------+--------------------------+-----------------------------+-------------------------+-----------+-------------------+--------------------+-------------------------+----------------------------+------------+-----------------+------------------------+------------------+--------------+---------------+\n",
      "|case_id|actualdpdtolerance_344P|amtinstpaidbefduel24m_4187115A|annuity_780A|annuitynextmonth_57A|applicationcnt_361L|applications30d_658L|applicationscnt_1086L|applicationscnt_464L|applicationscnt_629L|applicationscnt_867L|avgdbddpdlast24m_3658932P|avgdbddpdlast3m_4187120P|avgdbdtollast24m_4525197P|avgdpdtolclosure24_3658938P|avginstallast24m_3658937A|avglnamtstart24m_4525187A|avgmaxdpdlast9m_3716943P|avgoutstandbalancel6m_4187114A|avgpmtlast12m_4525200A|bankacctype_710L|cardtype_51L|clientscnt12m_3712952L|clientscnt3m_3712950L|clientscnt6m_3712949L|clientscnt_100L|clientscnt_1022L|clientscnt_1071L|clientscnt_1130L|clientscnt_136L|clientscnt_157L|clientscnt_257L|clientscnt_304L|clientscnt_360L|clientscnt_493L|clientscnt_533L|clientscnt_887L|clientscnt_946L|cntincpaycont9m_3716944L|cntpmts24_3658933L|commnoinclast6m_3546845L|credamount_770A|credtype_322L|currdebt_22A|currdebtcredtyperange_828A|datefirstoffer_1144D|datelastinstal40dpd_247D|datelastunpaid_3546854D|daysoverduetolerancedd_3976961L|deferredmnthsnum_166L|disbursedcredamount_1113A|disbursementtype_67L|downpmt_116A|dtlastpmtallstes_4499206D|eir_270L|equalitydataagreement_891L|equalityempfrom_62L|firstclxcampaign_1125D|firstdatedue_489D|homephncnt_628L|inittransactionamount_650A|inittransactioncode_186L|interestrate_311L|interestrategrace_34L|isbidproduct_1095L|isbidproductrequest_292L|isdebitcard_729L|lastactivateddate_801D|lastapplicationdate_877D|lastapprcommoditycat_1041M|lastapprcommoditytypec_5251766M|lastapprcredamount_781A|lastapprdate_640D|lastcancelreason_561M|lastdelinqdate_224D|lastdependentsnum_448L|lastotherinc_902A|lastotherlnsexpense_631A|lastrejectcommoditycat_161M|lastrejectcommodtypec_5251769M|lastrejectcredamount_222A|lastrejectdate_50D|lastrejectreason_759M|lastrejectreasonclient_4145040M|lastrepayingdate_696D|lastst_736L|maininc_215A|mastercontrelectronic_519L|mastercontrexist_109L|maxannuity_159A|maxannuity_4075009A|maxdbddpdlast1m_3658939P|maxdbddpdtollast12m_3658940P|maxdbddpdtollast6m_4187119P|maxdebt4_972A|maxdpdfrom6mto36m_3546853P|maxdpdinstldate_3546855D|maxdpdinstlnum_3546846P|maxdpdlast12m_727P|maxdpdlast24m_143P|maxdpdlast3m_392P|maxdpdlast6m_474P|maxdpdlast9m_1059P|maxdpdtolerance_374P|maxinstallast24m_3658928A|maxlnamtstart6m_4525199A|maxoutstandbalancel12m_4187113A|maxpmtlast3m_4525190A|mindbddpdlast24m_3658935P|mindbdtollast24m_4525191P|mobilephncnt_593L|monthsannuity_845L|numactivecreds_622L|numactivecredschannel_414L|numactiverelcontr_750L|numcontrs3months_479L|numincomingpmts_3546848L|numinstlallpaidearly3d_817L|numinstls_657L|numinstlsallpaid_934L|numinstlswithdpd10_728L|numinstlswithdpd5_4187116L|numinstlswithoutdpd_562L|numinstmatpaidtearly2d_4499204L|numinstpaid_4499208L|numinstpaidearly3d_3546850L|numinstpaidearly3dest_4493216L|numinstpaidearly5d_1087L|numinstpaidearly5dest_4493211L|numinstpaidearly5dobd_4499205L|numinstpaidearly_338L|numinstpaidearlyest_4493214L|numinstpaidlastcontr_4325080L|numinstpaidlate1d_3546852L|numinstregularpaid_973L|numinstregularpaidest_4493210L|numinsttopaygr_769L|numinsttopaygrest_4493213L|numinstunpaidmax_3546851L|numinstunpaidmaxest_4493212L|numnotactivated_1143L|numpmtchanneldd_318L|numrejects9m_859L|opencred_647L|paytype1st_925L|paytype_783L|payvacationpostpone_4187118D|pctinstlsallpaidearl3d_427L|pctinstlsallpaidlat10d_839L|pctinstlsallpaidlate1d_3546856L|pctinstlsallpaidlate4d_3546849L|pctinstlsallpaidlate6d_3546844L|pmtnum_254L|posfpd10lastmonth_333P|posfpd30lastmonth_3976960P|posfstqpd30lastmonth_3976962P|previouscontdistrict_112M|price_1097A|sellerplacecnt_915L|sellerplacescnt_216L|sumoutstandtotal_3546847A|sumoutstandtotalest_4493215A|totaldebt_9A|totalsettled_863A|totinstallast1m_4525188A|twobodfilling_608L|typesuite_864L|validfrom_1069D|\n",
      "+-------+-----------------------+------------------------------+------------+--------------------+-------------------+--------------------+---------------------+--------------------+--------------------+--------------------+-------------------------+------------------------+-------------------------+---------------------------+-------------------------+-------------------------+------------------------+------------------------------+----------------------+----------------+------------+----------------------+---------------------+---------------------+---------------+----------------+----------------+----------------+---------------+---------------+---------------+---------------+---------------+---------------+---------------+---------------+---------------+------------------------+------------------+------------------------+---------------+-------------+------------+--------------------------+--------------------+------------------------+-----------------------+-------------------------------+---------------------+-------------------------+--------------------+------------+-------------------------+--------+--------------------------+-------------------+----------------------+-----------------+---------------+--------------------------+------------------------+-----------------+---------------------+------------------+------------------------+----------------+----------------------+------------------------+--------------------------+-------------------------------+-----------------------+-----------------+---------------------+-------------------+----------------------+-----------------+------------------------+---------------------------+------------------------------+-------------------------+------------------+---------------------+-------------------------------+---------------------+-----------+------------+--------------------------+---------------------+---------------+-------------------+------------------------+----------------------------+---------------------------+-------------+--------------------------+------------------------+-----------------------+------------------+------------------+-----------------+-----------------+------------------+--------------------+-------------------------+------------------------+-------------------------------+---------------------+-------------------------+-------------------------+-----------------+------------------+-------------------+--------------------------+----------------------+---------------------+------------------------+---------------------------+--------------+---------------------+-----------------------+--------------------------+------------------------+-------------------------------+--------------------+---------------------------+------------------------------+------------------------+------------------------------+------------------------------+---------------------+----------------------------+-----------------------------+--------------------------+-----------------------+------------------------------+-------------------+--------------------------+-------------------------+----------------------------+---------------------+--------------------+-----------------+-------------+---------------+------------+----------------------------+---------------------------+---------------------------+-------------------------------+-------------------------------+-------------------------------+-----------+----------------------+--------------------------+-----------------------------+-------------------------+-----------+-------------------+--------------------+-------------------------+----------------------------+------------+-----------------+------------------------+------------------+--------------+---------------+\n",
      "|      0|                   NULL|                          NULL|      1917.6|                 0.0|                0.0|                 0.0|                  0.0|                 0.0|                 0.0|                 0.0|                     NULL|                    NULL|                     NULL|                       NULL|                     NULL|                     NULL|                    NULL|                          NULL|                  NULL|            NULL|        NULL|                   0.0|                  0.0|                  0.0|            0.0|             0.0|             0.0|             0.0|           NULL|            0.0|            0.0|            0.0|            0.0|            0.0|            0.0|            0.0|            0.0|                    NULL|              NULL|                     0.0|        30000.0|          CAL|         0.0|                       0.0|                NULL|                    NULL|                   NULL|                           NULL|                  0.0|                  30000.0|                 GBA|         0.0|                     NULL|    0.45|                      NULL|               NULL|                  NULL|             NULL|            0.0|                      NULL|                    CASH|             0.45|                 NULL|             false|                    NULL|            NULL|                  NULL|                    NULL|                  a55475b1|                       a55475b1|                   NULL|             NULL|             a55475b1|               NULL|                  NULL|             NULL|                    NULL|                   a55475b1|                      a55475b1|                     NULL|              NULL|             a55475b1|                       a55475b1|                 NULL|       NULL|        NULL|                       0.0|                  0.0|            0.0|               NULL|                    NULL|                        NULL|                       NULL|          0.0|                       0.0|                    NULL|                   NULL|               0.0|               0.0|              0.0|              0.0|               0.0|                 0.0|                     NULL|                    NULL|                           NULL|                 NULL|                     NULL|                     NULL|              1.0|              NULL|                0.0|                       0.0|                   0.0|                  0.0|                    NULL|                       NULL|           0.0|                 NULL|                   NULL|                      NULL|                    NULL|                           NULL|                NULL|                       NULL|                          NULL|                    NULL|                          NULL|                          NULL|                 NULL|                        NULL|                         NULL|                      NULL|                   NULL|                          NULL|               NULL|                      NULL|                     NULL|                        NULL|                  0.0|                 0.0|              0.0|         NULL|          OTHER|       OTHER|                        NULL|                       NULL|                       NULL|                           NULL|                           NULL|                           NULL|       24.0|                   0.0|                       0.0|                         NULL|                 a55475b1|       NULL|                0.0|                 0.0|                     NULL|                        NULL|         0.0|              0.0|                    NULL|                BO|          NULL|           NULL|\n",
      "|      1|                   NULL|                          NULL|      3134.0|                 0.0|                0.0|                 0.0|                  0.0|                 0.0|                 0.0|                 0.0|                     NULL|                    NULL|                     NULL|                       NULL|                     NULL|                     NULL|                    NULL|                          NULL|                  NULL|            NULL|        NULL|                   0.0|                  0.0|                  0.0|            0.0|             0.0|             0.0|             0.0|            0.0|            3.0|            0.0|            0.0|            0.0|            0.0|            0.0|            0.0|            0.0|                    NULL|              NULL|                     0.0|        19999.8|          CAL|         0.0|                       0.0|                NULL|                    NULL|                   NULL|                           NULL|                  0.0|                  19999.8|                 GBA|         0.0|                     NULL|  0.2999|                      NULL|               NULL|                  NULL|             NULL|            0.0|                      NULL|                    CASH|           0.2999|                  0.0|             false|                    NULL|            NULL|                  NULL|                    NULL|                  a55475b1|                       a55475b1|                   NULL|             NULL|             a55475b1|               NULL|                  NULL|             NULL|                    NULL|                   a55475b1|                      a55475b1|                     NULL|              NULL|             a55475b1|                       a55475b1|                 NULL|       NULL|        NULL|                       0.0|                  0.0|            0.0|               NULL|                    NULL|                        NULL|                       NULL|          0.0|                       0.0|                    NULL|                   NULL|               0.0|               0.0|              0.0|              0.0|               0.0|                 0.0|                     NULL|                    NULL|                           NULL|                 NULL|                     NULL|                     NULL|              1.0|              NULL|                0.0|                       0.0|                   0.0|                  0.0|                    NULL|                       NULL|           0.0|                 NULL|                   NULL|                      NULL|                    NULL|                           NULL|                NULL|                       NULL|                          NULL|                    NULL|                          NULL|                          NULL|                 NULL|                        NULL|                         NULL|                      NULL|                   NULL|                          NULL|               NULL|                      NULL|                     NULL|                        NULL|                  0.0|                 0.0|              0.0|         NULL|          OTHER|       OTHER|                        NULL|                       NULL|                       NULL|                           NULL|                           NULL|                           NULL|       18.0|                   0.0|                       0.0|                         NULL|                 a55475b1|       NULL|                0.0|                 0.0|                     NULL|                        NULL|         0.0|              0.0|                    NULL|                BO|          NULL|           NULL|\n",
      "|      2|                   NULL|                          NULL|      4937.0|                 0.0|                0.0|                 0.0|                  0.0|                 0.0|                 0.0|                 0.0|                     NULL|                    NULL|                     NULL|                       NULL|                     NULL|                     NULL|                    NULL|                          NULL|                  NULL|            NULL|        NULL|                   0.0|                  0.0|                  0.0|            0.0|             0.0|             0.0|             0.0|           NULL|            0.0|            0.0|            0.0|            0.0|            0.0|            0.0|            0.0|            0.0|                    NULL|              NULL|                    NULL|        78000.0|          CAL|         0.0|                       0.0|                NULL|                    NULL|                   NULL|                           NULL|                  0.0|                  78000.0|                 GBA|         0.0|                     NULL|    0.45|                      NULL|               NULL|                  NULL|             NULL|            1.0|                      NULL|                    CASH|             0.45|                 NULL|             false|                    NULL|            NULL|                  NULL|              2013-04-03|                  a55475b1|                       a55475b1|                   NULL|             NULL|             a55475b1|               NULL|                  NULL|             NULL|                    NULL|                   a55475b1|                      a55475b1|                  10000.0|        2013-04-03|             a55475b1|                       a55475b1|                 NULL|          D|        NULL|                       0.0|                  0.0|            0.0|               NULL|                    NULL|                        NULL|                       NULL|          0.0|                      NULL|                    NULL|                   NULL|               0.0|               0.0|              0.0|              0.0|               0.0|                 0.0|                     NULL|                    NULL|                           NULL|                 NULL|                     NULL|                     NULL|              2.0|              NULL|                0.0|                       0.0|                   0.0|                  0.0|                    NULL|                       NULL|           0.0|                 NULL|                   NULL|                      NULL|                    NULL|                           NULL|                NULL|                       NULL|                          NULL|                    NULL|                          NULL|                          NULL|                 NULL|                        NULL|                         NULL|                      NULL|                   NULL|                          NULL|               NULL|                      NULL|                     NULL|                        NULL|                  0.0|                 0.0|              0.0|        false|          OTHER|       OTHER|                        NULL|                       NULL|                       NULL|                           NULL|                           NULL|                           NULL|       36.0|                   0.0|                       0.0|                         NULL|                 a55475b1|       NULL|                0.0|                 0.0|                     NULL|                        NULL|         0.0|              0.0|                    NULL|                BO|            AL|           NULL|\n",
      "|      3|                   NULL|                          NULL|      4643.6|                 0.0|                0.0|                 1.0|                  0.0|                 2.0|                 0.0|                 1.0|                     NULL|                    NULL|                     NULL|                       NULL|                     NULL|                     NULL|                    NULL|                          NULL|                  NULL|            NULL|        NULL|                   0.0|                  0.0|                  0.0|            0.0|             0.0|             0.0|             1.0|           NULL|            0.0|            0.0|            0.0|            0.0|            0.0|            0.0|            0.0|            0.0|                    NULL|              NULL|                     0.0|        40000.0|          CAL|         0.0|                       0.0|                NULL|                    NULL|                   NULL|                           NULL|                  0.0|                  40000.0|                 GBA|         0.0|                     NULL|    0.42|                      true|               true|                  NULL|             NULL|            0.0|                      NULL|                    CASH|             0.42|                  0.0|             false|                    NULL|            NULL|                  NULL|              2019-01-07|                  a55475b1|                       a55475b1|                   NULL|             NULL|          P94_109_143|               NULL|                  NULL|             NULL|                    NULL|                   a55475b1|                      a55475b1|                  59999.8|        2019-01-07|          P94_109_143|                       a55475b1|                 NULL|          D|        NULL|                       0.0|                  0.0|            0.0|               NULL|                    NULL|                        NULL|                       NULL|          0.0|                       0.0|                    NULL|                   NULL|               0.0|               0.0|              0.0|              0.0|               0.0|                 0.0|                     NULL|                    NULL|                           NULL|                 NULL|                     NULL|                     NULL|              1.0|              NULL|                0.0|                       0.0|                   0.0|                  1.0|                    NULL|                       NULL|           0.0|                 NULL|                   NULL|                      NULL|                    NULL|                           NULL|                NULL|                       NULL|                          NULL|                    NULL|                          NULL|                          NULL|                 NULL|                        NULL|                         NULL|                      NULL|                   NULL|                          NULL|               NULL|                      NULL|                     NULL|                        NULL|                  0.0|                 0.0|              1.0|        false|          OTHER|       OTHER|                        NULL|                       NULL|                       NULL|                           NULL|                           NULL|                           NULL|       12.0|                   0.0|                       0.0|                         NULL|                 a55475b1|       NULL|                1.0|                 1.0|                     NULL|                        NULL|         0.0|              0.0|                    NULL|                BO|            AL|           NULL|\n",
      "|      4|                   NULL|                          NULL|      3390.2|                 0.0|                0.0|                 1.0|                  0.0|                 0.0|                 0.0|                 1.0|                     NULL|                    NULL|                     NULL|                       NULL|                     NULL|                     NULL|                    NULL|                          NULL|                  NULL|            NULL|        NULL|                   0.0|                  0.0|                  0.0|            0.0|             0.0|             0.0|             0.0|           NULL|            0.0|            0.0|            0.0|            0.0|            0.0|            0.0|            0.0|            0.0|                    NULL|              NULL|                     0.0|        44000.0|          CAL|         0.0|                       0.0|                NULL|                    NULL|                   NULL|                           NULL|                  0.0|                  44000.0|                 GBA|         0.0|                     NULL|    0.45|                      NULL|               NULL|                  NULL|             NULL|            1.0|                      NULL|                    CASH|             0.45|                 NULL|             false|                    NULL|            NULL|                  NULL|              2019-01-08|                  a55475b1|                       a55475b1|                   NULL|             NULL|            P24_27_36|               NULL|                  NULL|             NULL|                    NULL|                   a55475b1|                      a55475b1|                     NULL|              NULL|             a55475b1|                       a55475b1|                 NULL|          T|        NULL|                       0.0|                  0.0|            0.0|               NULL|                    NULL|                        NULL|                       NULL|          0.0|                       0.0|                    NULL|                   NULL|               0.0|               0.0|              0.0|              0.0|               0.0|                 0.0|                     NULL|                    NULL|                           NULL|                 NULL|                     NULL|                     NULL|              1.0|              NULL|                0.0|                       0.0|                   0.0|                  0.0|                    NULL|                       NULL|           0.0|                 NULL|                   NULL|                      NULL|                    NULL|                           NULL|                NULL|                       NULL|                          NULL|                    NULL|                          NULL|                          NULL|                 NULL|                        NULL|                         NULL|                      NULL|                   NULL|                          NULL|               NULL|                      NULL|                     NULL|                        NULL|                  0.0|                 0.0|              0.0|        false|          OTHER|       OTHER|                        NULL|                       NULL|                       NULL|                           NULL|                           NULL|                           NULL|       24.0|                   0.0|                       0.0|                         NULL|                 a55475b1|       NULL|                0.0|                 0.0|                     NULL|                        NULL|         0.0|              0.0|                    NULL|                BO|            AL|           NULL|\n",
      "|      5|                   NULL|                          NULL|      3600.0|                 0.0|                0.0|                 1.0|                  0.0|                 8.0|                 2.0|                 1.0|                     NULL|                    NULL|                     NULL|                       NULL|                     NULL|                     NULL|                    NULL|                          NULL|                  NULL|            NULL|     INSTANT|                   0.0|                  0.0|                  0.0|            0.0|             0.0|             0.0|             0.0|           NULL|            0.0|            0.0|            0.0|            0.0|            0.0|            0.0|            2.0|            0.0|                    NULL|              NULL|                    NULL|        60000.0|          REL|         0.0|                       0.0|                NULL|                    NULL|                   NULL|                           NULL|                  0.0|                      0.0|                  DD|         0.0|                     NULL|    NULL|                      NULL|               NULL|                  NULL|             NULL|            0.0|                       0.0|                     NDF|             NULL|                 NULL|             false|                    NULL|           false|                  NULL|              2019-01-16|                  a55475b1|                       a55475b1|                   NULL|             NULL|          P85_114_140|               NULL|                  NULL|             NULL|                    NULL|                   a55475b1|                      a55475b1|                     NULL|              NULL|             a55475b1|                       a55475b1|                 NULL|          T|        NULL|                      NULL|                 NULL|           NULL|               NULL|                    NULL|                        NULL|                       NULL|         NULL|                      NULL|                    NULL|                   NULL|              NULL|              NULL|             NULL|             NULL|              NULL|                NULL|                     NULL|                    NULL|                           NULL|                 NULL|                     NULL|                     NULL|              1.0|              NULL|                0.0|                       0.0|                   1.0|                  0.0|                    NULL|                       NULL|           0.0|                 NULL|                   NULL|                      NULL|                    NULL|                           NULL|                NULL|                       NULL|                          NULL|                    NULL|                          NULL|                          NULL|                 NULL|                        NULL|                         NULL|                      NULL|                   NULL|                          NULL|               NULL|                      NULL|                     NULL|                        NULL|                  0.0|                 0.0|              0.0|        false|          OTHER|       OTHER|                        NULL|                       NULL|                       NULL|                           NULL|                           NULL|                           NULL|       NULL|                   0.0|                       0.0|                          0.0|                 a55475b1|       NULL|                1.0|                 1.0|                     NULL|                        NULL|         0.0|              0.0|                    NULL|                FO|          NULL|           NULL|\n",
      "|      6|                    0.0|                          NULL|      3110.8|                 0.0|                0.0|                 0.0|                  0.0|                 0.0|                 0.0|                 1.0|                     NULL|                    NULL|                     NULL|                       NULL|                     NULL|                     NULL|                    NULL|                          NULL|                  NULL|              CA|        NULL|                   0.0|                  0.0|                  0.0|            0.0|             0.0|             0.0|             1.0|           NULL|            0.0|            0.0|            0.0|            0.0|            0.0|            0.0|            1.0|            0.0|                    NULL|              NULL|                    NULL|        20000.0|          CAL|         0.0|                       0.0|                NULL|                    NULL|                   NULL|                           NULL|                  0.0|                  20000.0|                 GBA|         0.0|                     NULL|    0.45|                      NULL|               NULL|                  NULL|             NULL|            0.0|                      NULL|                    CASH|             0.45|                 NULL|             false|                   false|            NULL|                  NULL|              2018-09-12|                  a55475b1|                       a55475b1|                   NULL|             NULL|          P94_109_143|               NULL|                  NULL|             NULL|                    NULL|                   a55475b1|                      a55475b1|                  15980.0|        2018-09-12|          P94_109_143|                       a55475b1|                 NULL|          D|        NULL|                       0.0|                  0.0|            0.0|               NULL|                    NULL|                        NULL|                       NULL|          0.0|                      NULL|                    NULL|                   NULL|               0.0|               0.0|              0.0|              0.0|               0.0|                 0.0|                     NULL|                    NULL|                           NULL|                 NULL|                     NULL|                     NULL|              3.0|              NULL|                0.0|                       0.0|                   0.0|                  0.0|                    NULL|                       NULL|           0.0|                 NULL|                   NULL|                      NULL|                    NULL|                           NULL|                NULL|                       NULL|                          NULL|                    NULL|                          NULL|                          NULL|                 NULL|                        NULL|                         NULL|                      NULL|                   NULL|                          NULL|               NULL|                      NULL|                     NULL|                        NULL|                  0.0|                 0.0|              1.0|        false|          OTHER|       OTHER|                        NULL|                       NULL|                       NULL|                           NULL|                           NULL|                           NULL|       12.0|                   0.0|                       0.0|                          0.0|                 a55475b1|       NULL|                0.0|                 1.0|                     NULL|                        NULL|         0.0|              0.0|                    NULL|                FO|          NULL|           NULL|\n",
      "|      7|                   NULL|                          NULL|      1218.0|                 0.0|                0.0|                 0.0|                  0.0|                 1.0|                 1.0|                 0.0|                     NULL|                    NULL|                     NULL|                       NULL|                     NULL|                     NULL|                    NULL|                          NULL|                  NULL|            NULL|     INSTANT|                   0.0|                  0.0|                  0.0|            0.0|             0.0|             0.0|             0.0|           NULL|            0.0|            0.0|            0.0|            0.0|            0.0|            0.0|            0.0|            0.0|                    NULL|              NULL|                    NULL|        20300.0|          REL|         0.0|                       0.0|                NULL|                    NULL|                   NULL|                           NULL|                  0.0|                      0.0|                  DD|         0.0|                     NULL|    NULL|                      NULL|               NULL|                  NULL|             NULL|            0.0|                       0.0|                     NDF|             NULL|                 NULL|             false|                    NULL|           false|                  NULL|                    NULL|                  a55475b1|                       a55475b1|                   NULL|             NULL|             a55475b1|               NULL|                  NULL|             NULL|                    NULL|                   a55475b1|                      a55475b1|                     NULL|              NULL|             a55475b1|                       a55475b1|                 NULL|       NULL|        NULL|                      NULL|                 NULL|           NULL|               NULL|                    NULL|                        NULL|                       NULL|         NULL|                      NULL|                    NULL|                   NULL|              NULL|              NULL|             NULL|             NULL|              NULL|                NULL|                     NULL|                    NULL|                           NULL|                 NULL|                     NULL|                     NULL|              1.0|              NULL|                0.0|                       0.0|                   1.0|                  0.0|                    NULL|                       NULL|           0.0|                 NULL|                   NULL|                      NULL|                    NULL|                           NULL|                NULL|                       NULL|                          NULL|                    NULL|                          NULL|                          NULL|                 NULL|                        NULL|                         NULL|                      NULL|                   NULL|                          NULL|               NULL|                      NULL|                     NULL|                        NULL|                  0.0|                 0.0|              0.0|         NULL|          OTHER|       OTHER|                        NULL|                       NULL|                       NULL|                           NULL|                           NULL|                           NULL|       NULL|                   0.0|                       0.0|                          0.0|                 a55475b1|       NULL|                0.0|                 0.0|                     NULL|                        NULL|         0.0|              0.0|                    NULL|                FO|            AL|           NULL|\n",
      "|      8|                   NULL|                          NULL|      8254.8|                 0.0|                0.0|                 0.0|                  0.0|                 0.0|                 0.0|                 0.0|                     NULL|                    NULL|                     NULL|                       NULL|                     NULL|                     NULL|                    NULL|                          NULL|                  NULL|              CA|        NULL|                   0.0|                  0.0|                  0.0|            1.0|             0.0|             0.0|             0.0|           NULL|            0.0|            0.0|            0.0|            0.0|            0.0|            0.0|            0.0|            0.0|                    NULL|              NULL|                    NULL|        40000.0|          CAL|         0.0|                       0.0|                NULL|                    NULL|                   NULL|                           NULL|                  0.0|                  40000.0|                 GBA|         0.0|                     NULL|    0.45|                      NULL|               NULL|                  NULL|             NULL|            0.0|                      NULL|                    CASH|             0.45|                 NULL|             false|                    NULL|            NULL|                  NULL|                    NULL|                  a55475b1|                       a55475b1|                   NULL|             NULL|             a55475b1|               NULL|                  NULL|             NULL|                    NULL|                   a55475b1|                      a55475b1|                     NULL|              NULL|             a55475b1|                       a55475b1|                 NULL|       NULL|        NULL|                      NULL|                 NULL|           NULL|               NULL|                    NULL|                        NULL|                       NULL|         NULL|                      NULL|                    NULL|                   NULL|              NULL|              NULL|             NULL|             NULL|              NULL|                NULL|                     NULL|                    NULL|                           NULL|                 NULL|                     NULL|                     NULL|              1.0|              NULL|                0.0|                       0.0|                   0.0|                  0.0|                    NULL|                       NULL|           0.0|                 NULL|                   NULL|                      NULL|                    NULL|                           NULL|                NULL|                       NULL|                          NULL|                    NULL|                          NULL|                          NULL|                 NULL|                        NULL|                         NULL|                      NULL|                   NULL|                          NULL|               NULL|                      NULL|                     NULL|                        NULL|                  0.0|                 0.0|              0.0|         NULL|          OTHER|       OTHER|                        NULL|                       NULL|                       NULL|                           NULL|                           NULL|                           NULL|        6.0|                   0.0|                       0.0|                          0.0|                 a55475b1|       NULL|                0.0|                 0.0|                     NULL|                        NULL|         0.0|              0.0|                    NULL|                FO|            AL|           NULL|\n",
      "|      9|                   NULL|                          NULL|      4929.4|                 0.0|                0.0|                 0.0|                  0.0|                 0.0|                 0.0|                 0.0|                     NULL|                    NULL|                     NULL|                       NULL|                     NULL|                     NULL|                    NULL|                          NULL|                  NULL|              CA|        NULL|                   0.0|                  0.0|                  0.0|            0.0|             0.0|             0.0|             0.0|           NULL|            0.0|            0.0|            0.0|            0.0|            0.0|            1.0|            0.0|            0.0|                    NULL|              NULL|                    NULL|        64000.0|          CAL|         0.0|                       0.0|                NULL|                    NULL|                   NULL|                           NULL|                  0.0|                  64000.0|                 GBA|         0.0|                     NULL|    0.45|                      NULL|               NULL|                  NULL|             NULL|            0.0|                      NULL|                    CASH|             0.45|                 NULL|             false|                    NULL|            NULL|                  NULL|                    NULL|                  a55475b1|                       a55475b1|                   NULL|             NULL|             a55475b1|               NULL|                  NULL|             NULL|                    NULL|                   a55475b1|                      a55475b1|                     NULL|              NULL|             a55475b1|                       a55475b1|                 NULL|       NULL|        NULL|                      NULL|                 NULL|           NULL|               NULL|                    NULL|                        NULL|                       NULL|         NULL|                      NULL|                    NULL|                   NULL|              NULL|              NULL|             NULL|             NULL|              NULL|                NULL|                     NULL|                    NULL|                           NULL|                 NULL|                     NULL|                     NULL|              1.0|              NULL|                0.0|                       0.0|                   0.0|                  0.0|                    NULL|                       NULL|           0.0|                 NULL|                   NULL|                      NULL|                    NULL|                           NULL|                NULL|                       NULL|                          NULL|                    NULL|                          NULL|                          NULL|                 NULL|                        NULL|                         NULL|                      NULL|                   NULL|                          NULL|               NULL|                      NULL|                     NULL|                        NULL|                  0.0|                 0.0|              0.0|         NULL|          OTHER|       OTHER|                        NULL|                       NULL|                       NULL|                           NULL|                           NULL|                           NULL|       30.0|                   0.0|                       0.0|                          0.0|                 a55475b1|       NULL|                0.0|                 0.0|                     NULL|                        NULL|         0.0|              0.0|                    NULL|                FO|            AL|           NULL|\n",
      "|     10|                   NULL|                          NULL|    9568.601|                 0.0|                0.0|                 1.0|                  0.0|                 0.0|                 0.0|                 1.0|                     NULL|                    NULL|                     NULL|                       NULL|                     NULL|                     NULL|                    NULL|                          NULL|                  NULL|              CA|        NULL|                   0.0|                  0.0|                  0.0|            0.0|             0.0|             0.0|             1.0|           NULL|            0.0|            0.0|            0.0|            0.0|            0.0|            0.0|            0.0|            0.0|                    NULL|              NULL|                     0.0|       100000.0|          CAL|         0.0|                       0.0|                NULL|                    NULL|                   NULL|                           NULL|                  0.0|                 100000.0|                 GBA|         0.0|                     NULL|    0.45|                      true|               NULL|                  NULL|             NULL|            0.0|                      NULL|                    CASH|             0.45|                 NULL|             false|                    NULL|            NULL|                  NULL|              2019-01-11|                  a55475b1|                       a55475b1|               100000.0|       2019-01-11|          P73_130_169|               NULL|                  NULL|             NULL|                    NULL|                   a55475b1|                      a55475b1|                     NULL|              NULL|             a55475b1|                       a55475b1|                 NULL|          T|        NULL|                       0.0|                  0.0|            0.0|               NULL|                    NULL|                        NULL|                       NULL|          0.0|                       0.0|                    NULL|                   NULL|               0.0|               0.0|              0.0|              0.0|               0.0|                 0.0|                     NULL|                    NULL|                           NULL|                 NULL|                     NULL|                     NULL|              1.0|              NULL|                0.0|                       0.0|                   0.0|                  1.0|                    NULL|                        0.0|           0.0|                  0.0|                   NULL|                      NULL|                    NULL|                           NULL|                NULL|                        0.0|                          NULL|                    NULL|                          NULL|                          NULL|                 NULL|                        NULL|                         NULL|                      NULL|                   NULL|                          NULL|               NULL|                      NULL|                     NULL|                        NULL|                  0.0|                 0.0|              0.0|         true|          OTHER|       OTHER|                        NULL|                       NULL|                       NULL|                           NULL|                           NULL|                           NULL|       24.0|                   0.0|                       0.0|                          0.0|                 a55475b1|       NULL|                0.0|                 0.0|                      0.0|                        NULL|         0.0|              0.0|                    NULL|                FO|          NULL|           NULL|\n",
      "|     11|                   NULL|                          NULL|      4471.0|                 0.0|                0.0|                 0.0|                  0.0|                 2.0|                 0.0|                 0.0|                     NULL|                    NULL|                     NULL|                       NULL|                     NULL|                     NULL|                    NULL|                          NULL|                  NULL|              CA|        NULL|                   0.0|                  0.0|                  0.0|            0.0|             0.0|             0.0|             0.0|           NULL|            0.0|            0.0|            0.0|            0.0|            0.0|            0.0|            0.0|            0.0|                    NULL|              NULL|                    NULL|        70000.0|          CAL|         0.0|                       0.0|                NULL|                    NULL|                   NULL|                           NULL|                  0.0|                  70000.0|                 GBA|         0.0|                     NULL|    0.45|                      NULL|               NULL|                  NULL|             NULL|            0.0|                      NULL|                    CASH|             0.45|                 NULL|             false|                    NULL|            NULL|                  NULL|                    NULL|                  a55475b1|                       a55475b1|                   NULL|             NULL|             a55475b1|               NULL|                  NULL|             NULL|                    NULL|                   a55475b1|                      a55475b1|                     NULL|              NULL|             a55475b1|                       a55475b1|                 NULL|       NULL|        NULL|                      NULL|                 NULL|           NULL|               NULL|                    NULL|                        NULL|                       NULL|         NULL|                      NULL|                    NULL|                   NULL|              NULL|              NULL|             NULL|             NULL|              NULL|                NULL|                     NULL|                    NULL|                           NULL|                 NULL|                     NULL|                     NULL|              1.0|              NULL|                0.0|                       0.0|                   0.0|                  0.0|                    NULL|                       NULL|           0.0|                 NULL|                   NULL|                      NULL|                    NULL|                           NULL|                NULL|                       NULL|                          NULL|                    NULL|                          NULL|                          NULL|                 NULL|                        NULL|                         NULL|                      NULL|                   NULL|                          NULL|               NULL|                      NULL|                     NULL|                        NULL|                  0.0|                 0.0|              0.0|         NULL|          OTHER|       OTHER|                        NULL|                       NULL|                       NULL|                           NULL|                           NULL|                           NULL|       24.0|                   0.0|                      NULL|                         NULL|                 a55475b1|       NULL|                0.0|                 0.0|                     NULL|                        NULL|         0.0|              0.0|                    NULL|                FO|            AL|           NULL|\n",
      "|     12|                   NULL|                          NULL|      5215.2|                 0.0|                0.0|                 0.0|                 18.0|                 0.0|                 0.0|                 0.0|                     NULL|                    NULL|                     NULL|                       NULL|                     NULL|                     NULL|                    NULL|                          NULL|                  NULL|              CA|        NULL|                   0.0|                  0.0|                  0.0|            0.0|             0.0|             0.0|             0.0|           NULL|            0.0|            0.0|            1.0|            0.0|            0.0|            0.0|            1.0|            0.0|                    NULL|              NULL|                    NULL|        40000.0|          CAL|         0.0|                       0.0|                NULL|                    NULL|                   NULL|                           NULL|                  0.0|                  40000.0|                 GBA|         0.0|                     NULL|    0.45|                      NULL|               NULL|                  NULL|             NULL|            1.0|                      NULL|                    CASH|             0.45|                 NULL|             false|                    NULL|            NULL|                  NULL|                    NULL|                  a55475b1|                       a55475b1|                   NULL|             NULL|             a55475b1|               NULL|                  NULL|             NULL|                    NULL|                   a55475b1|                      a55475b1|                     NULL|              NULL|             a55475b1|                       a55475b1|                 NULL|       NULL|        NULL|                      NULL|                 NULL|           NULL|               NULL|                    NULL|                        NULL|                       NULL|         NULL|                      NULL|                    NULL|                   NULL|              NULL|              NULL|             NULL|             NULL|              NULL|                NULL|                     NULL|                    NULL|                           NULL|                 NULL|                     NULL|                     NULL|              1.0|              NULL|                0.0|                       0.0|                   0.0|                  0.0|                    NULL|                       NULL|           0.0|                 NULL|                   NULL|                      NULL|                    NULL|                           NULL|                NULL|                       NULL|                          NULL|                    NULL|                          NULL|                          NULL|                 NULL|                        NULL|                         NULL|                      NULL|                   NULL|                          NULL|               NULL|                      NULL|                     NULL|                        NULL|                  0.0|                 0.0|              0.0|         NULL|          OTHER|       OTHER|                        NULL|                       NULL|                       NULL|                           NULL|                           NULL|                           NULL|       12.0|                   0.0|                       0.0|                          0.0|                 a55475b1|       NULL|                0.0|                 0.0|                     NULL|                        NULL|         0.0|              0.0|                    NULL|                FO|            AL|           NULL|\n",
      "|     13|                   NULL|                          NULL|      3794.2|                 0.0|                0.0|                 0.0|                  0.0|                 0.0|                 0.0|                 2.0|                     NULL|                    NULL|                     NULL|                       NULL|                     NULL|                     NULL|                    NULL|                          NULL|                  NULL|              CA|        NULL|                   0.0|                  0.0|                  0.0|            0.0|             0.0|             0.0|             0.0|           NULL|            0.0|            0.0|            0.0|            0.0|            0.0|            0.0|            0.0|            0.0|                    NULL|              NULL|                    NULL|        44000.0|          CAL|         0.0|                       0.0|                NULL|                    NULL|                   NULL|                           NULL|                  0.0|                  44000.0|                 GBA|         0.0|                     NULL|    0.45|                      NULL|               NULL|                  NULL|             NULL|            1.0|                      NULL|                    CASH|             0.45|                 NULL|             false|                    NULL|            NULL|                  NULL|              2018-08-20|                  a55475b1|                       a55475b1|                   NULL|             NULL|          P94_109_143|               NULL|                  NULL|             NULL|                    NULL|                   a55475b1|                      a55475b1|                  40000.0|        2018-08-20|          P94_109_143|                       a55475b1|                 NULL|          D|        NULL|                       0.0|                  0.0|            0.0|               NULL|                    NULL|                        NULL|                       NULL|          0.0|                      NULL|                    NULL|                   NULL|               0.0|               0.0|              0.0|              0.0|               0.0|                 0.0|                     NULL|                    NULL|                           NULL|                 NULL|                     NULL|                     NULL|              2.0|              NULL|                0.0|                       0.0|                   0.0|                  0.0|                    NULL|                       NULL|           0.0|                 NULL|                   NULL|                      NULL|                    NULL|                           NULL|                NULL|                       NULL|                          NULL|                    NULL|                          NULL|                          NULL|                 NULL|                        NULL|                         NULL|                      NULL|                   NULL|                          NULL|               NULL|                      NULL|                     NULL|                        NULL|                  0.0|                 0.0|              1.0|        false|          OTHER|       OTHER|                        NULL|                       NULL|                       NULL|                           NULL|                           NULL|                           NULL|       24.0|                   0.0|                       0.0|                          0.0|                 a55475b1|       NULL|                0.0|                 0.0|                     NULL|                        NULL|         0.0|              0.0|                    NULL|                FO|            AL|           NULL|\n",
      "|     14|                    0.0|                          NULL|      2484.8|                 0.0|                0.0|                 0.0|                  2.0|                 0.0|                 0.0|                 2.0|                     -4.0|                    NULL|                     NULL|                        0.0|                   4178.0|                     NULL|                     0.0|                          NULL|                  NULL|              CA|        NULL|                   0.0|                  0.0|                  0.0|            0.0|             0.0|             0.0|             0.0|           NULL|            0.0|            0.0|            1.0|            0.0|            0.0|            0.0|            1.0|            0.0|                     3.0|               3.0|                     0.0|        20000.0|          CAL|         0.0|                       0.0|                NULL|                    NULL|                   NULL|                            0.0|                  0.0|                  20000.0|                 GBA|         0.0|                     NULL|    0.45|                      NULL|               NULL|                  NULL|       2018-11-10|            2.0|                      NULL|                    CASH|             0.45|                 NULL|             false|                    NULL|            NULL|            2018-10-19|              2018-12-12|               P159_130_59|                       a55475b1|                11994.0|       2018-10-11|            P30_86_84|               NULL|                  NULL|             NULL|                    NULL|                P100_96_175|                      a55475b1|                   6000.0|        2018-12-12|            P30_86_84|                       a55475b1|                 NULL|          D|     50000.0|                       0.0|                  0.0|         4200.0|               NULL|                     0.0|                         0.0|                       NULL|          0.0|                       0.0|                    NULL|                   NULL|               0.0|               0.0|              0.0|              0.0|               0.0|                 0.0|                   4178.0|                    NULL|                           NULL|                 NULL|                     -7.0|                     NULL|              2.0|               3.0|                0.0|                       0.0|                   0.0|                  1.0|                     3.0|                        2.0|           0.0|                  3.0|                    0.0|                      NULL|                     4.0|                           NULL|                NULL|                        2.0|                          NULL|                     2.0|                          NULL|                          NULL|                  2.0|                        NULL|                         NULL|                       0.0|                    3.0|                          NULL|                0.0|                      NULL|                      0.0|                        NULL|                  0.0|                 0.0|              1.0|        false|          OTHER|       OTHER|                        NULL|                    0.66667|                        0.0|                            0.0|                            0.0|                            0.0|       12.0|                   0.0|                       0.0|                          0.0|             P205_129_155|       NULL|                1.0|                 2.0|                      0.0|                        NULL|         0.0|          12560.0|                    NULL|                FO|            AL|           NULL|\n",
      "|     15|                   NULL|                          NULL|      6191.0|                 0.0|                0.0|                 0.0|                  6.0|                 1.0|                 0.0|                 0.0|                     NULL|                    NULL|                     NULL|                       NULL|                     NULL|                     NULL|                    NULL|                          NULL|                  NULL|              CA|        NULL|                   0.0|                  0.0|                  0.0|            0.0|             0.0|             0.0|             0.0|           NULL|            0.0|            0.0|            2.0|            0.0|            0.0|            0.0|           12.0|            0.0|                    NULL|              NULL|                    NULL|        30000.0|          CAL|         0.0|                       0.0|                NULL|                    NULL|                   NULL|                           NULL|                  0.0|                  30000.0|                 GBA|         0.0|                     NULL|    0.45|                      NULL|               NULL|                  NULL|             NULL|            1.0|                      NULL|                    CASH|             0.45|                 NULL|             false|                    NULL|            NULL|                  NULL|                    NULL|                  a55475b1|                       a55475b1|                   NULL|             NULL|             a55475b1|               NULL|                  NULL|             NULL|                    NULL|                   a55475b1|                      a55475b1|                     NULL|              NULL|             a55475b1|                       a55475b1|                 NULL|       NULL|        NULL|                      NULL|                 NULL|           NULL|               NULL|                    NULL|                        NULL|                       NULL|         NULL|                      NULL|                    NULL|                   NULL|              NULL|              NULL|             NULL|             NULL|              NULL|                NULL|                     NULL|                    NULL|                           NULL|                 NULL|                     NULL|                     NULL|              1.0|              NULL|                0.0|                       0.0|                   0.0|                  0.0|                    NULL|                       NULL|           0.0|                 NULL|                   NULL|                      NULL|                    NULL|                           NULL|                NULL|                       NULL|                          NULL|                    NULL|                          NULL|                          NULL|                 NULL|                        NULL|                         NULL|                      NULL|                   NULL|                          NULL|               NULL|                      NULL|                     NULL|                        NULL|                  0.0|                 0.0|              0.0|         NULL|          OTHER|       OTHER|                        NULL|                       NULL|                       NULL|                           NULL|                           NULL|                           NULL|        6.0|                   0.0|                       0.0|                          0.0|                 a55475b1|       NULL|                0.0|                 0.0|                     NULL|                        NULL|         0.0|              0.0|                    NULL|                FO|            AL|           NULL|\n",
      "|     16|                   NULL|                          NULL|   3253.4001|                 0.0|                0.0|                 0.0|                  0.0|                 0.0|                 0.0|                 0.0|                     NULL|                    NULL|                     NULL|                       NULL|                     NULL|                     NULL|                    NULL|                          NULL|                  NULL|              CA|        NULL|                   0.0|                  0.0|                  0.0|            0.0|             0.0|             0.0|             0.0|           NULL|            0.0|            0.0|            0.0|            0.0|            0.0|            2.0|            0.0|            0.0|                    NULL|              NULL|                     0.0|        34000.0|          CAL|         0.0|                       0.0|                NULL|                    NULL|                   NULL|                           NULL|                  0.0|                  34000.0|                 GBA|         0.0|                     NULL|    0.45|                      NULL|               NULL|                  NULL|             NULL|            2.0|                      NULL|                    CASH|             0.45|                 NULL|             false|                    NULL|            NULL|                  NULL|              2018-04-09|                  a55475b1|                       a55475b1|                   NULL|             NULL|          P94_109_143|               NULL|                  NULL|             NULL|                    NULL|                   a55475b1|                      a55475b1|                  40000.0|        2018-04-09|          P94_109_143|                       a55475b1|                 NULL|          D|        NULL|                       0.0|                  0.0|            0.0|               NULL|                    NULL|                        NULL|                       NULL|          0.0|                       0.0|                    NULL|                   NULL|               0.0|               0.0|              0.0|              0.0|               0.0|                 0.0|                     NULL|                    NULL|                           NULL|                 NULL|                     NULL|                     NULL|              2.0|              NULL|                0.0|                       0.0|                   0.0|                  0.0|                    NULL|                       NULL|           0.0|                 NULL|                   NULL|                      NULL|                    NULL|                           NULL|                NULL|                       NULL|                          NULL|                    NULL|                          NULL|                          NULL|                 NULL|                        NULL|                         NULL|                      NULL|                   NULL|                          NULL|               NULL|                      NULL|                     NULL|                        NULL|                  0.0|                 0.0|              0.0|        false|          OTHER|       OTHER|                        NULL|                       NULL|                       NULL|                           NULL|                           NULL|                           NULL|       18.0|                   0.0|                       0.0|                          0.0|                 a55475b1|       NULL|                0.0|                 0.0|                     NULL|                        NULL|         0.0|              0.0|                    NULL|                FO|            AL|           NULL|\n",
      "|     17|                   NULL|                          NULL|      5109.6|                 0.0|                0.0|                 0.0|                  0.0|                 0.0|                 0.0|                 1.0|                     NULL|                    NULL|                     NULL|                       NULL|                     NULL|                     NULL|                    NULL|                          NULL|                  NULL|              CA|        NULL|                   0.0|                  0.0|                  0.0|            0.0|             0.0|             0.0|             0.0|           NULL|            1.0|            0.0|            0.0|            0.0|            0.0|            2.0|            0.0|            0.0|                    NULL|              NULL|                    NULL|        80000.0|          CAL|         0.0|                       0.0|                NULL|                    NULL|                   NULL|                           NULL|                  0.0|                  80000.0|                 GBA|         0.0|                     NULL|    0.45|                      NULL|               NULL|                  NULL|             NULL|            0.0|                      NULL|                    CASH|             0.45|                 NULL|             false|                    NULL|            NULL|                  NULL|              2017-12-03|                  a55475b1|                       a55475b1|                   NULL|             NULL|          P94_109_143|               NULL|                  NULL|             NULL|                    NULL|                  P53_45_92|                      a55475b1|                  43996.0|        2017-12-03|          P94_109_143|                       a55475b1|                 NULL|          D|        NULL|                       0.0|                  0.0|            0.0|               NULL|                    NULL|                        NULL|                       NULL|          0.0|                      NULL|                    NULL|                   NULL|               0.0|               0.0|              0.0|              0.0|               0.0|                 0.0|                     NULL|                    NULL|                           NULL|                 NULL|                     NULL|                     NULL|              1.0|              NULL|                0.0|                       0.0|                   0.0|                  0.0|                    NULL|                       NULL|           0.0|                 NULL|                   NULL|                      NULL|                    NULL|                           NULL|                NULL|                       NULL|                          NULL|                    NULL|                          NULL|                          NULL|                 NULL|                        NULL|                         NULL|                      NULL|                   NULL|                          NULL|               NULL|                      NULL|                     NULL|                        NULL|                  0.0|                 0.0|              0.0|        false|          OTHER|       OTHER|                        NULL|                       NULL|                       NULL|                           NULL|                           NULL|                           NULL|       24.0|                   0.0|                       0.0|                          0.0|                 a55475b1|       NULL|                0.0|                 1.0|                     NULL|                        NULL|         0.0|              0.0|                    NULL|                FO|            AL|           NULL|\n",
      "|     18|                   NULL|                          NULL|      2436.0|                 0.0|                0.0|                 1.0|                  0.0|                 1.0|                 0.0|                 1.0|                     NULL|                    NULL|                     NULL|                       NULL|                     NULL|                     NULL|                    NULL|                          NULL|                  NULL|            NULL|     INSTANT|                   0.0|                  0.0|                  0.0|            0.0|             0.0|             0.0|             1.0|           NULL|            0.0|            0.0|            0.0|            0.0|            0.0|            0.0|            1.0|            0.0|                    NULL|              NULL|                     0.0|        40600.0|          REL|         0.0|                       0.0|                NULL|                    NULL|                   NULL|                           NULL|                  0.0|                      0.0|                  DD|         0.0|                     NULL|    NULL|                      true|               true|                  NULL|             NULL|            0.0|                       0.0|                     NDF|             NULL|                 NULL|             false|                    NULL|           false|                  NULL|              2018-12-31|                  a55475b1|                       a55475b1|                40600.0|       2018-12-31|          P73_130_169|               NULL|                  NULL|             NULL|                    NULL|                   a55475b1|                      a55475b1|                     NULL|              NULL|             a55475b1|                       a55475b1|                 NULL|          T|        NULL|                       0.0|                  0.0|            0.0|               NULL|                    NULL|                        NULL|                       NULL|          0.0|                       0.0|                    NULL|                   NULL|               0.0|               0.0|              0.0|              0.0|               0.0|                 0.0|                     NULL|                    NULL|                           NULL|                 NULL|                     NULL|                     NULL|              1.0|              NULL|                0.0|                       0.0|                   1.0|                  1.0|                    NULL|                        0.0|           0.0|                  0.0|                   NULL|                      NULL|                    NULL|                           NULL|                NULL|                        0.0|                          NULL|                    NULL|                          NULL|                          NULL|                 NULL|                        NULL|                         NULL|                      NULL|                   NULL|                          NULL|               NULL|                      NULL|                     NULL|                        NULL|                  0.0|                 0.0|              0.0|        false|          OTHER|       OTHER|                        NULL|                       NULL|                       NULL|                           NULL|                           NULL|                           NULL|       NULL|                   0.0|                       0.0|                          0.0|                 a55475b1|       NULL|                0.0|                 0.0|                      0.0|                        NULL|         0.0|              0.0|                    NULL|                FO|          NULL|           NULL|\n",
      "|     19|                   NULL|                          NULL|      2581.0|                 0.0|                0.0|                 0.0|                  0.0|                 0.0|                 0.0|                 0.0|                     NULL|                    NULL|                     NULL|                       NULL|                     NULL|                     NULL|                    NULL|                          NULL|                  NULL|              CA|        NULL|                   0.0|                  0.0|                  0.0|            0.0|             0.0|             0.0|             0.0|           NULL|            0.0|            0.0|            0.0|            0.0|            0.0|            0.0|            0.0|            0.0|                    NULL|              NULL|                    NULL|        28000.0|          CAL|         0.0|                       0.0|                NULL|                    NULL|                   NULL|                           NULL|                  0.0|                  28000.0|                 GBA|         0.0|                     NULL|  0.2999|                      NULL|               NULL|                  NULL|             NULL|            0.0|                      NULL|                    CASH|           0.2999|                  0.0|             false|                    NULL|            NULL|                  NULL|                    NULL|                  a55475b1|                       a55475b1|                   NULL|             NULL|             a55475b1|               NULL|                  NULL|             NULL|                    NULL|                   a55475b1|                      a55475b1|                     NULL|              NULL|             a55475b1|                       a55475b1|                 NULL|       NULL|        NULL|                      NULL|                 NULL|           NULL|               NULL|                    NULL|                        NULL|                       NULL|         NULL|                      NULL|                    NULL|                   NULL|              NULL|              NULL|             NULL|             NULL|              NULL|                NULL|                     NULL|                    NULL|                           NULL|                 NULL|                     NULL|                     NULL|              1.0|              NULL|                0.0|                       0.0|                   0.0|                  0.0|                    NULL|                       NULL|           0.0|                 NULL|                   NULL|                      NULL|                    NULL|                           NULL|                NULL|                       NULL|                          NULL|                    NULL|                          NULL|                          NULL|                 NULL|                        NULL|                         NULL|                      NULL|                   NULL|                          NULL|               NULL|                      NULL|                     NULL|                        NULL|                  0.0|                 0.0|              0.0|         NULL|          OTHER|       OTHER|                        NULL|                       NULL|                       NULL|                           NULL|                           NULL|                           NULL|       18.0|                  NULL|                      NULL|                         NULL|                 a55475b1|       NULL|                0.0|                 0.0|                     NULL|                        NULL|         0.0|              0.0|                    NULL|                FO|          NULL|           NULL|\n",
      "+-------+-----------------------+------------------------------+------------+--------------------+-------------------+--------------------+---------------------+--------------------+--------------------+--------------------+-------------------------+------------------------+-------------------------+---------------------------+-------------------------+-------------------------+------------------------+------------------------------+----------------------+----------------+------------+----------------------+---------------------+---------------------+---------------+----------------+----------------+----------------+---------------+---------------+---------------+---------------+---------------+---------------+---------------+---------------+---------------+------------------------+------------------+------------------------+---------------+-------------+------------+--------------------------+--------------------+------------------------+-----------------------+-------------------------------+---------------------+-------------------------+--------------------+------------+-------------------------+--------+--------------------------+-------------------+----------------------+-----------------+---------------+--------------------------+------------------------+-----------------+---------------------+------------------+------------------------+----------------+----------------------+------------------------+--------------------------+-------------------------------+-----------------------+-----------------+---------------------+-------------------+----------------------+-----------------+------------------------+---------------------------+------------------------------+-------------------------+------------------+---------------------+-------------------------------+---------------------+-----------+------------+--------------------------+---------------------+---------------+-------------------+------------------------+----------------------------+---------------------------+-------------+--------------------------+------------------------+-----------------------+------------------+------------------+-----------------+-----------------+------------------+--------------------+-------------------------+------------------------+-------------------------------+---------------------+-------------------------+-------------------------+-----------------+------------------+-------------------+--------------------------+----------------------+---------------------+------------------------+---------------------------+--------------+---------------------+-----------------------+--------------------------+------------------------+-------------------------------+--------------------+---------------------------+------------------------------+------------------------+------------------------------+------------------------------+---------------------+----------------------------+-----------------------------+--------------------------+-----------------------+------------------------------+-------------------+--------------------------+-------------------------+----------------------------+---------------------+--------------------+-----------------+-------------+---------------+------------+----------------------------+---------------------------+---------------------------+-------------------------------+-------------------------------+-------------------------------+-----------+----------------------+--------------------------+-----------------------------+-------------------------+-----------+-------------------+--------------------+-------------------------+----------------------------+------------+-----------------+------------------------+------------------+--------------+---------------+\n",
      "only showing top 20 rows\n",
      "\n"
     ]
    }
   ],
   "source": [
    "parquet_file_path = CURRENT_DIRECTORY_NOTEBOOK / Path(\n",
    "    \"raw_main_dataset/home-credit-credit-risk-model-stability/parquet_files/train/train_static_0_0.parquet\"\n",
    ")\n",
    "\n",
    "spark = SparkSession.builder.appName(\"Parquet_File_Exploration_Static_0\").getOrCreate()\n",
    "\n",
    "df_static_0 = spark.read.parquet(str(parquet_file_path))\n",
    "df_static_0.show()"
   ]
  },
  {
   "cell_type": "code",
   "execution_count": 4,
   "metadata": {},
   "outputs": [
    {
     "name": "stderr",
     "output_type": "stream",
     "text": [
      "24/07/17 10:48:13 WARN SparkSession: Using an existing Spark session; only runtime SQL configurations will take effect.\n"
     ]
    },
    {
     "name": "stdout",
     "output_type": "stream",
     "text": [
      "+-------+-----------------------+------------------------------+------------+--------------------+-------------------+--------------------+---------------------+--------------------+--------------------+--------------------+-------------------------+------------------------+-------------------------+---------------------------+-------------------------+-------------------------+------------------------+------------------------------+----------------------+----------------+------------+----------------------+---------------------+---------------------+---------------+----------------+----------------+----------------+---------------+---------------+---------------+---------------+---------------+---------------+---------------+---------------+---------------+------------------------+------------------+------------------------+---------------+-------------+------------+--------------------------+--------------------+------------------------+-----------------------+-------------------------------+---------------------+-------------------------+--------------------+------------+-------------------------+--------+--------------------------+-------------------+----------------------+-----------------+---------------+--------------------------+------------------------+-----------------+---------------------+------------------+------------------------+----------------+----------------------+------------------------+--------------------------+-------------------------------+-----------------------+-----------------+---------------------+-------------------+----------------------+-----------------+------------------------+---------------------------+------------------------------+-------------------------+------------------+---------------------+-------------------------------+---------------------+-----------+------------+--------------------------+---------------------+---------------+-------------------+------------------------+----------------------------+---------------------------+-------------+--------------------------+------------------------+-----------------------+------------------+------------------+-----------------+-----------------+------------------+--------------------+-------------------------+------------------------+-------------------------------+---------------------+-------------------------+-------------------------+-----------------+------------------+-------------------+--------------------------+----------------------+---------------------+------------------------+---------------------------+--------------+---------------------+-----------------------+--------------------------+------------------------+-------------------------------+--------------------+---------------------------+------------------------------+------------------------+------------------------------+------------------------------+---------------------+----------------------------+-----------------------------+--------------------------+-----------------------+------------------------------+-------------------+--------------------------+-------------------------+----------------------------+---------------------+--------------------+-----------------+-------------+---------------+------------+----------------------------+---------------------------+---------------------------+-------------------------------+-------------------------------+-------------------------------+-----------+----------------------+--------------------------+-----------------------------+-------------------------+-----------+-------------------+--------------------+-------------------------+----------------------------+------------+-----------------+------------------------+------------------+--------------+---------------+\n",
      "|case_id|actualdpdtolerance_344P|amtinstpaidbefduel24m_4187115A|annuity_780A|annuitynextmonth_57A|applicationcnt_361L|applications30d_658L|applicationscnt_1086L|applicationscnt_464L|applicationscnt_629L|applicationscnt_867L|avgdbddpdlast24m_3658932P|avgdbddpdlast3m_4187120P|avgdbdtollast24m_4525197P|avgdpdtolclosure24_3658938P|avginstallast24m_3658937A|avglnamtstart24m_4525187A|avgmaxdpdlast9m_3716943P|avgoutstandbalancel6m_4187114A|avgpmtlast12m_4525200A|bankacctype_710L|cardtype_51L|clientscnt12m_3712952L|clientscnt3m_3712950L|clientscnt6m_3712949L|clientscnt_100L|clientscnt_1022L|clientscnt_1071L|clientscnt_1130L|clientscnt_136L|clientscnt_157L|clientscnt_257L|clientscnt_304L|clientscnt_360L|clientscnt_493L|clientscnt_533L|clientscnt_887L|clientscnt_946L|cntincpaycont9m_3716944L|cntpmts24_3658933L|commnoinclast6m_3546845L|credamount_770A|credtype_322L|currdebt_22A|currdebtcredtyperange_828A|datefirstoffer_1144D|datelastinstal40dpd_247D|datelastunpaid_3546854D|daysoverduetolerancedd_3976961L|deferredmnthsnum_166L|disbursedcredamount_1113A|disbursementtype_67L|downpmt_116A|dtlastpmtallstes_4499206D|eir_270L|equalitydataagreement_891L|equalityempfrom_62L|firstclxcampaign_1125D|firstdatedue_489D|homephncnt_628L|inittransactionamount_650A|inittransactioncode_186L|interestrate_311L|interestrategrace_34L|isbidproduct_1095L|isbidproductrequest_292L|isdebitcard_729L|lastactivateddate_801D|lastapplicationdate_877D|lastapprcommoditycat_1041M|lastapprcommoditytypec_5251766M|lastapprcredamount_781A|lastapprdate_640D|lastcancelreason_561M|lastdelinqdate_224D|lastdependentsnum_448L|lastotherinc_902A|lastotherlnsexpense_631A|lastrejectcommoditycat_161M|lastrejectcommodtypec_5251769M|lastrejectcredamount_222A|lastrejectdate_50D|lastrejectreason_759M|lastrejectreasonclient_4145040M|lastrepayingdate_696D|lastst_736L|maininc_215A|mastercontrelectronic_519L|mastercontrexist_109L|maxannuity_159A|maxannuity_4075009A|maxdbddpdlast1m_3658939P|maxdbddpdtollast12m_3658940P|maxdbddpdtollast6m_4187119P|maxdebt4_972A|maxdpdfrom6mto36m_3546853P|maxdpdinstldate_3546855D|maxdpdinstlnum_3546846P|maxdpdlast12m_727P|maxdpdlast24m_143P|maxdpdlast3m_392P|maxdpdlast6m_474P|maxdpdlast9m_1059P|maxdpdtolerance_374P|maxinstallast24m_3658928A|maxlnamtstart6m_4525199A|maxoutstandbalancel12m_4187113A|maxpmtlast3m_4525190A|mindbddpdlast24m_3658935P|mindbdtollast24m_4525191P|mobilephncnt_593L|monthsannuity_845L|numactivecreds_622L|numactivecredschannel_414L|numactiverelcontr_750L|numcontrs3months_479L|numincomingpmts_3546848L|numinstlallpaidearly3d_817L|numinstls_657L|numinstlsallpaid_934L|numinstlswithdpd10_728L|numinstlswithdpd5_4187116L|numinstlswithoutdpd_562L|numinstmatpaidtearly2d_4499204L|numinstpaid_4499208L|numinstpaidearly3d_3546850L|numinstpaidearly3dest_4493216L|numinstpaidearly5d_1087L|numinstpaidearly5dest_4493211L|numinstpaidearly5dobd_4499205L|numinstpaidearly_338L|numinstpaidearlyest_4493214L|numinstpaidlastcontr_4325080L|numinstpaidlate1d_3546852L|numinstregularpaid_973L|numinstregularpaidest_4493210L|numinsttopaygr_769L|numinsttopaygrest_4493213L|numinstunpaidmax_3546851L|numinstunpaidmaxest_4493212L|numnotactivated_1143L|numpmtchanneldd_318L|numrejects9m_859L|opencred_647L|paytype1st_925L|paytype_783L|payvacationpostpone_4187118D|pctinstlsallpaidearl3d_427L|pctinstlsallpaidlat10d_839L|pctinstlsallpaidlate1d_3546856L|pctinstlsallpaidlate4d_3546849L|pctinstlsallpaidlate6d_3546844L|pmtnum_254L|posfpd10lastmonth_333P|posfpd30lastmonth_3976960P|posfstqpd30lastmonth_3976962P|previouscontdistrict_112M|price_1097A|sellerplacecnt_915L|sellerplacescnt_216L|sumoutstandtotal_3546847A|sumoutstandtotalest_4493215A|totaldebt_9A|totalsettled_863A|totinstallast1m_4525188A|twobodfilling_608L|typesuite_864L|validfrom_1069D|\n",
      "+-------+-----------------------+------------------------------+------------+--------------------+-------------------+--------------------+---------------------+--------------------+--------------------+--------------------+-------------------------+------------------------+-------------------------+---------------------------+-------------------------+-------------------------+------------------------+------------------------------+----------------------+----------------+------------+----------------------+---------------------+---------------------+---------------+----------------+----------------+----------------+---------------+---------------+---------------+---------------+---------------+---------------+---------------+---------------+---------------+------------------------+------------------+------------------------+---------------+-------------+------------+--------------------------+--------------------+------------------------+-----------------------+-------------------------------+---------------------+-------------------------+--------------------+------------+-------------------------+--------+--------------------------+-------------------+----------------------+-----------------+---------------+--------------------------+------------------------+-----------------+---------------------+------------------+------------------------+----------------+----------------------+------------------------+--------------------------+-------------------------------+-----------------------+-----------------+---------------------+-------------------+----------------------+-----------------+------------------------+---------------------------+------------------------------+-------------------------+------------------+---------------------+-------------------------------+---------------------+-----------+------------+--------------------------+---------------------+---------------+-------------------+------------------------+----------------------------+---------------------------+-------------+--------------------------+------------------------+-----------------------+------------------+------------------+-----------------+-----------------+------------------+--------------------+-------------------------+------------------------+-------------------------------+---------------------+-------------------------+-------------------------+-----------------+------------------+-------------------+--------------------------+----------------------+---------------------+------------------------+---------------------------+--------------+---------------------+-----------------------+--------------------------+------------------------+-------------------------------+--------------------+---------------------------+------------------------------+------------------------+------------------------------+------------------------------+---------------------+----------------------------+-----------------------------+--------------------------+-----------------------+------------------------------+-------------------+--------------------------+-------------------------+----------------------------+---------------------+--------------------+-----------------+-------------+---------------+------------+----------------------------+---------------------------+---------------------------+-------------------------------+-------------------------------+-------------------------------+-----------+----------------------+--------------------------+-----------------------------+-------------------------+-----------+-------------------+--------------------+-------------------------+----------------------------+------------+-----------------+------------------------+------------------+--------------+---------------+\n",
      "|  40626|                   NULL|                          NULL|   1976.2001|                 0.0|                0.0|                 0.0|                  0.0|                 1.0|                 0.0|                 0.0|                     NULL|                    NULL|                     NULL|                       NULL|                     NULL|                     NULL|                    NULL|                          NULL|                  NULL|            NULL|        NULL|                   0.0|                  0.0|                  0.0|            0.0|             0.0|             0.0|             0.0|           NULL|            0.0|            0.0|            0.0|            0.0|            0.0|            0.0|            0.0|            0.0|                    NULL|              NULL|                     0.0|        36000.0|          CAL|         0.0|                       0.0|                NULL|                    NULL|                   NULL|                           NULL|                  0.0|                  36000.0|                 GBA|         0.0|                     NULL|    0.28|                      NULL|               NULL|                  NULL|             NULL|            0.0|                      NULL|                    CASH|             0.28|                 NULL|             false|                    NULL|            NULL|                  NULL|                    NULL|                  a55475b1|                       a55475b1|                   NULL|             NULL|             a55475b1|               NULL|                  NULL|             NULL|                    NULL|                   a55475b1|                      a55475b1|                     NULL|              NULL|             a55475b1|                       a55475b1|                 NULL|       NULL|        NULL|                       0.0|                  0.0|            0.0|               NULL|                    NULL|                        NULL|                       NULL|          0.0|                       0.0|                    NULL|                   NULL|               0.0|               0.0|              0.0|              0.0|               0.0|                 0.0|                     NULL|                    NULL|                           NULL|                 NULL|                     NULL|                     NULL|              1.0|              NULL|                0.0|                       0.0|                   0.0|                  0.0|                    NULL|                       NULL|           0.0|                 NULL|                   NULL|                      NULL|                    NULL|                           NULL|                NULL|                       NULL|                          NULL|                    NULL|                          NULL|                          NULL|                 NULL|                        NULL|                         NULL|                      NULL|                   NULL|                          NULL|               NULL|                      NULL|                     NULL|                        NULL|                  0.0|                 0.0|              0.0|         NULL|          OTHER|       OTHER|                        NULL|                       NULL|                       NULL|                           NULL|                           NULL|                           NULL|       24.0|                   0.0|                       0.0|                         NULL|                 a55475b1|       NULL|                0.0|                 0.0|                     NULL|                        NULL|         0.0|              0.0|                    NULL|                FO|            AL|           NULL|\n",
      "|  40704|                   NULL|                          NULL|      3731.2|                 0.0|                0.0|                 0.0|                  0.0|                 0.0|                 0.0|                 0.0|                     NULL|                    NULL|                     NULL|                       NULL|                     NULL|                     NULL|                    NULL|                          NULL|                  NULL|            NULL|        NULL|                   0.0|                  0.0|                  0.0|            0.0|             0.0|             0.0|             0.0|           NULL|            0.0|            0.0|            0.0|            0.0|            0.0|            0.0|            0.0|            0.0|                    NULL|              NULL|                     0.0|        30000.0|          CAL|         0.0|                       0.0|                NULL|                    NULL|                   NULL|                           NULL|                  0.0|                  30000.0|                 GBA|         0.0|                     NULL|    0.45|                      NULL|               NULL|                  NULL|             NULL|            1.0|                      NULL|                    CASH|             0.45|                 NULL|             false|                    NULL|            NULL|                  NULL|              2018-11-20|                  a55475b1|                       a55475b1|                   NULL|             NULL|          P94_109_143|               NULL|                  NULL|             NULL|                    NULL|                   a55475b1|                      a55475b1|                  54000.0|        2018-11-20|           P198_131_9|                    P94_109_143|                 NULL|          D|        NULL|                       0.0|                  0.0|            0.0|               NULL|                    NULL|                        NULL|                       NULL|          0.0|                       0.0|                    NULL|                   NULL|               0.0|               0.0|              0.0|              0.0|               0.0|                 0.0|                     NULL|                    NULL|                           NULL|                 NULL|                     NULL|                     NULL|              2.0|              NULL|                0.0|                       0.0|                   0.0|                  0.0|                    NULL|                       NULL|           0.0|                 NULL|                   NULL|                      NULL|                    NULL|                           NULL|                NULL|                       NULL|                          NULL|                    NULL|                          NULL|                          NULL|                 NULL|                        NULL|                         NULL|                      NULL|                   NULL|                          NULL|               NULL|                      NULL|                     NULL|                        NULL|                  0.0|                 0.0|              0.0|        false|          OTHER|       OTHER|                        NULL|                       NULL|                       NULL|                           NULL|                           NULL|                           NULL|       12.0|                  NULL|                      NULL|                         NULL|                 a55475b1|       NULL|                0.0|                 0.0|                     NULL|                        NULL|         0.0|              0.0|                    NULL|                FO|            AL|           NULL|\n",
      "|  40734|                   NULL|                          NULL|      3731.2|                 0.0|                0.0|                 1.0|                  0.0|                 0.0|                 0.0|                 1.0|                     NULL|                    NULL|                     NULL|                       NULL|                     NULL|                     NULL|                    NULL|                          NULL|                  NULL|            NULL|        NULL|                   0.0|                  0.0|                  0.0|            0.0|             0.0|             0.0|             0.0|           NULL|            0.0|            0.0|            0.0|            0.0|            0.0|            1.0|            0.0|            0.0|                    NULL|              NULL|                     0.0|        30000.0|          CAL|         0.0|                       0.0|                NULL|                    NULL|                   NULL|                           NULL|                  0.0|                  30000.0|                 GBA|         0.0|                     NULL|    0.45|                      NULL|               NULL|                  NULL|             NULL|            0.0|                      NULL|                    CASH|             0.45|                 NULL|             false|                    NULL|            NULL|                  NULL|              2019-12-26|                  a55475b1|                       a55475b1|                   NULL|             NULL|          P94_109_143|               NULL|                  NULL|             NULL|                    NULL|                   a55475b1|                      a55475b1|                  50000.0|        2019-12-26|           P45_84_106|                    P94_109_143|                 NULL|          D|        NULL|                       0.0|                  0.0|            0.0|               NULL|                    NULL|                        NULL|                       NULL|          0.0|                       0.0|                    NULL|                   NULL|               0.0|               0.0|              0.0|              0.0|               0.0|                 0.0|                     NULL|                    NULL|                           NULL|                 NULL|                     NULL|                     NULL|              1.0|              NULL|                0.0|                       0.0|                   0.0|                  1.0|                    NULL|                       NULL|           0.0|                 NULL|                   NULL|                      NULL|                    NULL|                           NULL|                NULL|                       NULL|                          NULL|                    NULL|                          NULL|                          NULL|                 NULL|                        NULL|                         NULL|                      NULL|                   NULL|                          NULL|               NULL|                      NULL|                     NULL|                        NULL|                  0.0|                 0.0|              1.0|        false|          OTHER|       OTHER|                        NULL|                       NULL|                       NULL|                           NULL|                           NULL|                           NULL|       12.0|                   0.0|                       0.0|                         NULL|                 a55475b1|       NULL|                1.0|                 1.0|                     NULL|                        NULL|         0.0|              0.0|                    NULL|                FO|            AL|           NULL|\n",
      "|  40737|                    0.0|                          NULL|      2362.0|                 0.0|                0.0|                 0.0|                  2.0|                 0.0|                 0.0|                 1.0|                     NULL|                    NULL|                     NULL|                       NULL|                     NULL|                     NULL|                    NULL|                          NULL|                  NULL|            NULL|        NULL|                   0.0|                  0.0|                  0.0|            0.0|             0.0|             0.0|             0.0|           NULL|            0.0|            0.0|            1.0|            0.0|            0.0|            0.0|            0.0|            2.0|                    NULL|              NULL|                     0.0|        40000.0|          CAL|         0.0|                       0.0|                NULL|                    NULL|                   NULL|                           NULL|                  0.0|                  40000.0|                 GBA|         0.0|                     NULL|    0.36|                      NULL|               NULL|                  NULL|             NULL|            1.0|                      NULL|                    CASH|             0.36|                 NULL|             false|                    NULL|            NULL|                  NULL|              2014-07-17|                  a55475b1|                       a55475b1|                   NULL|             NULL|             a55475b1|               NULL|                  NULL|             NULL|                    NULL|                   a55475b1|                      a55475b1|                  30000.0|        2014-07-17|             a55475b1|                       a55475b1|                 NULL|          D|        NULL|                       0.0|                  0.0|            0.0|               NULL|                    NULL|                        NULL|                       NULL|          0.0|                       0.0|                    NULL|                   NULL|               0.0|               0.0|              0.0|              0.0|               0.0|                 0.0|                     NULL|                    NULL|                           NULL|                 NULL|                     NULL|                     NULL|              1.0|              NULL|                0.0|                       0.0|                   0.0|                  0.0|                    NULL|                       NULL|           0.0|                 NULL|                   NULL|                      NULL|                    NULL|                           NULL|                NULL|                       NULL|                          NULL|                    NULL|                          NULL|                          NULL|                 NULL|                        NULL|                         NULL|                      NULL|                   NULL|                          NULL|               NULL|                      NULL|                     NULL|                        NULL|                  0.0|                 0.0|              0.0|        false|          OTHER|       OTHER|                        NULL|                       NULL|                       NULL|                           NULL|                           NULL|                           NULL|       24.0|                  NULL|                      NULL|                         NULL|                 a55475b1|       NULL|                0.0|                 1.0|                     NULL|                        NULL|         0.0|              0.0|                    NULL|                FO|            AL|           NULL|\n",
      "|  40766|                   NULL|                          NULL|      1143.0|                 0.0|                0.0|                 0.0|                  0.0|                 0.0|                 0.0|                 0.0|                     NULL|                    NULL|                     NULL|                       NULL|                     NULL|                     NULL|                    NULL|                          NULL|                  NULL|            NULL|        NULL|                   0.0|                  0.0|                  0.0|            0.0|             0.0|             0.0|             0.0|           NULL|            0.0|            0.0|            0.0|            0.0|            0.0|            0.0|            0.0|            0.0|                    NULL|              NULL|                     0.0|        10000.0|          CAL|         0.0|                       0.0|                NULL|                    NULL|                   NULL|                           NULL|                  0.0|                  10000.0|                 GBA|         0.0|                     NULL|    0.28|                      NULL|               NULL|                  NULL|             NULL|            0.0|                      NULL|                    CASH|             0.28|                 NULL|             false|                    NULL|            NULL|                  NULL|                    NULL|                  a55475b1|                       a55475b1|                   NULL|             NULL|             a55475b1|               NULL|                  NULL|             NULL|                    NULL|                   a55475b1|                      a55475b1|                     NULL|              NULL|             a55475b1|                       a55475b1|                 NULL|       NULL|        NULL|                       0.0|                  0.0|            0.0|               NULL|                    NULL|                        NULL|                       NULL|          0.0|                       0.0|                    NULL|                   NULL|               0.0|               0.0|              0.0|              0.0|               0.0|                 0.0|                     NULL|                    NULL|                           NULL|                 NULL|                     NULL|                     NULL|              1.0|              NULL|                0.0|                       0.0|                   0.0|                  0.0|                    NULL|                       NULL|           0.0|                 NULL|                   NULL|                      NULL|                    NULL|                           NULL|                NULL|                       NULL|                          NULL|                    NULL|                          NULL|                          NULL|                 NULL|                        NULL|                         NULL|                      NULL|                   NULL|                          NULL|               NULL|                      NULL|                     NULL|                        NULL|                  0.0|                 0.0|              0.0|         NULL|          OTHER|       OTHER|                        NULL|                       NULL|                       NULL|                           NULL|                           NULL|                           NULL|       12.0|                   0.0|                       0.0|                         NULL|                 a55475b1|       NULL|                0.0|                 0.0|                     NULL|                        NULL|         0.0|              0.0|                    NULL|                FO|            AL|           NULL|\n",
      "|  40791|                    0.0|                          NULL|      3112.8|                 0.0|                0.0|                 0.0|                  0.0|                 0.0|                 0.0|                 0.0|                     NULL|                    NULL|                     NULL|                       NULL|                     NULL|                     NULL|                    NULL|                          NULL|                  NULL|            NULL|        NULL|                   0.0|                  0.0|                  0.0|            0.0|             0.0|             0.0|             0.0|           NULL|            0.0|            0.0|            0.0|            0.0|            0.0|            0.0|            2.0|            0.0|                    NULL|              NULL|                     0.0|        60000.0|          CAL|         0.0|                       0.0|                NULL|                    NULL|                   NULL|                           NULL|                  0.0|                  60000.0|                 GBA|         0.0|                     NULL|    0.45|                      NULL|               NULL|                  NULL|             NULL|            0.0|                      NULL|                    CASH|             0.45|                 NULL|             false|                    NULL|            NULL|                  NULL|              2017-08-21|                  a55475b1|                       a55475b1|                   NULL|             NULL|          P94_109_143|               NULL|                  NULL|             NULL|                    NULL|                  P12_6_178|                      a55475b1|                  44840.0|        2017-08-21|           P99_56_166|                    P94_109_143|                 NULL|          D|        NULL|                       0.0|                  0.0|            0.0|               NULL|                    NULL|                        NULL|                       NULL|          0.0|                       0.0|                    NULL|                   NULL|               0.0|               0.0|              0.0|              0.0|               0.0|                 0.0|                     NULL|                    NULL|                           NULL|                 NULL|                     NULL|                     NULL|              3.0|              NULL|                0.0|                       0.0|                   0.0|                  0.0|                    NULL|                       NULL|           0.0|                 NULL|                   NULL|                      NULL|                    NULL|                           NULL|                NULL|                       NULL|                          NULL|                    NULL|                          NULL|                          NULL|                 NULL|                        NULL|                         NULL|                      NULL|                   NULL|                          NULL|               NULL|                      NULL|                     NULL|                        NULL|                  0.0|                 0.0|              0.0|        false|          OTHER|       OTHER|                        NULL|                       NULL|                       NULL|                           NULL|                           NULL|                           NULL|       42.0|                   0.0|                       0.0|                          0.0|                 a55475b1|        0.0|                0.0|                 0.0|                     NULL|                        NULL|         0.0|              0.0|                    NULL|                BO|          NULL|           NULL|\n",
      "|  40821|                   NULL|                          NULL|   5848.8003|                 0.0|                0.0|                 0.0|                  0.0|                 0.0|                 0.0|                 0.0|                     NULL|                    NULL|                     NULL|                       NULL|                     NULL|                     NULL|                    NULL|                          NULL|                  NULL|            NULL|        NULL|                   0.0|                  0.0|                  0.0|            0.0|             0.0|             0.0|             0.0|           NULL|            0.0|            0.0|            0.0|            0.0|            0.0|            1.0|            0.0|            0.0|                    NULL|              NULL|                     0.0|        80000.0|          CAL|         0.0|                       0.0|                NULL|                    NULL|                   NULL|                           NULL|                  0.0|                  80000.0|                 GBA|         0.0|                     NULL|    0.36|                      NULL|               NULL|                  NULL|             NULL|            0.0|                      NULL|                    CASH|             0.36|                 NULL|             false|                    NULL|            NULL|                  NULL|              2018-01-26|                  a55475b1|                       a55475b1|                   NULL|             NULL|          P94_109_143|               NULL|                  NULL|             NULL|                    NULL|                   a55475b1|                      a55475b1|                  64000.0|        2018-01-26|          P94_109_143|                    P94_109_143|                 NULL|          D|        NULL|                       0.0|                  0.0|            0.0|               NULL|                    NULL|                        NULL|                       NULL|          0.0|                       0.0|                    NULL|                   NULL|               0.0|               0.0|              0.0|              0.0|               0.0|                 0.0|                     NULL|                    NULL|                           NULL|                 NULL|                     NULL|                     NULL|              2.0|              NULL|                0.0|                       0.0|                   0.0|                  0.0|                    NULL|                       NULL|           0.0|                 NULL|                   NULL|                      NULL|                    NULL|                           NULL|                NULL|                       NULL|                          NULL|                    NULL|                          NULL|                          NULL|                 NULL|                        NULL|                         NULL|                      NULL|                   NULL|                          NULL|               NULL|                      NULL|                     NULL|                        NULL|                  0.0|                 0.0|              0.0|        false|          OTHER|       OTHER|                        NULL|                       NULL|                       NULL|                           NULL|                           NULL|                           NULL|       24.0|                   0.0|                       0.0|                          0.0|                 a55475b1|       NULL|                0.0|                 0.0|                     NULL|                        NULL|         0.0|              0.0|                    NULL|                BO|          NULL|           NULL|\n",
      "|  40841|                   NULL|                          NULL|   4099.8003|                 0.0|                0.0|                 0.0|                  0.0|                52.0|                10.0|                 0.0|                     NULL|                    NULL|                     NULL|                       NULL|                     NULL|                     NULL|                    NULL|                          NULL|                  NULL|            NULL|        NULL|                   0.0|                  0.0|                  0.0|            0.0|             0.0|             0.0|             0.0|           NULL|            3.0|            0.0|            0.0|            0.0|            0.0|            0.0|           32.0|            0.0|                    NULL|              NULL|                     0.0|        20000.0|          CAL|         0.0|                       0.0|                NULL|                    NULL|                   NULL|                           NULL|                  0.0|                  20000.0|                 GBA|         0.0|                     NULL|    0.42|                      NULL|               NULL|                  NULL|             NULL|            0.0|                      NULL|                    CASH|             0.42|                 NULL|             false|                    NULL|            NULL|                  NULL|                    NULL|                  a55475b1|                       a55475b1|                   NULL|             NULL|             a55475b1|               NULL|                  NULL|             NULL|                    NULL|                   a55475b1|                      a55475b1|                     NULL|              NULL|             a55475b1|                       a55475b1|                 NULL|       NULL|        NULL|                       0.0|                  0.0|            0.0|               NULL|                    NULL|                        NULL|                       NULL|          0.0|                       0.0|                    NULL|                   NULL|               0.0|               0.0|              0.0|              0.0|               0.0|                 0.0|                     NULL|                    NULL|                           NULL|                 NULL|                     NULL|                     NULL|              1.0|              NULL|                0.0|                       0.0|                   0.0|                  0.0|                    NULL|                       NULL|           0.0|                 NULL|                   NULL|                      NULL|                    NULL|                           NULL|                NULL|                       NULL|                          NULL|                    NULL|                          NULL|                          NULL|                 NULL|                        NULL|                         NULL|                      NULL|                   NULL|                          NULL|               NULL|                      NULL|                     NULL|                        NULL|                  0.0|                 0.0|              0.0|         NULL|          OTHER|       OTHER|                        NULL|                       NULL|                       NULL|                           NULL|                           NULL|                           NULL|        6.0|                   0.0|                       0.0|                          0.0|                 a55475b1|       NULL|                0.0|                 0.0|                     NULL|                        NULL|         0.0|              0.0|                    NULL|                BO|            AL|           NULL|\n",
      "|  40865|                   NULL|                          NULL|   1872.2001|                 0.0|                0.0|                 0.0|                  0.0|                 0.0|                 0.0|                 2.0|                     NULL|                    NULL|                     NULL|                       NULL|                     NULL|                     NULL|                    NULL|                          NULL|                  NULL|            NULL|        NULL|                   0.0|                  0.0|                  0.0|            0.0|             0.0|             0.0|             0.0|           NULL|            0.0|            0.0|            0.0|            0.0|            0.0|            0.0|            0.0|            0.0|                    NULL|              NULL|                     0.0|        50800.0|          CAL|         0.0|                       0.0|                NULL|                    NULL|                   NULL|                           NULL|                  0.0|                  50800.0|                 GBA|         0.0|                     NULL|    0.28|                      NULL|               NULL|                  NULL|             NULL|            0.0|                      NULL|                    CASH|             0.28|                 NULL|             false|                    NULL|            NULL|                  NULL|              2017-12-30|                  a55475b1|                       a55475b1|                   NULL|             NULL|          P94_109_143|               NULL|                  NULL|             NULL|                    NULL|                   a55475b1|                      a55475b1|                      0.0|        2017-12-30|          P94_109_143|                    P94_109_143|                 NULL|          D|        NULL|                       0.0|                  0.0|            0.0|               NULL|                    NULL|                        NULL|                       NULL|          0.0|                       0.0|                    NULL|                   NULL|               0.0|               0.0|              0.0|              0.0|               0.0|                 0.0|                     NULL|                    NULL|                           NULL|                 NULL|                     NULL|                     NULL|              1.0|              NULL|                0.0|                       0.0|                   0.0|                  0.0|                    NULL|                       NULL|           0.0|                 NULL|                   NULL|                      NULL|                    NULL|                           NULL|                NULL|                       NULL|                          NULL|                    NULL|                          NULL|                          NULL|                 NULL|                        NULL|                         NULL|                      NULL|                   NULL|                          NULL|               NULL|                      NULL|                     NULL|                        NULL|                  0.0|                 0.0|              0.0|        false|          OTHER|       OTHER|                        NULL|                       NULL|                       NULL|                           NULL|                           NULL|                           NULL|       12.0|                   0.0|                       0.0|                         NULL|                 a55475b1|       NULL|                0.0|                 1.0|                     NULL|                        NULL|         0.0|              0.0|                    NULL|                FO|            AL|           NULL|\n",
      "|  40871|                   NULL|                          NULL|      1972.0|                 0.0|                0.0|                 0.0|                  0.0|                 0.0|                 0.0|                 0.0|                     NULL|                    NULL|                     NULL|                       NULL|                     NULL|                     NULL|                    NULL|                          NULL|                  NULL|            NULL|        NULL|                   0.0|                  0.0|                  0.0|            0.0|             0.0|             1.0|             1.0|           NULL|            0.0|            0.0|            0.0|            0.0|            0.0|            0.0|            0.0|            0.0|                    NULL|              NULL|                     0.0|        30000.0|          CAL|         0.0|                       0.0|                NULL|                    NULL|                   NULL|                           NULL|                  0.0|                  30000.0|                 GBA|         0.0|                     NULL|    0.28|                      NULL|               NULL|                  NULL|             NULL|            0.0|                      NULL|                    CASH|             0.28|                 NULL|             false|                    NULL|            NULL|                  NULL|                    NULL|                  a55475b1|                       a55475b1|                   NULL|             NULL|             a55475b1|               NULL|                  NULL|             NULL|                    NULL|                   a55475b1|                      a55475b1|                     NULL|              NULL|             a55475b1|                       a55475b1|                 NULL|       NULL|        NULL|                       0.0|                  0.0|            0.0|               NULL|                    NULL|                        NULL|                       NULL|          0.0|                       0.0|                    NULL|                   NULL|               0.0|               0.0|              0.0|              0.0|               0.0|                 0.0|                     NULL|                    NULL|                           NULL|                 NULL|                     NULL|                     NULL|              1.0|              NULL|                0.0|                       0.0|                   0.0|                  0.0|                    NULL|                       NULL|           0.0|                 NULL|                   NULL|                      NULL|                    NULL|                           NULL|                NULL|                       NULL|                          NULL|                    NULL|                          NULL|                          NULL|                 NULL|                        NULL|                         NULL|                      NULL|                   NULL|                          NULL|               NULL|                      NULL|                     NULL|                        NULL|                  0.0|                 0.0|              0.0|         NULL|          OTHER|       OTHER|                        NULL|                       NULL|                       NULL|                           NULL|                           NULL|                           NULL|       18.0|                   0.0|                       0.0|                         NULL|                 a55475b1|       NULL|                0.0|                 0.0|                     NULL|                        NULL|         0.0|              0.0|                    NULL|                FO|            AL|           NULL|\n",
      "|  40872|                    0.0|                          NULL|   1872.2001|                 0.0|                0.0|                 0.0|                  0.0|                67.0|                19.0|                 4.0|                     NULL|                    NULL|                     NULL|                       NULL|                     NULL|                     NULL|                    NULL|                          NULL|                  NULL|            NULL|        NULL|                   0.0|                  0.0|                  0.0|            0.0|             1.0|             0.0|             0.0|           NULL|            0.0|            0.0|            0.0|            0.0|            0.0|            0.0|            0.0|            0.0|                    NULL|              NULL|                     0.0|        20000.0|          CAL|         0.0|                       0.0|                NULL|                    NULL|                   NULL|                           NULL|                  0.0|                  20000.0|                 GBA|         0.0|                     NULL|    0.45|                      NULL|               NULL|                  NULL|             NULL|            1.0|                      NULL|                    CASH|             0.45|                 NULL|             false|                    NULL|            NULL|                  NULL|              2019-09-09|                  a55475b1|                       a55475b1|                   NULL|             NULL|          P94_109_143|               NULL|                  NULL|             NULL|                    NULL|                   a55475b1|                      a55475b1|                  80000.0|        2019-09-09|           P45_84_106|                    P94_109_143|                 NULL|          D|        NULL|                       0.0|                  0.0|            0.0|               NULL|                    NULL|                        NULL|                       NULL|          0.0|                       0.0|                    NULL|                   NULL|               0.0|               0.0|              0.0|              0.0|               0.0|                 0.0|                     NULL|                    NULL|                           NULL|                 NULL|                     NULL|                     NULL|              2.0|              NULL|                0.0|                       0.0|                   0.0|                  0.0|                    NULL|                       NULL|           0.0|                 NULL|                   NULL|                      NULL|                    NULL|                           NULL|                NULL|                       NULL|                          NULL|                    NULL|                          NULL|                          NULL|                 NULL|                        NULL|                         NULL|                      NULL|                   NULL|                          NULL|               NULL|                      NULL|                     NULL|                        NULL|                  0.0|                 0.0|              1.0|        false|          OTHER|       OTHER|                        NULL|                       NULL|                       NULL|                           NULL|                           NULL|                           NULL|       12.0|                   0.0|                       0.0|                          0.0|                 a55475b1|       NULL|                0.0|                 3.0|                     NULL|                        NULL|         0.0|              0.0|                    NULL|                BO|            AL|           NULL|\n",
      "|  40875|                   NULL|                          NULL|      1245.0|                 0.0|                0.0|                 0.0|                  0.0|                 0.0|                 0.0|                 0.0|                     NULL|                    NULL|                     NULL|                       NULL|                     NULL|                     NULL|                    NULL|                          NULL|                  NULL|            NULL|        NULL|                   0.0|                  0.0|                  0.0|            0.0|             0.0|             0.0|             0.0|           NULL|            0.0|            0.0|            0.0|            0.0|            0.0|            1.0|            0.0|            0.0|                    NULL|              NULL|                     0.0|        10000.0|          CAL|         0.0|                       0.0|                NULL|                    NULL|                   NULL|                           NULL|                  0.0|                  10000.0|                 GBA|         0.0|                     NULL|    0.28|                      NULL|               NULL|                  NULL|             NULL|            0.0|                      NULL|                    CASH|             0.28|                 NULL|             false|                    NULL|            NULL|                  NULL|                    NULL|                  a55475b1|                       a55475b1|                   NULL|             NULL|             a55475b1|               NULL|                  NULL|             NULL|                    NULL|                   a55475b1|                      a55475b1|                     NULL|              NULL|             a55475b1|                       a55475b1|                 NULL|       NULL|        NULL|                       0.0|                  0.0|            0.0|               NULL|                    NULL|                        NULL|                       NULL|          0.0|                       0.0|                    NULL|                   NULL|               0.0|               0.0|              0.0|              0.0|               0.0|                 0.0|                     NULL|                    NULL|                           NULL|                 NULL|                     NULL|                     NULL|              1.0|              NULL|                0.0|                       0.0|                   0.0|                  0.0|                    NULL|                       NULL|           0.0|                 NULL|                   NULL|                      NULL|                    NULL|                           NULL|                NULL|                       NULL|                          NULL|                    NULL|                          NULL|                          NULL|                 NULL|                        NULL|                         NULL|                      NULL|                   NULL|                          NULL|               NULL|                      NULL|                     NULL|                        NULL|                  0.0|                 0.0|              0.0|         NULL|          OTHER|       OTHER|                        NULL|                       NULL|                       NULL|                           NULL|                           NULL|                           NULL|        9.0|                   0.0|                       0.0|                         NULL|                 a55475b1|       NULL|                0.0|                 0.0|                     NULL|                        NULL|         0.0|              0.0|                    NULL|                FO|            AL|           NULL|\n",
      "|  40881|                    0.0|                       14182.2|      2992.2|              3089.2|                0.0|                 4.0|                 11.0|                 0.0|                 0.0|                 8.0|                      0.0|                     0.0|                      0.0|                        0.0|                6057.8003|                  11297.2|                     0.0|                      8468.601|             6057.8003|            NULL|        NULL|                   0.0|                  0.0|                  0.0|            0.0|             0.0|             0.0|             1.0|           NULL|            0.0|            0.0|            2.0|            0.0|            0.0|            0.0|            2.0|            0.0|                     6.0|               3.0|                     0.0|        16000.0|          CAL|      3068.0|                       0.0|                NULL|                    NULL|             2019-11-15|                            3.0|                  0.0|                  16000.0|                 GBA|         0.0|               2019-12-28|  0.2999|                      NULL|               NULL|                  NULL|       2019-10-15|            1.0|                      NULL|                    CASH|           0.2999|                  0.0|             false|                    NULL|            NULL|            2019-11-06|              2019-12-28|               P100_96_175|                       a55475b1|                 8740.0|       2019-10-28|            P30_86_84|         2019-11-15|                  NULL|             NULL|                    NULL|                   a55475b1|                      a55475b1|                  16000.0|        2019-12-28|           P99_56_166|                      P30_86_84|                 NULL|          D|     36000.0|                       0.0|                  0.0|         7100.0|               NULL|                     0.0|                         2.0|                        2.0|          0.0|                       0.0|              2019-11-15|                    1.0|               2.0|               2.0|              2.0|              2.0|               2.0|                 2.0|                   7080.4|                 10444.8|                        17190.0|               7080.4|                     -2.0|                     -2.0|              1.0|               2.0|                1.0|                       0.0|                   0.0|                  5.0|                     6.0|                        0.0|           3.0|                  4.0|                    0.0|                       0.0|                     5.0|                            1.0|                 5.0|                        0.0|                           0.0|                     0.0|                           0.0|                           0.0|                  0.0|                         0.0|                          2.0|                       1.0|                    5.0|                           5.0|                1.0|                       1.0|                      1.0|                         1.0|                  0.0|                 0.0|              4.0|        false|          OTHER|       OTHER|                        NULL|                        0.0|                        0.0|                            0.2|                            0.0|                            0.0|        6.0|                   0.0|                       0.0|                          0.0|              P186_84_175|        0.0|                1.0|                 3.0|                   3068.0|                      3068.0|      3068.0|          18195.0|                 14160.0|                FO|            AL|           NULL|\n",
      "|  40885|                   NULL|                          NULL|      4201.2|                 0.0|                0.0|                 0.0|                  0.0|                 0.0|                 0.0|                 0.0|                     NULL|                    NULL|                     NULL|                       NULL|                     NULL|                     NULL|                    NULL|                          NULL|                  NULL|            NULL|        NULL|                   0.0|                  0.0|                  0.0|            0.0|             0.0|             0.0|             0.0|           NULL|            1.0|            0.0|            0.0|            0.0|            0.0|            0.0|            2.0|            0.0|                    NULL|              NULL|                     0.0|        40000.0|          CAL|         0.0|                       0.0|                NULL|                    NULL|                   NULL|                           NULL|                  0.0|                  40000.0|                 GBA|         0.0|                     NULL|    0.45|                      NULL|               NULL|                  NULL|             NULL|            0.0|                      NULL|                    CASH|             0.45|                 NULL|             false|                    NULL|            NULL|                  NULL|                    NULL|                  a55475b1|                       a55475b1|                   NULL|             NULL|             a55475b1|               NULL|                  NULL|             NULL|                    NULL|                   a55475b1|                      a55475b1|                     NULL|              NULL|             a55475b1|                       a55475b1|                 NULL|       NULL|        NULL|                       0.0|                  0.0|            0.0|               NULL|                    NULL|                        NULL|                       NULL|          0.0|                       0.0|                    NULL|                   NULL|               0.0|               0.0|              0.0|              0.0|               0.0|                 0.0|                     NULL|                    NULL|                           NULL|                 NULL|                     NULL|                     NULL|              1.0|              NULL|                0.0|                       0.0|                   0.0|                  0.0|                    NULL|                       NULL|           0.0|                 NULL|                   NULL|                      NULL|                    NULL|                           NULL|                NULL|                       NULL|                          NULL|                    NULL|                          NULL|                          NULL|                 NULL|                        NULL|                         NULL|                      NULL|                   NULL|                          NULL|               NULL|                      NULL|                     NULL|                        NULL|                  0.0|                 0.0|              0.0|         NULL|          OTHER|       OTHER|                        NULL|                       NULL|                       NULL|                           NULL|                           NULL|                           NULL|       12.0|                   0.0|                       0.0|                         NULL|                 a55475b1|       NULL|                0.0|                 0.0|                     NULL|                        NULL|         0.0|              0.0|                    NULL|                FO|            AL|           NULL|\n",
      "|  40887|                   NULL|                          NULL|      7638.0|                 0.0|                0.0|                 0.0|                  1.0|                 0.0|                 0.0|                 1.0|                     NULL|                    NULL|                     NULL|                       NULL|                     NULL|                     NULL|                    NULL|                          NULL|                  NULL|            NULL|        NULL|                   0.0|                  0.0|                  0.0|            0.0|             0.0|             0.0|             0.0|           NULL|            0.0|            0.0|            0.0|            0.0|            0.0|            1.0|            0.0|            0.0|                    NULL|              NULL|                     0.0|       100000.0|          CAL|         0.0|                       0.0|                NULL|                    NULL|                   NULL|                           NULL|                  0.0|                 100000.0|                 GBA|         0.0|                     NULL|    0.45|                      NULL|               NULL|                  NULL|             NULL|            1.0|                      NULL|                    CASH|             0.45|                 NULL|             false|                    NULL|            NULL|                  NULL|              2019-07-16|                  a55475b1|                       a55475b1|                   NULL|             NULL|            P24_27_36|               NULL|                  NULL|             NULL|                    NULL|                   a55475b1|                      a55475b1|                     NULL|              NULL|             a55475b1|                       a55475b1|                 NULL|          T|        NULL|                       0.0|                  0.0|            0.0|               NULL|                    NULL|                        NULL|                       NULL|          0.0|                       0.0|                    NULL|                   NULL|               0.0|               0.0|              0.0|              0.0|               0.0|                 0.0|                     NULL|                    NULL|                           NULL|                 NULL|                     NULL|                     NULL|              1.0|              NULL|                0.0|                       0.0|                   0.0|                  0.0|                    NULL|                       NULL|           0.0|                 NULL|                   NULL|                      NULL|                    NULL|                           NULL|                NULL|                       NULL|                          NULL|                    NULL|                          NULL|                          NULL|                 NULL|                        NULL|                         NULL|                      NULL|                   NULL|                          NULL|               NULL|                      NULL|                     NULL|                        NULL|                  0.0|                 0.0|              0.0|        false|          OTHER|       OTHER|                        NULL|                       NULL|                       NULL|                           NULL|                           NULL|                           NULL|       36.0|                   0.0|                       0.0|                         NULL|                 a55475b1|       NULL|                0.0|                 1.0|                     NULL|                        NULL|         0.0|              0.0|                    NULL|                FO|            AL|           NULL|\n",
      "|  40891|                   NULL|                          NULL|      7638.0|                 0.0|                0.0|                 0.0|                 29.0|                 0.0|                 0.0|                 3.0|                     NULL|                    NULL|                     NULL|                       NULL|                     NULL|                     NULL|                    NULL|                          NULL|                  NULL|            NULL|        NULL|                   0.0|                  0.0|                  0.0|            0.0|             0.0|             0.0|             0.0|           NULL|            0.0|            0.0|            6.0|            0.0|            0.0|            0.0|            0.0|            0.0|                    NULL|              NULL|                     0.0|       100000.0|          CAL|         0.0|                       0.0|                NULL|                    NULL|                   NULL|                           NULL|                  0.0|                 100000.0|                 GBA|         0.0|                     NULL|    0.45|                      NULL|               NULL|                  NULL|             NULL|            1.0|                      NULL|                    CASH|             0.45|                 NULL|             false|                    NULL|            NULL|                  NULL|              2019-10-26|                  a55475b1|                       a55475b1|                   NULL|             NULL|          P94_109_143|               NULL|                  NULL|             NULL|                    NULL|                   a55475b1|                      a55475b1|                 100000.0|        2019-10-26|           P45_84_106|                    P94_109_143|                 NULL|          D|        NULL|                       0.0|                  0.0|            0.0|               NULL|                    NULL|                        NULL|                       NULL|          0.0|                       0.0|                    NULL|                   NULL|               0.0|               0.0|              0.0|              0.0|               0.0|                 0.0|                     NULL|                    NULL|                           NULL|                 NULL|                     NULL|                     NULL|              1.0|              NULL|                0.0|                       0.0|                   0.0|                  1.0|                    NULL|                       NULL|           0.0|                 NULL|                   NULL|                      NULL|                    NULL|                           NULL|                NULL|                       NULL|                          NULL|                    NULL|                          NULL|                          NULL|                 NULL|                        NULL|                         NULL|                      NULL|                   NULL|                          NULL|               NULL|                      NULL|                     NULL|                        NULL|                  0.0|                 0.0|              2.0|        false|          OTHER|       OTHER|                        NULL|                       NULL|                       NULL|                           NULL|                           NULL|                           NULL|       36.0|                   0.0|                       0.0|                         NULL|                 a55475b1|       NULL|                1.0|                 2.0|                     NULL|                        NULL|         0.0|              0.0|                    NULL|                FO|            AL|           NULL|\n",
      "|  40893|                    0.0|                           0.0|      7638.0|                 0.0|                0.0|                 1.0|                  0.0|                15.0|                 2.0|                 3.0|                     NULL|                    NULL|                     NULL|                       NULL|                     NULL|                     NULL|                    NULL|                       -106.85|                  NULL|            NULL|        NULL|                   0.0|                  0.0|                  0.0|            0.0|             0.0|             0.0|             0.0|           NULL|            8.0|            0.0|            0.0|            0.0|            0.0|            0.0|           49.0|            0.0|                     5.0|               3.0|                     0.0|       100000.0|          CAL|         0.0|                       0.0|                NULL|                    NULL|                   NULL|                            0.0|                  0.0|                 100000.0|                 GBA|         0.0|                     NULL|    0.45|                      NULL|               NULL|                  NULL|             NULL|            1.0|                      NULL|                    CASH|             0.45|                 NULL|             false|                    NULL|            NULL|            2019-10-21|              2019-12-17|                  a55475b1|                       a55475b1|                    0.0|       2019-10-09|           P19_105_83|               NULL|                  NULL|             NULL|                    NULL|                   a55475b1|                      a55475b1|                  40000.0|        2019-06-06|           P99_56_166|                    P94_109_143|                 NULL|          T|        NULL|                       0.0|                  0.0|       18155.06|               NULL|                    NULL|                        NULL|                       NULL|          0.0|                       0.0|                    NULL|                   NULL|               0.0|               0.0|              0.0|              0.0|               0.0|                 0.0|                     NULL|                    NULL|                            0.0|                 NULL|                     NULL|                     NULL|              1.0|               0.0|                1.0|                       0.0|                   1.0|                  1.0|                     5.0|                        0.0|           0.0|                  0.0|                    0.0|                       0.0|                    17.0|                            0.0|                 0.0|                        0.0|                           0.0|                     0.0|                           0.0|                           0.0|                  0.0|                         0.0|                          0.0|                       0.0|                    0.0|                           0.0|                0.0|                       0.0|                      0.0|                         0.0|                  0.0|                 0.0|              1.0|        false|          OTHER|       OTHER|                        NULL|                       NULL|                       NULL|                           NULL|                           NULL|                           NULL|       36.0|                   0.0|                       0.0|                         NULL|              P197_47_166|       NULL|                1.0|                 2.0|                      0.0|                         0.0|         0.0|         48920.95|                    NULL|                FO|            AL|           NULL|\n",
      "|  40897|                   NULL|                          NULL|      5107.0|                 0.0|                0.0|                 0.0|                  0.0|                 0.0|                 0.0|                 1.0|                     NULL|                    NULL|                     NULL|                       NULL|                     NULL|                     NULL|                    NULL|                          NULL|                  NULL|            NULL|        NULL|                   0.0|                  0.0|                  0.0|            0.0|             0.0|             0.0|             0.0|           NULL|            0.0|            0.0|            0.0|            0.0|            0.0|            0.0|            0.0|            1.0|                    NULL|              NULL|                     0.0|       120000.0|          CAL|         0.0|                       0.0|                NULL|                    NULL|                   NULL|                           NULL|                  0.0|                 120000.0|                 GBA|         0.0|                     NULL|    0.45|                      NULL|               NULL|                  NULL|             NULL|            2.0|                      NULL|                    CASH|             0.45|                 NULL|             false|                    NULL|            NULL|                  NULL|              2007-03-22|                  a55475b1|                       a55475b1|                   NULL|             NULL|             a55475b1|               NULL|                  NULL|             NULL|                    NULL|                   a55475b1|                      a55475b1|                   8628.0|        2007-03-22|             a55475b1|                       a55475b1|                 NULL|          D|        NULL|                       0.0|                  0.0|            0.0|               NULL|                    NULL|                        NULL|                       NULL|          0.0|                       0.0|                    NULL|                   NULL|               0.0|               0.0|              0.0|              0.0|               0.0|                 0.0|                     NULL|                    NULL|                           NULL|                 NULL|                     NULL|                     NULL|              1.0|              NULL|                0.0|                       0.0|                   0.0|                  0.0|                    NULL|                       NULL|           0.0|                 NULL|                   NULL|                      NULL|                    NULL|                           NULL|                NULL|                       NULL|                          NULL|                    NULL|                          NULL|                          NULL|                 NULL|                        NULL|                         NULL|                      NULL|                   NULL|                          NULL|               NULL|                      NULL|                     NULL|                        NULL|                  0.0|                 0.0|              0.0|        false|          OTHER|       OTHER|                        NULL|                       NULL|                       NULL|                           NULL|                           NULL|                           NULL|       44.0|                   0.0|                       0.0|                          0.0|                 a55475b1|       NULL|                0.0|                 1.0|                     NULL|                        NULL|         0.0|              0.0|                    NULL|                BO|            AL|           NULL|\n",
      "|  40903|                   NULL|                          NULL|      5188.0|                 0.0|                0.0|                 0.0|                  0.0|                 0.0|                 0.0|                12.0|                     NULL|                    NULL|                     NULL|                       NULL|                     NULL|                     NULL|                    NULL|                          NULL|                  NULL|            NULL|        NULL|                   0.0|                  0.0|                  0.0|            0.0|             2.0|             0.0|             0.0|           NULL|            0.0|            0.0|            0.0|            0.0|            0.0|            0.0|            0.0|            0.0|                    NULL|              NULL|                     0.0|       100000.0|          CAL|         0.0|                       0.0|                NULL|                    NULL|                   NULL|                           NULL|                  0.0|                 100000.0|                 GBA|         0.0|                     NULL|    0.26|                      NULL|               NULL|                  NULL|             NULL|            1.0|                      NULL|                    CASH|             0.26|                 NULL|             false|                    NULL|            NULL|                  NULL|              2017-10-31|                  a55475b1|                       a55475b1|                   NULL|             NULL|          P198_89_166|               NULL|                  NULL|             NULL|                    NULL|                   a55475b1|                      a55475b1|                  60000.0|        2016-10-07|          P196_88_176|                    P94_109_143|                 NULL|          T|        NULL|                       0.0|                  0.0|            0.0|               NULL|                    NULL|                        NULL|                       NULL|          0.0|                       0.0|                    NULL|                   NULL|               0.0|               0.0|              0.0|              0.0|               0.0|                 0.0|                     NULL|                    NULL|                           NULL|                 NULL|                     NULL|                     NULL|              2.0|              NULL|                0.0|                       0.0|                   0.0|                  0.0|                    NULL|                       NULL|           0.0|                 NULL|                   NULL|                      NULL|                    NULL|                           NULL|                NULL|                       NULL|                          NULL|                    NULL|                          NULL|                          NULL|                 NULL|                        NULL|                         NULL|                      NULL|                   NULL|                          NULL|               NULL|                      NULL|                     NULL|                        NULL|                  0.0|                 0.0|              0.0|        false|          OTHER|       OTHER|                        NULL|                       NULL|                       NULL|                           NULL|                           NULL|                           NULL|       24.0|                   0.0|                       0.0|                          0.0|                 a55475b1|       NULL|                0.0|                 8.0|                     NULL|                        NULL|         0.0|              0.0|                    NULL|                BO|            AL|           NULL|\n",
      "|  40905|                    0.0|                          NULL|   2873.4001|                 0.0|                0.0|                 0.0|                  0.0|                 1.0|                 0.0|                 0.0|                     NULL|                    NULL|                     NULL|                       NULL|                     NULL|                     NULL|                    NULL|                          NULL|                  NULL|            NULL|        NULL|                   0.0|                  0.0|                  0.0|            1.0|             0.0|             0.0|             0.0|           NULL|            0.0|            0.0|            0.0|            0.0|            0.0|            0.0|            0.0|            0.0|                    NULL|              NULL|                     0.0|        30000.0|          CAL|         0.0|                       0.0|                NULL|                    NULL|                   NULL|                           NULL|                  0.0|                  30000.0|                 GBA|         0.0|                     NULL|    0.45|                      NULL|               NULL|                  NULL|             NULL|            2.0|                      NULL|                    CASH|             0.45|                 NULL|             false|                    NULL|            NULL|                  NULL|              2010-01-09|                  a55475b1|                       a55475b1|                   NULL|             NULL|             a55475b1|               NULL|                  NULL|             NULL|                    NULL|                 P148_110_5|                      a55475b1|                  56340.0|        2010-01-09|             a55475b1|                       a55475b1|                 NULL|          D|        NULL|                       0.0|                  0.0|            0.0|               NULL|                    NULL|                        NULL|                       NULL|          0.0|                       0.0|                    NULL|                   NULL|               0.0|               0.0|              0.0|              0.0|               0.0|                 0.0|                     NULL|                    NULL|                           NULL|                 NULL|                     NULL|                     NULL|              2.0|              NULL|                0.0|                       0.0|                   0.0|                  0.0|                    NULL|                       NULL|           0.0|                 NULL|                   NULL|                      NULL|                    NULL|                           NULL|                NULL|                       NULL|                          NULL|                    NULL|                          NULL|                          NULL|                 NULL|                        NULL|                         NULL|                      NULL|                   NULL|                          NULL|               NULL|                      NULL|                     NULL|                        NULL|                  0.0|                 0.0|              0.0|        false|          OTHER|       OTHER|                        NULL|                       NULL|                       NULL|                           NULL|                           NULL|                           NULL|       18.0|                   0.0|                       0.0|                          0.0|                 a55475b1|        0.0|                0.0|                 0.0|                     NULL|                        NULL|         0.0|              0.0|                    NULL|                BO|            AL|           NULL|\n",
      "+-------+-----------------------+------------------------------+------------+--------------------+-------------------+--------------------+---------------------+--------------------+--------------------+--------------------+-------------------------+------------------------+-------------------------+---------------------------+-------------------------+-------------------------+------------------------+------------------------------+----------------------+----------------+------------+----------------------+---------------------+---------------------+---------------+----------------+----------------+----------------+---------------+---------------+---------------+---------------+---------------+---------------+---------------+---------------+---------------+------------------------+------------------+------------------------+---------------+-------------+------------+--------------------------+--------------------+------------------------+-----------------------+-------------------------------+---------------------+-------------------------+--------------------+------------+-------------------------+--------+--------------------------+-------------------+----------------------+-----------------+---------------+--------------------------+------------------------+-----------------+---------------------+------------------+------------------------+----------------+----------------------+------------------------+--------------------------+-------------------------------+-----------------------+-----------------+---------------------+-------------------+----------------------+-----------------+------------------------+---------------------------+------------------------------+-------------------------+------------------+---------------------+-------------------------------+---------------------+-----------+------------+--------------------------+---------------------+---------------+-------------------+------------------------+----------------------------+---------------------------+-------------+--------------------------+------------------------+-----------------------+------------------+------------------+-----------------+-----------------+------------------+--------------------+-------------------------+------------------------+-------------------------------+---------------------+-------------------------+-------------------------+-----------------+------------------+-------------------+--------------------------+----------------------+---------------------+------------------------+---------------------------+--------------+---------------------+-----------------------+--------------------------+------------------------+-------------------------------+--------------------+---------------------------+------------------------------+------------------------+------------------------------+------------------------------+---------------------+----------------------------+-----------------------------+--------------------------+-----------------------+------------------------------+-------------------+--------------------------+-------------------------+----------------------------+---------------------+--------------------+-----------------+-------------+---------------+------------+----------------------------+---------------------------+---------------------------+-------------------------------+-------------------------------+-------------------------------+-----------+----------------------+--------------------------+-----------------------------+-------------------------+-----------+-------------------+--------------------+-------------------------+----------------------------+------------+-----------------+------------------------+------------------+--------------+---------------+\n",
      "only showing top 20 rows\n",
      "\n"
     ]
    }
   ],
   "source": [
    "parquet_file_path = CURRENT_DIRECTORY_NOTEBOOK / Path(\n",
    "    \"raw_main_dataset/home-credit-credit-risk-model-stability/parquet_files/train/train_static_0_1.parquet\"\n",
    ")\n",
    "\n",
    "spark = SparkSession.builder.appName(\"Parquet_File_Exploration_Static_1\").getOrCreate()\n",
    "\n",
    "df_static_1 = spark.read.parquet(str(parquet_file_path))\n",
    "df_static_1.show()"
   ]
  },
  {
   "cell_type": "code",
   "execution_count": 5,
   "metadata": {},
   "outputs": [
    {
     "name": "stdout",
     "output_type": "stream",
     "text": [
      "Number of rows: 1003757\n",
      "Number of columns: 168\n",
      "Shape of DataFrame: (1003757, 168)\n",
      " -  -  -  -  -  -  -  -  -  -  -  -  -  -  -  -  -  -  -  - \n",
      "Number of rows: 522902\n",
      "Number of columns: 168\n",
      "Shape of DataFrame: (522902, 168)\n",
      " -  -  -  -  -  -  -  -  -  -  -  -  -  -  -  -  -  -  -  - \n"
     ]
    },
    {
     "data": {
      "text/plain": [
       "True"
      ]
     },
     "execution_count": 5,
     "metadata": {},
     "output_type": "execute_result"
    }
   ],
   "source": [
    "get_shape_df(df_static_0)\n",
    "print(\" - \" * 20)\n",
    "get_shape_df(df_static_1)\n",
    "print(\" - \" * 20)\n",
    "df_static_0.columns == df_static_1.columns"
   ]
  },
  {
   "cell_type": "code",
   "execution_count": 6,
   "metadata": {},
   "outputs": [],
   "source": [
    "df_static_depth0 = df_static_0.union(df_static_1)"
   ]
  },
  {
   "cell_type": "code",
   "execution_count": 7,
   "metadata": {},
   "outputs": [
    {
     "name": "stdout",
     "output_type": "stream",
     "text": [
      "Number of rows: 1526659\n",
      "Number of columns: 168\n",
      "Shape of DataFrame: (1526659, 168)\n"
     ]
    }
   ],
   "source": [
    "get_shape_df(df_static_depth0)"
   ]
  },
  {
   "cell_type": "code",
   "execution_count": 8,
   "metadata": {},
   "outputs": [
    {
     "name": "stderr",
     "output_type": "stream",
     "text": [
      " 60%|██████    | 101/168 [00:14<00:08,  8.04it/s]24/07/17 10:48:29 WARN GarbageCollectionMetrics: To enable non-built-in garbage collector(s) List(G1 Concurrent GC), users should configure it(them) to spark.eventLog.gcMetrics.youngGenerationGarbageCollectors or spark.eventLog.gcMetrics.oldGenerationGarbageCollectors\n",
      "100%|██████████| 168/168 [00:23<00:00,  7.30it/s]\n"
     ]
    },
    {
     "data": {
      "application/vnd.plotly.v1+json": {
       "config": {
        "plotlyServerURL": "https://plot.ly"
       },
       "data": [
        {
         "type": "bar",
         "x": [
          "clientscnt_136L",
          "lastrepayingdate_696D",
          "lastotherinc_902A",
          "lastotherlnsexpense_631A",
          "payvacationpostpone_4187118D",
          "isbidproductrequest_292L",
          "interestrategrace_34L",
          "lastdependentsnum_448L",
          "equalityempfrom_62L",
          "maxannuity_4075009A",
          "equalitydataagreement_891L",
          "datelastinstal40dpd_247D",
          "validfrom_1069D",
          "avglnamtstart24m_4525187A",
          "cardtype_51L",
          "inittransactionamount_650A",
          "isdebitcard_729L",
          "totinstallast1m_4525188A",
          "maxpmtlast3m_4525190A",
          "typesuite_864L",
          "bankacctype_710L",
          "maxlnamtstart6m_4525199A",
          "avgpmtlast12m_4525200A",
          "lastdelinqdate_224D",
          "dtlastpmtallstes_4499206D",
          "avgdbdtollast24m_4525197P",
          "mindbdtollast24m_4525191P",
          "maxdbddpdlast1m_3658939P",
          "avgdbddpdlast3m_4187120P",
          "datelastunpaid_3546854D",
          "maxdbddpdtollast6m_4187119P",
          "firstclxcampaign_1125D",
          "numinstmatpaidtearly2d_4499204L",
          "numinstpaid_4499208L",
          "numinstpaidearly5dobd_4499205L",
          "avgoutstandbalancel6m_4187114A",
          "numinstpaidearly3dest_4493216L",
          "numinstpaidearly5dest_4493211L",
          "numinstpaidearlyest_4493214L",
          "numinstregularpaidest_4493210L",
          "numinsttopaygrest_4493213L",
          "numinstunpaidmaxest_4493212L",
          "sumoutstandtotalest_4493215A",
          "datefirstoffer_1144D",
          "maxdpdinstlnum_3546846P",
          "maxdpdinstldate_3546855D",
          "lastrejectcredamount_222A",
          "lastrejectdate_50D",
          "maxoutstandbalancel12m_4187113A",
          "avgmaxdpdlast9m_3716943P",
          "maxdbddpdtollast12m_3658940P",
          "numinstpaidlastcontr_4325080L",
          "avginstallast24m_3658937A",
          "maxinstallast24m_3658928A",
          "avgdbddpdlast24m_3658932P",
          "mindbddpdlast24m_3658935P",
          "amtinstpaidbefduel24m_4187115A",
          "numinstlswithdpd5_4187116L",
          "maininc_215A",
          "firstdatedue_489D",
          "avgdpdtolclosure24_3658938P",
          "pctinstlsallpaidlat10d_839L",
          "cntpmts24_3658933L",
          "pctinstlsallpaidlate6d_3546844L",
          "pctinstlsallpaidlate4d_3546849L",
          "pctinstlsallpaidearl3d_427L",
          "pctinstlsallpaidlate1d_3546856L",
          "numinstlswithdpd10_728L",
          "numinstlswithoutdpd_562L",
          "numinstregularpaid_973L",
          "cntincpaycont9m_3716944L",
          "numincomingpmts_3546848L",
          "lastactivateddate_801D",
          "daysoverduetolerancedd_3976961L",
          "numinsttopaygr_769L",
          "numinstunpaidmax_3546851L",
          "monthsannuity_845L",
          "numinstpaidearly5d_1087L",
          "numinstpaidearly_338L",
          "numinstpaidlate1d_3546852L",
          "numinstpaidearly3d_3546850L",
          "numinstlallpaidearly3d_817L",
          "numinstlsallpaid_934L",
          "sumoutstandtotal_3546847A",
          "lastapprcredamount_781A",
          "lastapprdate_640D",
          "actualdpdtolerance_344P",
          "commnoinclast6m_3546845L",
          "maxdpdfrom6mto36m_3546853P",
          "mastercontrelectronic_519L",
          "mastercontrexist_109L",
          "maxannuity_159A",
          "maxdebt4_972A",
          "maxdpdlast12m_727P",
          "maxdpdlast24m_143P",
          "maxdpdlast3m_392P",
          "maxdpdlast6m_474P",
          "maxdpdlast9m_1059P",
          "maxdpdtolerance_374P"
         ],
         "y": [
          99.97268545235053,
          99.84430052814676,
          99.79982432226187,
          99.79969331723719,
          99.38892706229747,
          99.18396970115789,
          98.63211103461873,
          98.06656234299867,
          97.52321900306487,
          95.02619772981392,
          94.88903546895541,
          91.2345848025001,
          90.05848719327629,
          89.35525222069892,
          87.44375790533446,
          87.4037358702893,
          87.4037358702893,
          76.91377052766859,
          73.97395227093935,
          73.46139511180951,
          72.68348727515443,
          67.65466289459532,
          67.27022864961985,
          64.05981951437747,
          64.00374936380685,
          63.72261258080554,
          63.72261258080554,
          62.944835749175155,
          62.11236431973348,
          58.143894609077726,
          57.39827951101064,
          56.28067564531437,
          55.49313893934402,
          55.49313893934402,
          55.49313893934402,
          55.099468840127365,
          55.06442499602072,
          55.06442499602072,
          55.06442499602072,
          55.06442499602072,
          55.06442499602072,
          55.06442499602072,
          55.06442499602072,
          54.61173713317774,
          54.32791474717013,
          54.105075200159305,
          50.37444511184227,
          50.37444511184227,
          50.23767586605784,
          49.58579486316197,
          46.21228447217093,
          43.83336422868499,
          40.93088240399461,
          40.93088240399461,
          40.16627157734634,
          40.16627157734634,
          36.75503173924236,
          36.75503173924236,
          33.488486950917,
          31.578957710923,
          30.601136206579206,
          30.220370102295274,
          30.18499874562689,
          30.136330378951687,
          30.119823745839774,
          30.04849150989186,
          30.04849150989186,
          29.901569374693366,
          29.901569374693366,
          29.843730656289324,
          29.816088596078107,
          29.80894882223208,
          29.711088068782875,
          29.646044074020462,
          29.646044074020462,
          29.646044074020462,
          29.64597857150811,
          29.64597857150811,
          29.64597857150811,
          29.64597857150811,
          29.278509477231,
          29.192439176004598,
          29.192439176004598,
          29.169578799194845,
          28.954796061202927,
          28.954796061202927,
          27.39170960902205,
          22.491925177790193,
          22.491925177790193,
          20.04501332648614,
          20.04501332648614,
          20.04501332648614,
          20.04501332648614,
          20.04501332648614,
          20.04501332648614,
          20.04501332648614,
          20.04501332648614,
          20.04501332648614,
          20.04501332648614
         ]
        }
       ],
       "layout": {
        "bargap": 0.2,
        "height": 600,
        "template": {
         "data": {
          "bar": [
           {
            "error_x": {
             "color": "#2a3f5f"
            },
            "error_y": {
             "color": "#2a3f5f"
            },
            "marker": {
             "line": {
              "color": "#E5ECF6",
              "width": 0.5
             },
             "pattern": {
              "fillmode": "overlay",
              "size": 10,
              "solidity": 0.2
             }
            },
            "type": "bar"
           }
          ],
          "barpolar": [
           {
            "marker": {
             "line": {
              "color": "#E5ECF6",
              "width": 0.5
             },
             "pattern": {
              "fillmode": "overlay",
              "size": 10,
              "solidity": 0.2
             }
            },
            "type": "barpolar"
           }
          ],
          "carpet": [
           {
            "aaxis": {
             "endlinecolor": "#2a3f5f",
             "gridcolor": "white",
             "linecolor": "white",
             "minorgridcolor": "white",
             "startlinecolor": "#2a3f5f"
            },
            "baxis": {
             "endlinecolor": "#2a3f5f",
             "gridcolor": "white",
             "linecolor": "white",
             "minorgridcolor": "white",
             "startlinecolor": "#2a3f5f"
            },
            "type": "carpet"
           }
          ],
          "choropleth": [
           {
            "colorbar": {
             "outlinewidth": 0,
             "ticks": ""
            },
            "type": "choropleth"
           }
          ],
          "contour": [
           {
            "colorbar": {
             "outlinewidth": 0,
             "ticks": ""
            },
            "colorscale": [
             [
              0,
              "#0d0887"
             ],
             [
              0.1111111111111111,
              "#46039f"
             ],
             [
              0.2222222222222222,
              "#7201a8"
             ],
             [
              0.3333333333333333,
              "#9c179e"
             ],
             [
              0.4444444444444444,
              "#bd3786"
             ],
             [
              0.5555555555555556,
              "#d8576b"
             ],
             [
              0.6666666666666666,
              "#ed7953"
             ],
             [
              0.7777777777777778,
              "#fb9f3a"
             ],
             [
              0.8888888888888888,
              "#fdca26"
             ],
             [
              1,
              "#f0f921"
             ]
            ],
            "type": "contour"
           }
          ],
          "contourcarpet": [
           {
            "colorbar": {
             "outlinewidth": 0,
             "ticks": ""
            },
            "type": "contourcarpet"
           }
          ],
          "heatmap": [
           {
            "colorbar": {
             "outlinewidth": 0,
             "ticks": ""
            },
            "colorscale": [
             [
              0,
              "#0d0887"
             ],
             [
              0.1111111111111111,
              "#46039f"
             ],
             [
              0.2222222222222222,
              "#7201a8"
             ],
             [
              0.3333333333333333,
              "#9c179e"
             ],
             [
              0.4444444444444444,
              "#bd3786"
             ],
             [
              0.5555555555555556,
              "#d8576b"
             ],
             [
              0.6666666666666666,
              "#ed7953"
             ],
             [
              0.7777777777777778,
              "#fb9f3a"
             ],
             [
              0.8888888888888888,
              "#fdca26"
             ],
             [
              1,
              "#f0f921"
             ]
            ],
            "type": "heatmap"
           }
          ],
          "heatmapgl": [
           {
            "colorbar": {
             "outlinewidth": 0,
             "ticks": ""
            },
            "colorscale": [
             [
              0,
              "#0d0887"
             ],
             [
              0.1111111111111111,
              "#46039f"
             ],
             [
              0.2222222222222222,
              "#7201a8"
             ],
             [
              0.3333333333333333,
              "#9c179e"
             ],
             [
              0.4444444444444444,
              "#bd3786"
             ],
             [
              0.5555555555555556,
              "#d8576b"
             ],
             [
              0.6666666666666666,
              "#ed7953"
             ],
             [
              0.7777777777777778,
              "#fb9f3a"
             ],
             [
              0.8888888888888888,
              "#fdca26"
             ],
             [
              1,
              "#f0f921"
             ]
            ],
            "type": "heatmapgl"
           }
          ],
          "histogram": [
           {
            "marker": {
             "pattern": {
              "fillmode": "overlay",
              "size": 10,
              "solidity": 0.2
             }
            },
            "type": "histogram"
           }
          ],
          "histogram2d": [
           {
            "colorbar": {
             "outlinewidth": 0,
             "ticks": ""
            },
            "colorscale": [
             [
              0,
              "#0d0887"
             ],
             [
              0.1111111111111111,
              "#46039f"
             ],
             [
              0.2222222222222222,
              "#7201a8"
             ],
             [
              0.3333333333333333,
              "#9c179e"
             ],
             [
              0.4444444444444444,
              "#bd3786"
             ],
             [
              0.5555555555555556,
              "#d8576b"
             ],
             [
              0.6666666666666666,
              "#ed7953"
             ],
             [
              0.7777777777777778,
              "#fb9f3a"
             ],
             [
              0.8888888888888888,
              "#fdca26"
             ],
             [
              1,
              "#f0f921"
             ]
            ],
            "type": "histogram2d"
           }
          ],
          "histogram2dcontour": [
           {
            "colorbar": {
             "outlinewidth": 0,
             "ticks": ""
            },
            "colorscale": [
             [
              0,
              "#0d0887"
             ],
             [
              0.1111111111111111,
              "#46039f"
             ],
             [
              0.2222222222222222,
              "#7201a8"
             ],
             [
              0.3333333333333333,
              "#9c179e"
             ],
             [
              0.4444444444444444,
              "#bd3786"
             ],
             [
              0.5555555555555556,
              "#d8576b"
             ],
             [
              0.6666666666666666,
              "#ed7953"
             ],
             [
              0.7777777777777778,
              "#fb9f3a"
             ],
             [
              0.8888888888888888,
              "#fdca26"
             ],
             [
              1,
              "#f0f921"
             ]
            ],
            "type": "histogram2dcontour"
           }
          ],
          "mesh3d": [
           {
            "colorbar": {
             "outlinewidth": 0,
             "ticks": ""
            },
            "type": "mesh3d"
           }
          ],
          "parcoords": [
           {
            "line": {
             "colorbar": {
              "outlinewidth": 0,
              "ticks": ""
             }
            },
            "type": "parcoords"
           }
          ],
          "pie": [
           {
            "automargin": true,
            "type": "pie"
           }
          ],
          "scatter": [
           {
            "fillpattern": {
             "fillmode": "overlay",
             "size": 10,
             "solidity": 0.2
            },
            "type": "scatter"
           }
          ],
          "scatter3d": [
           {
            "line": {
             "colorbar": {
              "outlinewidth": 0,
              "ticks": ""
             }
            },
            "marker": {
             "colorbar": {
              "outlinewidth": 0,
              "ticks": ""
             }
            },
            "type": "scatter3d"
           }
          ],
          "scattercarpet": [
           {
            "marker": {
             "colorbar": {
              "outlinewidth": 0,
              "ticks": ""
             }
            },
            "type": "scattercarpet"
           }
          ],
          "scattergeo": [
           {
            "marker": {
             "colorbar": {
              "outlinewidth": 0,
              "ticks": ""
             }
            },
            "type": "scattergeo"
           }
          ],
          "scattergl": [
           {
            "marker": {
             "colorbar": {
              "outlinewidth": 0,
              "ticks": ""
             }
            },
            "type": "scattergl"
           }
          ],
          "scattermapbox": [
           {
            "marker": {
             "colorbar": {
              "outlinewidth": 0,
              "ticks": ""
             }
            },
            "type": "scattermapbox"
           }
          ],
          "scatterpolar": [
           {
            "marker": {
             "colorbar": {
              "outlinewidth": 0,
              "ticks": ""
             }
            },
            "type": "scatterpolar"
           }
          ],
          "scatterpolargl": [
           {
            "marker": {
             "colorbar": {
              "outlinewidth": 0,
              "ticks": ""
             }
            },
            "type": "scatterpolargl"
           }
          ],
          "scatterternary": [
           {
            "marker": {
             "colorbar": {
              "outlinewidth": 0,
              "ticks": ""
             }
            },
            "type": "scatterternary"
           }
          ],
          "surface": [
           {
            "colorbar": {
             "outlinewidth": 0,
             "ticks": ""
            },
            "colorscale": [
             [
              0,
              "#0d0887"
             ],
             [
              0.1111111111111111,
              "#46039f"
             ],
             [
              0.2222222222222222,
              "#7201a8"
             ],
             [
              0.3333333333333333,
              "#9c179e"
             ],
             [
              0.4444444444444444,
              "#bd3786"
             ],
             [
              0.5555555555555556,
              "#d8576b"
             ],
             [
              0.6666666666666666,
              "#ed7953"
             ],
             [
              0.7777777777777778,
              "#fb9f3a"
             ],
             [
              0.8888888888888888,
              "#fdca26"
             ],
             [
              1,
              "#f0f921"
             ]
            ],
            "type": "surface"
           }
          ],
          "table": [
           {
            "cells": {
             "fill": {
              "color": "#EBF0F8"
             },
             "line": {
              "color": "white"
             }
            },
            "header": {
             "fill": {
              "color": "#C8D4E3"
             },
             "line": {
              "color": "white"
             }
            },
            "type": "table"
           }
          ]
         },
         "layout": {
          "annotationdefaults": {
           "arrowcolor": "#2a3f5f",
           "arrowhead": 0,
           "arrowwidth": 1
          },
          "autotypenumbers": "strict",
          "coloraxis": {
           "colorbar": {
            "outlinewidth": 0,
            "ticks": ""
           }
          },
          "colorscale": {
           "diverging": [
            [
             0,
             "#8e0152"
            ],
            [
             0.1,
             "#c51b7d"
            ],
            [
             0.2,
             "#de77ae"
            ],
            [
             0.3,
             "#f1b6da"
            ],
            [
             0.4,
             "#fde0ef"
            ],
            [
             0.5,
             "#f7f7f7"
            ],
            [
             0.6,
             "#e6f5d0"
            ],
            [
             0.7,
             "#b8e186"
            ],
            [
             0.8,
             "#7fbc41"
            ],
            [
             0.9,
             "#4d9221"
            ],
            [
             1,
             "#276419"
            ]
           ],
           "sequential": [
            [
             0,
             "#0d0887"
            ],
            [
             0.1111111111111111,
             "#46039f"
            ],
            [
             0.2222222222222222,
             "#7201a8"
            ],
            [
             0.3333333333333333,
             "#9c179e"
            ],
            [
             0.4444444444444444,
             "#bd3786"
            ],
            [
             0.5555555555555556,
             "#d8576b"
            ],
            [
             0.6666666666666666,
             "#ed7953"
            ],
            [
             0.7777777777777778,
             "#fb9f3a"
            ],
            [
             0.8888888888888888,
             "#fdca26"
            ],
            [
             1,
             "#f0f921"
            ]
           ],
           "sequentialminus": [
            [
             0,
             "#0d0887"
            ],
            [
             0.1111111111111111,
             "#46039f"
            ],
            [
             0.2222222222222222,
             "#7201a8"
            ],
            [
             0.3333333333333333,
             "#9c179e"
            ],
            [
             0.4444444444444444,
             "#bd3786"
            ],
            [
             0.5555555555555556,
             "#d8576b"
            ],
            [
             0.6666666666666666,
             "#ed7953"
            ],
            [
             0.7777777777777778,
             "#fb9f3a"
            ],
            [
             0.8888888888888888,
             "#fdca26"
            ],
            [
             1,
             "#f0f921"
            ]
           ]
          },
          "colorway": [
           "#636efa",
           "#EF553B",
           "#00cc96",
           "#ab63fa",
           "#FFA15A",
           "#19d3f3",
           "#FF6692",
           "#B6E880",
           "#FF97FF",
           "#FECB52"
          ],
          "font": {
           "color": "#2a3f5f"
          },
          "geo": {
           "bgcolor": "white",
           "lakecolor": "white",
           "landcolor": "#E5ECF6",
           "showlakes": true,
           "showland": true,
           "subunitcolor": "white"
          },
          "hoverlabel": {
           "align": "left"
          },
          "hovermode": "closest",
          "mapbox": {
           "style": "light"
          },
          "paper_bgcolor": "white",
          "plot_bgcolor": "#E5ECF6",
          "polar": {
           "angularaxis": {
            "gridcolor": "white",
            "linecolor": "white",
            "ticks": ""
           },
           "bgcolor": "#E5ECF6",
           "radialaxis": {
            "gridcolor": "white",
            "linecolor": "white",
            "ticks": ""
           }
          },
          "scene": {
           "xaxis": {
            "backgroundcolor": "#E5ECF6",
            "gridcolor": "white",
            "gridwidth": 2,
            "linecolor": "white",
            "showbackground": true,
            "ticks": "",
            "zerolinecolor": "white"
           },
           "yaxis": {
            "backgroundcolor": "#E5ECF6",
            "gridcolor": "white",
            "gridwidth": 2,
            "linecolor": "white",
            "showbackground": true,
            "ticks": "",
            "zerolinecolor": "white"
           },
           "zaxis": {
            "backgroundcolor": "#E5ECF6",
            "gridcolor": "white",
            "gridwidth": 2,
            "linecolor": "white",
            "showbackground": true,
            "ticks": "",
            "zerolinecolor": "white"
           }
          },
          "shapedefaults": {
           "line": {
            "color": "#2a3f5f"
           }
          },
          "ternary": {
           "aaxis": {
            "gridcolor": "white",
            "linecolor": "white",
            "ticks": ""
           },
           "baxis": {
            "gridcolor": "white",
            "linecolor": "white",
            "ticks": ""
           },
           "bgcolor": "#E5ECF6",
           "caxis": {
            "gridcolor": "white",
            "linecolor": "white",
            "ticks": ""
           }
          },
          "title": {
           "x": 0.05
          },
          "xaxis": {
           "automargin": true,
           "gridcolor": "white",
           "linecolor": "white",
           "ticks": "",
           "title": {
            "standoff": 15
           },
           "zerolinecolor": "white",
           "zerolinewidth": 2
          },
          "yaxis": {
           "automargin": true,
           "gridcolor": "white",
           "linecolor": "white",
           "ticks": "",
           "title": {
            "standoff": 15
           },
           "zerolinecolor": "white",
           "zerolinewidth": 2
          }
         }
        },
        "title": {
         "text": "Percentage of Missing Values by Column"
        },
        "width": 1800,
        "xaxis": {
         "tickmode": "linear",
         "title": {
          "text": "Columns"
         }
        },
        "yaxis": {
         "title": {
          "text": "Percentage of Missing Values"
         }
        }
       }
      }
     },
     "metadata": {},
     "output_type": "display_data"
    }
   ],
   "source": [
    "missing_values_dict = get_columns_high_missing_values(\n",
    "    df_static_depth0, threshold=20, display=True\n",
    ")"
   ]
  },
  {
   "cell_type": "code",
   "execution_count": 9,
   "metadata": {},
   "outputs": [],
   "source": [
    "df_static_depth0 = df_static_depth0.drop(*list(missing_values_dict.keys()))"
   ]
  },
  {
   "cell_type": "code",
   "execution_count": 10,
   "metadata": {},
   "outputs": [
    {
     "name": "stdout",
     "output_type": "stream",
     "text": [
      "+-------+------------+--------------------+-------------------+--------------------+---------------------+--------------------+--------------------+--------------------+----------------------+---------------------+---------------------+---------------+----------------+----------------+----------------+---------------+---------------+---------------+---------------+---------------+---------------+---------------+---------------+---------------+-------------+------------+--------------------------+---------------------+-------------------------+--------------------+------------+--------+---------------+------------------------+-----------------+------------------+------------------------+--------------------------+-------------------------------+---------------------+---------------------------+------------------------------+---------------------+-------------------------------+-----------+-----------------+-------------------+--------------------------+----------------------+---------------------+--------------+---------------------+--------------------+-----------------+-------------+---------------+------------+-----------+----------------------+--------------------------+-----------------------------+-------------------------+-----------+-------------------+--------------------+------------+-----------------+------------------+\n",
      "|case_id|annuity_780A|annuitynextmonth_57A|applicationcnt_361L|applications30d_658L|applicationscnt_1086L|applicationscnt_464L|applicationscnt_629L|applicationscnt_867L|clientscnt12m_3712952L|clientscnt3m_3712950L|clientscnt6m_3712949L|clientscnt_100L|clientscnt_1022L|clientscnt_1071L|clientscnt_1130L|clientscnt_157L|clientscnt_257L|clientscnt_304L|clientscnt_360L|clientscnt_493L|clientscnt_533L|clientscnt_887L|clientscnt_946L|credamount_770A|credtype_322L|currdebt_22A|currdebtcredtyperange_828A|deferredmnthsnum_166L|disbursedcredamount_1113A|disbursementtype_67L|downpmt_116A|eir_270L|homephncnt_628L|inittransactioncode_186L|interestrate_311L|isbidproduct_1095L|lastapplicationdate_877D|lastapprcommoditycat_1041M|lastapprcommoditytypec_5251766M|lastcancelreason_561M|lastrejectcommoditycat_161M|lastrejectcommodtypec_5251769M|lastrejectreason_759M|lastrejectreasonclient_4145040M|lastst_736L|mobilephncnt_593L|numactivecreds_622L|numactivecredschannel_414L|numactiverelcontr_750L|numcontrs3months_479L|numinstls_657L|numnotactivated_1143L|numpmtchanneldd_318L|numrejects9m_859L|opencred_647L|paytype1st_925L|paytype_783L|pmtnum_254L|posfpd10lastmonth_333P|posfpd30lastmonth_3976960P|posfstqpd30lastmonth_3976962P|previouscontdistrict_112M|price_1097A|sellerplacecnt_915L|sellerplacescnt_216L|totaldebt_9A|totalsettled_863A|twobodfilling_608L|\n",
      "+-------+------------+--------------------+-------------------+--------------------+---------------------+--------------------+--------------------+--------------------+----------------------+---------------------+---------------------+---------------+----------------+----------------+----------------+---------------+---------------+---------------+---------------+---------------+---------------+---------------+---------------+---------------+-------------+------------+--------------------------+---------------------+-------------------------+--------------------+------------+--------+---------------+------------------------+-----------------+------------------+------------------------+--------------------------+-------------------------------+---------------------+---------------------------+------------------------------+---------------------+-------------------------------+-----------+-----------------+-------------------+--------------------------+----------------------+---------------------+--------------+---------------------+--------------------+-----------------+-------------+---------------+------------+-----------+----------------------+--------------------------+-----------------------------+-------------------------+-----------+-------------------+--------------------+------------+-----------------+------------------+\n",
      "|      0|      1917.6|                 0.0|                0.0|                 0.0|                  0.0|                 0.0|                 0.0|                 0.0|                   0.0|                  0.0|                  0.0|            0.0|             0.0|             0.0|             0.0|            0.0|            0.0|            0.0|            0.0|            0.0|            0.0|            0.0|            0.0|        30000.0|          CAL|         0.0|                       0.0|                  0.0|                  30000.0|                 GBA|         0.0|    0.45|            0.0|                    CASH|             0.45|             false|                    NULL|                  a55475b1|                       a55475b1|             a55475b1|                   a55475b1|                      a55475b1|             a55475b1|                       a55475b1|       NULL|              1.0|                0.0|                       0.0|                   0.0|                  0.0|           0.0|                  0.0|                 0.0|              0.0|         NULL|          OTHER|       OTHER|       24.0|                   0.0|                       0.0|                         NULL|                 a55475b1|       NULL|                0.0|                 0.0|         0.0|              0.0|                BO|\n",
      "|      1|      3134.0|                 0.0|                0.0|                 0.0|                  0.0|                 0.0|                 0.0|                 0.0|                   0.0|                  0.0|                  0.0|            0.0|             0.0|             0.0|             0.0|            3.0|            0.0|            0.0|            0.0|            0.0|            0.0|            0.0|            0.0|        19999.8|          CAL|         0.0|                       0.0|                  0.0|                  19999.8|                 GBA|         0.0|  0.2999|            0.0|                    CASH|           0.2999|             false|                    NULL|                  a55475b1|                       a55475b1|             a55475b1|                   a55475b1|                      a55475b1|             a55475b1|                       a55475b1|       NULL|              1.0|                0.0|                       0.0|                   0.0|                  0.0|           0.0|                  0.0|                 0.0|              0.0|         NULL|          OTHER|       OTHER|       18.0|                   0.0|                       0.0|                         NULL|                 a55475b1|       NULL|                0.0|                 0.0|         0.0|              0.0|                BO|\n",
      "|      2|      4937.0|                 0.0|                0.0|                 0.0|                  0.0|                 0.0|                 0.0|                 0.0|                   0.0|                  0.0|                  0.0|            0.0|             0.0|             0.0|             0.0|            0.0|            0.0|            0.0|            0.0|            0.0|            0.0|            0.0|            0.0|        78000.0|          CAL|         0.0|                       0.0|                  0.0|                  78000.0|                 GBA|         0.0|    0.45|            1.0|                    CASH|             0.45|             false|              2013-04-03|                  a55475b1|                       a55475b1|             a55475b1|                   a55475b1|                      a55475b1|             a55475b1|                       a55475b1|          D|              2.0|                0.0|                       0.0|                   0.0|                  0.0|           0.0|                  0.0|                 0.0|              0.0|        false|          OTHER|       OTHER|       36.0|                   0.0|                       0.0|                         NULL|                 a55475b1|       NULL|                0.0|                 0.0|         0.0|              0.0|                BO|\n",
      "|      3|      4643.6|                 0.0|                0.0|                 1.0|                  0.0|                 2.0|                 0.0|                 1.0|                   0.0|                  0.0|                  0.0|            0.0|             0.0|             0.0|             1.0|            0.0|            0.0|            0.0|            0.0|            0.0|            0.0|            0.0|            0.0|        40000.0|          CAL|         0.0|                       0.0|                  0.0|                  40000.0|                 GBA|         0.0|    0.42|            0.0|                    CASH|             0.42|             false|              2019-01-07|                  a55475b1|                       a55475b1|          P94_109_143|                   a55475b1|                      a55475b1|          P94_109_143|                       a55475b1|          D|              1.0|                0.0|                       0.0|                   0.0|                  1.0|           0.0|                  0.0|                 0.0|              1.0|        false|          OTHER|       OTHER|       12.0|                   0.0|                       0.0|                         NULL|                 a55475b1|       NULL|                1.0|                 1.0|         0.0|              0.0|                BO|\n",
      "|      4|      3390.2|                 0.0|                0.0|                 1.0|                  0.0|                 0.0|                 0.0|                 1.0|                   0.0|                  0.0|                  0.0|            0.0|             0.0|             0.0|             0.0|            0.0|            0.0|            0.0|            0.0|            0.0|            0.0|            0.0|            0.0|        44000.0|          CAL|         0.0|                       0.0|                  0.0|                  44000.0|                 GBA|         0.0|    0.45|            1.0|                    CASH|             0.45|             false|              2019-01-08|                  a55475b1|                       a55475b1|            P24_27_36|                   a55475b1|                      a55475b1|             a55475b1|                       a55475b1|          T|              1.0|                0.0|                       0.0|                   0.0|                  0.0|           0.0|                  0.0|                 0.0|              0.0|        false|          OTHER|       OTHER|       24.0|                   0.0|                       0.0|                         NULL|                 a55475b1|       NULL|                0.0|                 0.0|         0.0|              0.0|                BO|\n",
      "|      5|      3600.0|                 0.0|                0.0|                 1.0|                  0.0|                 8.0|                 2.0|                 1.0|                   0.0|                  0.0|                  0.0|            0.0|             0.0|             0.0|             0.0|            0.0|            0.0|            0.0|            0.0|            0.0|            0.0|            2.0|            0.0|        60000.0|          REL|         0.0|                       0.0|                  0.0|                      0.0|                  DD|         0.0|    NULL|            0.0|                     NDF|             NULL|             false|              2019-01-16|                  a55475b1|                       a55475b1|          P85_114_140|                   a55475b1|                      a55475b1|             a55475b1|                       a55475b1|          T|              1.0|                0.0|                       0.0|                   1.0|                  0.0|           0.0|                  0.0|                 0.0|              0.0|        false|          OTHER|       OTHER|       NULL|                   0.0|                       0.0|                          0.0|                 a55475b1|       NULL|                1.0|                 1.0|         0.0|              0.0|                FO|\n",
      "|      6|      3110.8|                 0.0|                0.0|                 0.0|                  0.0|                 0.0|                 0.0|                 1.0|                   0.0|                  0.0|                  0.0|            0.0|             0.0|             0.0|             1.0|            0.0|            0.0|            0.0|            0.0|            0.0|            0.0|            1.0|            0.0|        20000.0|          CAL|         0.0|                       0.0|                  0.0|                  20000.0|                 GBA|         0.0|    0.45|            0.0|                    CASH|             0.45|             false|              2018-09-12|                  a55475b1|                       a55475b1|          P94_109_143|                   a55475b1|                      a55475b1|          P94_109_143|                       a55475b1|          D|              3.0|                0.0|                       0.0|                   0.0|                  0.0|           0.0|                  0.0|                 0.0|              1.0|        false|          OTHER|       OTHER|       12.0|                   0.0|                       0.0|                          0.0|                 a55475b1|       NULL|                0.0|                 1.0|         0.0|              0.0|                FO|\n",
      "|      7|      1218.0|                 0.0|                0.0|                 0.0|                  0.0|                 1.0|                 1.0|                 0.0|                   0.0|                  0.0|                  0.0|            0.0|             0.0|             0.0|             0.0|            0.0|            0.0|            0.0|            0.0|            0.0|            0.0|            0.0|            0.0|        20300.0|          REL|         0.0|                       0.0|                  0.0|                      0.0|                  DD|         0.0|    NULL|            0.0|                     NDF|             NULL|             false|                    NULL|                  a55475b1|                       a55475b1|             a55475b1|                   a55475b1|                      a55475b1|             a55475b1|                       a55475b1|       NULL|              1.0|                0.0|                       0.0|                   1.0|                  0.0|           0.0|                  0.0|                 0.0|              0.0|         NULL|          OTHER|       OTHER|       NULL|                   0.0|                       0.0|                          0.0|                 a55475b1|       NULL|                0.0|                 0.0|         0.0|              0.0|                FO|\n",
      "|      8|      8254.8|                 0.0|                0.0|                 0.0|                  0.0|                 0.0|                 0.0|                 0.0|                   0.0|                  0.0|                  0.0|            1.0|             0.0|             0.0|             0.0|            0.0|            0.0|            0.0|            0.0|            0.0|            0.0|            0.0|            0.0|        40000.0|          CAL|         0.0|                       0.0|                  0.0|                  40000.0|                 GBA|         0.0|    0.45|            0.0|                    CASH|             0.45|             false|                    NULL|                  a55475b1|                       a55475b1|             a55475b1|                   a55475b1|                      a55475b1|             a55475b1|                       a55475b1|       NULL|              1.0|                0.0|                       0.0|                   0.0|                  0.0|           0.0|                  0.0|                 0.0|              0.0|         NULL|          OTHER|       OTHER|        6.0|                   0.0|                       0.0|                          0.0|                 a55475b1|       NULL|                0.0|                 0.0|         0.0|              0.0|                FO|\n",
      "|      9|      4929.4|                 0.0|                0.0|                 0.0|                  0.0|                 0.0|                 0.0|                 0.0|                   0.0|                  0.0|                  0.0|            0.0|             0.0|             0.0|             0.0|            0.0|            0.0|            0.0|            0.0|            0.0|            1.0|            0.0|            0.0|        64000.0|          CAL|         0.0|                       0.0|                  0.0|                  64000.0|                 GBA|         0.0|    0.45|            0.0|                    CASH|             0.45|             false|                    NULL|                  a55475b1|                       a55475b1|             a55475b1|                   a55475b1|                      a55475b1|             a55475b1|                       a55475b1|       NULL|              1.0|                0.0|                       0.0|                   0.0|                  0.0|           0.0|                  0.0|                 0.0|              0.0|         NULL|          OTHER|       OTHER|       30.0|                   0.0|                       0.0|                          0.0|                 a55475b1|       NULL|                0.0|                 0.0|         0.0|              0.0|                FO|\n",
      "|     10|    9568.601|                 0.0|                0.0|                 1.0|                  0.0|                 0.0|                 0.0|                 1.0|                   0.0|                  0.0|                  0.0|            0.0|             0.0|             0.0|             1.0|            0.0|            0.0|            0.0|            0.0|            0.0|            0.0|            0.0|            0.0|       100000.0|          CAL|         0.0|                       0.0|                  0.0|                 100000.0|                 GBA|         0.0|    0.45|            0.0|                    CASH|             0.45|             false|              2019-01-11|                  a55475b1|                       a55475b1|          P73_130_169|                   a55475b1|                      a55475b1|             a55475b1|                       a55475b1|          T|              1.0|                0.0|                       0.0|                   0.0|                  1.0|           0.0|                  0.0|                 0.0|              0.0|         true|          OTHER|       OTHER|       24.0|                   0.0|                       0.0|                          0.0|                 a55475b1|       NULL|                0.0|                 0.0|         0.0|              0.0|                FO|\n",
      "|     11|      4471.0|                 0.0|                0.0|                 0.0|                  0.0|                 2.0|                 0.0|                 0.0|                   0.0|                  0.0|                  0.0|            0.0|             0.0|             0.0|             0.0|            0.0|            0.0|            0.0|            0.0|            0.0|            0.0|            0.0|            0.0|        70000.0|          CAL|         0.0|                       0.0|                  0.0|                  70000.0|                 GBA|         0.0|    0.45|            0.0|                    CASH|             0.45|             false|                    NULL|                  a55475b1|                       a55475b1|             a55475b1|                   a55475b1|                      a55475b1|             a55475b1|                       a55475b1|       NULL|              1.0|                0.0|                       0.0|                   0.0|                  0.0|           0.0|                  0.0|                 0.0|              0.0|         NULL|          OTHER|       OTHER|       24.0|                   0.0|                      NULL|                         NULL|                 a55475b1|       NULL|                0.0|                 0.0|         0.0|              0.0|                FO|\n",
      "|     12|      5215.2|                 0.0|                0.0|                 0.0|                 18.0|                 0.0|                 0.0|                 0.0|                   0.0|                  0.0|                  0.0|            0.0|             0.0|             0.0|             0.0|            0.0|            0.0|            1.0|            0.0|            0.0|            0.0|            1.0|            0.0|        40000.0|          CAL|         0.0|                       0.0|                  0.0|                  40000.0|                 GBA|         0.0|    0.45|            1.0|                    CASH|             0.45|             false|                    NULL|                  a55475b1|                       a55475b1|             a55475b1|                   a55475b1|                      a55475b1|             a55475b1|                       a55475b1|       NULL|              1.0|                0.0|                       0.0|                   0.0|                  0.0|           0.0|                  0.0|                 0.0|              0.0|         NULL|          OTHER|       OTHER|       12.0|                   0.0|                       0.0|                          0.0|                 a55475b1|       NULL|                0.0|                 0.0|         0.0|              0.0|                FO|\n",
      "|     13|      3794.2|                 0.0|                0.0|                 0.0|                  0.0|                 0.0|                 0.0|                 2.0|                   0.0|                  0.0|                  0.0|            0.0|             0.0|             0.0|             0.0|            0.0|            0.0|            0.0|            0.0|            0.0|            0.0|            0.0|            0.0|        44000.0|          CAL|         0.0|                       0.0|                  0.0|                  44000.0|                 GBA|         0.0|    0.45|            1.0|                    CASH|             0.45|             false|              2018-08-20|                  a55475b1|                       a55475b1|          P94_109_143|                   a55475b1|                      a55475b1|          P94_109_143|                       a55475b1|          D|              2.0|                0.0|                       0.0|                   0.0|                  0.0|           0.0|                  0.0|                 0.0|              1.0|        false|          OTHER|       OTHER|       24.0|                   0.0|                       0.0|                          0.0|                 a55475b1|       NULL|                0.0|                 0.0|         0.0|              0.0|                FO|\n",
      "|     14|      2484.8|                 0.0|                0.0|                 0.0|                  2.0|                 0.0|                 0.0|                 2.0|                   0.0|                  0.0|                  0.0|            0.0|             0.0|             0.0|             0.0|            0.0|            0.0|            1.0|            0.0|            0.0|            0.0|            1.0|            0.0|        20000.0|          CAL|         0.0|                       0.0|                  0.0|                  20000.0|                 GBA|         0.0|    0.45|            2.0|                    CASH|             0.45|             false|              2018-12-12|               P159_130_59|                       a55475b1|            P30_86_84|                P100_96_175|                      a55475b1|            P30_86_84|                       a55475b1|          D|              2.0|                0.0|                       0.0|                   0.0|                  1.0|           0.0|                  0.0|                 0.0|              1.0|        false|          OTHER|       OTHER|       12.0|                   0.0|                       0.0|                          0.0|             P205_129_155|       NULL|                1.0|                 2.0|         0.0|          12560.0|                FO|\n",
      "|     15|      6191.0|                 0.0|                0.0|                 0.0|                  6.0|                 1.0|                 0.0|                 0.0|                   0.0|                  0.0|                  0.0|            0.0|             0.0|             0.0|             0.0|            0.0|            0.0|            2.0|            0.0|            0.0|            0.0|           12.0|            0.0|        30000.0|          CAL|         0.0|                       0.0|                  0.0|                  30000.0|                 GBA|         0.0|    0.45|            1.0|                    CASH|             0.45|             false|                    NULL|                  a55475b1|                       a55475b1|             a55475b1|                   a55475b1|                      a55475b1|             a55475b1|                       a55475b1|       NULL|              1.0|                0.0|                       0.0|                   0.0|                  0.0|           0.0|                  0.0|                 0.0|              0.0|         NULL|          OTHER|       OTHER|        6.0|                   0.0|                       0.0|                          0.0|                 a55475b1|       NULL|                0.0|                 0.0|         0.0|              0.0|                FO|\n",
      "|     16|   3253.4001|                 0.0|                0.0|                 0.0|                  0.0|                 0.0|                 0.0|                 0.0|                   0.0|                  0.0|                  0.0|            0.0|             0.0|             0.0|             0.0|            0.0|            0.0|            0.0|            0.0|            0.0|            2.0|            0.0|            0.0|        34000.0|          CAL|         0.0|                       0.0|                  0.0|                  34000.0|                 GBA|         0.0|    0.45|            2.0|                    CASH|             0.45|             false|              2018-04-09|                  a55475b1|                       a55475b1|          P94_109_143|                   a55475b1|                      a55475b1|          P94_109_143|                       a55475b1|          D|              2.0|                0.0|                       0.0|                   0.0|                  0.0|           0.0|                  0.0|                 0.0|              0.0|        false|          OTHER|       OTHER|       18.0|                   0.0|                       0.0|                          0.0|                 a55475b1|       NULL|                0.0|                 0.0|         0.0|              0.0|                FO|\n",
      "|     17|      5109.6|                 0.0|                0.0|                 0.0|                  0.0|                 0.0|                 0.0|                 1.0|                   0.0|                  0.0|                  0.0|            0.0|             0.0|             0.0|             0.0|            1.0|            0.0|            0.0|            0.0|            0.0|            2.0|            0.0|            0.0|        80000.0|          CAL|         0.0|                       0.0|                  0.0|                  80000.0|                 GBA|         0.0|    0.45|            0.0|                    CASH|             0.45|             false|              2017-12-03|                  a55475b1|                       a55475b1|          P94_109_143|                  P53_45_92|                      a55475b1|          P94_109_143|                       a55475b1|          D|              1.0|                0.0|                       0.0|                   0.0|                  0.0|           0.0|                  0.0|                 0.0|              0.0|        false|          OTHER|       OTHER|       24.0|                   0.0|                       0.0|                          0.0|                 a55475b1|       NULL|                0.0|                 1.0|         0.0|              0.0|                FO|\n",
      "|     18|      2436.0|                 0.0|                0.0|                 1.0|                  0.0|                 1.0|                 0.0|                 1.0|                   0.0|                  0.0|                  0.0|            0.0|             0.0|             0.0|             1.0|            0.0|            0.0|            0.0|            0.0|            0.0|            0.0|            1.0|            0.0|        40600.0|          REL|         0.0|                       0.0|                  0.0|                      0.0|                  DD|         0.0|    NULL|            0.0|                     NDF|             NULL|             false|              2018-12-31|                  a55475b1|                       a55475b1|          P73_130_169|                   a55475b1|                      a55475b1|             a55475b1|                       a55475b1|          T|              1.0|                0.0|                       0.0|                   1.0|                  1.0|           0.0|                  0.0|                 0.0|              0.0|        false|          OTHER|       OTHER|       NULL|                   0.0|                       0.0|                          0.0|                 a55475b1|       NULL|                0.0|                 0.0|         0.0|              0.0|                FO|\n",
      "|     19|      2581.0|                 0.0|                0.0|                 0.0|                  0.0|                 0.0|                 0.0|                 0.0|                   0.0|                  0.0|                  0.0|            0.0|             0.0|             0.0|             0.0|            0.0|            0.0|            0.0|            0.0|            0.0|            0.0|            0.0|            0.0|        28000.0|          CAL|         0.0|                       0.0|                  0.0|                  28000.0|                 GBA|         0.0|  0.2999|            0.0|                    CASH|           0.2999|             false|                    NULL|                  a55475b1|                       a55475b1|             a55475b1|                   a55475b1|                      a55475b1|             a55475b1|                       a55475b1|       NULL|              1.0|                0.0|                       0.0|                   0.0|                  0.0|           0.0|                  0.0|                 0.0|              0.0|         NULL|          OTHER|       OTHER|       18.0|                  NULL|                      NULL|                         NULL|                 a55475b1|       NULL|                0.0|                 0.0|         0.0|              0.0|                FO|\n",
      "+-------+------------+--------------------+-------------------+--------------------+---------------------+--------------------+--------------------+--------------------+----------------------+---------------------+---------------------+---------------+----------------+----------------+----------------+---------------+---------------+---------------+---------------+---------------+---------------+---------------+---------------+---------------+-------------+------------+--------------------------+---------------------+-------------------------+--------------------+------------+--------+---------------+------------------------+-----------------+------------------+------------------------+--------------------------+-------------------------------+---------------------+---------------------------+------------------------------+---------------------+-------------------------------+-----------+-----------------+-------------------+--------------------------+----------------------+---------------------+--------------+---------------------+--------------------+-----------------+-------------+---------------+------------+-----------+----------------------+--------------------------+-----------------------------+-------------------------+-----------+-------------------+--------------------+------------+-----------------+------------------+\n",
      "only showing top 20 rows\n",
      "\n"
     ]
    }
   ],
   "source": [
    "df_static_depth0.show()"
   ]
  },
  {
   "cell_type": "code",
   "execution_count": 11,
   "metadata": {},
   "outputs": [
    {
     "name": "stderr",
     "output_type": "stream",
     "text": [
      "  1%|▏         | 1/69 [00:02<02:32,  2.24s/it]                                  "
     ]
    },
    {
     "name": "stdout",
     "output_type": "stream",
     "text": [
      "Column Name: case_id\n",
      "Minimum Value: 0\n",
      "Maximum Value: 2703454\n",
      "Missing Values Count: 0 (0.00%)\n",
      "Number of Unique Values: 1526659\n",
      "Total Number of Rows: 1526659\n",
      "Column Name:  case_id\n",
      "Description - Not Found\n",
      "---------------------------------------------------------------------------------------------------- \n",
      "\n",
      "\n"
     ]
    },
    {
     "name": "stderr",
     "output_type": "stream",
     "text": [
      "  3%|▎         | 2/69 [00:03<01:51,  1.66s/it]                                  "
     ]
    },
    {
     "name": "stdout",
     "output_type": "stream",
     "text": [
      "Column Name: annuity_780A\n",
      "Minimum Value: 80.8\n",
      "Maximum Value: 106007.0\n",
      "Missing Values Count: 0 (0.00%)\n",
      "Number of Unique Values: 75325\n",
      "Total Number of Rows: 1526659\n",
      "Column Name:  annuity_780A\n",
      "Column Description:  Monthly annuity amount.\n",
      "---------------------------------------------------------------------------------------------------- \n",
      "\n",
      "\n"
     ]
    },
    {
     "name": "stderr",
     "output_type": "stream",
     "text": [
      "  4%|▍         | 3/69 [00:04<01:33,  1.42s/it]"
     ]
    },
    {
     "name": "stdout",
     "output_type": "stream",
     "text": [
      "Column Name: annuitynextmonth_57A\n",
      "Minimum Value: 0.0\n",
      "Maximum Value: 87500.0\n",
      "Missing Values Count: 4 (0.00%)\n",
      "Number of Unique Values: 66202\n",
      "Total Number of Rows: 1526659\n",
      "Column Name:  annuitynextmonth_57A\n",
      "Column Description:  Next month's amount of annuity.\n",
      "---------------------------------------------------------------------------------------------------- \n",
      "\n",
      "\n"
     ]
    },
    {
     "name": "stderr",
     "output_type": "stream",
     "text": [
      "  6%|▌         | 4/69 [00:05<01:11,  1.10s/it]"
     ]
    },
    {
     "name": "stdout",
     "output_type": "stream",
     "text": [
      "Column Name: applicationcnt_361L\n",
      "Minimum Value: 0.0\n",
      "Maximum Value: 5.0\n",
      "Missing Values Count: 0 (0.00%)\n",
      "Number of Unique Values: 5\n",
      "Total Number of Rows: 1526659\n",
      "Column Name:  applicationcnt_361L\n",
      "Column Description:  Number of applications associated with the same email address as the client.\n",
      "---------------------------------------------------------------------------------------------------- \n",
      "\n",
      "\n"
     ]
    },
    {
     "name": "stderr",
     "output_type": "stream",
     "text": [
      "  7%|▋         | 5/69 [00:05<00:59,  1.07it/s]"
     ]
    },
    {
     "name": "stdout",
     "output_type": "stream",
     "text": [
      "Column Name: applications30d_658L\n",
      "Minimum Value: 0.0\n",
      "Maximum Value: 28.0\n",
      "Missing Values Count: 0 (0.00%)\n",
      "Number of Unique Values: 25\n",
      "Total Number of Rows: 1526659\n",
      "Column Name:  applications30d_658L\n",
      "Column Description:  Number of applications made by the client in the last 30 days.\n",
      "---------------------------------------------------------------------------------------------------- \n",
      "\n",
      "\n"
     ]
    },
    {
     "name": "stderr",
     "output_type": "stream",
     "text": [
      "  9%|▊         | 6/69 [00:06<00:55,  1.14it/s]"
     ]
    },
    {
     "name": "stdout",
     "output_type": "stream",
     "text": [
      "Column Name: applicationscnt_1086L\n",
      "Minimum Value: 0.0\n",
      "Maximum Value: 728.0\n",
      "Missing Values Count: 0 (0.00%)\n",
      "Number of Unique Values: 125\n",
      "Total Number of Rows: 1526659\n",
      "Column Name:  applicationscnt_1086L\n",
      "Column Description:  Number of applications associated with the same phone number.\n",
      "---------------------------------------------------------------------------------------------------- \n",
      "\n",
      "\n"
     ]
    },
    {
     "name": "stderr",
     "output_type": "stream",
     "text": [
      " 10%|█         | 7/69 [00:07<00:55,  1.13it/s]"
     ]
    },
    {
     "name": "stdout",
     "output_type": "stream",
     "text": [
      "Column Name: applicationscnt_464L\n",
      "Minimum Value: 0.0\n",
      "Maximum Value: 247.0\n",
      "Missing Values Count: 0 (0.00%)\n",
      "Number of Unique Values: 248\n",
      "Total Number of Rows: 1526659\n",
      "Column Name:  applicationscnt_464L\n",
      "Column Description:  Number of applications made in the last 30 days by other clients with the same employer as the applicant.\n",
      "---------------------------------------------------------------------------------------------------- \n",
      "\n",
      "\n"
     ]
    },
    {
     "name": "stderr",
     "output_type": "stream",
     "text": [
      " 12%|█▏        | 8/69 [00:08<00:51,  1.17it/s]"
     ]
    },
    {
     "name": "stdout",
     "output_type": "stream",
     "text": [
      "Column Name: applicationscnt_629L\n",
      "Minimum Value: 0.0\n",
      "Maximum Value: 90.0\n",
      "Missing Values Count: 0 (0.00%)\n",
      "Number of Unique Values: 90\n",
      "Total Number of Rows: 1526659\n",
      "Column Name:  applicationscnt_629L\n",
      "Column Description:  Number of applications with the same employer in the last 7 days.\n",
      "---------------------------------------------------------------------------------------------------- \n",
      "\n",
      "\n"
     ]
    },
    {
     "name": "stderr",
     "output_type": "stream",
     "text": [
      " 13%|█▎        | 9/69 [00:09<00:51,  1.16it/s]"
     ]
    },
    {
     "name": "stdout",
     "output_type": "stream",
     "text": [
      "Column Name: applicationscnt_867L\n",
      "Minimum Value: 0.0\n",
      "Maximum Value: 287.0\n",
      "Missing Values Count: 0 (0.00%)\n",
      "Number of Unique Values: 153\n",
      "Total Number of Rows: 1526659\n",
      "Column Name:  applicationscnt_867L\n",
      "Column Description:  Number of applications associated with the same mobile phone.\n",
      "---------------------------------------------------------------------------------------------------- \n",
      "\n",
      "\n"
     ]
    },
    {
     "name": "stderr",
     "output_type": "stream",
     "text": [
      " 14%|█▍        | 10/69 [00:09<00:48,  1.22it/s]"
     ]
    },
    {
     "name": "stdout",
     "output_type": "stream",
     "text": [
      "Column Name: clientscnt12m_3712952L\n",
      "Minimum Value: 0.0\n",
      "Maximum Value: 198.0\n",
      "Missing Values Count: 0 (0.00%)\n",
      "Number of Unique Values: 89\n",
      "Total Number of Rows: 1526659\n",
      "Column Name:  clientscnt12m_3712952L\n",
      "Column Description:  Number of clients that have used the same mobile phone as the applicant in the past 12 months.\n",
      "---------------------------------------------------------------------------------------------------- \n",
      "\n",
      "\n"
     ]
    },
    {
     "name": "stderr",
     "output_type": "stream",
     "text": [
      " 16%|█▌        | 11/69 [00:10<00:45,  1.28it/s]"
     ]
    },
    {
     "name": "stdout",
     "output_type": "stream",
     "text": [
      "Column Name: clientscnt3m_3712950L\n",
      "Minimum Value: 0.0\n",
      "Maximum Value: 112.0\n",
      "Missing Values Count: 0 (0.00%)\n",
      "Number of Unique Values: 79\n",
      "Total Number of Rows: 1526659\n",
      "Column Name:  clientscnt3m_3712950L\n",
      "Column Description:  Number of clients who have the same mobile phone number in the last 3 months.\n",
      "---------------------------------------------------------------------------------------------------- \n",
      "\n",
      "\n"
     ]
    },
    {
     "name": "stderr",
     "output_type": "stream",
     "text": [
      " 17%|█▋        | 12/69 [00:11<00:42,  1.34it/s]"
     ]
    },
    {
     "name": "stdout",
     "output_type": "stream",
     "text": [
      "Column Name: clientscnt6m_3712949L\n",
      "Minimum Value: 0.0\n",
      "Maximum Value: 175.0\n",
      "Missing Values Count: 0 (0.00%)\n",
      "Number of Unique Values: 89\n",
      "Total Number of Rows: 1526659\n",
      "Column Name:  clientscnt6m_3712949L\n",
      "Column Description:  Total number of clients who have used the same mobile number in the last 6 months.\n",
      "---------------------------------------------------------------------------------------------------- \n",
      "\n",
      "\n"
     ]
    },
    {
     "name": "stderr",
     "output_type": "stream",
     "text": [
      " 19%|█▉        | 13/69 [00:11<00:38,  1.46it/s]"
     ]
    },
    {
     "name": "stdout",
     "output_type": "stream",
     "text": [
      "Column Name: clientscnt_100L\n",
      "Minimum Value: 0.0\n",
      "Maximum Value: 109.0\n",
      "Missing Values Count: 0 (0.00%)\n",
      "Number of Unique Values: 20\n",
      "Total Number of Rows: 1526659\n",
      "Column Name:  clientscnt_100L\n",
      "Column Description:  Number of applications with matching employer's phone and client's.\n",
      "---------------------------------------------------------------------------------------------------- \n",
      "\n",
      "\n"
     ]
    },
    {
     "name": "stderr",
     "output_type": "stream",
     "text": [
      " 20%|██        | 14/69 [00:12<00:37,  1.46it/s]"
     ]
    },
    {
     "name": "stdout",
     "output_type": "stream",
     "text": [
      "Column Name: clientscnt_1022L\n",
      "Minimum Value: 0.0\n",
      "Maximum Value: 266.0\n",
      "Missing Values Count: 0 (0.00%)\n",
      "Number of Unique Values: 107\n",
      "Total Number of Rows: 1526659\n",
      "Column Name:  clientscnt_1022L\n",
      "Column Description:  Number of clients sharing the same mobile phone.\n",
      "---------------------------------------------------------------------------------------------------- \n",
      "\n",
      "\n"
     ]
    },
    {
     "name": "stderr",
     "output_type": "stream",
     "text": [
      " 22%|██▏       | 15/69 [00:13<00:35,  1.54it/s]"
     ]
    },
    {
     "name": "stdout",
     "output_type": "stream",
     "text": [
      "Column Name: clientscnt_1071L\n",
      "Minimum Value: 0.0\n",
      "Maximum Value: 24.0\n",
      "Missing Values Count: 0 (0.00%)\n",
      "Number of Unique Values: 11\n",
      "Total Number of Rows: 1526659\n",
      "Column Name:  clientscnt_1071L\n",
      "Column Description:  Number of applications where the alternative phone number matches that of the client.\n",
      "---------------------------------------------------------------------------------------------------- \n",
      "\n",
      "\n"
     ]
    },
    {
     "name": "stderr",
     "output_type": "stream",
     "text": [
      " 23%|██▎       | 16/69 [00:13<00:35,  1.51it/s]"
     ]
    },
    {
     "name": "stdout",
     "output_type": "stream",
     "text": [
      "Column Name: clientscnt_1130L\n",
      "Minimum Value: 0.0\n",
      "Maximum Value: 35.0\n",
      "Missing Values Count: 0 (0.00%)\n",
      "Number of Unique Values: 34\n",
      "Total Number of Rows: 1526659\n",
      "Column Name:  clientscnt_1130L\n",
      "Column Description:  Number of applications where client's phone number matches the alternative phone contact.\n",
      "---------------------------------------------------------------------------------------------------- \n",
      "\n",
      "\n"
     ]
    },
    {
     "name": "stderr",
     "output_type": "stream",
     "text": [
      " 25%|██▍       | 17/69 [00:14<00:34,  1.52it/s]"
     ]
    },
    {
     "name": "stdout",
     "output_type": "stream",
     "text": [
      "Column Name: clientscnt_157L\n",
      "Minimum Value: 0.0\n",
      "Maximum Value: 390.0\n",
      "Missing Values Count: 0 (0.00%)\n",
      "Number of Unique Values: 42\n",
      "Total Number of Rows: 1526659\n",
      "Column Name:  clientscnt_157L\n",
      "Column Description:  Number of clients whose employer has the same phone number as the client.\n",
      "---------------------------------------------------------------------------------------------------- \n",
      "\n",
      "\n"
     ]
    },
    {
     "name": "stderr",
     "output_type": "stream",
     "text": [
      " 26%|██▌       | 18/69 [00:15<00:34,  1.49it/s]"
     ]
    },
    {
     "name": "stdout",
     "output_type": "stream",
     "text": [
      "Column Name: clientscnt_257L\n",
      "Minimum Value: 0.0\n",
      "Maximum Value: 13.0\n",
      "Missing Values Count: 0 (0.00%)\n",
      "Number of Unique Values: 12\n",
      "Total Number of Rows: 1526659\n",
      "Column Name:  clientscnt_257L\n",
      "Column Description:  Number of clients that share an alternative phone number with the applicant.\n",
      "---------------------------------------------------------------------------------------------------- \n",
      "\n",
      "\n"
     ]
    },
    {
     "name": "stderr",
     "output_type": "stream",
     "text": [
      " 28%|██▊       | 19/69 [00:15<00:32,  1.52it/s]"
     ]
    },
    {
     "name": "stdout",
     "output_type": "stream",
     "text": [
      "Column Name: clientscnt_304L\n",
      "Minimum Value: 0.0\n",
      "Maximum Value: 510.0\n",
      "Missing Values Count: 0 (0.00%)\n",
      "Number of Unique Values: 68\n",
      "Total Number of Rows: 1526659\n",
      "Column Name:  clientscnt_304L\n",
      "Column Description:  Number of clients with the same phone number.\n",
      "---------------------------------------------------------------------------------------------------- \n",
      "\n",
      "\n"
     ]
    },
    {
     "name": "stderr",
     "output_type": "stream",
     "text": [
      " 29%|██▉       | 20/69 [00:16<00:31,  1.53it/s]"
     ]
    },
    {
     "name": "stdout",
     "output_type": "stream",
     "text": [
      "Column Name: clientscnt_360L\n",
      "Minimum Value: 0.0\n",
      "Maximum Value: 15.0\n",
      "Missing Values Count: 0 (0.00%)\n",
      "Number of Unique Values: 10\n",
      "Total Number of Rows: 1526659\n",
      "Column Name:  clientscnt_360L\n",
      "Column Description:  Number of clients that have the same alternative phone number and employer's phone number.\n",
      "---------------------------------------------------------------------------------------------------- \n",
      "\n",
      "\n"
     ]
    },
    {
     "name": "stderr",
     "output_type": "stream",
     "text": [
      " 30%|███       | 21/69 [00:17<00:32,  1.48it/s]"
     ]
    },
    {
     "name": "stdout",
     "output_type": "stream",
     "text": [
      "Column Name: clientscnt_493L\n",
      "Minimum Value: 0.0\n",
      "Maximum Value: 922.0\n",
      "Missing Values Count: 0 (0.00%)\n",
      "Number of Unique Values: 83\n",
      "Total Number of Rows: 1526659\n",
      "Column Name:  clientscnt_493L\n",
      "Column Description:  Number of clients with matching phone numbers for both the employer and the client.\n",
      "---------------------------------------------------------------------------------------------------- \n",
      "\n",
      "\n"
     ]
    },
    {
     "name": "stderr",
     "output_type": "stream",
     "text": [
      " 32%|███▏      | 22/69 [00:17<00:30,  1.52it/s]"
     ]
    },
    {
     "name": "stdout",
     "output_type": "stream",
     "text": [
      "Column Name: clientscnt_533L\n",
      "Minimum Value: 0.0\n",
      "Maximum Value: 12.0\n",
      "Missing Values Count: 0 (0.00%)\n",
      "Number of Unique Values: 9\n",
      "Total Number of Rows: 1526659\n",
      "Column Name:  clientscnt_533L\n",
      "Column Description:  Number of clients with same client's and alternative's phone number\n",
      "---------------------------------------------------------------------------------------------------- \n",
      "\n",
      "\n"
     ]
    },
    {
     "name": "stderr",
     "output_type": "stream",
     "text": [
      " 33%|███▎      | 23/69 [00:18<00:35,  1.29it/s]"
     ]
    },
    {
     "name": "stdout",
     "output_type": "stream",
     "text": [
      "Column Name: clientscnt_887L\n",
      "Minimum Value: 0.0\n",
      "Maximum Value: 1242.0\n",
      "Missing Values Count: 0 (0.00%)\n",
      "Number of Unique Values: 1037\n",
      "Total Number of Rows: 1526659\n",
      "Column Name:  clientscnt_887L\n",
      "Column Description:  Number of clients sharing the same employer's phone number.\n",
      "---------------------------------------------------------------------------------------------------- \n",
      "\n",
      "\n"
     ]
    },
    {
     "name": "stderr",
     "output_type": "stream",
     "text": [
      " 35%|███▍      | 24/69 [00:19<00:33,  1.36it/s]"
     ]
    },
    {
     "name": "stdout",
     "output_type": "stream",
     "text": [
      "Column Name: clientscnt_946L\n",
      "Minimum Value: 0.0\n",
      "Maximum Value: 72.0\n",
      "Missing Values Count: 0 (0.00%)\n",
      "Number of Unique Values: 22\n",
      "Total Number of Rows: 1526659\n",
      "Column Name:  clientscnt_946L\n",
      "Column Description:  Number of clients with matching mobile and employer's number.\n",
      "---------------------------------------------------------------------------------------------------- \n",
      "\n",
      "\n"
     ]
    },
    {
     "name": "stderr",
     "output_type": "stream",
     "text": [
      " 36%|███▌      | 25/69 [00:20<00:37,  1.17it/s]"
     ]
    },
    {
     "name": "stdout",
     "output_type": "stream",
     "text": [
      "Column Name: credamount_770A\n",
      "Minimum Value: 2000.0\n",
      "Maximum Value: 950000.0\n",
      "Missing Values Count: 0 (0.00%)\n",
      "Number of Unique Values: 183502\n",
      "Total Number of Rows: 1526659\n",
      "Column Name:  credamount_770A\n",
      "Column Description:  Loan amount or credit card limit.\n",
      "---------------------------------------------------------------------------------------------------- \n",
      "\n",
      "\n"
     ]
    },
    {
     "name": "stderr",
     "output_type": "stream",
     "text": [
      " 38%|███▊      | 26/69 [00:21<00:40,  1.06it/s]"
     ]
    },
    {
     "name": "stdout",
     "output_type": "stream",
     "text": [
      "Column Name: credtype_322L\n",
      "Minimum Value: CAL\n",
      "Maximum Value: REL\n",
      "Missing Values Count: 1 (0.00%)\n",
      "Number of Unique Values: 3\n",
      "Total Number of Rows: 1526659\n",
      "Column Name:  credtype_322L\n",
      "Column Description:  Type of credit.\n",
      "---------------------------------------------------------------------------------------------------- \n",
      "\n",
      "\n"
     ]
    },
    {
     "name": "stderr",
     "output_type": "stream",
     "text": [
      " 39%|███▉      | 27/69 [00:23<00:43,  1.05s/it]"
     ]
    },
    {
     "name": "stdout",
     "output_type": "stream",
     "text": [
      "Column Name: currdebt_22A\n",
      "Minimum Value: 0.0\n",
      "Maximum Value: 1210629.1\n",
      "Missing Values Count: 4 (0.00%)\n",
      "Number of Unique Values: 363802\n",
      "Total Number of Rows: 1526659\n",
      "Column Name:  currdebt_22A\n",
      "Column Description:  Current debt amount of the client.\n",
      "---------------------------------------------------------------------------------------------------- \n",
      "\n",
      "\n"
     ]
    },
    {
     "name": "stderr",
     "output_type": "stream",
     "text": [
      " 41%|████      | 28/69 [00:24<00:44,  1.09s/it]"
     ]
    },
    {
     "name": "stdout",
     "output_type": "stream",
     "text": [
      "Column Name: currdebtcredtyperange_828A\n",
      "Minimum Value: 0.0\n",
      "Maximum Value: 1029392.8\n",
      "Missing Values Count: 4 (0.00%)\n",
      "Number of Unique Values: 235536\n",
      "Total Number of Rows: 1526659\n",
      "Column Name:  currdebtcredtyperange_828A\n",
      "Column Description:  Current amount of debt of the applicant.\n",
      "---------------------------------------------------------------------------------------------------- \n",
      "\n",
      "\n"
     ]
    },
    {
     "name": "stderr",
     "output_type": "stream",
     "text": [
      " 42%|████▏     | 29/69 [00:24<00:37,  1.07it/s]"
     ]
    },
    {
     "name": "stdout",
     "output_type": "stream",
     "text": [
      "Column Name: deferredmnthsnum_166L\n",
      "Minimum Value: 0.0\n",
      "Maximum Value: 0.0\n",
      "Missing Values Count: 0 (0.00%)\n",
      "Number of Unique Values: 1\n",
      "Total Number of Rows: 1526659\n",
      "Column Name:  deferredmnthsnum_166L\n",
      "Column Description:  Number of deferred months.\n",
      "---------------------------------------------------------------------------------------------------- \n",
      "\n",
      "\n"
     ]
    },
    {
     "name": "stderr",
     "output_type": "stream",
     "text": [
      " 43%|████▎     | 30/69 [00:26<00:40,  1.03s/it]                                 "
     ]
    },
    {
     "name": "stdout",
     "output_type": "stream",
     "text": [
      "Column Name: disbursedcredamount_1113A\n",
      "Minimum Value: 0.0\n",
      "Maximum Value: 950000.0\n",
      "Missing Values Count: 0 (0.00%)\n",
      "Number of Unique Values: 202398\n",
      "Total Number of Rows: 1526659\n",
      "Column Name:  disbursedcredamount_1113A\n",
      "Column Description:  Disbursed credit amount after consolidation.\n",
      "---------------------------------------------------------------------------------------------------- \n",
      "\n",
      "\n"
     ]
    },
    {
     "name": "stderr",
     "output_type": "stream",
     "text": [
      " 45%|████▍     | 31/69 [00:26<00:36,  1.05it/s]"
     ]
    },
    {
     "name": "stdout",
     "output_type": "stream",
     "text": [
      "Column Name: disbursementtype_67L\n",
      "Minimum Value: DD\n",
      "Maximum Value: SBA\n",
      "Missing Values Count: 866 (0.06%)\n",
      "Number of Unique Values: 3\n",
      "Total Number of Rows: 1526659\n",
      "Column Name:  disbursementtype_67L\n",
      "Column Description:  Type of disbursement.\n",
      "---------------------------------------------------------------------------------------------------- \n",
      "\n",
      "\n"
     ]
    },
    {
     "name": "stderr",
     "output_type": "stream",
     "text": [
      " 46%|████▋     | 32/69 [00:27<00:36,  1.02it/s]"
     ]
    },
    {
     "name": "stdout",
     "output_type": "stream",
     "text": [
      "Column Name: downpmt_116A\n",
      "Minimum Value: 0.0\n",
      "Maximum Value: 461867.4\n",
      "Missing Values Count: 0 (0.00%)\n",
      "Number of Unique Values: 10042\n",
      "Total Number of Rows: 1526659\n",
      "Column Name:  downpmt_116A\n",
      "Column Description:  Amount of downpayment.\n",
      "---------------------------------------------------------------------------------------------------- \n",
      "\n",
      "\n"
     ]
    },
    {
     "name": "stderr",
     "output_type": "stream",
     "text": [
      " 48%|████▊     | 33/69 [00:28<00:32,  1.10it/s]"
     ]
    },
    {
     "name": "stdout",
     "output_type": "stream",
     "text": [
      "Column Name: eir_270L\n",
      "Minimum Value: 0.0\n",
      "Maximum Value: 0.45\n",
      "Missing Values Count: 190833 (12.50%)\n",
      "Number of Unique Values: 115\n",
      "Total Number of Rows: 1526659\n",
      "Column Name:  eir_270L\n",
      "Column Description:  Interest rate.\n",
      "---------------------------------------------------------------------------------------------------- \n",
      "\n",
      "\n"
     ]
    },
    {
     "name": "stderr",
     "output_type": "stream",
     "text": [
      " 49%|████▉     | 34/69 [00:29<00:29,  1.20it/s]"
     ]
    },
    {
     "name": "stdout",
     "output_type": "stream",
     "text": [
      "Column Name: homephncnt_628L\n",
      "Minimum Value: 0.0\n",
      "Maximum Value: 14.0\n",
      "Missing Values Count: 0 (0.00%)\n",
      "Number of Unique Values: 15\n",
      "Total Number of Rows: 1526659\n",
      "Column Name:  homephncnt_628L\n",
      "Column Description:  Number of distinct home phones on client's application.\n",
      "---------------------------------------------------------------------------------------------------- \n",
      "\n",
      "\n"
     ]
    },
    {
     "name": "stderr",
     "output_type": "stream",
     "text": [
      " 51%|█████     | 35/69 [00:29<00:27,  1.25it/s]"
     ]
    },
    {
     "name": "stdout",
     "output_type": "stream",
     "text": [
      "Column Name: inittransactioncode_186L\n",
      "Minimum Value: CASH\n",
      "Maximum Value: POS\n",
      "Missing Values Count: 1 (0.00%)\n",
      "Number of Unique Values: 3\n",
      "Total Number of Rows: 1526659\n",
      "Column Name:  inittransactioncode_186L\n",
      "Column Description:  Transaction type of the initial credit transaction.\n",
      "---------------------------------------------------------------------------------------------------- \n",
      "\n",
      "\n"
     ]
    },
    {
     "name": "stderr",
     "output_type": "stream",
     "text": [
      " 52%|█████▏    | 36/69 [00:30<00:25,  1.28it/s]"
     ]
    },
    {
     "name": "stdout",
     "output_type": "stream",
     "text": [
      "Column Name: interestrate_311L\n",
      "Minimum Value: 0.0\n",
      "Maximum Value: 0.45\n",
      "Missing Values Count: 190833 (12.50%)\n",
      "Number of Unique Values: 115\n",
      "Total Number of Rows: 1526659\n",
      "Column Name:  interestrate_311L\n",
      "Column Description:  The interest rate of the active credit contract.\n",
      "---------------------------------------------------------------------------------------------------- \n",
      "\n",
      "\n"
     ]
    },
    {
     "name": "stderr",
     "output_type": "stream",
     "text": [
      " 54%|█████▎    | 37/69 [00:31<00:23,  1.34it/s]"
     ]
    },
    {
     "name": "stdout",
     "output_type": "stream",
     "text": [
      "Column Name: isbidproduct_1095L\n",
      "Minimum Value: False\n",
      "Maximum Value: True\n",
      "Missing Values Count: 0 (0.00%)\n",
      "Number of Unique Values: 2\n",
      "Total Number of Rows: 1526659\n",
      "Column Name:  isbidproduct_1095L\n",
      "Column Description:  Flag indicating if the product is a cross-sell.\n",
      "---------------------------------------------------------------------------------------------------- \n",
      "\n",
      "\n"
     ]
    },
    {
     "name": "stderr",
     "output_type": "stream",
     "text": [
      " 55%|█████▌    | 38/69 [00:32<00:26,  1.16it/s]"
     ]
    },
    {
     "name": "stdout",
     "output_type": "stream",
     "text": [
      "Column Name: lastapplicationdate_877D\n",
      "Minimum Value: 2006-01-03\n",
      "Maximum Value: 2020-10-19\n",
      "Missing Values Count: 305137 (19.99%)\n",
      "Number of Unique Values: 5381\n",
      "Total Number of Rows: 1526659\n",
      "Column Name:  lastapplicationdate_877D\n",
      "Column Description:  Date of previous customer's application.\n",
      "---------------------------------------------------------------------------------------------------- \n",
      "\n",
      "\n"
     ]
    },
    {
     "name": "stderr",
     "output_type": "stream",
     "text": [
      " 57%|█████▋    | 39/69 [00:33<00:24,  1.20it/s]"
     ]
    },
    {
     "name": "stdout",
     "output_type": "stream",
     "text": [
      "Column Name: lastapprcommoditycat_1041M\n",
      "Minimum Value: P100_96_175\n",
      "Maximum Value: a55475b1\n",
      "Missing Values Count: 0 (0.00%)\n",
      "Number of Unique Values: 45\n",
      "Total Number of Rows: 1526659\n",
      "Column Name:  lastapprcommoditycat_1041M\n",
      "Column Description:  Commodity category of the last loan applications made by the applicant.\n",
      "---------------------------------------------------------------------------------------------------- \n",
      "\n",
      "\n"
     ]
    },
    {
     "name": "stderr",
     "output_type": "stream",
     "text": [
      " 58%|█████▊    | 40/69 [00:34<00:24,  1.16it/s]"
     ]
    },
    {
     "name": "stdout",
     "output_type": "stream",
     "text": [
      "Column Name: lastapprcommoditytypec_5251766M\n",
      "Minimum Value: P100_118_186\n",
      "Maximum Value: a55475b1\n",
      "Missing Values Count: 0 (0.00%)\n",
      "Number of Unique Values: 214\n",
      "Total Number of Rows: 1526659\n",
      "Column Name:  lastapprcommoditytypec_5251766M\n",
      "Column Description:  Commodity type of the last application.\n",
      "---------------------------------------------------------------------------------------------------- \n",
      "\n",
      "\n"
     ]
    },
    {
     "name": "stderr",
     "output_type": "stream",
     "text": [
      " 59%|█████▉    | 41/69 [00:35<00:23,  1.17it/s]"
     ]
    },
    {
     "name": "stdout",
     "output_type": "stream",
     "text": [
      "Column Name: lastcancelreason_561M\n",
      "Minimum Value: P107_145_100\n",
      "Maximum Value: a55475b1\n",
      "Missing Values Count: 0 (0.00%)\n",
      "Number of Unique Values: 74\n",
      "Total Number of Rows: 1526659\n",
      "Column Name:  lastcancelreason_561M\n",
      "Column Description:  Cancellation reason of the last application.\n",
      "---------------------------------------------------------------------------------------------------- \n",
      "\n",
      "\n"
     ]
    },
    {
     "name": "stderr",
     "output_type": "stream",
     "text": [
      " 61%|██████    | 42/69 [00:35<00:22,  1.21it/s]"
     ]
    },
    {
     "name": "stdout",
     "output_type": "stream",
     "text": [
      "Column Name: lastrejectcommoditycat_161M\n",
      "Minimum Value: P100_96_175\n",
      "Maximum Value: a55475b1\n",
      "Missing Values Count: 0 (0.00%)\n",
      "Number of Unique Values: 45\n",
      "Total Number of Rows: 1526659\n",
      "Column Name:  lastrejectcommoditycat_161M\n",
      "Column Description:  Category of commodity in the applicant's last rejected application.\n",
      "---------------------------------------------------------------------------------------------------- \n",
      "\n",
      "\n"
     ]
    },
    {
     "name": "stderr",
     "output_type": "stream",
     "text": [
      " 62%|██████▏   | 43/69 [00:36<00:21,  1.19it/s]"
     ]
    },
    {
     "name": "stdout",
     "output_type": "stream",
     "text": [
      "Column Name: lastrejectcommodtypec_5251769M\n",
      "Minimum Value: P100_118_186\n",
      "Maximum Value: a55475b1\n",
      "Missing Values Count: 0 (0.00%)\n",
      "Number of Unique Values: 187\n",
      "Total Number of Rows: 1526659\n",
      "Column Name:  lastrejectcommodtypec_5251769M\n",
      "Column Description:  Commodity type of the last rejected application.\n",
      "---------------------------------------------------------------------------------------------------- \n",
      "\n",
      "\n"
     ]
    },
    {
     "name": "stderr",
     "output_type": "stream",
     "text": [
      " 64%|██████▍   | 44/69 [00:37<00:20,  1.24it/s]"
     ]
    },
    {
     "name": "stdout",
     "output_type": "stream",
     "text": [
      "Column Name: lastrejectreason_759M\n",
      "Minimum Value: P121_60_164\n",
      "Maximum Value: a55475b1\n",
      "Missing Values Count: 0 (0.00%)\n",
      "Number of Unique Values: 18\n",
      "Total Number of Rows: 1526659\n",
      "Column Name:  lastrejectreason_759M\n",
      "Column Description:  Reason for rejection on the most recent rejected application.\n",
      "---------------------------------------------------------------------------------------------------- \n",
      "\n",
      "\n"
     ]
    },
    {
     "name": "stderr",
     "output_type": "stream",
     "text": [
      " 65%|██████▌   | 45/69 [00:38<00:18,  1.27it/s]"
     ]
    },
    {
     "name": "stdout",
     "output_type": "stream",
     "text": [
      "Column Name: lastrejectreasonclient_4145040M\n",
      "Minimum Value: P129_162_80\n",
      "Maximum Value: a55475b1\n",
      "Missing Values Count: 0 (0.00%)\n",
      "Number of Unique Values: 14\n",
      "Total Number of Rows: 1526659\n",
      "Column Name:  lastrejectreasonclient_4145040M\n",
      "Column Description:  Reason for the client's last loan rejection.\n",
      "---------------------------------------------------------------------------------------------------- \n",
      "\n",
      "\n"
     ]
    },
    {
     "name": "stderr",
     "output_type": "stream",
     "text": [
      " 67%|██████▋   | 46/69 [00:38<00:18,  1.27it/s]"
     ]
    },
    {
     "name": "stdout",
     "output_type": "stream",
     "text": [
      "Column Name: lastst_736L\n",
      "Minimum Value: A\n",
      "Maximum Value: T\n",
      "Missing Values Count: 305137 (19.99%)\n",
      "Number of Unique Values: 11\n",
      "Total Number of Rows: 1526659\n",
      "Column Name:  lastst_736L\n",
      "Column Description:  Status of the client's previous credit application.\n",
      "---------------------------------------------------------------------------------------------------- \n",
      "\n",
      "\n"
     ]
    },
    {
     "name": "stderr",
     "output_type": "stream",
     "text": [
      " 68%|██████▊   | 47/69 [00:39<00:16,  1.37it/s]"
     ]
    },
    {
     "name": "stdout",
     "output_type": "stream",
     "text": [
      "Column Name: mobilephncnt_593L\n",
      "Minimum Value: 0.0\n",
      "Maximum Value: 23.0\n",
      "Missing Values Count: 0 (0.00%)\n",
      "Number of Unique Values: 24\n",
      "Total Number of Rows: 1526659\n",
      "Column Name:  mobilephncnt_593L\n",
      "Column Description:  Number of persons with the same mobile phone number.\n",
      "---------------------------------------------------------------------------------------------------- \n",
      "\n",
      "\n"
     ]
    },
    {
     "name": "stderr",
     "output_type": "stream",
     "text": [
      " 70%|██████▉   | 48/69 [00:40<00:14,  1.46it/s]"
     ]
    },
    {
     "name": "stdout",
     "output_type": "stream",
     "text": [
      "Column Name: numactivecreds_622L\n",
      "Minimum Value: 0.0\n",
      "Maximum Value: 7.0\n",
      "Missing Values Count: 0 (0.00%)\n",
      "Number of Unique Values: 8\n",
      "Total Number of Rows: 1526659\n",
      "Column Name:  numactivecreds_622L\n",
      "Column Description:  Number of active credits.\n",
      "---------------------------------------------------------------------------------------------------- \n",
      "\n",
      "\n"
     ]
    },
    {
     "name": "stderr",
     "output_type": "stream",
     "text": [
      " 71%|███████   | 49/69 [00:40<00:12,  1.55it/s]"
     ]
    },
    {
     "name": "stdout",
     "output_type": "stream",
     "text": [
      "Column Name: numactivecredschannel_414L\n",
      "Minimum Value: 0.0\n",
      "Maximum Value: 4.0\n",
      "Missing Values Count: 0 (0.00%)\n",
      "Number of Unique Values: 5\n",
      "Total Number of Rows: 1526659\n",
      "Column Name:  numactivecredschannel_414L\n",
      "Column Description:  Number of active credits.\n",
      "---------------------------------------------------------------------------------------------------- \n",
      "\n",
      "\n"
     ]
    },
    {
     "name": "stderr",
     "output_type": "stream",
     "text": [
      " 72%|███████▏  | 50/69 [00:41<00:11,  1.59it/s]"
     ]
    },
    {
     "name": "stdout",
     "output_type": "stream",
     "text": [
      "Column Name: numactiverelcontr_750L\n",
      "Minimum Value: 0.0\n",
      "Maximum Value: 8.0\n",
      "Missing Values Count: 0 (0.00%)\n",
      "Number of Unique Values: 9\n",
      "Total Number of Rows: 1526659\n",
      "Column Name:  numactiverelcontr_750L\n",
      "Column Description:  Number of active revolving credits.\n",
      "---------------------------------------------------------------------------------------------------- \n",
      "\n",
      "\n"
     ]
    },
    {
     "name": "stderr",
     "output_type": "stream",
     "text": [
      " 74%|███████▍  | 51/69 [00:41<00:11,  1.61it/s]"
     ]
    },
    {
     "name": "stdout",
     "output_type": "stream",
     "text": [
      "Column Name: numcontrs3months_479L\n",
      "Minimum Value: 0.0\n",
      "Maximum Value: 58.0\n",
      "Missing Values Count: 0 (0.00%)\n",
      "Number of Unique Values: 42\n",
      "Total Number of Rows: 1526659\n",
      "Column Name:  numcontrs3months_479L\n",
      "Column Description:  Number of contracts in last 3 months.\n",
      "---------------------------------------------------------------------------------------------------- \n",
      "\n",
      "\n"
     ]
    },
    {
     "name": "stderr",
     "output_type": "stream",
     "text": [
      " 75%|███████▌  | 52/69 [00:42<00:11,  1.45it/s]"
     ]
    },
    {
     "name": "stdout",
     "output_type": "stream",
     "text": [
      "Column Name: numinstls_657L\n",
      "Minimum Value: 0.0\n",
      "Maximum Value: 448.0\n",
      "Missing Values Count: 4 (0.00%)\n",
      "Number of Unique Values: 303\n",
      "Total Number of Rows: 1526659\n",
      "Column Name:  numinstls_657L\n",
      "Column Description:  Number of instalments.\n",
      "---------------------------------------------------------------------------------------------------- \n",
      "\n",
      "\n"
     ]
    },
    {
     "name": "stderr",
     "output_type": "stream",
     "text": [
      " 77%|███████▋  | 53/69 [00:43<00:10,  1.55it/s]"
     ]
    },
    {
     "name": "stdout",
     "output_type": "stream",
     "text": [
      "Column Name: numnotactivated_1143L\n",
      "Minimum Value: 0.0\n",
      "Maximum Value: 4.0\n",
      "Missing Values Count: 0 (0.00%)\n",
      "Number of Unique Values: 5\n",
      "Total Number of Rows: 1526659\n",
      "Column Name:  numnotactivated_1143L\n",
      "Column Description:  Number of non-activated credits.\n",
      "---------------------------------------------------------------------------------------------------- \n",
      "\n",
      "\n"
     ]
    },
    {
     "name": "stderr",
     "output_type": "stream",
     "text": [
      " 78%|███████▊  | 54/69 [00:43<00:09,  1.60it/s]"
     ]
    },
    {
     "name": "stdout",
     "output_type": "stream",
     "text": [
      "Column Name: numpmtchanneldd_318L\n",
      "Minimum Value: 0.0\n",
      "Maximum Value: 4.0\n",
      "Missing Values Count: 0 (0.00%)\n",
      "Number of Unique Values: 5\n",
      "Total Number of Rows: 1526659\n",
      "Column Name:  numpmtchanneldd_318L\n",
      "Column Description:  Number of previous loan contracts for the applicant that had direct debit as payment channel.\n",
      "---------------------------------------------------------------------------------------------------- \n",
      "\n",
      "\n"
     ]
    },
    {
     "name": "stderr",
     "output_type": "stream",
     "text": [
      " 80%|███████▉  | 55/69 [00:44<00:09,  1.52it/s]"
     ]
    },
    {
     "name": "stdout",
     "output_type": "stream",
     "text": [
      "Column Name: numrejects9m_859L\n",
      "Minimum Value: 0.0\n",
      "Maximum Value: 153.0\n",
      "Missing Values Count: 0 (0.00%)\n",
      "Number of Unique Values: 65\n",
      "Total Number of Rows: 1526659\n",
      "Column Name:  numrejects9m_859L\n",
      "Column Description:  Number of credit applications that were rejected in the last 9 months.\n",
      "---------------------------------------------------------------------------------------------------- \n",
      "\n",
      "\n"
     ]
    },
    {
     "name": "stderr",
     "output_type": "stream",
     "text": [
      " 81%|████████  | 56/69 [00:45<00:08,  1.53it/s]"
     ]
    },
    {
     "name": "stdout",
     "output_type": "stream",
     "text": [
      "Column Name: opencred_647L\n",
      "Minimum Value: False\n",
      "Maximum Value: True\n",
      "Missing Values Count: 305137 (19.99%)\n",
      "Number of Unique Values: 2\n",
      "Total Number of Rows: 1526659\n",
      "Column Name:  opencred_647L\n",
      "Column Description:  Number of active loans from the previous application.\n",
      "---------------------------------------------------------------------------------------------------- \n",
      "\n",
      "\n"
     ]
    },
    {
     "name": "stderr",
     "output_type": "stream",
     "text": [
      " 83%|████████▎ | 57/69 [00:45<00:07,  1.53it/s]"
     ]
    },
    {
     "name": "stdout",
     "output_type": "stream",
     "text": [
      "Column Name: paytype1st_925L\n",
      "Minimum Value: OTHER\n",
      "Maximum Value: OTHER\n",
      "Missing Values Count: 58575 (3.84%)\n",
      "Number of Unique Values: 1\n",
      "Total Number of Rows: 1526659\n",
      "Column Name:  paytype1st_925L\n",
      "Column Description:  Type of first payment of the client.\n",
      "---------------------------------------------------------------------------------------------------- \n",
      "\n",
      "\n"
     ]
    },
    {
     "name": "stderr",
     "output_type": "stream",
     "text": [
      " 84%|████████▍ | 58/69 [00:46<00:07,  1.46it/s]"
     ]
    },
    {
     "name": "stdout",
     "output_type": "stream",
     "text": [
      "Column Name: paytype_783L\n",
      "Minimum Value: OTHER\n",
      "Maximum Value: OTHER\n",
      "Missing Values Count: 58575 (3.84%)\n",
      "Number of Unique Values: 1\n",
      "Total Number of Rows: 1526659\n",
      "Column Name:  paytype_783L\n",
      "Column Description:  Type of payment.\n",
      "---------------------------------------------------------------------------------------------------- \n",
      "\n",
      "\n"
     ]
    },
    {
     "name": "stderr",
     "output_type": "stream",
     "text": [
      " 86%|████████▌ | 59/69 [00:47<00:06,  1.50it/s]"
     ]
    },
    {
     "name": "stdout",
     "output_type": "stream",
     "text": [
      "Column Name: pmtnum_254L\n",
      "Minimum Value: 3.0\n",
      "Maximum Value: 60.0\n",
      "Missing Values Count: 44954 (2.94%)\n",
      "Number of Unique Values: 40\n",
      "Total Number of Rows: 1526659\n",
      "Column Name:  pmtnum_254L\n",
      "Column Description:  Total number of loan payments made by the client.\n",
      "---------------------------------------------------------------------------------------------------- \n",
      "\n",
      "\n"
     ]
    },
    {
     "name": "stderr",
     "output_type": "stream",
     "text": [
      " 87%|████████▋ | 60/69 [00:47<00:05,  1.57it/s]"
     ]
    },
    {
     "name": "stdout",
     "output_type": "stream",
     "text": [
      "Column Name: posfpd10lastmonth_333P\n",
      "Minimum Value: 0.0\n",
      "Maximum Value: 1.0\n",
      "Missing Values Count: 78526 (5.14%)\n",
      "Number of Unique Values: 2\n",
      "Total Number of Rows: 1526659\n",
      "Column Name:  posfpd10lastmonth_333P\n",
      "Column Description:  Average FPD10 (Share of contracts with first installment past due more than 10 days) from point of sales that processed contract in the previous month.\n",
      "---------------------------------------------------------------------------------------------------- \n",
      "\n",
      "\n"
     ]
    },
    {
     "name": "stderr",
     "output_type": "stream",
     "text": [
      " 88%|████████▊ | 61/69 [00:48<00:04,  1.61it/s]"
     ]
    },
    {
     "name": "stdout",
     "output_type": "stream",
     "text": [
      "Column Name: posfpd30lastmonth_3976960P\n",
      "Minimum Value: 0.0\n",
      "Maximum Value: 1.0\n",
      "Missing Values Count: 131888 (8.64%)\n",
      "Number of Unique Values: 2\n",
      "Total Number of Rows: 1526659\n",
      "Column Name:  posfpd30lastmonth_3976960P\n",
      "Column Description:  Average FPD30 (Share of contracts with first installment past due more than 30 days) from point of sales that processed contract in the previous month.\n",
      "---------------------------------------------------------------------------------------------------- \n",
      "\n",
      "\n"
     ]
    },
    {
     "name": "stderr",
     "output_type": "stream",
     "text": [
      " 90%|████████▉ | 62/69 [00:48<00:04,  1.67it/s]"
     ]
    },
    {
     "name": "stdout",
     "output_type": "stream",
     "text": [
      "Column Name: posfstqpd30lastmonth_3976962P\n",
      "Minimum Value: 0.0\n",
      "Maximum Value: 1.0\n",
      "Missing Values Count: 181122 (11.86%)\n",
      "Number of Unique Values: 2\n",
      "Total Number of Rows: 1526659\n",
      "Column Name:  posfstqpd30lastmonth_3976962P\n",
      "Column Description:  Average FSTPD30 (share of contracts with first, second, or third installment past due more than 30 days) from point of sale that processed contract in the last month.\n",
      "---------------------------------------------------------------------------------------------------- \n",
      "\n",
      "\n"
     ]
    },
    {
     "name": "stderr",
     "output_type": "stream",
     "text": [
      " 91%|█████████▏| 63/69 [00:50<00:04,  1.33it/s]"
     ]
    },
    {
     "name": "stdout",
     "output_type": "stream",
     "text": [
      "Column Name: previouscontdistrict_112M\n",
      "Minimum Value: P0_140_162\n",
      "Maximum Value: a55475b1\n",
      "Missing Values Count: 0 (0.00%)\n",
      "Number of Unique Values: 223\n",
      "Total Number of Rows: 1526659\n",
      "Column Name:  previouscontdistrict_112M\n",
      "Column Description:  Contact district of the client's previous approved application.\n",
      "---------------------------------------------------------------------------------------------------- \n",
      "\n",
      "\n"
     ]
    },
    {
     "name": "stderr",
     "output_type": "stream",
     "text": [
      " 93%|█████████▎| 64/69 [00:51<00:04,  1.09it/s]"
     ]
    },
    {
     "name": "stdout",
     "output_type": "stream",
     "text": [
      "Column Name: price_1097A\n",
      "Minimum Value: 0.0\n",
      "Maximum Value: 761867.44\n",
      "Missing Values Count: 223240 (14.62%)\n",
      "Number of Unique Values: 173566\n",
      "Total Number of Rows: 1526659\n",
      "Column Name:  price_1097A\n",
      "Column Description:  Credit price.\n",
      "---------------------------------------------------------------------------------------------------- \n",
      "\n",
      "\n"
     ]
    },
    {
     "name": "stderr",
     "output_type": "stream",
     "text": [
      " 94%|█████████▍| 65/69 [00:51<00:03,  1.21it/s]"
     ]
    },
    {
     "name": "stdout",
     "output_type": "stream",
     "text": [
      "Column Name: sellerplacecnt_915L\n",
      "Minimum Value: 0.0\n",
      "Maximum Value: 8.0\n",
      "Missing Values Count: 0 (0.00%)\n",
      "Number of Unique Values: 9\n",
      "Total Number of Rows: 1526659\n",
      "Column Name:  sellerplacecnt_915L\n",
      "Column Description:  Number of sellerplaces where the same client's document was used.\n",
      "---------------------------------------------------------------------------------------------------- \n",
      "\n",
      "\n"
     ]
    },
    {
     "name": "stderr",
     "output_type": "stream",
     "text": [
      " 96%|█████████▌| 66/69 [00:52<00:02,  1.28it/s]"
     ]
    },
    {
     "name": "stdout",
     "output_type": "stream",
     "text": [
      "Column Name: sellerplacescnt_216L\n",
      "Minimum Value: 0.0\n",
      "Maximum Value: 102.0\n",
      "Missing Values Count: 0 (0.00%)\n",
      "Number of Unique Values: 65\n",
      "Total Number of Rows: 1526659\n",
      "Column Name:  sellerplacescnt_216L\n",
      "Column Description:  Number of sellerplaces where the same client's mobile phone was used.\n",
      "---------------------------------------------------------------------------------------------------- \n",
      "\n",
      "\n"
     ]
    },
    {
     "name": "stderr",
     "output_type": "stream",
     "text": [
      " 97%|█████████▋| 67/69 [00:53<00:01,  1.13it/s]"
     ]
    },
    {
     "name": "stdout",
     "output_type": "stream",
     "text": [
      "Column Name: totaldebt_9A\n",
      "Minimum Value: 0.0\n",
      "Maximum Value: 1210629.1\n",
      "Missing Values Count: 3 (0.00%)\n",
      "Number of Unique Values: 363903\n",
      "Total Number of Rows: 1526659\n",
      "Column Name:  totaldebt_9A\n",
      "Column Description:  Total amount of debt.\n",
      "---------------------------------------------------------------------------------------------------- \n",
      "\n",
      "\n"
     ]
    },
    {
     "name": "stderr",
     "output_type": "stream",
     "text": [
      " 99%|█████████▊| 68/69 [00:55<00:00,  1.00it/s]"
     ]
    },
    {
     "name": "stdout",
     "output_type": "stream",
     "text": [
      "Column Name: totalsettled_863A\n",
      "Minimum Value: 0.0\n",
      "Maximum Value: 48035036.0\n",
      "Missing Values Count: 4 (0.00%)\n",
      "Number of Unique Values: 747166\n",
      "Total Number of Rows: 1526659\n",
      "Column Name:  totalsettled_863A\n",
      "Column Description:  Sum of all payments made by the client.\n",
      "---------------------------------------------------------------------------------------------------- \n",
      "\n",
      "\n"
     ]
    },
    {
     "name": "stderr",
     "output_type": "stream",
     "text": [
      "100%|██████████| 69/69 [00:55<00:00,  1.24it/s]"
     ]
    },
    {
     "name": "stdout",
     "output_type": "stream",
     "text": [
      "Column Name: twobodfilling_608L\n",
      "Minimum Value: BO\n",
      "Maximum Value: FO\n",
      "Missing Values Count: 91 (0.01%)\n",
      "Number of Unique Values: 2\n",
      "Total Number of Rows: 1526659\n",
      "Column Name:  twobodfilling_608L\n",
      "Column Description:  Type of application process.\n",
      "---------------------------------------------------------------------------------------------------- \n",
      "\n",
      "\n"
     ]
    },
    {
     "name": "stderr",
     "output_type": "stream",
     "text": [
      "\n"
     ]
    }
   ],
   "source": [
    "for column_name in tqdm(df_static_depth0.columns):\n",
    "    column_stats(df_static_depth0, column_name)"
   ]
  },
  {
   "cell_type": "code",
   "execution_count": 12,
   "metadata": {},
   "outputs": [],
   "source": [
    "# for column in df_static_0.columns:\n",
    "#     print(\"Column Name: \", column)\n",
    "#     row_df = features_definitions_df[features_definitions_df['Variable'].str.contains(column)]\n",
    "#     if row_df.shape[0]==0:\n",
    "#         print(\"Description - Not Found\")\n",
    "#     elif row_df.shape[0]==1:\n",
    "#         print(\"Description: \", features_definitions_df.iloc[row_df.index[0]]['Description'])\n",
    "#     else:\n",
    "#         raise Exception(\"More than one rows for Column: \" + column)\n",
    "#     print(\" - \"*20, \"\\n\")"
   ]
  },
  {
   "cell_type": "code",
   "execution_count": 13,
   "metadata": {},
   "outputs": [],
   "source": [
    "# for column in df_static_0.columns:\n",
    "#     column_stats(df_static_0, column_name=column)"
   ]
  },
  {
   "cell_type": "code",
   "execution_count": 14,
   "metadata": {},
   "outputs": [
    {
     "name": "stdout",
     "output_type": "stream",
     "text": [
      "+-------+-------------------+-----------------------+-----------------------+--------------+---------------------+----------------+----------------+------------+------------+-----------+------------+-----------+--------------------+---------------+-------------+-----------------+--------------+--------------+--------------+-------------+-------------+-------------+----------------+---------------+---------------+--------------+-------------+------------+------------+------------+------------+------------+------------------+--------------+--------------+--------------------+-------------+-------------------+-------------------+-----------------+-----------------+-------------+--------------+-----------+--------------------+------------------+---------------------+---------------------+------------------+------------------+------------------+------------------+\n",
      "|case_id|assignmentdate_238D|assignmentdate_4527235D|assignmentdate_4955616D|birthdate_574D|contractssum_5085716L|dateofbirth_337D|dateofbirth_342D|days120_123L|days180_256L|days30_165L|days360_512L|days90_310L|description_5085714M|education_1103M|education_88M|firstquarter_103L|for3years_128L|for3years_504L|for3years_584L|formonth_118L|formonth_206L|formonth_535L|forquarter_1017L|forquarter_462L|forquarter_634L|fortoday_1092L|forweek_1077L|forweek_528L|forweek_601L|foryear_618L|foryear_818L|foryear_850L|fourthquarter_440L|maritalst_385M|maritalst_893M|numberofqueries_373L|pmtaverage_3A|pmtaverage_4527227A|pmtaverage_4955615A|pmtcount_4527229L|pmtcount_4955617L|pmtcount_693L|pmtscount_423L|pmtssum_45A|requesttype_4525192L|responsedate_1012D|responsedate_4527233D|responsedate_4917613D|riskassesment_302T|riskassesment_940T|secondquarter_766L|thirdquarter_1082L|\n",
      "+-------+-------------------+-----------------------+-----------------------+--------------+---------------------+----------------+----------------+------------+------------+-----------+------------+-----------+--------------------+---------------+-------------+-----------------+--------------+--------------+--------------+-------------+-------------+-------------+----------------+---------------+---------------+--------------+-------------+------------+------------+------------+------------+------------+------------------+--------------+--------------+--------------------+-------------+-------------------+-------------------+-----------------+-----------------+-------------+--------------+-----------+--------------------+------------------+---------------------+---------------------+------------------+------------------+------------------+------------------+\n",
      "|    357|               NULL|                   NULL|                   NULL|    1988-04-01|                 NULL|            NULL|            NULL|        NULL|        NULL|       NULL|        NULL|       NULL|            a55475b1|       a55475b1|     a55475b1|             NULL|          NULL|          NULL|          NULL|         NULL|         NULL|         NULL|            NULL|           NULL|           NULL|          NULL|         NULL|        NULL|        NULL|        NULL|        NULL|        NULL|              NULL|      a55475b1|      a55475b1|                NULL|         NULL|               NULL|               NULL|             NULL|             NULL|         NULL|           6.0|     6301.4|                NULL|        2019-01-25|                 NULL|                 NULL|              NULL|              NULL|              NULL|              NULL|\n",
      "|    381|               NULL|                   NULL|                   NULL|    1973-11-01|                 NULL|            NULL|            NULL|        NULL|        NULL|       NULL|        NULL|       NULL|            a55475b1|       a55475b1|     a55475b1|             NULL|          NULL|          NULL|          NULL|         NULL|         NULL|         NULL|            NULL|           NULL|           NULL|          NULL|         NULL|        NULL|        NULL|        NULL|        NULL|        NULL|              NULL|      a55475b1|      a55475b1|                NULL|         NULL|               NULL|               NULL|             NULL|             NULL|         NULL|           6.0|     4019.6|                NULL|        2019-01-25|                 NULL|                 NULL|              NULL|              NULL|              NULL|              NULL|\n",
      "|    388|               NULL|                   NULL|                   NULL|    1989-04-01|                 NULL|      1989-04-01|            NULL|         6.0|         8.0|        2.0|        10.0|        4.0|            a55475b1|       a55475b1|     a55475b1|              2.0|          NULL|          NULL|          NULL|         NULL|         NULL|         NULL|            NULL|           NULL|           NULL|          NULL|         NULL|        NULL|        NULL|        NULL|        NULL|        NULL|               6.0|      a55475b1|      a55475b1|                10.0|         NULL|               NULL|               NULL|             NULL|             NULL|         NULL|           6.0|    14548.0|                NULL|        2019-01-28|                 NULL|                 NULL|              NULL|              NULL|               3.0|               5.0|\n",
      "|    405|               NULL|                   NULL|                   NULL|    1974-03-01|                 NULL|      1974-03-01|            NULL|         0.0|         0.0|        0.0|         1.0|        0.0|            a55475b1|       a55475b1|     a55475b1|              0.0|          NULL|          NULL|          NULL|         NULL|         NULL|         NULL|            NULL|           NULL|           NULL|          NULL|         NULL|        NULL|        NULL|        NULL|        NULL|        NULL|               4.0|      a55475b1|      a55475b1|                 1.0|         NULL|               NULL|               NULL|             NULL|             NULL|         NULL|           6.0|   10498.24|                NULL|        2019-01-21|                 NULL|                 NULL|              NULL|              NULL|               2.0|               0.0|\n",
      "|    409|               NULL|                   NULL|                   NULL|    1993-06-01|                 NULL|      1993-06-01|            NULL|         2.0|         3.0|        0.0|         3.0|        1.0|            a55475b1|       717ddd49|     a55475b1|              4.0|          NULL|          NULL|          NULL|         NULL|         NULL|         NULL|            NULL|           NULL|           NULL|          NULL|         NULL|        NULL|        NULL|        NULL|        NULL|        NULL|               1.0|      a7fcb6e5|      a55475b1|                 3.0|         NULL|               NULL|               NULL|             NULL|             NULL|         NULL|           7.0|  6344.8804|                NULL|        2019-01-21|                 NULL|                 NULL|              NULL|              NULL|               0.0|               4.0|\n",
      "|    410|               NULL|                   NULL|                   NULL|    1978-06-01|                 NULL|      1978-06-01|            NULL|         2.0|         2.0|        2.0|         3.0|        2.0|            a55475b1|       6b2ae0fa|     a55475b1|              2.0|          NULL|          NULL|          NULL|         NULL|         NULL|         NULL|            NULL|           NULL|           NULL|          NULL|         NULL|        NULL|        NULL|        NULL|        NULL|        NULL|               0.0|      3439d993|      a55475b1|                 3.0|         NULL|               NULL|               NULL|             NULL|             NULL|         NULL|          12.0|     7200.0|                NULL|        2019-01-22|                 NULL|                 NULL|              NULL|              NULL|               3.0|               6.0|\n",
      "|    411|         2017-07-06|                   NULL|                   NULL|    1959-07-01|                 NULL|      1959-07-01|            NULL|         9.0|         9.0|        4.0|        20.0|        7.0|            a55475b1|       a55475b1|     a55475b1|              6.0|          NULL|          NULL|          NULL|         NULL|         NULL|         NULL|            NULL|           NULL|           NULL|          NULL|         NULL|        NULL|        NULL|        NULL|        NULL|        NULL|              20.0|      a55475b1|      a55475b1|                20.0|    5413.3335|               NULL|               NULL|             NULL|             NULL|          5.0|          NULL|       NULL|                NULL|        2019-01-22|                 NULL|                 NULL|              NULL|              NULL|               9.0|               2.0|\n",
      "|    412|               NULL|                   NULL|                   NULL|    1969-01-01|                 NULL|            NULL|            NULL|        NULL|        NULL|       NULL|        NULL|       NULL|            a55475b1|       a55475b1|     a55475b1|             NULL|          NULL|          NULL|          NULL|         NULL|         NULL|         NULL|            NULL|           NULL|           NULL|          NULL|         NULL|        NULL|        NULL|        NULL|        NULL|        NULL|              NULL|      a55475b1|      a55475b1|                NULL|         NULL|               NULL|               NULL|             NULL|             NULL|         NULL|           7.0|     6284.0|                NULL|        2019-01-22|                 NULL|                 NULL|              NULL|              NULL|              NULL|              NULL|\n",
      "|    413|         2013-12-25|                   NULL|                   NULL|    1955-12-01|                 NULL|            NULL|            NULL|        NULL|        NULL|       NULL|        NULL|       NULL|            a55475b1|       a55475b1|     a55475b1|             NULL|          NULL|          NULL|          NULL|         NULL|         NULL|         NULL|            NULL|           NULL|           NULL|          NULL|         NULL|        NULL|        NULL|        NULL|        NULL|        NULL|              NULL|      a55475b1|      a55475b1|                NULL|    6828.3667|               NULL|               NULL|             NULL|             NULL|          6.0|          NULL|       NULL|                NULL|        2019-01-22|                 NULL|                 NULL|              NULL|              NULL|              NULL|              NULL|\n",
      "|    414|         2014-07-30|                   NULL|                   NULL|    1961-06-01|                 NULL|      1961-06-01|            NULL|         2.0|         3.0|        2.0|         5.0|        2.0|            a55475b1|       a55475b1|     a55475b1|              2.0|          NULL|          NULL|          NULL|         NULL|         NULL|         NULL|            NULL|           NULL|           NULL|          NULL|         NULL|        NULL|        NULL|        NULL|        NULL|        NULL|               2.0|      3439d993|      a55475b1|                 5.0|    5604.8667|               NULL|               NULL|             NULL|             NULL|          6.0|          NULL|       NULL|                NULL|        2019-01-22|                 NULL|                 NULL|              NULL|              NULL|               2.0|               1.0|\n",
      "|    415|         2018-09-21|                   NULL|                   NULL|    1955-09-01|                 NULL|      1955-09-01|            NULL|         0.0|         0.0|        0.0|         0.0|        0.0|            a55475b1|       a55475b1|     a55475b1|              2.0|          NULL|          NULL|          NULL|         NULL|         NULL|         NULL|            NULL|           NULL|           NULL|          NULL|         NULL|        NULL|        NULL|        NULL|        NULL|        NULL|               0.0|      3439d993|      a55475b1|                 0.0|       6306.0|               NULL|               NULL|             NULL|             NULL|          3.0|          NULL|       NULL|                NULL|        2019-01-22|                 NULL|                 NULL|              NULL|              NULL|               0.0|               0.0|\n",
      "|    416|               NULL|                   NULL|                   NULL|    1994-03-01|                 NULL|      1994-03-01|            NULL|         0.0|         0.0|        0.0|         0.0|        0.0|            a55475b1|       a55475b1|     a55475b1|              2.0|          NULL|          NULL|          NULL|         NULL|         NULL|         NULL|            NULL|           NULL|           NULL|          NULL|         NULL|        NULL|        NULL|        NULL|        NULL|        NULL|               3.0|      a7fcb6e5|      a55475b1|                 0.0|         NULL|               NULL|               NULL|             NULL|             NULL|         NULL|           7.0|  5517.8003|                NULL|        2019-01-22|                 NULL|                 NULL|              NULL|              NULL|               1.0|               1.0|\n",
      "|    417|               NULL|                   NULL|                   NULL|    1971-07-01|                 NULL|      1971-07-01|            NULL|         2.0|         2.0|        0.0|         2.0|        2.0|            a55475b1|       a55475b1|     a55475b1|              0.0|          NULL|          NULL|          NULL|         NULL|         NULL|         NULL|            NULL|           NULL|           NULL|          NULL|         NULL|        NULL|        NULL|        NULL|        NULL|        NULL|               2.0|      a55475b1|      a55475b1|                 2.0|         NULL|               NULL|               NULL|             NULL|             NULL|         NULL|          12.0|    10230.2|                NULL|        2019-01-22|                 NULL|                 NULL|              NULL|              NULL|               0.0|               0.0|\n",
      "|    418|         2017-02-25|                   NULL|                   NULL|    1954-02-01|                 NULL|      1954-02-01|            NULL|         0.0|         0.0|        0.0|         0.0|        0.0|            a55475b1|       6b2ae0fa|     a55475b1|              0.0|          NULL|          NULL|          NULL|         NULL|         NULL|         NULL|            NULL|           NULL|           NULL|          NULL|         NULL|        NULL|        NULL|        NULL|        NULL|        NULL|               0.0|      3439d993|      a55475b1|                 0.0|    6827.7666|               NULL|               NULL|             NULL|             NULL|          6.0|          NULL|       NULL|                NULL|        2019-01-22|                 NULL|                 NULL|              NULL|              NULL|               0.0|               0.0|\n",
      "|    419|               NULL|                   NULL|                   NULL|    1968-04-01|                 NULL|      1968-04-01|            NULL|         5.0|         8.0|        2.0|         8.0|        4.0|            a55475b1|       a55475b1|     a55475b1|              0.0|          NULL|          NULL|          NULL|         NULL|         NULL|         NULL|            NULL|           NULL|           NULL|          NULL|         NULL|        NULL|        NULL|        NULL|        NULL|        NULL|               5.0|      a55475b1|      a55475b1|                 8.0|         NULL|               NULL|               NULL|             NULL|             NULL|         NULL|           2.0|     7091.0|                NULL|        2019-01-22|                 NULL|                 NULL|              NULL|              NULL|               0.0|               3.0|\n",
      "|    420|               NULL|                   NULL|                   NULL|    1975-06-01|                 NULL|      1975-06-01|            NULL|         2.0|         2.0|        0.0|         4.0|        2.0|            a55475b1|       6b2ae0fa|     a55475b1|              3.0|          NULL|          NULL|          NULL|         NULL|         NULL|         NULL|            NULL|           NULL|           NULL|          NULL|         NULL|        NULL|        NULL|        NULL|        NULL|        NULL|               2.0|      b6cabe76|      a55475b1|                 4.0|         NULL|               NULL|               NULL|             NULL|             NULL|         NULL|           5.0|  22111.545|                NULL|        2019-01-22|                 NULL|                 NULL|              NULL|              NULL|               2.0|               2.0|\n",
      "|    421|               NULL|                   NULL|                   NULL|    1986-07-01|                 NULL|            NULL|            NULL|        NULL|        NULL|       NULL|        NULL|       NULL|            a55475b1|       a55475b1|     a55475b1|             NULL|          NULL|          NULL|          NULL|         NULL|         NULL|         NULL|            NULL|           NULL|           NULL|          NULL|         NULL|        NULL|        NULL|        NULL|        NULL|        NULL|              NULL|      a55475b1|      a55475b1|                NULL|         NULL|               NULL|               NULL|             NULL|             NULL|         NULL|           6.0|     9079.0|                NULL|        2019-01-22|                 NULL|                 NULL|              NULL|              NULL|              NULL|              NULL|\n",
      "|    422|         2015-06-22|                   NULL|                   NULL|    1957-06-01|                 NULL|      1957-06-01|            NULL|         3.0|         3.0|        0.0|         6.0|        3.0|            a55475b1|       6b2ae0fa|     a55475b1|              0.0|          NULL|          NULL|          NULL|         NULL|         NULL|         NULL|            NULL|           NULL|           NULL|          NULL|         NULL|        NULL|        NULL|        NULL|        NULL|        NULL|               4.0|      3439d993|      a55475b1|                 6.0|    14051.867|               NULL|               NULL|             NULL|             NULL|          6.0|          NULL|       NULL|                NULL|        2019-01-22|                 NULL|                 NULL|              NULL|              NULL|               4.0|               0.0|\n",
      "|    423|               NULL|                   NULL|                   NULL|    1977-12-01|                 NULL|            NULL|            NULL|        NULL|        NULL|       NULL|        NULL|       NULL|            a55475b1|       a55475b1|     a55475b1|             NULL|          NULL|          NULL|          NULL|         NULL|         NULL|         NULL|            NULL|           NULL|           NULL|          NULL|         NULL|        NULL|        NULL|        NULL|        NULL|        NULL|              NULL|      a55475b1|      a55475b1|                NULL|         NULL|               NULL|               NULL|             NULL|             NULL|         NULL|           3.0|     3277.0|                NULL|        2019-01-08|                 NULL|                 NULL|              NULL|              NULL|              NULL|              NULL|\n",
      "|    424|               NULL|                   NULL|                   NULL|    1983-05-01|                 NULL|      1983-05-01|            NULL|         4.0|         5.0|        0.0|         9.0|        4.0|            a55475b1|       a55475b1|     a55475b1|              4.0|          NULL|          NULL|          NULL|         NULL|         NULL|         NULL|            NULL|           NULL|           NULL|          NULL|         NULL|        NULL|        NULL|        NULL|        NULL|        NULL|               7.0|      a55475b1|      a55475b1|                 9.0|         NULL|               NULL|               NULL|             NULL|             NULL|         NULL|           8.0|   9766.254|                NULL|        2019-01-22|                 NULL|                 NULL|              NULL|              NULL|               2.0|               2.0|\n",
      "+-------+-------------------+-----------------------+-----------------------+--------------+---------------------+----------------+----------------+------------+------------+-----------+------------+-----------+--------------------+---------------+-------------+-----------------+--------------+--------------+--------------+-------------+-------------+-------------+----------------+---------------+---------------+--------------+-------------+------------+------------+------------+------------+------------+------------------+--------------+--------------+--------------------+-------------+-------------------+-------------------+-----------------+-----------------+-------------+--------------+-----------+--------------------+------------------+---------------------+---------------------+------------------+------------------+------------------+------------------+\n",
      "only showing top 20 rows\n",
      "\n"
     ]
    }
   ],
   "source": [
    "parquet_file_path = CURRENT_DIRECTORY_NOTEBOOK / Path(\n",
    "    \"raw_main_dataset/home-credit-credit-risk-model-stability/parquet_files/train/train_static_cb_0.parquet\"\n",
    ")\n",
    "\n",
    "spark = SparkSession.builder.appName(\"Parquet_File_Exploration_Static_1\").getOrCreate()\n",
    "\n",
    "df_static_cb_0 = spark.read.parquet(str(parquet_file_path))\n",
    "df_static_cb_0.show()"
   ]
  },
  {
   "cell_type": "code",
   "execution_count": 15,
   "metadata": {},
   "outputs": [
    {
     "name": "stderr",
     "output_type": "stream",
     "text": [
      "                                                                                \r"
     ]
    },
    {
     "name": "stdout",
     "output_type": "stream",
     "text": [
      "Column Name: case_id\n",
      "Minimum Value: 0\n",
      "Maximum Value: 2651092\n",
      "Missing Values Count: 0 (0.00%)\n",
      "Number of Unique Values: 1003757\n",
      "Total Number of Rows: 1003757\n",
      "Column Name:  case_id\n",
      "Description - Not Found\n",
      "---------------------------------------------------------------------------------------------------- \n",
      "\n",
      "\n"
     ]
    },
    {
     "name": "stderr",
     "output_type": "stream",
     "text": [
      "                                                                                \r"
     ]
    },
    {
     "name": "stdout",
     "output_type": "stream",
     "text": [
      "Column Name: case_id\n",
      "Minimum Value: 40626\n",
      "Maximum Value: 2703454\n",
      "Missing Values Count: 0 (0.00%)\n",
      "Number of Unique Values: 522902\n",
      "Total Number of Rows: 522902\n",
      "Column Name:  case_id\n",
      "Description - Not Found\n",
      "---------------------------------------------------------------------------------------------------- \n",
      "\n",
      "\n"
     ]
    },
    {
     "name": "stderr",
     "output_type": "stream",
     "text": [
      "[Stage 1817:=================================================>      (7 + 1) / 8]\r"
     ]
    },
    {
     "name": "stdout",
     "output_type": "stream",
     "text": [
      "Column Name: case_id\n",
      "Minimum Value: 357\n",
      "Maximum Value: 2703454\n",
      "Missing Values Count: 0 (0.00%)\n",
      "Number of Unique Values: 1500476\n",
      "Total Number of Rows: 1500476\n",
      "Column Name:  case_id\n",
      "Description - Not Found\n",
      "---------------------------------------------------------------------------------------------------- \n",
      "\n",
      "\n"
     ]
    },
    {
     "name": "stderr",
     "output_type": "stream",
     "text": [
      "                                                                                \r"
     ]
    },
    {
     "data": {
      "text/plain": [
       "'Function - column_stats - Done'"
      ]
     },
     "execution_count": 15,
     "metadata": {},
     "output_type": "execute_result"
    }
   ],
   "source": [
    "column_stats(df_static_0, column_name=\"case_id\")\n",
    "column_stats(df_static_1, column_name=\"case_id\")\n",
    "column_stats(df_static_cb_0, column_name=\"case_id\")"
   ]
  },
  {
   "cell_type": "code",
   "execution_count": 16,
   "metadata": {},
   "outputs": [
    {
     "name": "stderr",
     "output_type": "stream",
     "text": [
      "100%|██████████| 53/53 [00:03<00:00, 14.10it/s]\n"
     ]
    },
    {
     "data": {
      "application/vnd.plotly.v1+json": {
       "config": {
        "plotlyServerURL": "https://plot.ly"
       },
       "data": [
        {
         "type": "bar",
         "x": [
          "dateofbirth_342D",
          "for3years_128L",
          "for3years_504L",
          "for3years_584L",
          "formonth_118L",
          "formonth_206L",
          "formonth_535L",
          "forquarter_1017L",
          "forquarter_462L",
          "forquarter_634L",
          "fortoday_1092L",
          "forweek_1077L",
          "forweek_528L",
          "forweek_601L",
          "foryear_618L",
          "foryear_818L",
          "foryear_850L",
          "riskassesment_302T",
          "riskassesment_940T",
          "assignmentdate_4955616D",
          "pmtaverage_4955615A",
          "pmtcount_4955617L",
          "assignmentdate_4527235D",
          "pmtaverage_4527227A",
          "pmtcount_4527229L",
          "assignmentdate_238D",
          "pmtaverage_3A",
          "pmtcount_693L",
          "contractssum_5085716L",
          "responsedate_4917613D",
          "pmtscount_423L",
          "pmtssum_45A",
          "birthdate_574D",
          "responsedate_4527233D",
          "requesttype_4525192L",
          "responsedate_1012D"
         ],
         "y": [
          97.56743859948443,
          97.56650556223492,
          97.56650556223492,
          97.56650556223492,
          97.56650556223492,
          97.56650556223492,
          97.56650556223492,
          97.56650556223492,
          97.56650556223492,
          97.56650556223492,
          97.56650556223492,
          97.56650556223492,
          97.56650556223492,
          97.56650556223492,
          97.56650556223492,
          97.56650556223492,
          97.56650556223492,
          96.43053271095306,
          96.43046606543524,
          95.225981621832,
          95.21185277205367,
          95.21185277205367,
          92.33723165182249,
          92.33723165182249,
          92.33723165182249,
          90.86983064041011,
          90.43043674140739,
          90.24269631770186,
          89.51472732652839,
          85.01062329554088,
          61.83624396524836,
          61.83624396524836,
          59.48812243581371,
          55.9921651529248,
          55.12997208885714,
          52.015227167912045
         ]
        }
       ],
       "layout": {
        "bargap": 0.2,
        "height": 600,
        "template": {
         "data": {
          "bar": [
           {
            "error_x": {
             "color": "#2a3f5f"
            },
            "error_y": {
             "color": "#2a3f5f"
            },
            "marker": {
             "line": {
              "color": "#E5ECF6",
              "width": 0.5
             },
             "pattern": {
              "fillmode": "overlay",
              "size": 10,
              "solidity": 0.2
             }
            },
            "type": "bar"
           }
          ],
          "barpolar": [
           {
            "marker": {
             "line": {
              "color": "#E5ECF6",
              "width": 0.5
             },
             "pattern": {
              "fillmode": "overlay",
              "size": 10,
              "solidity": 0.2
             }
            },
            "type": "barpolar"
           }
          ],
          "carpet": [
           {
            "aaxis": {
             "endlinecolor": "#2a3f5f",
             "gridcolor": "white",
             "linecolor": "white",
             "minorgridcolor": "white",
             "startlinecolor": "#2a3f5f"
            },
            "baxis": {
             "endlinecolor": "#2a3f5f",
             "gridcolor": "white",
             "linecolor": "white",
             "minorgridcolor": "white",
             "startlinecolor": "#2a3f5f"
            },
            "type": "carpet"
           }
          ],
          "choropleth": [
           {
            "colorbar": {
             "outlinewidth": 0,
             "ticks": ""
            },
            "type": "choropleth"
           }
          ],
          "contour": [
           {
            "colorbar": {
             "outlinewidth": 0,
             "ticks": ""
            },
            "colorscale": [
             [
              0,
              "#0d0887"
             ],
             [
              0.1111111111111111,
              "#46039f"
             ],
             [
              0.2222222222222222,
              "#7201a8"
             ],
             [
              0.3333333333333333,
              "#9c179e"
             ],
             [
              0.4444444444444444,
              "#bd3786"
             ],
             [
              0.5555555555555556,
              "#d8576b"
             ],
             [
              0.6666666666666666,
              "#ed7953"
             ],
             [
              0.7777777777777778,
              "#fb9f3a"
             ],
             [
              0.8888888888888888,
              "#fdca26"
             ],
             [
              1,
              "#f0f921"
             ]
            ],
            "type": "contour"
           }
          ],
          "contourcarpet": [
           {
            "colorbar": {
             "outlinewidth": 0,
             "ticks": ""
            },
            "type": "contourcarpet"
           }
          ],
          "heatmap": [
           {
            "colorbar": {
             "outlinewidth": 0,
             "ticks": ""
            },
            "colorscale": [
             [
              0,
              "#0d0887"
             ],
             [
              0.1111111111111111,
              "#46039f"
             ],
             [
              0.2222222222222222,
              "#7201a8"
             ],
             [
              0.3333333333333333,
              "#9c179e"
             ],
             [
              0.4444444444444444,
              "#bd3786"
             ],
             [
              0.5555555555555556,
              "#d8576b"
             ],
             [
              0.6666666666666666,
              "#ed7953"
             ],
             [
              0.7777777777777778,
              "#fb9f3a"
             ],
             [
              0.8888888888888888,
              "#fdca26"
             ],
             [
              1,
              "#f0f921"
             ]
            ],
            "type": "heatmap"
           }
          ],
          "heatmapgl": [
           {
            "colorbar": {
             "outlinewidth": 0,
             "ticks": ""
            },
            "colorscale": [
             [
              0,
              "#0d0887"
             ],
             [
              0.1111111111111111,
              "#46039f"
             ],
             [
              0.2222222222222222,
              "#7201a8"
             ],
             [
              0.3333333333333333,
              "#9c179e"
             ],
             [
              0.4444444444444444,
              "#bd3786"
             ],
             [
              0.5555555555555556,
              "#d8576b"
             ],
             [
              0.6666666666666666,
              "#ed7953"
             ],
             [
              0.7777777777777778,
              "#fb9f3a"
             ],
             [
              0.8888888888888888,
              "#fdca26"
             ],
             [
              1,
              "#f0f921"
             ]
            ],
            "type": "heatmapgl"
           }
          ],
          "histogram": [
           {
            "marker": {
             "pattern": {
              "fillmode": "overlay",
              "size": 10,
              "solidity": 0.2
             }
            },
            "type": "histogram"
           }
          ],
          "histogram2d": [
           {
            "colorbar": {
             "outlinewidth": 0,
             "ticks": ""
            },
            "colorscale": [
             [
              0,
              "#0d0887"
             ],
             [
              0.1111111111111111,
              "#46039f"
             ],
             [
              0.2222222222222222,
              "#7201a8"
             ],
             [
              0.3333333333333333,
              "#9c179e"
             ],
             [
              0.4444444444444444,
              "#bd3786"
             ],
             [
              0.5555555555555556,
              "#d8576b"
             ],
             [
              0.6666666666666666,
              "#ed7953"
             ],
             [
              0.7777777777777778,
              "#fb9f3a"
             ],
             [
              0.8888888888888888,
              "#fdca26"
             ],
             [
              1,
              "#f0f921"
             ]
            ],
            "type": "histogram2d"
           }
          ],
          "histogram2dcontour": [
           {
            "colorbar": {
             "outlinewidth": 0,
             "ticks": ""
            },
            "colorscale": [
             [
              0,
              "#0d0887"
             ],
             [
              0.1111111111111111,
              "#46039f"
             ],
             [
              0.2222222222222222,
              "#7201a8"
             ],
             [
              0.3333333333333333,
              "#9c179e"
             ],
             [
              0.4444444444444444,
              "#bd3786"
             ],
             [
              0.5555555555555556,
              "#d8576b"
             ],
             [
              0.6666666666666666,
              "#ed7953"
             ],
             [
              0.7777777777777778,
              "#fb9f3a"
             ],
             [
              0.8888888888888888,
              "#fdca26"
             ],
             [
              1,
              "#f0f921"
             ]
            ],
            "type": "histogram2dcontour"
           }
          ],
          "mesh3d": [
           {
            "colorbar": {
             "outlinewidth": 0,
             "ticks": ""
            },
            "type": "mesh3d"
           }
          ],
          "parcoords": [
           {
            "line": {
             "colorbar": {
              "outlinewidth": 0,
              "ticks": ""
             }
            },
            "type": "parcoords"
           }
          ],
          "pie": [
           {
            "automargin": true,
            "type": "pie"
           }
          ],
          "scatter": [
           {
            "fillpattern": {
             "fillmode": "overlay",
             "size": 10,
             "solidity": 0.2
            },
            "type": "scatter"
           }
          ],
          "scatter3d": [
           {
            "line": {
             "colorbar": {
              "outlinewidth": 0,
              "ticks": ""
             }
            },
            "marker": {
             "colorbar": {
              "outlinewidth": 0,
              "ticks": ""
             }
            },
            "type": "scatter3d"
           }
          ],
          "scattercarpet": [
           {
            "marker": {
             "colorbar": {
              "outlinewidth": 0,
              "ticks": ""
             }
            },
            "type": "scattercarpet"
           }
          ],
          "scattergeo": [
           {
            "marker": {
             "colorbar": {
              "outlinewidth": 0,
              "ticks": ""
             }
            },
            "type": "scattergeo"
           }
          ],
          "scattergl": [
           {
            "marker": {
             "colorbar": {
              "outlinewidth": 0,
              "ticks": ""
             }
            },
            "type": "scattergl"
           }
          ],
          "scattermapbox": [
           {
            "marker": {
             "colorbar": {
              "outlinewidth": 0,
              "ticks": ""
             }
            },
            "type": "scattermapbox"
           }
          ],
          "scatterpolar": [
           {
            "marker": {
             "colorbar": {
              "outlinewidth": 0,
              "ticks": ""
             }
            },
            "type": "scatterpolar"
           }
          ],
          "scatterpolargl": [
           {
            "marker": {
             "colorbar": {
              "outlinewidth": 0,
              "ticks": ""
             }
            },
            "type": "scatterpolargl"
           }
          ],
          "scatterternary": [
           {
            "marker": {
             "colorbar": {
              "outlinewidth": 0,
              "ticks": ""
             }
            },
            "type": "scatterternary"
           }
          ],
          "surface": [
           {
            "colorbar": {
             "outlinewidth": 0,
             "ticks": ""
            },
            "colorscale": [
             [
              0,
              "#0d0887"
             ],
             [
              0.1111111111111111,
              "#46039f"
             ],
             [
              0.2222222222222222,
              "#7201a8"
             ],
             [
              0.3333333333333333,
              "#9c179e"
             ],
             [
              0.4444444444444444,
              "#bd3786"
             ],
             [
              0.5555555555555556,
              "#d8576b"
             ],
             [
              0.6666666666666666,
              "#ed7953"
             ],
             [
              0.7777777777777778,
              "#fb9f3a"
             ],
             [
              0.8888888888888888,
              "#fdca26"
             ],
             [
              1,
              "#f0f921"
             ]
            ],
            "type": "surface"
           }
          ],
          "table": [
           {
            "cells": {
             "fill": {
              "color": "#EBF0F8"
             },
             "line": {
              "color": "white"
             }
            },
            "header": {
             "fill": {
              "color": "#C8D4E3"
             },
             "line": {
              "color": "white"
             }
            },
            "type": "table"
           }
          ]
         },
         "layout": {
          "annotationdefaults": {
           "arrowcolor": "#2a3f5f",
           "arrowhead": 0,
           "arrowwidth": 1
          },
          "autotypenumbers": "strict",
          "coloraxis": {
           "colorbar": {
            "outlinewidth": 0,
            "ticks": ""
           }
          },
          "colorscale": {
           "diverging": [
            [
             0,
             "#8e0152"
            ],
            [
             0.1,
             "#c51b7d"
            ],
            [
             0.2,
             "#de77ae"
            ],
            [
             0.3,
             "#f1b6da"
            ],
            [
             0.4,
             "#fde0ef"
            ],
            [
             0.5,
             "#f7f7f7"
            ],
            [
             0.6,
             "#e6f5d0"
            ],
            [
             0.7,
             "#b8e186"
            ],
            [
             0.8,
             "#7fbc41"
            ],
            [
             0.9,
             "#4d9221"
            ],
            [
             1,
             "#276419"
            ]
           ],
           "sequential": [
            [
             0,
             "#0d0887"
            ],
            [
             0.1111111111111111,
             "#46039f"
            ],
            [
             0.2222222222222222,
             "#7201a8"
            ],
            [
             0.3333333333333333,
             "#9c179e"
            ],
            [
             0.4444444444444444,
             "#bd3786"
            ],
            [
             0.5555555555555556,
             "#d8576b"
            ],
            [
             0.6666666666666666,
             "#ed7953"
            ],
            [
             0.7777777777777778,
             "#fb9f3a"
            ],
            [
             0.8888888888888888,
             "#fdca26"
            ],
            [
             1,
             "#f0f921"
            ]
           ],
           "sequentialminus": [
            [
             0,
             "#0d0887"
            ],
            [
             0.1111111111111111,
             "#46039f"
            ],
            [
             0.2222222222222222,
             "#7201a8"
            ],
            [
             0.3333333333333333,
             "#9c179e"
            ],
            [
             0.4444444444444444,
             "#bd3786"
            ],
            [
             0.5555555555555556,
             "#d8576b"
            ],
            [
             0.6666666666666666,
             "#ed7953"
            ],
            [
             0.7777777777777778,
             "#fb9f3a"
            ],
            [
             0.8888888888888888,
             "#fdca26"
            ],
            [
             1,
             "#f0f921"
            ]
           ]
          },
          "colorway": [
           "#636efa",
           "#EF553B",
           "#00cc96",
           "#ab63fa",
           "#FFA15A",
           "#19d3f3",
           "#FF6692",
           "#B6E880",
           "#FF97FF",
           "#FECB52"
          ],
          "font": {
           "color": "#2a3f5f"
          },
          "geo": {
           "bgcolor": "white",
           "lakecolor": "white",
           "landcolor": "#E5ECF6",
           "showlakes": true,
           "showland": true,
           "subunitcolor": "white"
          },
          "hoverlabel": {
           "align": "left"
          },
          "hovermode": "closest",
          "mapbox": {
           "style": "light"
          },
          "paper_bgcolor": "white",
          "plot_bgcolor": "#E5ECF6",
          "polar": {
           "angularaxis": {
            "gridcolor": "white",
            "linecolor": "white",
            "ticks": ""
           },
           "bgcolor": "#E5ECF6",
           "radialaxis": {
            "gridcolor": "white",
            "linecolor": "white",
            "ticks": ""
           }
          },
          "scene": {
           "xaxis": {
            "backgroundcolor": "#E5ECF6",
            "gridcolor": "white",
            "gridwidth": 2,
            "linecolor": "white",
            "showbackground": true,
            "ticks": "",
            "zerolinecolor": "white"
           },
           "yaxis": {
            "backgroundcolor": "#E5ECF6",
            "gridcolor": "white",
            "gridwidth": 2,
            "linecolor": "white",
            "showbackground": true,
            "ticks": "",
            "zerolinecolor": "white"
           },
           "zaxis": {
            "backgroundcolor": "#E5ECF6",
            "gridcolor": "white",
            "gridwidth": 2,
            "linecolor": "white",
            "showbackground": true,
            "ticks": "",
            "zerolinecolor": "white"
           }
          },
          "shapedefaults": {
           "line": {
            "color": "#2a3f5f"
           }
          },
          "ternary": {
           "aaxis": {
            "gridcolor": "white",
            "linecolor": "white",
            "ticks": ""
           },
           "baxis": {
            "gridcolor": "white",
            "linecolor": "white",
            "ticks": ""
           },
           "bgcolor": "#E5ECF6",
           "caxis": {
            "gridcolor": "white",
            "linecolor": "white",
            "ticks": ""
           }
          },
          "title": {
           "x": 0.05
          },
          "xaxis": {
           "automargin": true,
           "gridcolor": "white",
           "linecolor": "white",
           "ticks": "",
           "title": {
            "standoff": 15
           },
           "zerolinecolor": "white",
           "zerolinewidth": 2
          },
          "yaxis": {
           "automargin": true,
           "gridcolor": "white",
           "linecolor": "white",
           "ticks": "",
           "title": {
            "standoff": 15
           },
           "zerolinecolor": "white",
           "zerolinewidth": 2
          }
         }
        },
        "title": {
         "text": "Percentage of Missing Values by Column"
        },
        "width": 1800,
        "xaxis": {
         "tickmode": "linear",
         "title": {
          "text": "Columns"
         }
        },
        "yaxis": {
         "title": {
          "text": "Percentage of Missing Values"
         }
        }
       }
      }
     },
     "metadata": {},
     "output_type": "display_data"
    }
   ],
   "source": [
    "missing_values_dict = get_columns_high_missing_values(\n",
    "    df_static_cb_0, threshold=20, display=True\n",
    ")"
   ]
  },
  {
   "cell_type": "code",
   "execution_count": null,
   "metadata": {},
   "outputs": [],
   "source": []
  }
 ],
 "metadata": {
  "kernelspec": {
   "display_name": "credit_risk_project",
   "language": "python",
   "name": "python3"
  },
  "language_info": {
   "codemirror_mode": {
    "name": "ipython",
    "version": 3
   },
   "file_extension": ".py",
   "mimetype": "text/x-python",
   "name": "python",
   "nbconvert_exporter": "python",
   "pygments_lexer": "ipython3",
   "version": "3.11.9"
  }
 },
 "nbformat": 4,
 "nbformat_minor": 2
}
