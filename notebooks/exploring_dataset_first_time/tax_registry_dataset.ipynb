{
 "cells": [
  {
   "cell_type": "code",
   "execution_count": 1,
   "metadata": {},
   "outputs": [
    {
     "name": "stdout",
     "output_type": "stream",
     "text": [
      "Current directory for notebook:  /Users/shirshmall/Personal_Drive/Credit_Risk_Model_Project\n"
     ]
    }
   ],
   "source": [
    "from dotenv import load_dotenv\n",
    "import os\n",
    "from pathlib import Path\n",
    "from pyspark.sql import SparkSession\n",
    "\n",
    "\n",
    "CURRENT_DIRECTORY_NOTEBOOK = None\n",
    "\n",
    "\n",
    "def intitate_notebook():\n",
    "    load_dotenv()\n",
    "    global CURRENT_DIRECTORY_NOTEBOOK\n",
    "    if CURRENT_DIRECTORY_NOTEBOOK is None:\n",
    "        os.chdir(os.getenv(\"PROJECT_BASE_PATH\"))\n",
    "        CURRENT_DIRECTORY_NOTEBOOK = Path(os.getcwd())\n",
    "        print(\"Current directory for notebook: \", CURRENT_DIRECTORY_NOTEBOOK)\n",
    "    else:\n",
    "        print(\n",
    "            \"Current directory for notebook is already set: \",\n",
    "            CURRENT_DIRECTORY_NOTEBOOK,\n",
    "        )\n",
    "\n",
    "\n",
    "intitate_notebook()"
   ]
  },
  {
   "cell_type": "code",
   "execution_count": 2,
   "metadata": {},
   "outputs": [],
   "source": [
    "from tqdm import tqdm\n",
    "from src.data_cleaning import column_stats"
   ]
  },
  {
   "cell_type": "code",
   "execution_count": 22,
   "metadata": {},
   "outputs": [
    {
     "name": "stdout",
     "output_type": "stream",
     "text": [
      "+-------+---------------+-------------+----------+-------------------+\n",
      "|case_id|amount_4527230A|name_4527232M|num_group1|recorddate_4527225D|\n",
      "+-------+---------------+-------------+----------+-------------------+\n",
      "|  28631|      3616.4001|     f980a1ea|         0|         2019-09-13|\n",
      "|  28631|         2600.0|     f980a1ea|         1|         2019-09-13|\n",
      "|  28631|         1946.0|     f980a1ea|         2|         2019-09-13|\n",
      "|  28631|          711.0|     f980a1ea|         3|         2019-09-13|\n",
      "|  28632|         1100.0|     5f9b74f5|         0|         2019-09-13|\n",
      "|  28632|         1873.4|     5f9b74f5|         1|         2019-09-13|\n",
      "|  28632|         1990.6|     5f9b74f5|         2|         2019-09-13|\n",
      "|  28632|         1990.6|     5f9b74f5|         3|         2019-09-13|\n",
      "|  28632|          700.0|     5f9b74f5|         4|         2019-09-13|\n",
      "|  28632|         2564.0|     5f9b74f5|         5|         2019-09-13|\n",
      "|  28632|          400.0|     5f9b74f5|         6|         2019-09-13|\n",
      "|  28632|          700.0|     5f9b74f5|         7|         2019-09-13|\n",
      "|  28632|      1973.2001|     5f9b74f5|         8|         2019-09-13|\n",
      "|  28632|          760.0|     5f9b74f5|         9|         2019-09-13|\n",
      "|  28633|          151.6|     5e180ef0|         0|         2019-09-13|\n",
      "|  28635|      5637.8003|     52c166dc|         0|         2019-09-13|\n",
      "|  28635|      5461.8003|     52c166dc|         1|         2019-09-13|\n",
      "|  28636|          853.2|     5574ff1b|         0|         2019-09-13|\n",
      "|  28636|         1927.0|     5574ff1b|         1|         2019-09-13|\n",
      "|  28636|         1880.8|     5574ff1b|         2|         2019-09-13|\n",
      "+-------+---------------+-------------+----------+-------------------+\n",
      "only showing top 20 rows\n",
      "\n"
     ]
    },
    {
     "name": "stderr",
     "output_type": "stream",
     "text": [
      "                                                                                \r"
     ]
    }
   ],
   "source": [
    "parquet_file_path = CURRENT_DIRECTORY_NOTEBOOK / Path(\n",
    "    \"raw_main_dataset/home-credit-credit-risk-model-stability/parquet_files/train/train_tax_registry_a_1.parquet\"\n",
    ")\n",
    "\n",
    "spark = SparkSession.builder.appName(\"Parquet_File_Exploration_Static_0\").getOrCreate()\n",
    "\n",
    "df_tax_registry_a_1 = spark.read.parquet(str(parquet_file_path))\n",
    "df_tax_registry_a_1 = df_tax_registry_a_1.sort(\"case_id\", \"num_group1\")\n",
    "df_tax_registry_a_1.show()"
   ]
  },
  {
   "cell_type": "code",
   "execution_count": 4,
   "metadata": {},
   "outputs": [],
   "source": [
    "# for column_name in df_tax_registry_a_1.columns:\n",
    "#     column_stats(df_tax_registry_a_1, column_name)"
   ]
  },
  {
   "cell_type": "code",
   "execution_count": 23,
   "metadata": {},
   "outputs": [
    {
     "name": "stdout",
     "output_type": "stream",
     "text": [
      "+-------+---------------+----------------------+-------------+----------+\n",
      "|case_id|amount_4917619A|deductiondate_4917603D|name_4917606M|num_group1|\n",
      "+-------+---------------+----------------------+-------------+----------+\n",
      "|  49435|         6885.0|            2019-10-16|     6b730375|         0|\n",
      "|  49435|         6885.0|            2019-10-16|     6b730375|         1|\n",
      "|  49435|         6885.0|            2019-10-16|     6b730375|         2|\n",
      "|  49435|         6885.0|            2019-10-16|     6b730375|         3|\n",
      "|  49435|         6885.0|            2019-10-16|     6b730375|         4|\n",
      "|  49435|         6885.0|            2019-10-16|     6b730375|         5|\n",
      "|  49435|         6885.0|            2019-10-16|     6b730375|         6|\n",
      "|  49435|         6885.0|            2019-10-16|     6b730375|         7|\n",
      "|  49435|         6885.0|            2019-10-16|     6b730375|         8|\n",
      "|  49435|         6885.0|            2019-10-16|     6b730375|         9|\n",
      "|  49435|         6885.0|            2020-03-24|     6b730375|        10|\n",
      "|  49490|         8646.0|            2020-01-02|     6a3c1a8a|         3|\n",
      "|  49490|         9114.2|            2019-11-11|     6a3c1a8a|         1|\n",
      "|  49490|         9114.2|            2019-12-11|     6a3c1a8a|         2|\n",
      "|  49490|         9114.2|            2020-02-11|     6a3c1a8a|         4|\n",
      "|  49490|         9114.2|            2020-03-10|     6a3c1a8a|         5|\n",
      "|  49490|      10834.601|            2019-10-10|     6a3c1a8a|         0|\n",
      "|  49526|        29855.0|            2020-03-25|     926adc86|         1|\n",
      "|  49526|      30587.201|            2020-01-10|     926adc86|         0|\n",
      "|  49563|          780.8|            2019-10-21|     9288fd65|         1|\n",
      "+-------+---------------+----------------------+-------------+----------+\n",
      "only showing top 20 rows\n",
      "\n"
     ]
    }
   ],
   "source": [
    "parquet_file_path = CURRENT_DIRECTORY_NOTEBOOK / Path(\n",
    "    \"raw_main_dataset/home-credit-credit-risk-model-stability/parquet_files/train/train_tax_registry_b_1.parquet\"\n",
    ")\n",
    "\n",
    "spark = SparkSession.builder.appName(\"Parquet_File_Exploration_Static_0\").getOrCreate()\n",
    "\n",
    "df_tax_registry_b_1 = spark.read.parquet(str(parquet_file_path))\n",
    "df_tax_registry_a_1 = df_tax_registry_a_1.sort(\"case_id\", \"num_group1\")\n",
    "df_tax_registry_b_1.show()"
   ]
  },
  {
   "cell_type": "code",
   "execution_count": 6,
   "metadata": {},
   "outputs": [],
   "source": [
    "# for column_name in df_tax_registry_b_1.columns:\n",
    "#     column_stats(df_tax_registry_b_1, column_name)"
   ]
  },
  {
   "cell_type": "code",
   "execution_count": 24,
   "metadata": {},
   "outputs": [
    {
     "name": "stdout",
     "output_type": "stream",
     "text": [
      "+-------+-----------------+----------+-------------+-------------------+\n",
      "|case_id|employername_160M|num_group1|pmtamount_36A|processingdate_168D|\n",
      "+-------+-----------------+----------+-------------+-------------------+\n",
      "|    357|         c91b12ff|         0|       1200.0|         2019-01-04|\n",
      "|    357|         c91b12ff|         1|       1200.0|         2018-11-28|\n",
      "|    357|         c91b12ff|         2|        972.8|         2018-11-01|\n",
      "|    357|         c91b12ff|         3|    628.60004|         2018-10-08|\n",
      "|    357|         c91b12ff|         4|       1200.0|         2018-09-10|\n",
      "|    357|         c91b12ff|         5|       1100.0|         2018-08-08|\n",
      "|    381|         8026f2a0|         0|        665.8|         2018-12-27|\n",
      "|    381|         8026f2a0|         1|        665.8|         2018-12-07|\n",
      "|    381|         8026f2a0|         2|        665.8|         2018-12-07|\n",
      "|    381|         8026f2a0|         3|        665.8|         2018-09-28|\n",
      "|    381|         8026f2a0|         4|        665.8|         2018-09-08|\n",
      "|    381|         8026f2a0|         5|    690.60004|         2018-08-07|\n",
      "|    388|         34cb7f48|         0|       2200.0|         2019-01-07|\n",
      "|    388|         34cb7f48|         1|       2260.8|         2018-12-04|\n",
      "|    388|         34cb7f48|         2|       2278.8|         2018-11-06|\n",
      "|    388|         34cb7f48|         3|       2525.0|         2018-10-08|\n",
      "|    388|         34cb7f48|         4|       2575.0|         2018-09-07|\n",
      "|    388|         34cb7f48|         5|    2708.4001|         2018-08-02|\n",
      "|    405|         6771878b|         0|       1649.8|         2018-12-28|\n",
      "|    405|         6771878b|         1|    1761.7401|         2018-12-28|\n",
      "+-------+-----------------+----------+-------------+-------------------+\n",
      "only showing top 20 rows\n",
      "\n"
     ]
    }
   ],
   "source": [
    "parquet_file_path = CURRENT_DIRECTORY_NOTEBOOK / Path(\n",
    "    \"raw_main_dataset/home-credit-credit-risk-model-stability/parquet_files/train/train_tax_registry_c_1.parquet\"\n",
    ")\n",
    "\n",
    "spark = SparkSession.builder.appName(\"Parquet_File_Exploration_Static_0\").getOrCreate()\n",
    "df_tax_registry_a_1 = df_tax_registry_a_1.sort(\"case_id\", \"num_group1\")\n",
    "df_tax_registry_c_1 = spark.read.parquet(str(parquet_file_path))\n",
    "df_tax_registry_c_1.show()"
   ]
  },
  {
   "cell_type": "code",
   "execution_count": 26,
   "metadata": {},
   "outputs": [],
   "source": [
    "# for column_name in df_tax_registry_c_1.columns:\n",
    "#     column_stats(df_tax_registry_c_1, column_name)"
   ]
  },
  {
   "cell_type": "code",
   "execution_count": 9,
   "metadata": {},
   "outputs": [
    {
     "data": {
      "text/plain": [
       "(['case_id',\n",
       "  'amount_4527230A',\n",
       "  'name_4527232M',\n",
       "  'num_group1',\n",
       "  'recorddate_4527225D'],\n",
       " ['case_id',\n",
       "  'amount_4917619A',\n",
       "  'deductiondate_4917603D',\n",
       "  'name_4917606M',\n",
       "  'num_group1'],\n",
       " ['case_id',\n",
       "  'employername_160M',\n",
       "  'num_group1',\n",
       "  'pmtamount_36A',\n",
       "  'processingdate_168D'])"
      ]
     },
     "execution_count": 9,
     "metadata": {},
     "output_type": "execute_result"
    }
   ],
   "source": [
    "df_tax_registry_a_1.columns, df_tax_registry_b_1.columns, df_tax_registry_c_1.columns"
   ]
  },
  {
   "cell_type": "code",
   "execution_count": 10,
   "metadata": {},
   "outputs": [
    {
     "data": {
      "text/plain": [
       "False"
      ]
     },
     "execution_count": 10,
     "metadata": {},
     "output_type": "execute_result"
    }
   ],
   "source": [
    "df_tax_registry_a_1.columns == df_tax_registry_b_1.columns"
   ]
  },
  {
   "cell_type": "code",
   "execution_count": 11,
   "metadata": {},
   "outputs": [
    {
     "data": {
      "text/plain": [
       "DataFrame[case_id: bigint, employername_160M: string, num_group1: bigint, pmtamount_36A: double, processingdate_168D: string]"
      ]
     },
     "execution_count": 11,
     "metadata": {},
     "output_type": "execute_result"
    }
   ],
   "source": [
    "df_tax_registry_c_1"
   ]
  },
  {
   "cell_type": "code",
   "execution_count": 12,
   "metadata": {},
   "outputs": [
    {
     "name": "stderr",
     "output_type": "stream",
     "text": [
      "                                                                                \r"
     ]
    }
   ],
   "source": [
    "df_tax_registry_a_1_case_id = (\n",
    "    df_tax_registry_a_1.select(\"case_id\").rdd.flatMap(lambda x: x).collect()\n",
    ")\n",
    "df_tax_registry_b_1_case_id = (\n",
    "    df_tax_registry_b_1.select(\"case_id\").rdd.flatMap(lambda x: x).collect()\n",
    ")\n",
    "df_tax_registry_c_1_case_id = (\n",
    "    df_tax_registry_c_1.select(\"case_id\").rdd.flatMap(lambda x: x).collect()\n",
    ")"
   ]
  },
  {
   "cell_type": "code",
   "execution_count": 13,
   "metadata": {},
   "outputs": [
    {
     "data": {
      "text/plain": [
       "1003765"
      ]
     },
     "execution_count": 13,
     "metadata": {},
     "output_type": "execute_result"
    }
   ],
   "source": [
    "len(set(df_tax_registry_a_1_case_id + df_tax_registry_b_1_case_id + df_tax_registry_c_1_case_id))"
   ]
  },
  {
   "cell_type": "code",
   "execution_count": 14,
   "metadata": {},
   "outputs": [
    {
     "data": {
      "text/plain": [
       "(457934, 150732, 482265)"
      ]
     },
     "execution_count": 14,
     "metadata": {},
     "output_type": "execute_result"
    }
   ],
   "source": [
    "(\n",
    "    len(set(df_tax_registry_a_1_case_id)),\n",
    "    len(set(df_tax_registry_b_1_case_id)),\n",
    "    len(set(df_tax_registry_c_1_case_id)),\n",
    ")"
   ]
  },
  {
   "cell_type": "code",
   "execution_count": 15,
   "metadata": {},
   "outputs": [
    {
     "name": "stdout",
     "output_type": "stream",
     "text": [
      "+-------+---------------+----------------------+-------------+----------+\n",
      "|case_id|amount_4917619A|deductiondate_4917603D|name_4917606M|num_group1|\n",
      "+-------+---------------+----------------------+-------------+----------+\n",
      "| 216907|         6885.0|            2019-10-02|     b94d1b86|         0|\n",
      "| 216907|         6885.0|            2019-10-30|     5843fad0|         1|\n",
      "| 216907|         6885.0|            2019-11-29|     5843fad0|         2|\n",
      "| 216907|         6885.0|            2020-01-13|     b94d1b86|         3|\n",
      "| 216907|         6885.0|            2020-02-05|     83017593|         4|\n",
      "| 216907|         6885.0|            2020-03-03|     5843fad0|         5|\n",
      "| 216907|         6885.0|            2020-03-25|     5843fad0|         6|\n",
      "+-------+---------------+----------------------+-------------+----------+\n",
      "\n"
     ]
    }
   ],
   "source": [
    "df_tax_registry_b_1.filter( df_tax_registry_b_1.case_id == 216907 ).show()"
   ]
  },
  {
   "cell_type": "code",
   "execution_count": 16,
   "metadata": {},
   "outputs": [
    {
     "name": "stdout",
     "output_type": "stream",
     "text": [
      "+-------+---------------+-------------+----------+-------------------+\n",
      "|case_id|amount_4527230A|name_4527232M|num_group1|recorddate_4527225D|\n",
      "+-------+---------------+-------------+----------+-------------------+\n",
      "| 216907|          850.0|     b94d1b86|         0|         2020-03-28|\n",
      "| 216907|          850.0|     5843fad0|         1|         2020-03-28|\n",
      "| 216907|          850.0|     5843fad0|         2|         2020-03-28|\n",
      "| 216907|          850.0|     b94d1b86|         3|         2020-03-28|\n",
      "| 216907|          850.0|     83017593|         4|         2020-03-28|\n",
      "| 216907|          850.0|     5843fad0|         5|         2020-03-28|\n",
      "+-------+---------------+-------------+----------+-------------------+\n",
      "\n"
     ]
    }
   ],
   "source": [
    "df_tax_registry_a_1.filter( df_tax_registry_a_1.case_id == 216907 ).show()"
   ]
  },
  {
   "cell_type": "code",
   "execution_count": 17,
   "metadata": {},
   "outputs": [
    {
     "name": "stderr",
     "output_type": "stream",
     "text": [
      "                                                                                \r"
     ]
    }
   ],
   "source": [
    "from pyspark.sql import functions\n",
    "\n",
    "common_case_ids = df_tax_registry_a_1.select(\"case_id\").intersect(df_tax_registry_b_1.select(\"case_id\"))\n",
    "\n",
    "# Join and count occurrences in both DataFrames\n",
    "count_a = df_tax_registry_a_1.groupBy(\"case_id\").count().withColumnRenamed(\"count\", \"count_a\")\n",
    "count_b = df_tax_registry_b_1.groupBy(\"case_id\").count().withColumnRenamed(\"count\", \"count_b\")\n",
    "\n",
    "# Join the counts on common case_ids\n",
    "joined_counts = common_case_ids.join(count_a, \"case_id\").join(count_b, \"case_id\")\n",
    "\n",
    "# Compare the counts and create the check_dict\n",
    "check_dict = {}\n",
    "results = joined_counts.withColumn(\n",
    "    \"comparison\", \n",
    "    functions.when(functions.col(\"count_a\") == functions.col(\"count_b\"), \"Same\").otherwise(\"Not_Same\")\n",
    ").select(\"case_id\", \"comparison\").collect()\n",
    "\n",
    "for row in results:\n",
    "    check_dict[row[\"case_id\"]] = row[\"comparison\"]"
   ]
  },
  {
   "cell_type": "code",
   "execution_count": 18,
   "metadata": {},
   "outputs": [
    {
     "name": "stderr",
     "output_type": "stream",
     "text": [
      "24/07/22 00:07:04 WARN GarbageCollectionMetrics: To enable non-built-in garbage collector(s) List(G1 Concurrent GC), users should configure it(them) to spark.eventLog.gcMetrics.youngGenerationGarbageCollectors or spark.eventLog.gcMetrics.oldGenerationGarbageCollectors\n"
     ]
    },
    {
     "data": {
      "image/png": "[encoded data removed]",
      "text/plain": [
       "<Figure size 640x480 with 1 Axes>"
      ]
     },
     "metadata": {},
     "output_type": "display_data"
    }
   ],
   "source": [
    "import matplotlib.pyplot as plt\n",
    "\n",
    "\n",
    "labels = [\"Same\", \"Not_Same\"]\n",
    "same_count = sum(1 for status in check_dict.values() if status == \"Same\")\n",
    "not_same_count = sum(1 for status in check_dict.values() if status == \"Not_Same\")\n",
    "sizes = [same_count, not_same_count]\n",
    "\n",
    "# Plot pie chart\n",
    "fig, ax = plt.subplots()\n",
    "ax.pie(sizes, labels=labels, autopct='%1.1f%%', startangle=90, colors=['#66b3ff','#ff9999'])\n",
    "ax.axis('equal')  # Equal aspect ratio ensures that pie is drawn as a circle.\n",
    "\n",
    "# Add title\n",
    "plt.title('Comparison of Case IDs')\n",
    "\n",
    "# Show plot\n",
    "plt.show()"
   ]
  },
  {
   "cell_type": "code",
   "execution_count": 19,
   "metadata": {},
   "outputs": [
    {
     "data": {
      "text/plain": [
       "0"
      ]
     },
     "execution_count": 19,
     "metadata": {},
     "output_type": "execute_result"
    }
   ],
   "source": [
    "len(set(df_tax_registry_a_1_case_id).intersection(set(df_tax_registry_b_1_case_id)))\n",
    "\n",
    "len(set(df_tax_registry_a_1_case_id).intersection(set(df_tax_registry_c_1_case_id)))\n",
    "\n",
    "len(set(df_tax_registry_b_1_case_id).intersection(set(df_tax_registry_c_1_case_id)))"
   ]
  },
  {
   "cell_type": "code",
   "execution_count": 20,
   "metadata": {},
   "outputs": [
    {
     "name": "stderr",
     "output_type": "stream",
     "text": [
      "                                                                                \r"
     ]
    },
    {
     "name": "stdout",
     "output_type": "stream",
     "text": [
      "Column Name: case_id\n",
      "Minimum Value: 28631\n",
      "Maximum Value: 2702290\n",
      "Missing Values Count: 0 (0.00%)\n",
      "Number of Unique Values: 457934\n",
      "Total Number of Rows: 3275770\n",
      "Column Name:  case_id\n",
      "Description - Not Found\n",
      "---------------------------------------------------------------------------------------------------- \n",
      "\n",
      "\n",
      "Column Name: case_id\n",
      "Minimum Value: 49435\n",
      "Maximum Value: 2703452\n",
      "Missing Values Count: 0 (0.00%)\n",
      "Number of Unique Values: 150732\n",
      "Total Number of Rows: 1107933\n",
      "Column Name:  case_id\n",
      "Description - Not Found\n",
      "---------------------------------------------------------------------------------------------------- \n",
      "\n",
      "\n",
      "Column Name: case_id\n",
      "Minimum Value: 357\n",
      "Maximum Value: 2629815\n",
      "Missing Values Count: 0 (0.00%)\n",
      "Number of Unique Values: 482265\n",
      "Total Number of Rows: 3343800\n",
      "Column Name:  case_id\n",
      "Description - Not Found\n",
      "---------------------------------------------------------------------------------------------------- \n",
      "\n",
      "\n"
     ]
    },
    {
     "data": {
      "text/plain": [
       "'Function - column_stats - Done'"
      ]
     },
     "execution_count": 20,
     "metadata": {},
     "output_type": "execute_result"
    }
   ],
   "source": [
    "column_stats(df_tax_registry_a_1, column_name=\"case_id\")\n",
    "column_stats(df_tax_registry_b_1, column_name=\"case_id\")\n",
    "column_stats(df_tax_registry_c_1, column_name=\"case_id\")"
   ]
  },
  {
   "cell_type": "code",
   "execution_count": 21,
   "metadata": {},
   "outputs": [
    {
     "data": {
      "image/png": "[encoded data removed]",
      "text/plain": [
       "<Figure size 640x480 with 1 Axes>"
      ]
     },
     "metadata": {},
     "output_type": "display_data"
    }
   ],
   "source": [
    "import matplotlib.pyplot as plt\n",
    "from matplotlib_venn import venn3\n",
    "\n",
    "# Create a Venn diagram\n",
    "venn = venn3(\n",
    "    [\n",
    "        set(df_tax_registry_a_1_case_id),\n",
    "        set(df_tax_registry_b_1_case_id),\n",
    "        set(df_tax_registry_c_1_case_id),\n",
    "    ],\n",
    "    (\n",
    "        \"a_1_case_id\",\n",
    "        \"b_1_case_id\",\n",
    "        \"c_1_case_id\",\n",
    "    ),   \n",
    ")\n",
    "\n",
    "# Display the Venn diagram\n",
    "plt.show()"
   ]
  },
  {
   "cell_type": "code",
   "execution_count": null,
   "metadata": {},
   "outputs": [],
   "source": []
  },
  {
   "cell_type": "code",
   "execution_count": null,
   "metadata": {},
   "outputs": [],
   "source": []
  },
  {
   "cell_type": "code",
   "execution_count": null,
   "metadata": {},
   "outputs": [],
   "source": []
  },
  {
   "cell_type": "code",
   "execution_count": null,
   "metadata": {},
   "outputs": [],
   "source": []
  }
 ],
 "metadata": {
  "kernelspec": {
   "display_name": "credit_risk_project",
   "language": "python",
   "name": "python3"
  },
  "language_info": {
   "codemirror_mode": {
    "name": "ipython",
    "version": 3
   },
   "file_extension": ".py",
   "mimetype": "text/x-python",
   "name": "python",
   "nbconvert_exporter": "python",
   "pygments_lexer": "ipython3",
   "version": "3.9.19"
  }
 },
 "nbformat": 4,
 "nbformat_minor": 2
}
