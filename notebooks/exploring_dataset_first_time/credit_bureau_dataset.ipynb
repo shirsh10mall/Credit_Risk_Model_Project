{
 "cells": [
  {
   "cell_type": "code",
   "execution_count": 1,
   "metadata": {},
   "outputs": [
    {
     "name": "stdout",
     "output_type": "stream",
     "text": [
      "Current directory for notebook:  /Users/shirshmall/Personal_Drive/Credit_Risk_Model_Project\n"
     ]
    }
   ],
   "source": [
    "from dotenv import load_dotenv\n",
    "import os\n",
    "from pathlib import Path\n",
    "from pyspark.sql import SparkSession\n",
    "\n",
    "\n",
    "CURRENT_DIRECTORY_NOTEBOOK = None\n",
    "\n",
    "def intitate_notebook():\n",
    "    load_dotenv()\n",
    "    global CURRENT_DIRECTORY_NOTEBOOK\n",
    "    if CURRENT_DIRECTORY_NOTEBOOK is None:\n",
    "        os.chdir(os.getenv(\"PROJECT_BASE_PATH\"))\n",
    "        CURRENT_DIRECTORY_NOTEBOOK = Path(os.getcwd())\n",
    "        print(\"Current directory for notebook: \", CURRENT_DIRECTORY_NOTEBOOK)\n",
    "    else:\n",
    "        print(\n",
    "            \"Current directory for notebook is already set: \",\n",
    "            CURRENT_DIRECTORY_NOTEBOOK,\n",
    "        )\n",
    "\n",
    "\n",
    "intitate_notebook()"
   ]
  },
  {
   "cell_type": "code",
   "execution_count": null,
   "metadata": {},
   "outputs": [],
   "source": [
    "from notebooks.utils import column_stats, get_shape_df, get_columns_high_missing_values\n",
    "from pyspark.sql.functions import col, max\n",
    "from tqdm import tqdm"
   ]
  },
  {
   "cell_type": "code",
   "execution_count": 3,
   "metadata": {},
   "outputs": [],
   "source": [
    "parquet_file_path = CURRENT_DIRECTORY_NOTEBOOK / Path(\n",
    "    \"raw_main_dataset/home-credit-credit-risk-model-stability/parquet_files/train/train_credit_bureau_a_1_0.parquet\"\n",
    ")\n",
    "\n",
    "spark = SparkSession.builder.appName(\"Parquet_File_Exploration_Static_0\").getOrCreate()\n",
    "\n",
    "df_credit_bureau_a_1_0 = spark.read.parquet(str(parquet_file_path))\n",
    "df_credit_bureau_a_1_0.show()"
   ]
  },
  {
   "cell_type": "code",
   "execution_count": null,
   "metadata": {},
   "outputs": [],
   "source": [
    "df_credit_bureau_a_1_0 = df_credit_bureau_a_1_0.filter( (df_credit_bureau_a_1_0.num_group1 == 0) | (df_credit_bureau_a_1_0.num_group1 == 1) )\n",
    "df_credit_bureau_a_1_0 = df_credit_bureau_a_1_0.sort(\"case_id\", \"num_group1\")\n",
    "df_credit_bureau_a_1_0.show(50)"
   ]
  },
  {
   "cell_type": "markdown",
   "metadata": {},
   "source": [
    "num_group_1 = 0"
   ]
  },
  {
   "cell_type": "code",
   "execution_count": null,
   "metadata": {},
   "outputs": [],
   "source": [
    "df_credit_bureau_a_1_0_0 = df_credit_bureau_a_1_0.filter( (df_credit_bureau_a_1_0.num_group1 == 0) )\n",
    "df_credit_bureau_a_1_0_0.show()"
   ]
  },
  {
   "cell_type": "code",
   "execution_count": null,
   "metadata": {},
   "outputs": [],
   "source": [
    "missing_values_dict_0 = get_columns_high_missing_values(\n",
    "    df_credit_bureau_a_1_0_0, threshold=None, display=True\n",
    ")\n",
    "\n",
    "# df_credit_bureau_a_1_0 = df_credit_bureau_a_1_0.drop(*list(missing_values_dict.keys()))"
   ]
  },
  {
   "cell_type": "markdown",
   "metadata": {},
   "source": [
    "num_group_1 = 1"
   ]
  },
  {
   "cell_type": "code",
   "execution_count": null,
   "metadata": {},
   "outputs": [],
   "source": [
    "df_credit_bureau_a_1_0_1 = df_credit_bureau_a_1_0.filter( (df_credit_bureau_a_1_0.num_group1 == 1) )\n",
    "df_credit_bureau_a_1_0_1.show()"
   ]
  },
  {
   "cell_type": "code",
   "execution_count": null,
   "metadata": {},
   "outputs": [],
   "source": [
    "missing_values_dict_0 = get_columns_high_missing_values(\n",
    "    df_credit_bureau_a_1_0_1, threshold=None, display=True\n",
    ")"
   ]
  },
  {
   "cell_type": "code",
   "execution_count": null,
   "metadata": {},
   "outputs": [],
   "source": []
  },
  {
   "cell_type": "code",
   "execution_count": null,
   "metadata": {},
   "outputs": [],
   "source": []
  },
  {
   "cell_type": "code",
   "execution_count": null,
   "metadata": {},
   "outputs": [],
   "source": [
    "column_stats(df_credit_bureau_a_1_0, column_name=\"debtoverdue_47A\")"
   ]
  },
  {
   "cell_type": "code",
   "execution_count": null,
   "metadata": {},
   "outputs": [],
   "source": []
  },
  {
   "cell_type": "code",
   "execution_count": null,
   "metadata": {},
   "outputs": [],
   "source": []
  },
  {
   "cell_type": "code",
   "execution_count": null,
   "metadata": {},
   "outputs": [],
   "source": [
    "missing_values_dict = get_columns_high_missing_values(\n",
    "    df_credit_bureau_a_1_0, threshold=None, display=True\n",
    ")\n",
    "\n",
    "df_credit_bureau_a_1_0 = df_credit_bureau_a_1_0.drop(*list(missing_values_dict.keys()))"
   ]
  },
  {
   "cell_type": "code",
   "execution_count": null,
   "metadata": {},
   "outputs": [],
   "source": [
    "df_credit_bureau_a_1_0.show()"
   ]
  },
  {
   "cell_type": "code",
   "execution_count": null,
   "metadata": {},
   "outputs": [],
   "source": [
    "result_df = df_credit_bureau_a_1_0.groupBy(\"case_id\") \\\n",
    "    .agg(max(col(\"classificationofcontr_13M\")).alias(\"max_classificationofcontr_13M\"))"
   ]
  },
  {
   "cell_type": "code",
   "execution_count": null,
   "metadata": {},
   "outputs": [],
   "source": [
    "result_df.select(\"max_classificationofcontr_13M\").distinct().count()"
   ]
  },
  {
   "cell_type": "code",
   "execution_count": null,
   "metadata": {},
   "outputs": [],
   "source": []
  },
  {
   "cell_type": "code",
   "execution_count": null,
   "metadata": {},
   "outputs": [],
   "source": []
  },
  {
   "cell_type": "code",
   "execution_count": null,
   "metadata": {},
   "outputs": [],
   "source": [
    "for column_name in df_credit_bureau_a_1_0.columns:\n",
    "    column_stats(df_credit_bureau_a_1_0, column_name)"
   ]
  },
  {
   "cell_type": "code",
   "execution_count": null,
   "metadata": {},
   "outputs": [],
   "source": []
  },
  {
   "cell_type": "code",
   "execution_count": null,
   "metadata": {},
   "outputs": [],
   "source": []
  },
  {
   "cell_type": "markdown",
   "metadata": {},
   "source": [
    "### Depth = 2"
   ]
  },
  {
   "cell_type": "code",
   "execution_count": null,
   "metadata": {},
   "outputs": [],
   "source": [
    "parquet_file_path = CURRENT_DIRECTORY_NOTEBOOK / Path(\n",
    "    \"raw_main_dataset/home-credit-credit-risk-model-stability/parquet_files/train/train_credit_bureau_a_2_0.parquet\"\n",
    ")\n",
    "\n",
    "spark = SparkSession.builder.appName(\"Parquet_File_Exploration_Static_0\").getOrCreate()\n",
    "\n",
    "df_credit_bureau_a_2_0 = spark.read.parquet(str(parquet_file_path))\n",
    "df_credit_bureau_a_2_0 = df_credit_bureau_a_2_0.sort(\"case_id\", \"num_group1\", \"num_group2\")\n",
    "df_credit_bureau_a_2_0.show(100)"
   ]
  },
  {
   "cell_type": "code",
   "execution_count": null,
   "metadata": {},
   "outputs": [],
   "source": [
    "column_stats(df_credit_bureau_a_2_0, column_name=\"pmts_year_1139T\")"
   ]
  },
  {
   "cell_type": "code",
   "execution_count": null,
   "metadata": {},
   "outputs": [],
   "source": []
  },
  {
   "cell_type": "markdown",
   "metadata": {},
   "source": []
  },
  {
   "cell_type": "code",
   "execution_count": null,
   "metadata": {},
   "outputs": [],
   "source": [
    "parquet_file_path = CURRENT_DIRECTORY_NOTEBOOK / Path(\n",
    "    \"raw_main_dataset/home-credit-credit-risk-model-stability/parquet_files/train/depth_2/train_credit_bureau_b_2.parquet\"\n",
    ")\n",
    "\n",
    "spark = SparkSession.builder.appName(\"Parquet_File_Exploration_Static_0\").getOrCreate()\n",
    "\n",
    "df_credit_bureau_a_2_0 = spark.read.parquet(str(parquet_file_path))\n",
    "df_credit_bureau_a_2_0 = df_credit_bureau_a_2_0.sort(\"case_id\", \"num_group1\", \"num_group2\")\n",
    "df_credit_bureau_a_2_0.show(100)"
   ]
  },
  {
   "cell_type": "code",
   "execution_count": null,
   "metadata": {},
   "outputs": [],
   "source": [
    "# ##### Provider B\n",
    "# df_credit_bureau_b = import_parquet_file(\n",
    "#     file_path=(\n",
    "#         CURRENT_DIRECTORY_NOTEBOOK\n",
    "#         / TRAIN_PARQUET_FOLDER_PATH\n",
    "#         / Path(\"train_credit_bureau_b_1.parquet\")\n",
    "#     ),\n",
    "#     app_name=\"Credit_Bureau_B_Train_Dataset_Cleaning\",\n",
    "# )\n",
    "\n",
    "\n",
    "# print(\n",
    "#     \"Number of columns: \",\n",
    "#     len(df_credit_bureau_b.columns),\n",
    "#     \"\\nTotal Number of Row: \", \n",
    "#     df_credit_bureau_b.count(),\n",
    "#     \"\\nTotal Number of Unique Case ID: \",\n",
    "#     df_credit_bureau_b.select(countDistinct(\"case_id\")).collect()[0][0],\n",
    "# )\n",
    "\n",
    "# df_credit_bureau_b.show(5)\n",
    "# unique_values_b = df_credit_bureau_b.select(\"case_id\").distinct().rdd.flatMap(lambda x: x).collect()"
   ]
  }
 ],
 "metadata": {
  "kernelspec": {
   "display_name": "credit_risk_project",
   "language": "python",
   "name": "python3"
  },
  "language_info": {
   "codemirror_mode": {
    "name": "ipython",
    "version": 3
   },
   "file_extension": ".py",
   "mimetype": "text/x-python",
   "name": "python",
   "nbconvert_exporter": "python",
   "pygments_lexer": "ipython3",
   "version": "3.9.19"
  }
 },
 "nbformat": 4,
 "nbformat_minor": 2
}
