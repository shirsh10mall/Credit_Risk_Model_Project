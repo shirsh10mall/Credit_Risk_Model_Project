{
 "cells": [
  {
   "cell_type": "code",
   "execution_count": 1,
   "metadata": {},
   "outputs": [
    {
     "name": "stdout",
     "output_type": "stream",
     "text": [
      "Current directory for notebook:  /Users/shirshmall/Personal_Drive/Credit_Risk_Model_Project\n"
     ]
    }
   ],
   "source": [
    "from dotenv import load_dotenv\n",
    "import os\n",
    "from pathlib import Path\n",
    "from pyspark.sql import SparkSession\n",
    "\n",
    "\n",
    "CURRENT_DIRECTORY_NOTEBOOK = None\n",
    "\n",
    "def intitate_notebook():\n",
    "    load_dotenv()\n",
    "    global CURRENT_DIRECTORY_NOTEBOOK\n",
    "    if CURRENT_DIRECTORY_NOTEBOOK is None:\n",
    "        os.chdir(os.getenv(\"PROJECT_BASE_PATH\"))\n",
    "        CURRENT_DIRECTORY_NOTEBOOK = Path(os.getcwd())\n",
    "        print(\"Current directory for notebook: \", CURRENT_DIRECTORY_NOTEBOOK)\n",
    "    else:\n",
    "        print(\n",
    "            \"Current directory for notebook is already set: \",\n",
    "            CURRENT_DIRECTORY_NOTEBOOK,\n",
    "        )\n",
    "\n",
    "\n",
    "intitate_notebook()"
   ]
  },
  {
   "cell_type": "code",
   "execution_count": 18,
   "metadata": {},
   "outputs": [],
   "source": [
    "from notebooks.utils import column_stats, get_shape_df, get_columns_high_missing_values\n",
    "from tqdm import tqdm"
   ]
  },
  {
   "cell_type": "code",
   "execution_count": 2,
   "metadata": {},
   "outputs": [
    {
     "name": "stderr",
     "output_type": "stream",
     "text": [
      "24/07/17 20:09:16 WARN Utils: Your hostname, Shirshs-MacBook-Air.local resolves to a loopback address: 127.0.0.1; using 192.168.68.115 instead (on interface en0)\n",
      "24/07/17 20:09:16 WARN Utils: Set SPARK_LOCAL_IP if you need to bind to another address\n",
      "Setting default log level to \"WARN\".\n",
      "To adjust logging level use sc.setLogLevel(newLevel). For SparkR, use setLogLevel(newLevel).\n",
      "24/07/17 20:09:17 WARN NativeCodeLoader: Unable to load native-hadoop library for your platform... using builtin-java classes where applicable\n",
      "24/07/17 20:09:20 WARN SparkStringUtils: Truncated the string representation of a plan since it was too large. This behavior can be adjusted by setting 'spark.sql.debug.maxToStringFields'.\n"
     ]
    },
    {
     "name": "stdout",
     "output_type": "stream",
     "text": [
      "+-------+------------------------+-----------------------+-------------------------+--------------------------+---------------+---------------+--------------------+------------+------------+------------------+------------------+--------------------+--------------------+--------------------+-----------------+---------------+----------------+-----------+-----------+--------------------+-------------------+-------------------+-------------------+-------------------------+-------------------------+----------------+----------------+-----------------+----------------+---------------+-----------------------+-----------------------+----------------+----------------+----------+------------------------+------------------------+-------------------+-------------------+---------------------------+--------------------------+-----------------------------+-----------------------------+-------------------------------+-------------------------------+--------------------------+--------------------------+----------------------+----------------------+-----------------+------------------+---------------------+----------------------+---------------------------+---------------------------+---------------------+--------------------+------------------------------+------------------------------+---------------------------+-----------------------------+-----------------------+----------------------+-----------------------+----------------------+------------------+------------------+--------------------+-------------------+-------------------+----------------+---------------+--------------+----------------+--------------------------+--------------------------+--------------------------+---------------------------+\n",
      "|case_id|annualeffectiverate_199L|annualeffectiverate_63L|classificationofcontr_13M|classificationofcontr_400M|contractst_545M|contractst_964M|contractsum_5085717L|credlmt_230A|credlmt_935A|dateofcredend_289D|dateofcredend_353D|dateofcredstart_181D|dateofcredstart_739D|dateofrealrepmt_138D|debtoutstand_525A|debtoverdue_47A|description_351M|dpdmax_139P|dpdmax_757P|dpdmaxdatemonth_442T|dpdmaxdatemonth_89T|dpdmaxdateyear_596T|dpdmaxdateyear_896T|financialinstitution_382M|financialinstitution_591M|instlamount_768A|instlamount_852A|interestrate_508L|lastupdate_1112D|lastupdate_388D|monthlyinstlamount_332A|monthlyinstlamount_674A|nominalrate_281L|nominalrate_498L|num_group1|numberofcontrsvalue_258L|numberofcontrsvalue_358L|numberofinstls_229L|numberofinstls_320L|numberofoutstandinstls_520L|numberofoutstandinstls_59L|numberofoverdueinstlmax_1039L|numberofoverdueinstlmax_1151L|numberofoverdueinstlmaxdat_148D|numberofoverdueinstlmaxdat_641D|numberofoverdueinstls_725L|numberofoverdueinstls_834L|outstandingamount_354A|outstandingamount_362A|overdueamount_31A|overdueamount_659A|overdueamountmax2_14A|overdueamountmax2_398A|overdueamountmax2date_1002D|overdueamountmax2date_1142D|overdueamountmax_155A|overdueamountmax_35A|overdueamountmaxdatemonth_284T|overdueamountmaxdatemonth_365T|overdueamountmaxdateyear_2T|overdueamountmaxdateyear_994T|periodicityofpmts_1102L|periodicityofpmts_837L|prolongationcount_1120L|prolongationcount_599L|purposeofcred_426M|purposeofcred_874M|refreshdate_3813885D|residualamount_488A|residualamount_856A|subjectrole_182M|subjectrole_93M|totalamount_6A|totalamount_996A|totaldebtoverduevalue_178A|totaldebtoverduevalue_718A|totaloutstanddebtvalue_39A|totaloutstanddebtvalue_668A|\n",
      "+-------+------------------------+-----------------------+-------------------------+--------------------------+---------------+---------------+--------------------+------------+------------+------------------+------------------+--------------------+--------------------+--------------------+-----------------+---------------+----------------+-----------+-----------+--------------------+-------------------+-------------------+-------------------+-------------------------+-------------------------+----------------+----------------+-----------------+----------------+---------------+-----------------------+-----------------------+----------------+----------------+----------+------------------------+------------------------+-------------------+-------------------+---------------------------+--------------------------+-----------------------------+-----------------------------+-------------------------------+-------------------------------+--------------------------+--------------------------+----------------------+----------------------+-----------------+------------------+---------------------+----------------------+---------------------------+---------------------------+---------------------+--------------------+------------------------------+------------------------------+---------------------------+-----------------------------+-----------------------+----------------------+-----------------------+----------------------+------------------+------------------+--------------------+-------------------+-------------------+----------------+---------------+--------------+----------------+--------------------------+--------------------------+--------------------------+---------------------------+\n",
      "|    388|                    NULL|                   NULL|                 ea6782cc|                  a55475b1|       7241344e|       a55475b1|                NULL|        NULL|    135806.0|        2020-08-06|              NULL|                NULL|          2018-08-06|                NULL|             NULL|           NULL|        a55475b1|        0.0|       NULL|                NULL|                8.0|             2018.0|               NULL|                 a55475b1|               P204_66_73|          8742.8|            NULL|             NULL|      2019-01-11|           NULL|                 8742.8|                   NULL|            NULL|            NULL|         1|                    NULL|                    NULL|               NULL|               NULL|                       NULL|                      NULL|                          0.0|                         NULL|                           NULL|                           NULL|                       0.0|                      NULL|                  NULL|                  NULL|             NULL|               0.0|                  0.0|                  NULL|                       NULL|                       NULL|                  0.0|                NULL|                          NULL|                           8.0|                     2018.0|                         NULL|                   NULL|                  NULL|                   NULL|                  NULL|          60c73645|          a55475b1|                NULL|               NULL|         114325.805|        a55475b1|       a55475b1|          NULL|            NULL|                      NULL|                      NULL|                      NULL|                       NULL|\n",
      "|    388|                    NULL|                   NULL|                 4408ff0f|                  a55475b1|       7241344e|       a55475b1|                NULL|        NULL|        NULL|        2023-06-20|              NULL|                NULL|          2018-06-20|                NULL|         374419.5|            0.0|        a55475b1|        0.0|       NULL|                NULL|                7.0|             2018.0|               NULL|                 a55475b1|                 55b002a9|            NULL|            NULL|             NULL|      2019-01-24|           NULL|              7811.4463|                   NULL|            NULL|            NULL|         0|                     2.0|                     1.0|               NULL|               60.0|                       NULL|                      54.0|                          0.0|                         NULL|                           NULL|                           NULL|                       0.0|                      NULL|                  NULL|              260093.7|             NULL|               0.0|                  0.0|                  NULL|                       NULL|                       NULL|                  0.0|                NULL|                          NULL|                           7.0|                     2018.0|                         NULL|                   NULL|                  30.0|                   NULL|                  NULL|          96a8fdfe|          a55475b1|                NULL|               NULL|               NULL|        ab3c25cf|       ab3c25cf|          NULL|       268897.62|                       0.0|                       0.0|                  374419.5|                        0.0|\n",
      "|    388|                    NULL|                   NULL|                 a55475b1|                  a55475b1|       a55475b1|       a55475b1|                NULL|        NULL|        NULL|              NULL|              NULL|                NULL|                NULL|                NULL|             NULL|           NULL|        a55475b1|       NULL|       NULL|                NULL|               NULL|               NULL|               NULL|                 a55475b1|                 a55475b1|            NULL|            NULL|             NULL|            NULL|           NULL|                   NULL|                   NULL|            NULL|            NULL|         2|                    NULL|                    NULL|               NULL|               NULL|                       NULL|                      NULL|                         NULL|                         NULL|                           NULL|                           NULL|                      NULL|                      NULL|                  NULL|                  NULL|             NULL|              NULL|                 NULL|                  NULL|                       NULL|                       NULL|                 NULL|                NULL|                          NULL|                          NULL|                       NULL|                         NULL|                   NULL|                  NULL|                   NULL|                  NULL|          a55475b1|          a55475b1|          2019-01-28|               NULL|               NULL|        a55475b1|       a55475b1|          NULL|            NULL|                      NULL|                      NULL|                      NULL|                       NULL|\n",
      "|    388|                    NULL|                   NULL|                 a55475b1|                  a55475b1|       a55475b1|       a55475b1|                NULL|        NULL|        NULL|              NULL|              NULL|                NULL|                NULL|                NULL|             NULL|           NULL|        a55475b1|       NULL|       NULL|                NULL|               NULL|               NULL|               NULL|                 a55475b1|                 a55475b1|            NULL|            NULL|             NULL|            NULL|           NULL|                   NULL|                   NULL|            NULL|            NULL|         3|                    NULL|                    NULL|               NULL|               NULL|                       NULL|                      NULL|                         NULL|                         NULL|                           NULL|                           NULL|                      NULL|                      NULL|                  NULL|                  NULL|             NULL|              NULL|                 NULL|                  NULL|                       NULL|                       NULL|                 NULL|                NULL|                          NULL|                          NULL|                       NULL|                         NULL|                   NULL|                  NULL|                   NULL|                  NULL|          a55475b1|          a55475b1|          2019-01-28|               NULL|               NULL|        a55475b1|       a55475b1|          NULL|            NULL|                      NULL|                      NULL|                      NULL|                       NULL|\n",
      "|    388|                    NULL|                   NULL|                 a55475b1|                  a55475b1|       a55475b1|       a55475b1|                NULL|        NULL|        NULL|              NULL|              NULL|                NULL|                NULL|                NULL|             NULL|           NULL|        a55475b1|       NULL|       NULL|                NULL|               NULL|               NULL|               NULL|                 a55475b1|                 a55475b1|            NULL|            NULL|             NULL|            NULL|           NULL|                   NULL|                   NULL|            NULL|            NULL|         4|                    NULL|                    NULL|               NULL|               NULL|                       NULL|                      NULL|                         NULL|                         NULL|                           NULL|                           NULL|                      NULL|                      NULL|                  NULL|                  NULL|             NULL|              NULL|                 NULL|                  NULL|                       NULL|                       NULL|                 NULL|                NULL|                          NULL|                          NULL|                       NULL|                         NULL|                   NULL|                  NULL|                   NULL|                  NULL|          a55475b1|          a55475b1|          2019-01-28|               NULL|               NULL|        a55475b1|       a55475b1|          NULL|            NULL|                      NULL|                      NULL|                      NULL|                       NULL|\n",
      "|    388|                    NULL|                   NULL|                 a55475b1|                  a55475b1|       a55475b1|       a55475b1|                NULL|        NULL|        NULL|              NULL|              NULL|                NULL|                NULL|                NULL|             NULL|           NULL|        a55475b1|       NULL|       NULL|                NULL|               NULL|               NULL|               NULL|                 a55475b1|                 a55475b1|            NULL|            NULL|             NULL|            NULL|           NULL|                   NULL|                   NULL|            NULL|            NULL|         5|                    NULL|                    NULL|               NULL|               NULL|                       NULL|                      NULL|                         NULL|                         NULL|                           NULL|                           NULL|                      NULL|                      NULL|                  NULL|                  NULL|             NULL|              NULL|                 NULL|                  NULL|                       NULL|                       NULL|                 NULL|                NULL|                          NULL|                          NULL|                       NULL|                         NULL|                   NULL|                  NULL|                   NULL|                  NULL|          a55475b1|          a55475b1|                NULL|               NULL|               NULL|        a55475b1|       a55475b1|          NULL|            NULL|                      NULL|                      NULL|                      NULL|                       NULL|\n",
      "|    388|                    NULL|                   NULL|                 a55475b1|                  a55475b1|       a55475b1|       a55475b1|                NULL|        NULL|        NULL|              NULL|              NULL|                NULL|                NULL|                NULL|             NULL|           NULL|        a55475b1|       NULL|       NULL|                NULL|               NULL|               NULL|               NULL|                 a55475b1|                 a55475b1|            NULL|            NULL|             NULL|            NULL|           NULL|                   NULL|                   NULL|            NULL|            NULL|         6|                    NULL|                    NULL|               NULL|               NULL|                       NULL|                      NULL|                         NULL|                         NULL|                           NULL|                           NULL|                      NULL|                      NULL|                  NULL|                  NULL|             NULL|              NULL|                 NULL|                  NULL|                       NULL|                       NULL|                 NULL|                NULL|                          NULL|                          NULL|                       NULL|                         NULL|                   NULL|                  NULL|                   NULL|                  NULL|          a55475b1|          a55475b1|          2019-01-03|               NULL|               NULL|        a55475b1|       a55475b1|          NULL|            NULL|                      NULL|                      NULL|                      NULL|                       NULL|\n",
      "|    388|                    NULL|                   NULL|                 a55475b1|                  a55475b1|       a55475b1|       a55475b1|                NULL|        NULL|        NULL|              NULL|              NULL|                NULL|                NULL|                NULL|             NULL|           NULL|        a55475b1|       NULL|       NULL|                NULL|               NULL|               NULL|               NULL|                 a55475b1|                 a55475b1|            NULL|            NULL|             NULL|            NULL|           NULL|                   NULL|                   NULL|            NULL|            NULL|         7|                    NULL|                    NULL|               NULL|               NULL|                       NULL|                      NULL|                         NULL|                         NULL|                           NULL|                           NULL|                      NULL|                      NULL|                  NULL|                  NULL|             NULL|              NULL|                 NULL|                  NULL|                       NULL|                       NULL|                 NULL|                NULL|                          NULL|                          NULL|                       NULL|                         NULL|                   NULL|                  NULL|                   NULL|                  NULL|          a55475b1|          a55475b1|          2019-01-24|               NULL|               NULL|        a55475b1|       a55475b1|          NULL|            NULL|                      NULL|                      NULL|                      NULL|                       NULL|\n",
      "|    388|                    NULL|                   NULL|                 a55475b1|                  a55475b1|       a55475b1|       a55475b1|                NULL|        NULL|        NULL|              NULL|              NULL|                NULL|                NULL|                NULL|             NULL|           NULL|        a55475b1|       NULL|       NULL|                NULL|               NULL|               NULL|               NULL|                 a55475b1|                 a55475b1|            NULL|            NULL|             NULL|            NULL|           NULL|                   NULL|                   NULL|            NULL|            NULL|         8|                    NULL|                    NULL|               NULL|               NULL|                       NULL|                      NULL|                         NULL|                         NULL|                           NULL|                           NULL|                      NULL|                      NULL|                  NULL|                  NULL|             NULL|              NULL|                 NULL|                  NULL|                       NULL|                       NULL|                 NULL|                NULL|                          NULL|                          NULL|                       NULL|                         NULL|                   NULL|                  NULL|                   NULL|                  NULL|          a55475b1|          a55475b1|          2018-11-02|               NULL|               NULL|        a55475b1|       a55475b1|          NULL|            NULL|                      NULL|                      NULL|                      NULL|                       NULL|\n",
      "|    388|                    NULL|                   NULL|                 a55475b1|                  a55475b1|       a55475b1|       a55475b1|                NULL|        NULL|        NULL|              NULL|              NULL|                NULL|                NULL|                NULL|             NULL|           NULL|        a55475b1|       NULL|       NULL|                NULL|               NULL|               NULL|               NULL|                 a55475b1|                 a55475b1|            NULL|            NULL|             NULL|            NULL|           NULL|                   NULL|                   NULL|            NULL|            NULL|         9|                    NULL|                    NULL|               NULL|               NULL|                       NULL|                      NULL|                         NULL|                         NULL|                           NULL|                           NULL|                      NULL|                      NULL|                  NULL|                  NULL|             NULL|              NULL|                 NULL|                  NULL|                       NULL|                       NULL|                 NULL|                NULL|                          NULL|                          NULL|                       NULL|                         NULL|                   NULL|                  NULL|                   NULL|                  NULL|          a55475b1|          a55475b1|          2019-01-09|               NULL|               NULL|        a55475b1|       a55475b1|          NULL|            NULL|                      NULL|                      NULL|                      NULL|                       NULL|\n",
      "|    388|                    NULL|                   NULL|                 a55475b1|                  a55475b1|       a55475b1|       a55475b1|                NULL|        NULL|        NULL|              NULL|              NULL|                NULL|                NULL|                NULL|             NULL|           NULL|        a55475b1|       NULL|       NULL|                NULL|               NULL|               NULL|               NULL|                 a55475b1|                 a55475b1|            NULL|            NULL|             NULL|            NULL|           NULL|                   NULL|                   NULL|            NULL|            NULL|        10|                    NULL|                    NULL|               NULL|               NULL|                       NULL|                      NULL|                         NULL|                         NULL|                           NULL|                           NULL|                      NULL|                      NULL|                  NULL|                  NULL|             NULL|              NULL|                 NULL|                  NULL|                       NULL|                       NULL|                 NULL|                NULL|                          NULL|                          NULL|                       NULL|                         NULL|                   NULL|                  NULL|                   NULL|                  NULL|          a55475b1|          a55475b1|          2018-12-19|               NULL|               NULL|        a55475b1|       a55475b1|          NULL|            NULL|                      NULL|                      NULL|                      NULL|                       NULL|\n",
      "|    405|                    NULL|                   NULL|                 ea6782cc|                  a55475b1|       7241344e|       a55475b1|                NULL|        NULL|         0.0|        2020-06-06|              NULL|                NULL|          2012-06-06|                NULL|         224467.5|            0.0|        a55475b1|        0.0|       NULL|                NULL|                2.0|             2017.0|               NULL|                 a55475b1|               P204_66_73|             0.0|            NULL|             NULL|      2019-01-11|           NULL|                    0.0|                   NULL|            NULL|            NULL|         0|                     2.0|                    NULL|               NULL|               NULL|                       NULL|                      NULL|                          0.0|                         NULL|                           NULL|                           NULL|                       0.0|                      NULL|                  NULL|                  NULL|             NULL|               0.0|                  0.0|                  NULL|                       NULL|                       NULL|                  0.0|                NULL|                          NULL|                           2.0|                     2017.0|                         NULL|                   NULL|                  NULL|                   NULL|                  NULL|          60c73645|          a55475b1|                NULL|               NULL|                0.0|        ab3c25cf|       a55475b1|          NULL|            NULL|                       0.0|                      NULL|                  224467.5|                       NULL|\n",
      "|    405|                    NULL|                   NULL|                 4408ff0f|                  a55475b1|       7241344e|       a55475b1|                NULL|        NULL|        NULL|        2022-11-06|              NULL|                NULL|          2017-11-06|                NULL|             NULL|           NULL|        a55475b1|        0.0|       NULL|                NULL|               11.0|             2017.0|               NULL|                 a55475b1|                 55b002a9|            NULL|            NULL|             NULL|      2019-01-17|           NULL|              6972.1885|                   NULL|            NULL|            NULL|         1|                    NULL|                    NULL|               NULL|               59.0|                       NULL|                      46.0|                          0.0|                         NULL|                           NULL|                           NULL|                       0.0|                      NULL|                  NULL|              224467.5|             NULL|               0.0|                  0.0|                  NULL|                       NULL|                       NULL|                  0.0|                NULL|                          NULL|                          11.0|                     2017.0|                         NULL|                   NULL|                  30.0|                   NULL|                  NULL|          96a8fdfe|          a55475b1|                NULL|               NULL|               NULL|        a55475b1|       a55475b1|          NULL|        256000.0|                      NULL|                      NULL|                      NULL|                       NULL|\n",
      "|    405|                    NULL|                   NULL|                 a55475b1|                  a55475b1|       a55475b1|       a55475b1|                NULL|        NULL|        NULL|              NULL|              NULL|                NULL|                NULL|                NULL|             NULL|           NULL|        a55475b1|       NULL|       NULL|                NULL|               NULL|               NULL|               NULL|                 a55475b1|                 a55475b1|            NULL|            NULL|             NULL|            NULL|           NULL|                   NULL|                   NULL|            NULL|            NULL|         2|                    NULL|                    NULL|               NULL|               NULL|                       NULL|                      NULL|                         NULL|                         NULL|                           NULL|                           NULL|                      NULL|                      NULL|                  NULL|                  NULL|             NULL|              NULL|                 NULL|                  NULL|                       NULL|                       NULL|                 NULL|                NULL|                          NULL|                          NULL|                       NULL|                         NULL|                   NULL|                  NULL|                   NULL|                  NULL|          a55475b1|          a55475b1|          2019-01-21|               NULL|               NULL|        a55475b1|       a55475b1|          NULL|            NULL|                      NULL|                      NULL|                      NULL|                       NULL|\n",
      "|    405|                    NULL|                   NULL|                 a55475b1|                  a55475b1|       a55475b1|       a55475b1|                NULL|        NULL|        NULL|              NULL|              NULL|                NULL|                NULL|                NULL|             NULL|           NULL|        a55475b1|       NULL|       NULL|                NULL|               NULL|               NULL|               NULL|                 a55475b1|                 a55475b1|            NULL|            NULL|             NULL|            NULL|           NULL|                   NULL|                   NULL|            NULL|            NULL|         3|                    NULL|                    NULL|               NULL|               NULL|                       NULL|                      NULL|                         NULL|                         NULL|                           NULL|                           NULL|                      NULL|                      NULL|                  NULL|                  NULL|             NULL|              NULL|                 NULL|                  NULL|                       NULL|                       NULL|                 NULL|                NULL|                          NULL|                          NULL|                       NULL|                         NULL|                   NULL|                  NULL|                   NULL|                  NULL|          a55475b1|          a55475b1|          2019-01-21|               NULL|               NULL|        a55475b1|       a55475b1|          NULL|            NULL|                      NULL|                      NULL|                      NULL|                       NULL|\n",
      "|    405|                    NULL|                   NULL|                 a55475b1|                  a55475b1|       a55475b1|       a55475b1|                NULL|        NULL|        NULL|              NULL|              NULL|                NULL|                NULL|                NULL|             NULL|           NULL|        a55475b1|       NULL|       NULL|                NULL|               NULL|               NULL|               NULL|                 a55475b1|                 a55475b1|            NULL|            NULL|             NULL|            NULL|           NULL|                   NULL|                   NULL|            NULL|            NULL|         4|                    NULL|                    NULL|               NULL|               NULL|                       NULL|                      NULL|                         NULL|                         NULL|                           NULL|                           NULL|                      NULL|                      NULL|                  NULL|                  NULL|             NULL|              NULL|                 NULL|                  NULL|                       NULL|                       NULL|                 NULL|                NULL|                          NULL|                          NULL|                       NULL|                         NULL|                   NULL|                  NULL|                   NULL|                  NULL|          a55475b1|          a55475b1|          2019-01-21|               NULL|               NULL|        a55475b1|       a55475b1|          NULL|            NULL|                      NULL|                      NULL|                      NULL|                       NULL|\n",
      "|    405|                    NULL|                   NULL|                 a55475b1|                  a55475b1|       a55475b1|       a55475b1|                NULL|        NULL|        NULL|              NULL|              NULL|                NULL|                NULL|                NULL|             NULL|           NULL|        a55475b1|       NULL|       NULL|                NULL|               NULL|               NULL|               NULL|                 a55475b1|                 a55475b1|            NULL|            NULL|             NULL|            NULL|           NULL|                   NULL|                   NULL|            NULL|            NULL|         5|                    NULL|                    NULL|               NULL|               NULL|                       NULL|                      NULL|                         NULL|                         NULL|                           NULL|                           NULL|                      NULL|                      NULL|                  NULL|                  NULL|             NULL|              NULL|                 NULL|                  NULL|                       NULL|                       NULL|                 NULL|                NULL|                          NULL|                          NULL|                       NULL|                         NULL|                   NULL|                  NULL|                   NULL|                  NULL|          a55475b1|          a55475b1|                NULL|               NULL|               NULL|        a55475b1|       a55475b1|          NULL|            NULL|                      NULL|                      NULL|                      NULL|                       NULL|\n",
      "|    405|                    NULL|                   NULL|                 a55475b1|                  a55475b1|       a55475b1|       a55475b1|                NULL|        NULL|        NULL|              NULL|              NULL|                NULL|                NULL|                NULL|             NULL|           NULL|        a55475b1|       NULL|       NULL|                NULL|               NULL|               NULL|               NULL|                 a55475b1|                 a55475b1|            NULL|            NULL|             NULL|            NULL|           NULL|                   NULL|                   NULL|            NULL|            NULL|         6|                    NULL|                    NULL|               NULL|               NULL|                       NULL|                      NULL|                         NULL|                         NULL|                           NULL|                           NULL|                      NULL|                      NULL|                  NULL|                  NULL|             NULL|              NULL|                 NULL|                  NULL|                       NULL|                       NULL|                 NULL|                NULL|                          NULL|                          NULL|                       NULL|                         NULL|                   NULL|                  NULL|                   NULL|                  NULL|          a55475b1|          a55475b1|          2019-01-03|               NULL|               NULL|        a55475b1|       a55475b1|          NULL|            NULL|                      NULL|                      NULL|                      NULL|                       NULL|\n",
      "|    405|                    NULL|                   NULL|                 a55475b1|                  a55475b1|       a55475b1|       a55475b1|                NULL|        NULL|        NULL|              NULL|              NULL|                NULL|                NULL|                NULL|             NULL|           NULL|        a55475b1|       NULL|       NULL|                NULL|               NULL|               NULL|               NULL|                 a55475b1|                 a55475b1|            NULL|            NULL|             NULL|            NULL|           NULL|                   NULL|                   NULL|            NULL|            NULL|         7|                    NULL|                    NULL|               NULL|               NULL|                       NULL|                      NULL|                         NULL|                         NULL|                           NULL|                           NULL|                      NULL|                      NULL|                  NULL|                  NULL|             NULL|              NULL|                 NULL|                  NULL|                       NULL|                       NULL|                 NULL|                NULL|                          NULL|                          NULL|                       NULL|                         NULL|                   NULL|                  NULL|                   NULL|                  NULL|          a55475b1|          a55475b1|          2019-01-18|               NULL|               NULL|        a55475b1|       a55475b1|          NULL|            NULL|                      NULL|                      NULL|                      NULL|                       NULL|\n",
      "|    405|                    NULL|                   NULL|                 a55475b1|                  a55475b1|       a55475b1|       a55475b1|                NULL|        NULL|        NULL|              NULL|              NULL|                NULL|                NULL|                NULL|             NULL|           NULL|        a55475b1|       NULL|       NULL|                NULL|               NULL|               NULL|               NULL|                 a55475b1|                 a55475b1|            NULL|            NULL|             NULL|            NULL|           NULL|                   NULL|                   NULL|            NULL|            NULL|         8|                    NULL|                    NULL|               NULL|               NULL|                       NULL|                      NULL|                         NULL|                         NULL|                           NULL|                           NULL|                      NULL|                      NULL|                  NULL|                  NULL|             NULL|              NULL|                 NULL|                  NULL|                       NULL|                       NULL|                 NULL|                NULL|                          NULL|                          NULL|                       NULL|                         NULL|                   NULL|                  NULL|                   NULL|                  NULL|          a55475b1|          a55475b1|          2018-11-02|               NULL|               NULL|        a55475b1|       a55475b1|          NULL|            NULL|                      NULL|                      NULL|                      NULL|                       NULL|\n",
      "+-------+------------------------+-----------------------+-------------------------+--------------------------+---------------+---------------+--------------------+------------+------------+------------------+------------------+--------------------+--------------------+--------------------+-----------------+---------------+----------------+-----------+-----------+--------------------+-------------------+-------------------+-------------------+-------------------------+-------------------------+----------------+----------------+-----------------+----------------+---------------+-----------------------+-----------------------+----------------+----------------+----------+------------------------+------------------------+-------------------+-------------------+---------------------------+--------------------------+-----------------------------+-----------------------------+-------------------------------+-------------------------------+--------------------------+--------------------------+----------------------+----------------------+-----------------+------------------+---------------------+----------------------+---------------------------+---------------------------+---------------------+--------------------+------------------------------+------------------------------+---------------------------+-----------------------------+-----------------------+----------------------+-----------------------+----------------------+------------------+------------------+--------------------+-------------------+-------------------+----------------+---------------+--------------+----------------+--------------------------+--------------------------+--------------------------+---------------------------+\n",
      "only showing top 20 rows\n",
      "\n"
     ]
    },
    {
     "name": "stderr",
     "output_type": "stream",
     "text": [
      "24/07/17 20:09:30 WARN GarbageCollectionMetrics: To enable non-built-in garbage collector(s) List(G1 Concurrent GC), users should configure it(them) to spark.eventLog.gcMetrics.youngGenerationGarbageCollectors or spark.eventLog.gcMetrics.oldGenerationGarbageCollectors\n"
     ]
    }
   ],
   "source": [
    "parquet_file_path = CURRENT_DIRECTORY_NOTEBOOK / Path(\n",
    "    \"raw_main_dataset/home-credit-credit-risk-model-stability/parquet_files/train/train_credit_bureau_a_1_0.parquet\"\n",
    ")\n",
    "\n",
    "spark = SparkSession.builder.appName(\"Parquet_File_Exploration_Static_0\").getOrCreate()\n",
    "\n",
    "df_credit_bureau_a_1_0 = spark.read.parquet(str(parquet_file_path))\n",
    "df_credit_bureau_a_1_0.show()"
   ]
  },
  {
   "cell_type": "code",
   "execution_count": 22,
   "metadata": {},
   "outputs": [
    {
     "name": "stderr",
     "output_type": "stream",
     "text": [
      "100%|██████████| 79/79 [00:07<00:00, 10.44it/s]\n"
     ]
    },
    {
     "data": {
      "application/vnd.plotly.v1+json": {
       "config": {
        "plotlyServerURL": "https://plot.ly"
       },
       "data": [
        {
         "type": "bar",
         "x": [
          "contractsum_5085717L",
          "interestrate_508L",
          "prolongationcount_599L",
          "prolongationcount_1120L",
          "annualeffectiverate_199L",
          "instlamount_852A",
          "residualamount_488A",
          "credlmt_230A",
          "annualeffectiverate_63L",
          "overdueamountmax2date_1002D",
          "numberofoverdueinstlmaxdat_148D",
          "nominalrate_498L",
          "numberofoverdueinstlmaxdat_641D",
          "overdueamountmax2date_1142D",
          "nominalrate_281L",
          "instlamount_768A",
          "residualamount_856A",
          "credlmt_935A",
          "numberofcontrsvalue_358L",
          "totaldebtoverduevalue_718A",
          "totaloutstanddebtvalue_668A",
          "debtoutstand_525A",
          "debtoverdue_47A",
          "numberofcontrsvalue_258L",
          "totaldebtoverduevalue_178A",
          "totaloutstanddebtvalue_39A",
          "periodicityofpmts_837L",
          "periodicityofpmts_1102L",
          "numberofoutstandinstls_59L",
          "numberofinstls_320L",
          "outstandingamount_362A",
          "totalamount_996A",
          "numberofinstls_229L",
          "numberofoutstandinstls_520L",
          "outstandingamount_354A",
          "totalamount_6A",
          "monthlyinstlamount_674A",
          "dpdmax_757P",
          "dpdmaxdatemonth_442T",
          "dpdmaxdateyear_896T",
          "overdueamountmax_35A",
          "overdueamountmaxdatemonth_284T",
          "overdueamountmaxdateyear_994T",
          "dateofrealrepmt_138D",
          "numberofoverdueinstls_834L",
          "overdueamount_31A",
          "lastupdate_388D",
          "dateofcredend_353D",
          "dateofcredstart_181D",
          "numberofoverdueinstlmax_1151L",
          "overdueamountmax2_398A",
          "monthlyinstlamount_332A",
          "numberofoverdueinstls_725L",
          "overdueamount_659A",
          "dpdmax_139P",
          "dpdmaxdatemonth_89T",
          "dpdmaxdateyear_596T",
          "dateofcredend_289D",
          "dateofcredstart_739D",
          "lastupdate_1112D",
          "numberofoverdueinstlmax_1039L",
          "overdueamountmax2_14A",
          "overdueamountmax_155A",
          "overdueamountmaxdatemonth_365T",
          "overdueamountmaxdateyear_2T",
          "refreshdate_3813885D"
         ],
         "y": [
          100,
          99.87252361854743,
          99.85414579383927,
          99.35604589052366,
          99.0998273701552,
          99.00063579971044,
          98.44798661802263,
          98.43498826253368,
          98.23920966103988,
          96.70277483245752,
          96.66721191603548,
          96.63094309641275,
          95.91162773488807,
          95.87143993542689,
          94.04519533071807,
          92.81587707742443,
          92.81587707742443,
          92.7449459764978,
          92.73158249866366,
          92.73158249866366,
          92.73158249866366,
          91.85010413289285,
          91.85010413289285,
          91.78294596286656,
          91.78294596286656,
          91.78294596286656,
          91.41329610059073,
          91.24519377286275,
          91.23173292906988,
          91.23129478225563,
          91.22900668222574,
          91.22869024285991,
          90.45234277101571,
          90.44477256772532,
          90.44165685704633,
          90.43888192722284,
          89.75522684807892,
          89.28261248445796,
          89.28261248445796,
          89.28261248445796,
          89.27105027686011,
          89.27105027686011,
          89.27105027686011,
          88.95271227482905,
          88.8954610911024,
          88.89266181978924,
          88.88309561434512,
          88.88280351646897,
          88.88273049199992,
          88.88273049199992,
          88.88273049199992,
          84.04928956928221,
          84.04347195324875,
          84.04339892877972,
          84.0419871223783,
          84.0419871223783,
          84.0419871223783,
          83.97363621935772,
          83.97363621935772,
          83.97363621935772,
          83.97363621935772,
          83.97363621935772,
          83.97363621935772,
          83.97363621935772,
          83.97363621935772,
          34.8073078993976
         ]
        }
       ],
       "layout": {
        "bargap": 0.2,
        "height": 600,
        "template": {
         "data": {
          "bar": [
           {
            "error_x": {
             "color": "#2a3f5f"
            },
            "error_y": {
             "color": "#2a3f5f"
            },
            "marker": {
             "line": {
              "color": "#E5ECF6",
              "width": 0.5
             },
             "pattern": {
              "fillmode": "overlay",
              "size": 10,
              "solidity": 0.2
             }
            },
            "type": "bar"
           }
          ],
          "barpolar": [
           {
            "marker": {
             "line": {
              "color": "#E5ECF6",
              "width": 0.5
             },
             "pattern": {
              "fillmode": "overlay",
              "size": 10,
              "solidity": 0.2
             }
            },
            "type": "barpolar"
           }
          ],
          "carpet": [
           {
            "aaxis": {
             "endlinecolor": "#2a3f5f",
             "gridcolor": "white",
             "linecolor": "white",
             "minorgridcolor": "white",
             "startlinecolor": "#2a3f5f"
            },
            "baxis": {
             "endlinecolor": "#2a3f5f",
             "gridcolor": "white",
             "linecolor": "white",
             "minorgridcolor": "white",
             "startlinecolor": "#2a3f5f"
            },
            "type": "carpet"
           }
          ],
          "choropleth": [
           {
            "colorbar": {
             "outlinewidth": 0,
             "ticks": ""
            },
            "type": "choropleth"
           }
          ],
          "contour": [
           {
            "colorbar": {
             "outlinewidth": 0,
             "ticks": ""
            },
            "colorscale": [
             [
              0,
              "#0d0887"
             ],
             [
              0.1111111111111111,
              "#46039f"
             ],
             [
              0.2222222222222222,
              "#7201a8"
             ],
             [
              0.3333333333333333,
              "#9c179e"
             ],
             [
              0.4444444444444444,
              "#bd3786"
             ],
             [
              0.5555555555555556,
              "#d8576b"
             ],
             [
              0.6666666666666666,
              "#ed7953"
             ],
             [
              0.7777777777777778,
              "#fb9f3a"
             ],
             [
              0.8888888888888888,
              "#fdca26"
             ],
             [
              1,
              "#f0f921"
             ]
            ],
            "type": "contour"
           }
          ],
          "contourcarpet": [
           {
            "colorbar": {
             "outlinewidth": 0,
             "ticks": ""
            },
            "type": "contourcarpet"
           }
          ],
          "heatmap": [
           {
            "colorbar": {
             "outlinewidth": 0,
             "ticks": ""
            },
            "colorscale": [
             [
              0,
              "#0d0887"
             ],
             [
              0.1111111111111111,
              "#46039f"
             ],
             [
              0.2222222222222222,
              "#7201a8"
             ],
             [
              0.3333333333333333,
              "#9c179e"
             ],
             [
              0.4444444444444444,
              "#bd3786"
             ],
             [
              0.5555555555555556,
              "#d8576b"
             ],
             [
              0.6666666666666666,
              "#ed7953"
             ],
             [
              0.7777777777777778,
              "#fb9f3a"
             ],
             [
              0.8888888888888888,
              "#fdca26"
             ],
             [
              1,
              "#f0f921"
             ]
            ],
            "type": "heatmap"
           }
          ],
          "heatmapgl": [
           {
            "colorbar": {
             "outlinewidth": 0,
             "ticks": ""
            },
            "colorscale": [
             [
              0,
              "#0d0887"
             ],
             [
              0.1111111111111111,
              "#46039f"
             ],
             [
              0.2222222222222222,
              "#7201a8"
             ],
             [
              0.3333333333333333,
              "#9c179e"
             ],
             [
              0.4444444444444444,
              "#bd3786"
             ],
             [
              0.5555555555555556,
              "#d8576b"
             ],
             [
              0.6666666666666666,
              "#ed7953"
             ],
             [
              0.7777777777777778,
              "#fb9f3a"
             ],
             [
              0.8888888888888888,
              "#fdca26"
             ],
             [
              1,
              "#f0f921"
             ]
            ],
            "type": "heatmapgl"
           }
          ],
          "histogram": [
           {
            "marker": {
             "pattern": {
              "fillmode": "overlay",
              "size": 10,
              "solidity": 0.2
             }
            },
            "type": "histogram"
           }
          ],
          "histogram2d": [
           {
            "colorbar": {
             "outlinewidth": 0,
             "ticks": ""
            },
            "colorscale": [
             [
              0,
              "#0d0887"
             ],
             [
              0.1111111111111111,
              "#46039f"
             ],
             [
              0.2222222222222222,
              "#7201a8"
             ],
             [
              0.3333333333333333,
              "#9c179e"
             ],
             [
              0.4444444444444444,
              "#bd3786"
             ],
             [
              0.5555555555555556,
              "#d8576b"
             ],
             [
              0.6666666666666666,
              "#ed7953"
             ],
             [
              0.7777777777777778,
              "#fb9f3a"
             ],
             [
              0.8888888888888888,
              "#fdca26"
             ],
             [
              1,
              "#f0f921"
             ]
            ],
            "type": "histogram2d"
           }
          ],
          "histogram2dcontour": [
           {
            "colorbar": {
             "outlinewidth": 0,
             "ticks": ""
            },
            "colorscale": [
             [
              0,
              "#0d0887"
             ],
             [
              0.1111111111111111,
              "#46039f"
             ],
             [
              0.2222222222222222,
              "#7201a8"
             ],
             [
              0.3333333333333333,
              "#9c179e"
             ],
             [
              0.4444444444444444,
              "#bd3786"
             ],
             [
              0.5555555555555556,
              "#d8576b"
             ],
             [
              0.6666666666666666,
              "#ed7953"
             ],
             [
              0.7777777777777778,
              "#fb9f3a"
             ],
             [
              0.8888888888888888,
              "#fdca26"
             ],
             [
              1,
              "#f0f921"
             ]
            ],
            "type": "histogram2dcontour"
           }
          ],
          "mesh3d": [
           {
            "colorbar": {
             "outlinewidth": 0,
             "ticks": ""
            },
            "type": "mesh3d"
           }
          ],
          "parcoords": [
           {
            "line": {
             "colorbar": {
              "outlinewidth": 0,
              "ticks": ""
             }
            },
            "type": "parcoords"
           }
          ],
          "pie": [
           {
            "automargin": true,
            "type": "pie"
           }
          ],
          "scatter": [
           {
            "fillpattern": {
             "fillmode": "overlay",
             "size": 10,
             "solidity": 0.2
            },
            "type": "scatter"
           }
          ],
          "scatter3d": [
           {
            "line": {
             "colorbar": {
              "outlinewidth": 0,
              "ticks": ""
             }
            },
            "marker": {
             "colorbar": {
              "outlinewidth": 0,
              "ticks": ""
             }
            },
            "type": "scatter3d"
           }
          ],
          "scattercarpet": [
           {
            "marker": {
             "colorbar": {
              "outlinewidth": 0,
              "ticks": ""
             }
            },
            "type": "scattercarpet"
           }
          ],
          "scattergeo": [
           {
            "marker": {
             "colorbar": {
              "outlinewidth": 0,
              "ticks": ""
             }
            },
            "type": "scattergeo"
           }
          ],
          "scattergl": [
           {
            "marker": {
             "colorbar": {
              "outlinewidth": 0,
              "ticks": ""
             }
            },
            "type": "scattergl"
           }
          ],
          "scattermapbox": [
           {
            "marker": {
             "colorbar": {
              "outlinewidth": 0,
              "ticks": ""
             }
            },
            "type": "scattermapbox"
           }
          ],
          "scatterpolar": [
           {
            "marker": {
             "colorbar": {
              "outlinewidth": 0,
              "ticks": ""
             }
            },
            "type": "scatterpolar"
           }
          ],
          "scatterpolargl": [
           {
            "marker": {
             "colorbar": {
              "outlinewidth": 0,
              "ticks": ""
             }
            },
            "type": "scatterpolargl"
           }
          ],
          "scatterternary": [
           {
            "marker": {
             "colorbar": {
              "outlinewidth": 0,
              "ticks": ""
             }
            },
            "type": "scatterternary"
           }
          ],
          "surface": [
           {
            "colorbar": {
             "outlinewidth": 0,
             "ticks": ""
            },
            "colorscale": [
             [
              0,
              "#0d0887"
             ],
             [
              0.1111111111111111,
              "#46039f"
             ],
             [
              0.2222222222222222,
              "#7201a8"
             ],
             [
              0.3333333333333333,
              "#9c179e"
             ],
             [
              0.4444444444444444,
              "#bd3786"
             ],
             [
              0.5555555555555556,
              "#d8576b"
             ],
             [
              0.6666666666666666,
              "#ed7953"
             ],
             [
              0.7777777777777778,
              "#fb9f3a"
             ],
             [
              0.8888888888888888,
              "#fdca26"
             ],
             [
              1,
              "#f0f921"
             ]
            ],
            "type": "surface"
           }
          ],
          "table": [
           {
            "cells": {
             "fill": {
              "color": "#EBF0F8"
             },
             "line": {
              "color": "white"
             }
            },
            "header": {
             "fill": {
              "color": "#C8D4E3"
             },
             "line": {
              "color": "white"
             }
            },
            "type": "table"
           }
          ]
         },
         "layout": {
          "annotationdefaults": {
           "arrowcolor": "#2a3f5f",
           "arrowhead": 0,
           "arrowwidth": 1
          },
          "autotypenumbers": "strict",
          "coloraxis": {
           "colorbar": {
            "outlinewidth": 0,
            "ticks": ""
           }
          },
          "colorscale": {
           "diverging": [
            [
             0,
             "#8e0152"
            ],
            [
             0.1,
             "#c51b7d"
            ],
            [
             0.2,
             "#de77ae"
            ],
            [
             0.3,
             "#f1b6da"
            ],
            [
             0.4,
             "#fde0ef"
            ],
            [
             0.5,
             "#f7f7f7"
            ],
            [
             0.6,
             "#e6f5d0"
            ],
            [
             0.7,
             "#b8e186"
            ],
            [
             0.8,
             "#7fbc41"
            ],
            [
             0.9,
             "#4d9221"
            ],
            [
             1,
             "#276419"
            ]
           ],
           "sequential": [
            [
             0,
             "#0d0887"
            ],
            [
             0.1111111111111111,
             "#46039f"
            ],
            [
             0.2222222222222222,
             "#7201a8"
            ],
            [
             0.3333333333333333,
             "#9c179e"
            ],
            [
             0.4444444444444444,
             "#bd3786"
            ],
            [
             0.5555555555555556,
             "#d8576b"
            ],
            [
             0.6666666666666666,
             "#ed7953"
            ],
            [
             0.7777777777777778,
             "#fb9f3a"
            ],
            [
             0.8888888888888888,
             "#fdca26"
            ],
            [
             1,
             "#f0f921"
            ]
           ],
           "sequentialminus": [
            [
             0,
             "#0d0887"
            ],
            [
             0.1111111111111111,
             "#46039f"
            ],
            [
             0.2222222222222222,
             "#7201a8"
            ],
            [
             0.3333333333333333,
             "#9c179e"
            ],
            [
             0.4444444444444444,
             "#bd3786"
            ],
            [
             0.5555555555555556,
             "#d8576b"
            ],
            [
             0.6666666666666666,
             "#ed7953"
            ],
            [
             0.7777777777777778,
             "#fb9f3a"
            ],
            [
             0.8888888888888888,
             "#fdca26"
            ],
            [
             1,
             "#f0f921"
            ]
           ]
          },
          "colorway": [
           "#636efa",
           "#EF553B",
           "#00cc96",
           "#ab63fa",
           "#FFA15A",
           "#19d3f3",
           "#FF6692",
           "#B6E880",
           "#FF97FF",
           "#FECB52"
          ],
          "font": {
           "color": "#2a3f5f"
          },
          "geo": {
           "bgcolor": "white",
           "lakecolor": "white",
           "landcolor": "#E5ECF6",
           "showlakes": true,
           "showland": true,
           "subunitcolor": "white"
          },
          "hoverlabel": {
           "align": "left"
          },
          "hovermode": "closest",
          "mapbox": {
           "style": "light"
          },
          "paper_bgcolor": "white",
          "plot_bgcolor": "#E5ECF6",
          "polar": {
           "angularaxis": {
            "gridcolor": "white",
            "linecolor": "white",
            "ticks": ""
           },
           "bgcolor": "#E5ECF6",
           "radialaxis": {
            "gridcolor": "white",
            "linecolor": "white",
            "ticks": ""
           }
          },
          "scene": {
           "xaxis": {
            "backgroundcolor": "#E5ECF6",
            "gridcolor": "white",
            "gridwidth": 2,
            "linecolor": "white",
            "showbackground": true,
            "ticks": "",
            "zerolinecolor": "white"
           },
           "yaxis": {
            "backgroundcolor": "#E5ECF6",
            "gridcolor": "white",
            "gridwidth": 2,
            "linecolor": "white",
            "showbackground": true,
            "ticks": "",
            "zerolinecolor": "white"
           },
           "zaxis": {
            "backgroundcolor": "#E5ECF6",
            "gridcolor": "white",
            "gridwidth": 2,
            "linecolor": "white",
            "showbackground": true,
            "ticks": "",
            "zerolinecolor": "white"
           }
          },
          "shapedefaults": {
           "line": {
            "color": "#2a3f5f"
           }
          },
          "ternary": {
           "aaxis": {
            "gridcolor": "white",
            "linecolor": "white",
            "ticks": ""
           },
           "baxis": {
            "gridcolor": "white",
            "linecolor": "white",
            "ticks": ""
           },
           "bgcolor": "#E5ECF6",
           "caxis": {
            "gridcolor": "white",
            "linecolor": "white",
            "ticks": ""
           }
          },
          "title": {
           "x": 0.05
          },
          "xaxis": {
           "automargin": true,
           "gridcolor": "white",
           "linecolor": "white",
           "ticks": "",
           "title": {
            "standoff": 15
           },
           "zerolinecolor": "white",
           "zerolinewidth": 2
          },
          "yaxis": {
           "automargin": true,
           "gridcolor": "white",
           "linecolor": "white",
           "ticks": "",
           "title": {
            "standoff": 15
           },
           "zerolinecolor": "white",
           "zerolinewidth": 2
          }
         }
        },
        "title": {
         "text": "Percentage of Missing Values by Column"
        },
        "width": 1800,
        "xaxis": {
         "tickmode": "linear",
         "title": {
          "text": "Columns"
         }
        },
        "yaxis": {
         "title": {
          "text": "Percentage of Missing Values"
         }
        }
       }
      }
     },
     "metadata": {},
     "output_type": "display_data"
    }
   ],
   "source": [
    "missing_values_dict = get_columns_high_missing_values(\n",
    "    df_credit_bureau_a_1_0, threshold=20, display=True\n",
    ")\n",
    "\n",
    "df_credit_bureau_a_1_0 = df_credit_bureau_a_1_0.drop(*list(missing_values_dict.keys()))"
   ]
  },
  {
   "cell_type": "code",
   "execution_count": 23,
   "metadata": {},
   "outputs": [
    {
     "name": "stdout",
     "output_type": "stream",
     "text": [
      "+-------+-------------------------+--------------------------+---------------+---------------+----------------+-------------------------+-------------------------+----------+------------------+------------------+----------------+---------------+\n",
      "|case_id|classificationofcontr_13M|classificationofcontr_400M|contractst_545M|contractst_964M|description_351M|financialinstitution_382M|financialinstitution_591M|num_group1|purposeofcred_426M|purposeofcred_874M|subjectrole_182M|subjectrole_93M|\n",
      "+-------+-------------------------+--------------------------+---------------+---------------+----------------+-------------------------+-------------------------+----------+------------------+------------------+----------------+---------------+\n",
      "|    388|                 ea6782cc|                  a55475b1|       7241344e|       a55475b1|        a55475b1|                 a55475b1|               P204_66_73|         1|          60c73645|          a55475b1|        a55475b1|       a55475b1|\n",
      "|    388|                 4408ff0f|                  a55475b1|       7241344e|       a55475b1|        a55475b1|                 a55475b1|                 55b002a9|         0|          96a8fdfe|          a55475b1|        ab3c25cf|       ab3c25cf|\n",
      "|    388|                 a55475b1|                  a55475b1|       a55475b1|       a55475b1|        a55475b1|                 a55475b1|                 a55475b1|         2|          a55475b1|          a55475b1|        a55475b1|       a55475b1|\n",
      "|    388|                 a55475b1|                  a55475b1|       a55475b1|       a55475b1|        a55475b1|                 a55475b1|                 a55475b1|         3|          a55475b1|          a55475b1|        a55475b1|       a55475b1|\n",
      "|    388|                 a55475b1|                  a55475b1|       a55475b1|       a55475b1|        a55475b1|                 a55475b1|                 a55475b1|         4|          a55475b1|          a55475b1|        a55475b1|       a55475b1|\n",
      "|    388|                 a55475b1|                  a55475b1|       a55475b1|       a55475b1|        a55475b1|                 a55475b1|                 a55475b1|         5|          a55475b1|          a55475b1|        a55475b1|       a55475b1|\n",
      "|    388|                 a55475b1|                  a55475b1|       a55475b1|       a55475b1|        a55475b1|                 a55475b1|                 a55475b1|         6|          a55475b1|          a55475b1|        a55475b1|       a55475b1|\n",
      "|    388|                 a55475b1|                  a55475b1|       a55475b1|       a55475b1|        a55475b1|                 a55475b1|                 a55475b1|         7|          a55475b1|          a55475b1|        a55475b1|       a55475b1|\n",
      "|    388|                 a55475b1|                  a55475b1|       a55475b1|       a55475b1|        a55475b1|                 a55475b1|                 a55475b1|         8|          a55475b1|          a55475b1|        a55475b1|       a55475b1|\n",
      "|    388|                 a55475b1|                  a55475b1|       a55475b1|       a55475b1|        a55475b1|                 a55475b1|                 a55475b1|         9|          a55475b1|          a55475b1|        a55475b1|       a55475b1|\n",
      "|    388|                 a55475b1|                  a55475b1|       a55475b1|       a55475b1|        a55475b1|                 a55475b1|                 a55475b1|        10|          a55475b1|          a55475b1|        a55475b1|       a55475b1|\n",
      "|    405|                 ea6782cc|                  a55475b1|       7241344e|       a55475b1|        a55475b1|                 a55475b1|               P204_66_73|         0|          60c73645|          a55475b1|        ab3c25cf|       a55475b1|\n",
      "|    405|                 4408ff0f|                  a55475b1|       7241344e|       a55475b1|        a55475b1|                 a55475b1|                 55b002a9|         1|          96a8fdfe|          a55475b1|        a55475b1|       a55475b1|\n",
      "|    405|                 a55475b1|                  a55475b1|       a55475b1|       a55475b1|        a55475b1|                 a55475b1|                 a55475b1|         2|          a55475b1|          a55475b1|        a55475b1|       a55475b1|\n",
      "|    405|                 a55475b1|                  a55475b1|       a55475b1|       a55475b1|        a55475b1|                 a55475b1|                 a55475b1|         3|          a55475b1|          a55475b1|        a55475b1|       a55475b1|\n",
      "|    405|                 a55475b1|                  a55475b1|       a55475b1|       a55475b1|        a55475b1|                 a55475b1|                 a55475b1|         4|          a55475b1|          a55475b1|        a55475b1|       a55475b1|\n",
      "|    405|                 a55475b1|                  a55475b1|       a55475b1|       a55475b1|        a55475b1|                 a55475b1|                 a55475b1|         5|          a55475b1|          a55475b1|        a55475b1|       a55475b1|\n",
      "|    405|                 a55475b1|                  a55475b1|       a55475b1|       a55475b1|        a55475b1|                 a55475b1|                 a55475b1|         6|          a55475b1|          a55475b1|        a55475b1|       a55475b1|\n",
      "|    405|                 a55475b1|                  a55475b1|       a55475b1|       a55475b1|        a55475b1|                 a55475b1|                 a55475b1|         7|          a55475b1|          a55475b1|        a55475b1|       a55475b1|\n",
      "|    405|                 a55475b1|                  a55475b1|       a55475b1|       a55475b1|        a55475b1|                 a55475b1|                 a55475b1|         8|          a55475b1|          a55475b1|        a55475b1|       a55475b1|\n",
      "+-------+-------------------------+--------------------------+---------------+---------------+----------------+-------------------------+-------------------------+----------+------------------+------------------+----------------+---------------+\n",
      "only showing top 20 rows\n",
      "\n"
     ]
    }
   ],
   "source": [
    "df_credit_bureau_a_1_0.show()"
   ]
  },
  {
   "cell_type": "code",
   "execution_count": null,
   "metadata": {},
   "outputs": [],
   "source": []
  },
  {
   "cell_type": "code",
   "execution_count": null,
   "metadata": {},
   "outputs": [],
   "source": []
  },
  {
   "cell_type": "code",
   "execution_count": null,
   "metadata": {},
   "outputs": [],
   "source": []
  },
  {
   "cell_type": "code",
   "execution_count": 17,
   "metadata": {},
   "outputs": [
    {
     "name": "stdout",
     "output_type": "stream",
     "text": [
      "+-------+-------------------------------+-------------------------------+-------------------------------+------------------------------+-------------------------------+-------------------------------+----------+----------+--------------+-------------+---------------+---------------+------------------+------------------+---------------+--------------+----------------------+----------------------+\n",
      "|case_id|collater_typofvalofguarant_298M|collater_typofvalofguarant_407M|collater_valueofguarantee_1124L|collater_valueofguarantee_876L|collaterals_typeofguarante_359M|collaterals_typeofguarante_669M|num_group1|num_group2|pmts_dpd_1073P|pmts_dpd_303P|pmts_month_158T|pmts_month_706T|pmts_overdue_1140A|pmts_overdue_1152A|pmts_year_1139T|pmts_year_507T|subjectroles_name_541M|subjectroles_name_838M|\n",
      "+-------+-------------------------------+-------------------------------+-------------------------------+------------------------------+-------------------------------+-------------------------------+----------+----------+--------------+-------------+---------------+---------------+------------------+------------------+---------------+--------------+----------------------+----------------------+\n",
      "|    388|                       8fd95e4b|                       a55475b1|                            0.0|                          NULL|                       a55475b1|                       c7a5ad39|         0|         0|          NULL|         NULL|            2.0|           NULL|              NULL|              NULL|         2018.0|          NULL|              a55475b1|              ab3c25cf|\n",
      "|    388|                       9a0c095e|                       a55475b1|                            0.0|                          NULL|                       a55475b1|                       c7a5ad39|         1|         0|          NULL|         NULL|            2.0|           NULL|              NULL|              NULL|         2018.0|          NULL|              a55475b1|              ab3c25cf|\n",
      "|    388|                       a55475b1|                       a55475b1|                           NULL|                          NULL|                       a55475b1|                       a55475b1|         0|         1|          NULL|         NULL|            3.0|           NULL|              NULL|              NULL|         2018.0|          NULL|              a55475b1|              a55475b1|\n",
      "|    388|                       a55475b1|                       a55475b1|                           NULL|                          NULL|                       a55475b1|                       a55475b1|         0|         2|          NULL|         NULL|            4.0|           NULL|              NULL|              NULL|         2018.0|          NULL|              a55475b1|              a55475b1|\n",
      "|    388|                       a55475b1|                       a55475b1|                           NULL|                          NULL|                       a55475b1|                       a55475b1|         0|         3|          NULL|         NULL|            5.0|           NULL|              NULL|              NULL|         2018.0|          NULL|              a55475b1|              a55475b1|\n",
      "|    388|                       a55475b1|                       a55475b1|                           NULL|                          NULL|                       a55475b1|                       a55475b1|         0|         4|          NULL|         NULL|            6.0|           NULL|              NULL|              NULL|         2018.0|          NULL|              a55475b1|              a55475b1|\n",
      "|    388|                       a55475b1|                       a55475b1|                           NULL|                          NULL|                       a55475b1|                       a55475b1|         0|         5|           0.0|         NULL|            7.0|           NULL|               0.0|              NULL|         2018.0|          NULL|              a55475b1|              a55475b1|\n",
      "|    388|                       a55475b1|                       a55475b1|                           NULL|                          NULL|                       a55475b1|                       a55475b1|         0|         6|           0.0|         NULL|            8.0|           NULL|               0.0|              NULL|         2018.0|          NULL|              a55475b1|              a55475b1|\n",
      "|    388|                       a55475b1|                       a55475b1|                           NULL|                          NULL|                       a55475b1|                       a55475b1|         0|         7|           0.0|         NULL|            9.0|           NULL|               0.0|              NULL|         2018.0|          NULL|              a55475b1|              a55475b1|\n",
      "|    388|                       a55475b1|                       a55475b1|                           NULL|                          NULL|                       a55475b1|                       a55475b1|         0|         8|           0.0|         NULL|           10.0|           NULL|               0.0|              NULL|         2018.0|          NULL|              a55475b1|              a55475b1|\n",
      "|    388|                       a55475b1|                       a55475b1|                           NULL|                          NULL|                       a55475b1|                       a55475b1|         0|         9|           0.0|         NULL|           11.0|           NULL|               0.0|              NULL|         2018.0|          NULL|              a55475b1|              a55475b1|\n",
      "|    388|                       a55475b1|                       a55475b1|                           NULL|                          NULL|                       a55475b1|                       a55475b1|         0|        10|           0.0|         NULL|           12.0|           NULL|               0.0|              NULL|         2018.0|          NULL|              a55475b1|              a55475b1|\n",
      "|    388|                       a55475b1|                       a55475b1|                           NULL|                          NULL|                       a55475b1|                       a55475b1|         0|        11|           0.0|         NULL|            1.0|           NULL|               0.0|              NULL|         2019.0|          NULL|              a55475b1|              a55475b1|\n",
      "|    388|                       a55475b1|                       a55475b1|                           NULL|                          NULL|                       a55475b1|                       a55475b1|         0|        12|           0.0|         NULL|            2.0|           NULL|               0.0|              NULL|         2019.0|          NULL|              a55475b1|              a55475b1|\n",
      "|    388|                       a55475b1|                       a55475b1|                           NULL|                          NULL|                       a55475b1|                       a55475b1|         0|        13|          NULL|         NULL|            3.0|           NULL|              NULL|              NULL|         2019.0|          NULL|              a55475b1|              a55475b1|\n",
      "|    388|                       a55475b1|                       a55475b1|                           NULL|                          NULL|                       a55475b1|                       a55475b1|         0|        14|          NULL|         NULL|            4.0|           NULL|              NULL|              NULL|         2019.0|          NULL|              a55475b1|              a55475b1|\n",
      "|    388|                       a55475b1|                       a55475b1|                           NULL|                          NULL|                       a55475b1|                       a55475b1|         0|        15|          NULL|         NULL|            5.0|           NULL|              NULL|              NULL|         2019.0|          NULL|              a55475b1|              a55475b1|\n",
      "|    388|                       a55475b1|                       a55475b1|                           NULL|                          NULL|                       a55475b1|                       a55475b1|         0|        16|          NULL|         NULL|            6.0|           NULL|              NULL|              NULL|         2019.0|          NULL|              a55475b1|              a55475b1|\n",
      "|    388|                       a55475b1|                       a55475b1|                           NULL|                          NULL|                       a55475b1|                       a55475b1|         0|        17|          NULL|         NULL|            7.0|           NULL|              NULL|              NULL|         2019.0|          NULL|              a55475b1|              a55475b1|\n",
      "|    388|                       a55475b1|                       a55475b1|                           NULL|                          NULL|                       a55475b1|                       a55475b1|         0|        18|          NULL|         NULL|            8.0|           NULL|              NULL|              NULL|         2019.0|          NULL|              a55475b1|              a55475b1|\n",
      "+-------+-------------------------------+-------------------------------+-------------------------------+------------------------------+-------------------------------+-------------------------------+----------+----------+--------------+-------------+---------------+---------------+------------------+------------------+---------------+--------------+----------------------+----------------------+\n",
      "only showing top 20 rows\n",
      "\n"
     ]
    }
   ],
   "source": [
    "parquet_file_path = CURRENT_DIRECTORY_NOTEBOOK / Path(\n",
    "    \"raw_main_dataset/home-credit-credit-risk-model-stability/parquet_files/train/train_credit_bureau_a_2_0.parquet\"\n",
    ")\n",
    "\n",
    "spark = SparkSession.builder.appName(\"Parquet_File_Exploration_Static_0\").getOrCreate()\n",
    "\n",
    "df_credit_bureau_a_2_0 = spark.read.parquet(str(parquet_file_path))\n",
    "df_credit_bureau_a_2_0.show()"
   ]
  },
  {
   "cell_type": "code",
   "execution_count": null,
   "metadata": {},
   "outputs": [],
   "source": []
  },
  {
   "cell_type": "code",
   "execution_count": null,
   "metadata": {},
   "outputs": [],
   "source": []
  },
  {
   "cell_type": "code",
   "execution_count": null,
   "metadata": {},
   "outputs": [],
   "source": []
  },
  {
   "cell_type": "code",
   "execution_count": null,
   "metadata": {},
   "outputs": [],
   "source": []
  }
 ],
 "metadata": {
  "kernelspec": {
   "display_name": "credit_risk_project",
   "language": "python",
   "name": "python3"
  },
  "language_info": {
   "codemirror_mode": {
    "name": "ipython",
    "version": 3
   },
   "file_extension": ".py",
   "mimetype": "text/x-python",
   "name": "python",
   "nbconvert_exporter": "python",
   "pygments_lexer": "ipython3",
   "version": "3.11.9"
  }
 },
 "nbformat": 4,
 "nbformat_minor": 2
}
