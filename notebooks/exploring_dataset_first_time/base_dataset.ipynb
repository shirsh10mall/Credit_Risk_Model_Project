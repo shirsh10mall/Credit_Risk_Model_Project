{
 "cells": [
  {
   "cell_type": "code",
   "execution_count": 1,
   "metadata": {},
   "outputs": [
    {
     "name": "stdout",
     "output_type": "stream",
     "text": [
      "Current directory for notebook:  /Users/shirshmall/Personal_Drive/Credit_Risk_Model_Project\n"
     ]
    }
   ],
   "source": [
    "from dotenv import load_dotenv\n",
    "import os\n",
    "from pathlib import Path\n",
    "import pandas as pd\n",
    "from pyspark.sql.functions import countDistinct, desc\n",
    "from notebooks.utils import create_pie_chart\n",
    "\n",
    "CURRENT_DIRECTORY_NOTEBOOK = None\n",
    "\n",
    "\n",
    "def intitate_notebook():\n",
    "    load_dotenv()\n",
    "    global CURRENT_DIRECTORY_NOTEBOOK\n",
    "    if CURRENT_DIRECTORY_NOTEBOOK is None:\n",
    "        os.chdir(os.getenv(\"PROJECT_BASE_PATH\"))\n",
    "        CURRENT_DIRECTORY_NOTEBOOK = Path(os.getcwd())\n",
    "        print(\"Current directory for notebook: \", CURRENT_DIRECTORY_NOTEBOOK)\n",
    "    else:\n",
    "        print(\n",
    "            \"Current directory for notebook is already set: \",\n",
    "            CURRENT_DIRECTORY_NOTEBOOK,\n",
    "        )\n",
    "\n",
    "\n",
    "intitate_notebook()"
   ]
  },
  {
   "cell_type": "markdown",
   "metadata": {},
   "source": [
    "### Features Definitions"
   ]
  },
  {
   "cell_type": "code",
   "execution_count": 2,
   "metadata": {},
   "outputs": [
    {
     "data": {
      "text/html": [
       "<div>\n",
       "<style scoped>\n",
       "    .dataframe tbody tr th:only-of-type {\n",
       "        vertical-align: middle;\n",
       "    }\n",
       "\n",
       "    .dataframe tbody tr th {\n",
       "        vertical-align: top;\n",
       "    }\n",
       "\n",
       "    .dataframe thead th {\n",
       "        text-align: right;\n",
       "    }\n",
       "</style>\n",
       "<table border=\"1\" class=\"dataframe\">\n",
       "  <thead>\n",
       "    <tr style=\"text-align: right;\">\n",
       "      <th></th>\n",
       "      <th>Variable</th>\n",
       "      <th>Description</th>\n",
       "    </tr>\n",
       "  </thead>\n",
       "  <tbody>\n",
       "    <tr>\n",
       "      <th>0</th>\n",
       "      <td>actualdpd_943P</td>\n",
       "      <td>Days Past Due (DPD) of previous contract (actu...</td>\n",
       "    </tr>\n",
       "    <tr>\n",
       "      <th>1</th>\n",
       "      <td>actualdpdtolerance_344P</td>\n",
       "      <td>DPD of client with tolerance.</td>\n",
       "    </tr>\n",
       "    <tr>\n",
       "      <th>2</th>\n",
       "      <td>addres_district_368M</td>\n",
       "      <td>District of the person's address.</td>\n",
       "    </tr>\n",
       "    <tr>\n",
       "      <th>3</th>\n",
       "      <td>addres_role_871L</td>\n",
       "      <td>Role of person's address.</td>\n",
       "    </tr>\n",
       "    <tr>\n",
       "      <th>4</th>\n",
       "      <td>addres_zip_823M</td>\n",
       "      <td>Zip code of the address.</td>\n",
       "    </tr>\n",
       "    <tr>\n",
       "      <th>...</th>\n",
       "      <td>...</td>\n",
       "      <td>...</td>\n",
       "    </tr>\n",
       "    <tr>\n",
       "      <th>460</th>\n",
       "      <td>totinstallast1m_4525188A</td>\n",
       "      <td>Total amount of monthly instalments paid in th...</td>\n",
       "    </tr>\n",
       "    <tr>\n",
       "      <th>461</th>\n",
       "      <td>twobodfilling_608L</td>\n",
       "      <td>Type of application process.</td>\n",
       "    </tr>\n",
       "    <tr>\n",
       "      <th>462</th>\n",
       "      <td>type_25L</td>\n",
       "      <td>Contact type of a person.</td>\n",
       "    </tr>\n",
       "    <tr>\n",
       "      <th>463</th>\n",
       "      <td>typesuite_864L</td>\n",
       "      <td>Persons accompanying the client during the loa...</td>\n",
       "    </tr>\n",
       "    <tr>\n",
       "      <th>464</th>\n",
       "      <td>validfrom_1069D</td>\n",
       "      <td>Date since the client has an active campaign.</td>\n",
       "    </tr>\n",
       "  </tbody>\n",
       "</table>\n",
       "<p>465 rows × 2 columns</p>\n",
       "</div>"
      ],
      "text/plain": [
       "                     Variable  \\\n",
       "0              actualdpd_943P   \n",
       "1     actualdpdtolerance_344P   \n",
       "2        addres_district_368M   \n",
       "3            addres_role_871L   \n",
       "4             addres_zip_823M   \n",
       "..                        ...   \n",
       "460  totinstallast1m_4525188A   \n",
       "461        twobodfilling_608L   \n",
       "462                  type_25L   \n",
       "463            typesuite_864L   \n",
       "464           validfrom_1069D   \n",
       "\n",
       "                                           Description  \n",
       "0    Days Past Due (DPD) of previous contract (actu...  \n",
       "1                        DPD of client with tolerance.  \n",
       "2                    District of the person's address.  \n",
       "3                            Role of person's address.  \n",
       "4                             Zip code of the address.  \n",
       "..                                                 ...  \n",
       "460  Total amount of monthly instalments paid in th...  \n",
       "461                       Type of application process.  \n",
       "462                          Contact type of a person.  \n",
       "463  Persons accompanying the client during the loa...  \n",
       "464      Date since the client has an active campaign.  \n",
       "\n",
       "[465 rows x 2 columns]"
      ]
     },
     "execution_count": 2,
     "metadata": {},
     "output_type": "execute_result"
    }
   ],
   "source": [
    "features_definitions_df = pd.read_csv(\n",
    "    \"raw_main_dataset/home-credit-credit-risk-model-stability/feature_definitions.csv\"\n",
    ")\n",
    "features_definitions_df"
   ]
  },
  {
   "cell_type": "code",
   "execution_count": 3,
   "metadata": {},
   "outputs": [
    {
     "name": "stderr",
     "output_type": "stream",
     "text": [
      "24/07/14 17:35:46 WARN Utils: Your hostname, Shirshs-MacBook-Air.local resolves to a loopback address: 127.0.0.1; using 192.168.68.106 instead (on interface en0)\n",
      "24/07/14 17:35:46 WARN Utils: Set SPARK_LOCAL_IP if you need to bind to another address\n",
      "Setting default log level to \"WARN\".\n",
      "To adjust logging level use sc.setLogLevel(newLevel). For SparkR, use setLogLevel(newLevel).\n",
      "24/07/14 17:35:47 WARN NativeCodeLoader: Unable to load native-hadoop library for your platform... using builtin-java classes where applicable\n",
      "24/07/14 17:35:47 WARN Utils: Service 'SparkUI' could not bind on port 4040. Attempting port 4041.\n",
      "                                                                                \r"
     ]
    },
    {
     "name": "stdout",
     "output_type": "stream",
     "text": [
      "+-------+-------------+------+--------+------+\n",
      "|case_id|date_decision| MONTH|WEEK_NUM|target|\n",
      "+-------+-------------+------+--------+------+\n",
      "|      0|   2019-01-03|201901|       0|     0|\n",
      "|      1|   2019-01-03|201901|       0|     0|\n",
      "|      2|   2019-01-04|201901|       0|     0|\n",
      "|      3|   2019-01-03|201901|       0|     0|\n",
      "|      4|   2019-01-04|201901|       0|     1|\n",
      "|      5|   2019-01-02|201901|       0|     0|\n",
      "|      6|   2019-01-03|201901|       0|     0|\n",
      "|      7|   2019-01-03|201901|       0|     0|\n",
      "|      8|   2019-01-03|201901|       0|     0|\n",
      "|      9|   2019-01-03|201901|       0|     0|\n",
      "|     10|   2019-01-03|201901|       0|     0|\n",
      "|     11|   2019-01-03|201901|       0|     0|\n",
      "|     12|   2019-01-03|201901|       0|     0|\n",
      "|     13|   2019-01-03|201901|       0|     0|\n",
      "|     14|   2019-01-03|201901|       0|     0|\n",
      "|     15|   2019-01-03|201901|       0|     0|\n",
      "|     16|   2019-01-03|201901|       0|     0|\n",
      "|     17|   2019-01-03|201901|       0|     0|\n",
      "|     18|   2019-01-03|201901|       0|     0|\n",
      "|     19|   2019-01-03|201901|       0|     0|\n",
      "+-------+-------------+------+--------+------+\n",
      "only showing top 20 rows\n",
      "\n"
     ]
    }
   ],
   "source": [
    "from pyspark.sql import SparkSession\n",
    "\n",
    "parquet_file_path = CURRENT_DIRECTORY_NOTEBOOK / Path(\n",
    "    \"raw_main_dataset/home-credit-credit-risk-model-stability/parquet_files/train/train_base.parquet\"\n",
    ")\n",
    "\n",
    "spark = SparkSession.builder.appName(\"Parquet_File_Exploration\").getOrCreate()\n",
    "\n",
    "\n",
    "df = spark.read.parquet(str(parquet_file_path))\n",
    "df.show()"
   ]
  },
  {
   "cell_type": "code",
   "execution_count": 4,
   "metadata": {},
   "outputs": [
    {
     "name": "stdout",
     "output_type": "stream",
     "text": [
      "Schema:\n",
      "root\n",
      " |-- case_id: long (nullable = true)\n",
      " |-- date_decision: string (nullable = true)\n",
      " |-- MONTH: long (nullable = true)\n",
      " |-- WEEK_NUM: long (nullable = true)\n",
      " |-- target: long (nullable = true)\n",
      "\n",
      "\n",
      "Data types:\n",
      "[('case_id', 'bigint'), ('date_decision', 'string'), ('MONTH', 'bigint'), ('WEEK_NUM', 'bigint'), ('target', 'bigint')]\n"
     ]
    }
   ],
   "source": [
    "# Show the schema of the DataFrame\n",
    "print(\"Schema:\")\n",
    "df.printSchema()\n",
    "\n",
    "\n",
    "# Show the data types of the columns\n",
    "print(\"\\nData types:\")\n",
    "print(df.dtypes)"
   ]
  },
  {
   "cell_type": "code",
   "execution_count": 5,
   "metadata": {},
   "outputs": [
    {
     "name": "stdout",
     "output_type": "stream",
     "text": [
      "First 5 rows:\n",
      "+-------+-------------+------+--------+------+\n",
      "|case_id|date_decision| MONTH|WEEK_NUM|target|\n",
      "+-------+-------------+------+--------+------+\n",
      "|      0|   2019-01-03|201901|       0|     0|\n",
      "|      1|   2019-01-03|201901|       0|     0|\n",
      "|      2|   2019-01-04|201901|       0|     0|\n",
      "|      3|   2019-01-03|201901|       0|     0|\n",
      "|      4|   2019-01-04|201901|       0|     1|\n",
      "|      5|   2019-01-02|201901|       0|     0|\n",
      "|      6|   2019-01-03|201901|       0|     0|\n",
      "|      7|   2019-01-03|201901|       0|     0|\n",
      "|      8|   2019-01-03|201901|       0|     0|\n",
      "|      9|   2019-01-03|201901|       0|     0|\n",
      "+-------+-------------+------+--------+------+\n",
      "only showing top 10 rows\n",
      "\n"
     ]
    }
   ],
   "source": [
    "# Show the first 5 rows\n",
    "print(\"First 5 rows:\")\n",
    "df.show(10)"
   ]
  },
  {
   "cell_type": "code",
   "execution_count": 6,
   "metadata": {},
   "outputs": [
    {
     "name": "stdout",
     "output_type": "stream",
     "text": [
      "Number of rows: 1526659\n",
      "\n",
      "Columns:\n",
      "['case_id', 'date_decision', 'MONTH', 'WEEK_NUM', 'target']\n"
     ]
    }
   ],
   "source": [
    "# Count the number of rows\n",
    "row_count = df.count()\n",
    "print(f\"Number of rows: {row_count}\")\n",
    "\n",
    "# Show the columns\n",
    "print(\"\\nColumns:\")\n",
    "print(df.columns)"
   ]
  },
  {
   "cell_type": "code",
   "execution_count": 7,
   "metadata": {},
   "outputs": [
    {
     "name": "stdout",
     "output_type": "stream",
     "text": [
      "Summary statistics:\n"
     ]
    },
    {
     "name": "stderr",
     "output_type": "stream",
     "text": [
      "24/07/14 17:35:51 WARN SparkStringUtils: Truncated the string representation of a plan since it was too large. This behavior can be adjusted by setting 'spark.sql.debug.maxToStringFields'.\n",
      "[Stage 6:=============================>                             (1 + 1) / 2]\r"
     ]
    },
    {
     "name": "stdout",
     "output_type": "stream",
     "text": [
      "+-------+-----------------+-------------+------------------+-----------------+-------------------+\n",
      "|summary|          case_id|date_decision|             MONTH|         WEEK_NUM|             target|\n",
      "+-------+-----------------+-------------+------------------+-----------------+-------------------+\n",
      "|  count|          1526659|      1526659|           1526659|          1526659|            1526659|\n",
      "|   mean|1286076.571738679|         NULL|201936.28798245057|40.76903617638254|0.03143727577671242|\n",
      "| stddev|718946.5922850802|         NULL| 44.73597450410422|23.79798129273225| 0.1744963994279181|\n",
      "|    min|                0|   2019-01-01|            201901|                0|                  0|\n",
      "|    25%|           766057|         NULL|            201906|               23|                  0|\n",
      "|    50%|          1357307|         NULL|            201910|               40|                  0|\n",
      "|    75%|          1739145|         NULL|            202001|               55|                  0|\n",
      "|    max|          2703454|   2020-10-05|            202010|               91|                  1|\n",
      "+-------+-----------------+-------------+------------------+-----------------+-------------------+\n",
      "\n"
     ]
    },
    {
     "name": "stderr",
     "output_type": "stream",
     "text": [
      "                                                                                \r"
     ]
    }
   ],
   "source": [
    "# Show the summary statistics\n",
    "print(\"Summary statistics:\")\n",
    "df.summary().show()"
   ]
  },
  {
   "cell_type": "code",
   "execution_count": 8,
   "metadata": {},
   "outputs": [],
   "source": [
    "def explore_column(df, column_name):\n",
    "    print(f\"\\nExploring '{column_name}' column:\")\n",
    "    df.select(column_name).summary().show()\n",
    "    distinct_count = df.select(countDistinct(column_name)).collect()[0][0]\n",
    "    print(f\"Number of distinct '{column_name}': {distinct_count}\")\n",
    "    df.groupBy(column_name).count().orderBy(desc(\"count\")).show(\n",
    "        5\n",
    "    )  # Show top 5 most frequent values"
   ]
  },
  {
   "cell_type": "code",
   "execution_count": 9,
   "metadata": {},
   "outputs": [
    {
     "name": "stdout",
     "output_type": "stream",
     "text": [
      "Column Name: case_id\n",
      "\n",
      "Exploring 'case_id' column:\n",
      "+-------+-----------------+\n",
      "|summary|          case_id|\n",
      "+-------+-----------------+\n",
      "|  count|          1526659|\n",
      "|   mean|1286076.571738679|\n",
      "| stddev|718946.5922850802|\n",
      "|    min|                0|\n",
      "|    25%|           766057|\n",
      "|    50%|          1357307|\n",
      "|    75%|          1739145|\n",
      "|    max|          2703454|\n",
      "+-------+-----------------+\n",
      "\n"
     ]
    },
    {
     "name": "stderr",
     "output_type": "stream",
     "text": [
      "24/07/14 17:35:58 WARN GarbageCollectionMetrics: To enable non-built-in garbage collector(s) List(G1 Concurrent GC), users should configure it(them) to spark.eventLog.gcMetrics.youngGenerationGarbageCollectors or spark.eventLog.gcMetrics.oldGenerationGarbageCollectors\n",
      "                                                                                \r"
     ]
    },
    {
     "name": "stdout",
     "output_type": "stream",
     "text": [
      "Number of distinct 'case_id': 1526659\n"
     ]
    },
    {
     "name": "stderr",
     "output_type": "stream",
     "text": [
      "                                                                                \r"
     ]
    },
    {
     "name": "stdout",
     "output_type": "stream",
     "text": [
      "+-------+-----+\n",
      "|case_id|count|\n",
      "+-------+-----+\n",
      "|     32|    1|\n",
      "|     23|    1|\n",
      "|     26|    1|\n",
      "|    117|    1|\n",
      "|     27|    1|\n",
      "+-------+-----+\n",
      "only showing top 5 rows\n",
      "\n",
      " -  -  -  -  -  -  -  -  -  -  -  -  -  -  -  -  -  -  -  -  -  -  -  -  - \n",
      "Column Name: date_decision\n",
      "\n",
      "Exploring 'date_decision' column:\n"
     ]
    },
    {
     "name": "stderr",
     "output_type": "stream",
     "text": [
      "                                                                                \r"
     ]
    },
    {
     "name": "stdout",
     "output_type": "stream",
     "text": [
      "+-------+-------------+\n",
      "|summary|date_decision|\n",
      "+-------+-------------+\n",
      "|  count|      1526659|\n",
      "|   mean|         NULL|\n",
      "| stddev|         NULL|\n",
      "|    min|   2019-01-01|\n",
      "|    25%|         NULL|\n",
      "|    50%|         NULL|\n",
      "|    75%|         NULL|\n",
      "|    max|   2020-10-05|\n",
      "+-------+-------------+\n",
      "\n",
      "Number of distinct 'date_decision': 644\n",
      "+-------------+-----+\n",
      "|date_decision|count|\n",
      "+-------------+-----+\n",
      "|   2019-11-29| 8812|\n",
      "|   2019-11-30| 8756|\n",
      "|   2019-12-28| 6900|\n",
      "|   2019-12-29| 6537|\n",
      "|   2019-11-17| 6340|\n",
      "+-------------+-----+\n",
      "only showing top 5 rows\n",
      "\n",
      " -  -  -  -  -  -  -  -  -  -  -  -  -  -  -  -  -  -  -  -  -  -  -  -  - \n",
      "Column Name: MONTH\n",
      "\n",
      "Exploring 'MONTH' column:\n",
      "+-------+------------------+\n",
      "|summary|             MONTH|\n",
      "+-------+------------------+\n",
      "|  count|           1526659|\n",
      "|   mean|201936.28798245057|\n",
      "| stddev| 44.73597450410422|\n",
      "|    min|            201901|\n",
      "|    25%|            201906|\n",
      "|    50%|            201910|\n",
      "|    75%|            202001|\n",
      "|    max|            202010|\n",
      "+-------+------------------+\n",
      "\n",
      "Number of distinct 'MONTH': 22\n",
      "+------+------+\n",
      "| MONTH| count|\n",
      "+------+------+\n",
      "|201912|126011|\n",
      "|201911|115845|\n",
      "|201908| 98741|\n",
      "|201909| 98706|\n",
      "|201907| 97566|\n",
      "+------+------+\n",
      "only showing top 5 rows\n",
      "\n",
      " -  -  -  -  -  -  -  -  -  -  -  -  -  -  -  -  -  -  -  -  -  -  -  -  - \n",
      "Column Name: WEEK_NUM\n",
      "\n",
      "Exploring 'WEEK_NUM' column:\n",
      "+-------+-----------------+\n",
      "|summary|         WEEK_NUM|\n",
      "+-------+-----------------+\n",
      "|  count|          1526659|\n",
      "|   mean|40.76903617638254|\n",
      "| stddev|23.79798129273225|\n",
      "|    min|                0|\n",
      "|    25%|               23|\n",
      "|    50%|               40|\n",
      "|    75%|               55|\n",
      "|    max|               91|\n",
      "+-------+-----------------+\n",
      "\n",
      "Number of distinct 'WEEK_NUM': 92\n",
      "+--------+-----+\n",
      "|WEEK_NUM|count|\n",
      "+--------+-----+\n",
      "|      51|35920|\n",
      "|      47|31888|\n",
      "|      49|30938|\n",
      "|      45|28947|\n",
      "|      23|26734|\n",
      "+--------+-----+\n",
      "only showing top 5 rows\n",
      "\n",
      " -  -  -  -  -  -  -  -  -  -  -  -  -  -  -  -  -  -  -  -  -  -  -  -  - \n",
      "Column Name: target\n",
      "\n",
      "Exploring 'target' column:\n",
      "+-------+-------------------+\n",
      "|summary|             target|\n",
      "+-------+-------------------+\n",
      "|  count|            1526659|\n",
      "|   mean|0.03143727577671242|\n",
      "| stddev| 0.1744963994279181|\n",
      "|    min|                  0|\n",
      "|    25%|                  0|\n",
      "|    50%|                  0|\n",
      "|    75%|                  0|\n",
      "|    max|                  1|\n",
      "+-------+-------------------+\n",
      "\n",
      "Number of distinct 'target': 2\n",
      "+------+-------+\n",
      "|target|  count|\n",
      "+------+-------+\n",
      "|     0|1478665|\n",
      "|     1|  47994|\n",
      "+------+-------+\n",
      "\n",
      " -  -  -  -  -  -  -  -  -  -  -  -  -  -  -  -  -  -  -  -  -  -  -  -  - \n"
     ]
    }
   ],
   "source": [
    "for column in df.columns:\n",
    "    print(\"Column Name: \" + column)\n",
    "    explore_column(df, column)\n",
    "    print(\" - \" * 25)"
   ]
  },
  {
   "cell_type": "code",
   "execution_count": 10,
   "metadata": {},
   "outputs": [],
   "source": []
  },
  {
   "cell_type": "code",
   "execution_count": 11,
   "metadata": {},
   "outputs": [
    {
     "name": "stdout",
     "output_type": "stream",
     "text": [
      "\n",
      "Creating pie chart for 'target' column:\n"
     ]
    },
    {
     "data": {
      "application/vnd.plotly.v1+json": {
       "config": {
        "plotlyServerURL": "https://plot.ly"
       },
       "data": [
        {
         "domain": {
          "x": [
           0,
           1
          ],
          "y": [
           0,
           1
          ]
         },
         "hovertemplate": "target=%{label}<br>count=%{value}<extra></extra>",
         "labels": [
          0,
          1
         ],
         "legendgroup": "",
         "name": "",
         "showlegend": true,
         "textinfo": "percent+label",
         "textposition": "outside",
         "type": "pie",
         "values": [
          1478665,
          47994
         ]
        }
       ],
       "layout": {
        "legend": {
         "tracegroupgap": 0
        },
        "showlegend": true,
        "template": {
         "data": {
          "bar": [
           {
            "error_x": {
             "color": "#2a3f5f"
            },
            "error_y": {
             "color": "#2a3f5f"
            },
            "marker": {
             "line": {
              "color": "#E5ECF6",
              "width": 0.5
             },
             "pattern": {
              "fillmode": "overlay",
              "size": 10,
              "solidity": 0.2
             }
            },
            "type": "bar"
           }
          ],
          "barpolar": [
           {
            "marker": {
             "line": {
              "color": "#E5ECF6",
              "width": 0.5
             },
             "pattern": {
              "fillmode": "overlay",
              "size": 10,
              "solidity": 0.2
             }
            },
            "type": "barpolar"
           }
          ],
          "carpet": [
           {
            "aaxis": {
             "endlinecolor": "#2a3f5f",
             "gridcolor": "white",
             "linecolor": "white",
             "minorgridcolor": "white",
             "startlinecolor": "#2a3f5f"
            },
            "baxis": {
             "endlinecolor": "#2a3f5f",
             "gridcolor": "white",
             "linecolor": "white",
             "minorgridcolor": "white",
             "startlinecolor": "#2a3f5f"
            },
            "type": "carpet"
           }
          ],
          "choropleth": [
           {
            "colorbar": {
             "outlinewidth": 0,
             "ticks": ""
            },
            "type": "choropleth"
           }
          ],
          "contour": [
           {
            "colorbar": {
             "outlinewidth": 0,
             "ticks": ""
            },
            "colorscale": [
             [
              0,
              "#0d0887"
             ],
             [
              0.1111111111111111,
              "#46039f"
             ],
             [
              0.2222222222222222,
              "#7201a8"
             ],
             [
              0.3333333333333333,
              "#9c179e"
             ],
             [
              0.4444444444444444,
              "#bd3786"
             ],
             [
              0.5555555555555556,
              "#d8576b"
             ],
             [
              0.6666666666666666,
              "#ed7953"
             ],
             [
              0.7777777777777778,
              "#fb9f3a"
             ],
             [
              0.8888888888888888,
              "#fdca26"
             ],
             [
              1,
              "#f0f921"
             ]
            ],
            "type": "contour"
           }
          ],
          "contourcarpet": [
           {
            "colorbar": {
             "outlinewidth": 0,
             "ticks": ""
            },
            "type": "contourcarpet"
           }
          ],
          "heatmap": [
           {
            "colorbar": {
             "outlinewidth": 0,
             "ticks": ""
            },
            "colorscale": [
             [
              0,
              "#0d0887"
             ],
             [
              0.1111111111111111,
              "#46039f"
             ],
             [
              0.2222222222222222,
              "#7201a8"
             ],
             [
              0.3333333333333333,
              "#9c179e"
             ],
             [
              0.4444444444444444,
              "#bd3786"
             ],
             [
              0.5555555555555556,
              "#d8576b"
             ],
             [
              0.6666666666666666,
              "#ed7953"
             ],
             [
              0.7777777777777778,
              "#fb9f3a"
             ],
             [
              0.8888888888888888,
              "#fdca26"
             ],
             [
              1,
              "#f0f921"
             ]
            ],
            "type": "heatmap"
           }
          ],
          "heatmapgl": [
           {
            "colorbar": {
             "outlinewidth": 0,
             "ticks": ""
            },
            "colorscale": [
             [
              0,
              "#0d0887"
             ],
             [
              0.1111111111111111,
              "#46039f"
             ],
             [
              0.2222222222222222,
              "#7201a8"
             ],
             [
              0.3333333333333333,
              "#9c179e"
             ],
             [
              0.4444444444444444,
              "#bd3786"
             ],
             [
              0.5555555555555556,
              "#d8576b"
             ],
             [
              0.6666666666666666,
              "#ed7953"
             ],
             [
              0.7777777777777778,
              "#fb9f3a"
             ],
             [
              0.8888888888888888,
              "#fdca26"
             ],
             [
              1,
              "#f0f921"
             ]
            ],
            "type": "heatmapgl"
           }
          ],
          "histogram": [
           {
            "marker": {
             "pattern": {
              "fillmode": "overlay",
              "size": 10,
              "solidity": 0.2
             }
            },
            "type": "histogram"
           }
          ],
          "histogram2d": [
           {
            "colorbar": {
             "outlinewidth": 0,
             "ticks": ""
            },
            "colorscale": [
             [
              0,
              "#0d0887"
             ],
             [
              0.1111111111111111,
              "#46039f"
             ],
             [
              0.2222222222222222,
              "#7201a8"
             ],
             [
              0.3333333333333333,
              "#9c179e"
             ],
             [
              0.4444444444444444,
              "#bd3786"
             ],
             [
              0.5555555555555556,
              "#d8576b"
             ],
             [
              0.6666666666666666,
              "#ed7953"
             ],
             [
              0.7777777777777778,
              "#fb9f3a"
             ],
             [
              0.8888888888888888,
              "#fdca26"
             ],
             [
              1,
              "#f0f921"
             ]
            ],
            "type": "histogram2d"
           }
          ],
          "histogram2dcontour": [
           {
            "colorbar": {
             "outlinewidth": 0,
             "ticks": ""
            },
            "colorscale": [
             [
              0,
              "#0d0887"
             ],
             [
              0.1111111111111111,
              "#46039f"
             ],
             [
              0.2222222222222222,
              "#7201a8"
             ],
             [
              0.3333333333333333,
              "#9c179e"
             ],
             [
              0.4444444444444444,
              "#bd3786"
             ],
             [
              0.5555555555555556,
              "#d8576b"
             ],
             [
              0.6666666666666666,
              "#ed7953"
             ],
             [
              0.7777777777777778,
              "#fb9f3a"
             ],
             [
              0.8888888888888888,
              "#fdca26"
             ],
             [
              1,
              "#f0f921"
             ]
            ],
            "type": "histogram2dcontour"
           }
          ],
          "mesh3d": [
           {
            "colorbar": {
             "outlinewidth": 0,
             "ticks": ""
            },
            "type": "mesh3d"
           }
          ],
          "parcoords": [
           {
            "line": {
             "colorbar": {
              "outlinewidth": 0,
              "ticks": ""
             }
            },
            "type": "parcoords"
           }
          ],
          "pie": [
           {
            "automargin": true,
            "type": "pie"
           }
          ],
          "scatter": [
           {
            "fillpattern": {
             "fillmode": "overlay",
             "size": 10,
             "solidity": 0.2
            },
            "type": "scatter"
           }
          ],
          "scatter3d": [
           {
            "line": {
             "colorbar": {
              "outlinewidth": 0,
              "ticks": ""
             }
            },
            "marker": {
             "colorbar": {
              "outlinewidth": 0,
              "ticks": ""
             }
            },
            "type": "scatter3d"
           }
          ],
          "scattercarpet": [
           {
            "marker": {
             "colorbar": {
              "outlinewidth": 0,
              "ticks": ""
             }
            },
            "type": "scattercarpet"
           }
          ],
          "scattergeo": [
           {
            "marker": {
             "colorbar": {
              "outlinewidth": 0,
              "ticks": ""
             }
            },
            "type": "scattergeo"
           }
          ],
          "scattergl": [
           {
            "marker": {
             "colorbar": {
              "outlinewidth": 0,
              "ticks": ""
             }
            },
            "type": "scattergl"
           }
          ],
          "scattermapbox": [
           {
            "marker": {
             "colorbar": {
              "outlinewidth": 0,
              "ticks": ""
             }
            },
            "type": "scattermapbox"
           }
          ],
          "scatterpolar": [
           {
            "marker": {
             "colorbar": {
              "outlinewidth": 0,
              "ticks": ""
             }
            },
            "type": "scatterpolar"
           }
          ],
          "scatterpolargl": [
           {
            "marker": {
             "colorbar": {
              "outlinewidth": 0,
              "ticks": ""
             }
            },
            "type": "scatterpolargl"
           }
          ],
          "scatterternary": [
           {
            "marker": {
             "colorbar": {
              "outlinewidth": 0,
              "ticks": ""
             }
            },
            "type": "scatterternary"
           }
          ],
          "surface": [
           {
            "colorbar": {
             "outlinewidth": 0,
             "ticks": ""
            },
            "colorscale": [
             [
              0,
              "#0d0887"
             ],
             [
              0.1111111111111111,
              "#46039f"
             ],
             [
              0.2222222222222222,
              "#7201a8"
             ],
             [
              0.3333333333333333,
              "#9c179e"
             ],
             [
              0.4444444444444444,
              "#bd3786"
             ],
             [
              0.5555555555555556,
              "#d8576b"
             ],
             [
              0.6666666666666666,
              "#ed7953"
             ],
             [
              0.7777777777777778,
              "#fb9f3a"
             ],
             [
              0.8888888888888888,
              "#fdca26"
             ],
             [
              1,
              "#f0f921"
             ]
            ],
            "type": "surface"
           }
          ],
          "table": [
           {
            "cells": {
             "fill": {
              "color": "#EBF0F8"
             },
             "line": {
              "color": "white"
             }
            },
            "header": {
             "fill": {
              "color": "#C8D4E3"
             },
             "line": {
              "color": "white"
             }
            },
            "type": "table"
           }
          ]
         },
         "layout": {
          "annotationdefaults": {
           "arrowcolor": "#2a3f5f",
           "arrowhead": 0,
           "arrowwidth": 1
          },
          "autotypenumbers": "strict",
          "coloraxis": {
           "colorbar": {
            "outlinewidth": 0,
            "ticks": ""
           }
          },
          "colorscale": {
           "diverging": [
            [
             0,
             "#8e0152"
            ],
            [
             0.1,
             "#c51b7d"
            ],
            [
             0.2,
             "#de77ae"
            ],
            [
             0.3,
             "#f1b6da"
            ],
            [
             0.4,
             "#fde0ef"
            ],
            [
             0.5,
             "#f7f7f7"
            ],
            [
             0.6,
             "#e6f5d0"
            ],
            [
             0.7,
             "#b8e186"
            ],
            [
             0.8,
             "#7fbc41"
            ],
            [
             0.9,
             "#4d9221"
            ],
            [
             1,
             "#276419"
            ]
           ],
           "sequential": [
            [
             0,
             "#0d0887"
            ],
            [
             0.1111111111111111,
             "#46039f"
            ],
            [
             0.2222222222222222,
             "#7201a8"
            ],
            [
             0.3333333333333333,
             "#9c179e"
            ],
            [
             0.4444444444444444,
             "#bd3786"
            ],
            [
             0.5555555555555556,
             "#d8576b"
            ],
            [
             0.6666666666666666,
             "#ed7953"
            ],
            [
             0.7777777777777778,
             "#fb9f3a"
            ],
            [
             0.8888888888888888,
             "#fdca26"
            ],
            [
             1,
             "#f0f921"
            ]
           ],
           "sequentialminus": [
            [
             0,
             "#0d0887"
            ],
            [
             0.1111111111111111,
             "#46039f"
            ],
            [
             0.2222222222222222,
             "#7201a8"
            ],
            [
             0.3333333333333333,
             "#9c179e"
            ],
            [
             0.4444444444444444,
             "#bd3786"
            ],
            [
             0.5555555555555556,
             "#d8576b"
            ],
            [
             0.6666666666666666,
             "#ed7953"
            ],
            [
             0.7777777777777778,
             "#fb9f3a"
            ],
            [
             0.8888888888888888,
             "#fdca26"
            ],
            [
             1,
             "#f0f921"
            ]
           ]
          },
          "colorway": [
           "#636efa",
           "#EF553B",
           "#00cc96",
           "#ab63fa",
           "#FFA15A",
           "#19d3f3",
           "#FF6692",
           "#B6E880",
           "#FF97FF",
           "#FECB52"
          ],
          "font": {
           "color": "#2a3f5f"
          },
          "geo": {
           "bgcolor": "white",
           "lakecolor": "white",
           "landcolor": "#E5ECF6",
           "showlakes": true,
           "showland": true,
           "subunitcolor": "white"
          },
          "hoverlabel": {
           "align": "left"
          },
          "hovermode": "closest",
          "mapbox": {
           "style": "light"
          },
          "paper_bgcolor": "white",
          "plot_bgcolor": "#E5ECF6",
          "polar": {
           "angularaxis": {
            "gridcolor": "white",
            "linecolor": "white",
            "ticks": ""
           },
           "bgcolor": "#E5ECF6",
           "radialaxis": {
            "gridcolor": "white",
            "linecolor": "white",
            "ticks": ""
           }
          },
          "scene": {
           "xaxis": {
            "backgroundcolor": "#E5ECF6",
            "gridcolor": "white",
            "gridwidth": 2,
            "linecolor": "white",
            "showbackground": true,
            "ticks": "",
            "zerolinecolor": "white"
           },
           "yaxis": {
            "backgroundcolor": "#E5ECF6",
            "gridcolor": "white",
            "gridwidth": 2,
            "linecolor": "white",
            "showbackground": true,
            "ticks": "",
            "zerolinecolor": "white"
           },
           "zaxis": {
            "backgroundcolor": "#E5ECF6",
            "gridcolor": "white",
            "gridwidth": 2,
            "linecolor": "white",
            "showbackground": true,
            "ticks": "",
            "zerolinecolor": "white"
           }
          },
          "shapedefaults": {
           "line": {
            "color": "#2a3f5f"
           }
          },
          "ternary": {
           "aaxis": {
            "gridcolor": "white",
            "linecolor": "white",
            "ticks": ""
           },
           "baxis": {
            "gridcolor": "white",
            "linecolor": "white",
            "ticks": ""
           },
           "bgcolor": "#E5ECF6",
           "caxis": {
            "gridcolor": "white",
            "linecolor": "white",
            "ticks": ""
           }
          },
          "title": {
           "x": 0.05
          },
          "xaxis": {
           "automargin": true,
           "gridcolor": "white",
           "linecolor": "white",
           "ticks": "",
           "title": {
            "standoff": 15
           },
           "zerolinecolor": "white",
           "zerolinewidth": 2
          },
          "yaxis": {
           "automargin": true,
           "gridcolor": "white",
           "linecolor": "white",
           "ticks": "",
           "title": {
            "standoff": 15
           },
           "zerolinecolor": "white",
           "zerolinewidth": 2
          }
         }
        },
        "title": {
         "text": "Distribution of 'target'"
        },
        "width": 500
       }
      }
     },
     "metadata": {},
     "output_type": "display_data"
    }
   ],
   "source": [
    "create_pie_chart(df, \"target\")"
   ]
  },
  {
   "cell_type": "code",
   "execution_count": 12,
   "metadata": {},
   "outputs": [],
   "source": [
    "from pyspark.sql.functions import col, lit, datediff, expr, max, min\n",
    "\n",
    "# Ensure 'date_decision' is in DateType format\n",
    "df = df.withColumn(\"date_decision\", col(\"date_decision\").cast(\"date\"))\n",
    "\n",
    "# Extract week number and month from 'date_decision'\n",
    "### Step 1: Get the minimum date as 'start_date'\n",
    "start_date = df.select(min(col(\"date_decision\"))).first()[0]\n",
    "\n",
    "### Step 2: Calculate the difference of all dates with 'start_date' as \"difference_date\"\n",
    "df = df.withColumn(\"difference_date\", datediff(col(\"date_decision\"), lit(start_date)))\n",
    "\n",
    "### Step 3: Calculate the number of weeks in 'difference_date' as Extracted_WEEK_NUM\n",
    "df = df.withColumn(\"Extracted_WEEK_NUM\", expr(\"floor(difference_date / 7)\"))\n",
    "\n",
    "# Compare extracted values with existing columns\n",
    "df_comparison = df.select(\n",
    "    \"date_decision\",\n",
    "    \"WEEK_NUM\",\n",
    "    \"Extracted_WEEK_NUM\",\n",
    ")"
   ]
  },
  {
   "cell_type": "code",
   "execution_count": 13,
   "metadata": {},
   "outputs": [
    {
     "name": "stdout",
     "output_type": "stream",
     "text": [
      "Column Name:  WEEK_NUM   |  Max Value:  91   |  Min Value:  0 \n",
      "\n",
      "  -  -  -  -  -  -  -  -  -  -  -  -  -  -  -  -  -  -  -  -  \n",
      "\n",
      "Column Name:  Extracted_WEEK_NUM   |  Max Value:  91   |  Min Value:  0 \n",
      "\n",
      "  -  -  -  -  -  -  -  -  -  -  -  -  -  -  -  -  -  -  -  -  \n",
      "\n"
     ]
    }
   ],
   "source": [
    "def get_max_min_of_column(column_name):\n",
    "    max_value = df.agg(max(column_name)).collect()[0][0]\n",
    "    min_value = df.agg(min(column_name)).collect()[0][0]\n",
    "    print(\n",
    "        \"Column Name: \",\n",
    "        column_name,\n",
    "        \"  |  Max Value: \",\n",
    "        max_value,\n",
    "        \"  |  Min Value: \",\n",
    "        min_value,\n",
    "        \"\\n\\n\",\n",
    "        \" - \" * 20,\n",
    "        \"\\n\",\n",
    "    )\n",
    "\n",
    "\n",
    "get_max_min_of_column(\"WEEK_NUM\")\n",
    "get_max_min_of_column(\"Extracted_WEEK_NUM\")"
   ]
  },
  {
   "cell_type": "code",
   "execution_count": 14,
   "metadata": {},
   "outputs": [
    {
     "name": "stdout",
     "output_type": "stream",
     "text": [
      "Comparing WEEK_NUM:\n",
      "+-------------+--------+------------------+\n",
      "|date_decision|WEEK_NUM|Extracted_WEEK_NUM|\n",
      "+-------------+--------+------------------+\n",
      "+-------------+--------+------------------+\n",
      "\n"
     ]
    }
   ],
   "source": [
    "# Show mismatches for week numbers\n",
    "print(\"Comparing WEEK_NUM:\")\n",
    "df_comparison.filter(col(\"WEEK_NUM\") != col(\"Extracted_WEEK_NUM\")).show()"
   ]
  },
  {
   "cell_type": "code",
   "execution_count": null,
   "metadata": {},
   "outputs": [],
   "source": []
  },
  {
   "cell_type": "code",
   "execution_count": 15,
   "metadata": {},
   "outputs": [],
   "source": [
    "# Stop the SparkSession\n",
    "spark.stop()"
   ]
  },
  {
   "cell_type": "code",
   "execution_count": null,
   "metadata": {},
   "outputs": [],
   "source": []
  }
 ],
 "metadata": {
  "kernelspec": {
   "display_name": "credit_risk_project",
   "language": "python",
   "name": "python3"
  },
  "language_info": {
   "codemirror_mode": {
    "name": "ipython",
    "version": 3
   },
   "file_extension": ".py",
   "mimetype": "text/x-python",
   "name": "python",
   "nbconvert_exporter": "python",
   "pygments_lexer": "ipython3",
   "version": "3.11.9"
  }
 },
 "nbformat": 4,
 "nbformat_minor": 2
}
