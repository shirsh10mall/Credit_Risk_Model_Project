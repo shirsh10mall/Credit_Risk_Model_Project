{
 "cells": [
  {
   "cell_type": "code",
   "execution_count": null,
   "metadata": {},
   "outputs": [],
   "source": [
    "from dotenv import load_dotenv\n",
    "import os\n",
    "from pathlib import Path\n",
    "\n",
    "CURRENT_DIRECTORY_NOTEBOOK = None\n",
    "\n",
    "def intitate_notebook():\n",
    "    load_dotenv()\n",
    "    global CURRENT_DIRECTORY_NOTEBOOK\n",
    "    if CURRENT_DIRECTORY_NOTEBOOK is None:\n",
    "        os.chdir(os.getenv(\"PROJECT_BASE_PATH\"))\n",
    "        CURRENT_DIRECTORY_NOTEBOOK = Path(os.getcwd())\n",
    "        print(\"Current directory for notebook: \", CURRENT_DIRECTORY_NOTEBOOK)\n",
    "    else:\n",
    "        print(\n",
    "            \"Current directory for notebook is already set: \",\n",
    "            CURRENT_DIRECTORY_NOTEBOOK,\n",
    "        )\n",
    "\n",
    "intitate_notebook()"
   ]
  },
  {
   "cell_type": "code",
   "execution_count": null,
   "metadata": {},
   "outputs": [],
   "source": [
    "from pyspark.sql import SparkSession\n",
    "from notebooks.utils import column_stats"
   ]
  },
  {
   "cell_type": "code",
   "execution_count": null,
   "metadata": {},
   "outputs": [],
   "source": [
    "parquet_file_path = CURRENT_DIRECTORY_NOTEBOOK / Path(\n",
    "    \"raw_main_dataset/home-credit-credit-risk-model-stability/parquet_files/train/train_other_1.parquet\"\n",
    ")\n",
    "\n",
    "spark = SparkSession.builder.appName(\"Parquet_File_Exploration_Static_0\").getOrCreate()\n",
    "\n",
    "df_other = spark.read.parquet(str(parquet_file_path))\n",
    "df_other.show()"
   ]
  },
  {
   "cell_type": "code",
   "execution_count": null,
   "metadata": {},
   "outputs": [],
   "source": [
    "parquet_file_path = CURRENT_DIRECTORY_NOTEBOOK / Path(\n",
    "    \"raw_main_dataset/home-credit-credit-risk-model-stability/parquet_files/train/train_debitcard_1.parquet\"\n",
    ")\n",
    "\n",
    "spark = SparkSession.builder.appName(\"Parquet_File_Exploration_Static_0\").getOrCreate()\n",
    "\n",
    "df_debitcard = spark.read.parquet(str(parquet_file_path))\n",
    "df_debitcard.show()"
   ]
  },
  {
   "cell_type": "code",
   "execution_count": null,
   "metadata": {},
   "outputs": [],
   "source": [
    "parquet_file_path = CURRENT_DIRECTORY_NOTEBOOK / Path(\n",
    "    \"raw_main_dataset/home-credit-credit-risk-model-stability/parquet_files/train/train_deposit_1.parquet\"\n",
    ")\n",
    "\n",
    "spark = SparkSession.builder.appName(\"Parquet_File_Exploration_Static_0\").getOrCreate()\n",
    "\n",
    "df_deposit = spark.read.parquet(str(parquet_file_path))\n",
    "df_deposit.show()"
   ]
  },
  {
   "cell_type": "code",
   "execution_count": null,
   "metadata": {},
   "outputs": [],
   "source": []
  }
 ],
 "metadata": {
  "kernelspec": {
   "display_name": "credit_risk_project",
   "language": "python",
   "name": "python3"
  },
  "language_info": {
   "codemirror_mode": {
    "name": "ipython",
    "version": 3
   },
   "file_extension": ".py",
   "mimetype": "text/x-python",
   "name": "python",
   "nbconvert_exporter": "python",
   "pygments_lexer": "ipython3",
   "version": "3.11.9"
  }
 },
 "nbformat": 4,
 "nbformat_minor": 2
}
