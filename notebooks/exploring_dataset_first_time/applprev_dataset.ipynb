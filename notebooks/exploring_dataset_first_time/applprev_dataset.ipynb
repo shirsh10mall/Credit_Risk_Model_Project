{
 "cells": [
  {
   "cell_type": "code",
   "execution_count": 1,
   "metadata": {},
   "outputs": [
    {
     "name": "stdout",
     "output_type": "stream",
     "text": [
      "Current directory for notebook:  /Users/shirshmall/Personal_Drive/Credit_Risk_Model_Project\n"
     ]
    }
   ],
   "source": [
    "from dotenv import load_dotenv\n",
    "import os\n",
    "from pathlib import Path\n",
    "from pyspark.sql import SparkSession\n",
    "\n",
    "\n",
    "CURRENT_DIRECTORY_NOTEBOOK = None\n",
    "\n",
    "def intitate_notebook():\n",
    "    load_dotenv()\n",
    "    global CURRENT_DIRECTORY_NOTEBOOK\n",
    "    if CURRENT_DIRECTORY_NOTEBOOK is None:\n",
    "        os.chdir(os.getenv(\"PROJECT_BASE_PATH\"))\n",
    "        CURRENT_DIRECTORY_NOTEBOOK = Path(os.getcwd())\n",
    "        print(\"Current directory for notebook: \", CURRENT_DIRECTORY_NOTEBOOK)\n",
    "    else:\n",
    "        print(\n",
    "            \"Current directory for notebook is already set: \",\n",
    "            CURRENT_DIRECTORY_NOTEBOOK,\n",
    "        )\n",
    "\n",
    "intitate_notebook()"
   ]
  },
  {
   "cell_type": "code",
   "execution_count": 2,
   "metadata": {},
   "outputs": [
    {
     "name": "stderr",
     "output_type": "stream",
     "text": [
      "\n",
      "A module that was compiled using NumPy 1.x cannot be run in\n",
      "NumPy 2.0.0 as it may crash. To support both 1.x and 2.x\n",
      "versions of NumPy, modules must be compiled with NumPy 2.0.\n",
      "Some module may need to rebuild instead e.g. with 'pybind11>=2.12'.\n",
      "\n",
      "If you are a user of the module, the easiest solution will be to\n",
      "downgrade to 'numpy<2' or try to upgrade the affected module.\n",
      "We expect that some modules will need time to support NumPy 2.\n",
      "\n",
      "Traceback (most recent call last):  File \"<frozen runpy>\", line 198, in _run_module_as_main\n",
      "  File \"<frozen runpy>\", line 88, in _run_code\n",
      "  File \"/Users/shirshmall/anaconda3/envs/credit_risk_project/lib/python3.11/site-packages/ipykernel_launcher.py\", line 18, in <module>\n",
      "    app.launch_new_instance()\n",
      "  File \"/Users/shirshmall/anaconda3/envs/credit_risk_project/lib/python3.11/site-packages/traitlets/config/application.py\", line 1075, in launch_instance\n",
      "    app.start()\n",
      "  File \"/Users/shirshmall/anaconda3/envs/credit_risk_project/lib/python3.11/site-packages/ipykernel/kernelapp.py\", line 739, in start\n",
      "    self.io_loop.start()\n",
      "  File \"/Users/shirshmall/anaconda3/envs/credit_risk_project/lib/python3.11/site-packages/tornado/platform/asyncio.py\", line 205, in start\n",
      "    self.asyncio_loop.run_forever()\n",
      "  File \"/Users/shirshmall/anaconda3/envs/credit_risk_project/lib/python3.11/asyncio/base_events.py\", line 608, in run_forever\n",
      "    self._run_once()\n",
      "  File \"/Users/shirshmall/anaconda3/envs/credit_risk_project/lib/python3.11/asyncio/base_events.py\", line 1936, in _run_once\n",
      "    handle._run()\n",
      "  File \"/Users/shirshmall/anaconda3/envs/credit_risk_project/lib/python3.11/asyncio/events.py\", line 84, in _run\n",
      "    self._context.run(self._callback, *self._args)\n",
      "  File \"/Users/shirshmall/anaconda3/envs/credit_risk_project/lib/python3.11/site-packages/ipykernel/kernelbase.py\", line 545, in dispatch_queue\n",
      "    await self.process_one()\n",
      "  File \"/Users/shirshmall/anaconda3/envs/credit_risk_project/lib/python3.11/site-packages/ipykernel/kernelbase.py\", line 534, in process_one\n",
      "    await dispatch(*args)\n",
      "  File \"/Users/shirshmall/anaconda3/envs/credit_risk_project/lib/python3.11/site-packages/ipykernel/kernelbase.py\", line 437, in dispatch_shell\n",
      "    await result\n",
      "  File \"/Users/shirshmall/anaconda3/envs/credit_risk_project/lib/python3.11/site-packages/ipykernel/ipkernel.py\", line 362, in execute_request\n",
      "    await super().execute_request(stream, ident, parent)\n",
      "  File \"/Users/shirshmall/anaconda3/envs/credit_risk_project/lib/python3.11/site-packages/ipykernel/kernelbase.py\", line 778, in execute_request\n",
      "    reply_content = await reply_content\n",
      "  File \"/Users/shirshmall/anaconda3/envs/credit_risk_project/lib/python3.11/site-packages/ipykernel/ipkernel.py\", line 449, in do_execute\n",
      "    res = shell.run_cell(\n",
      "  File \"/Users/shirshmall/anaconda3/envs/credit_risk_project/lib/python3.11/site-packages/ipykernel/zmqshell.py\", line 549, in run_cell\n",
      "    return super().run_cell(*args, **kwargs)\n",
      "  File \"/Users/shirshmall/anaconda3/envs/credit_risk_project/lib/python3.11/site-packages/IPython/core/interactiveshell.py\", line 3075, in run_cell\n",
      "    result = self._run_cell(\n",
      "  File \"/Users/shirshmall/anaconda3/envs/credit_risk_project/lib/python3.11/site-packages/IPython/core/interactiveshell.py\", line 3130, in _run_cell\n",
      "    result = runner(coro)\n",
      "  File \"/Users/shirshmall/anaconda3/envs/credit_risk_project/lib/python3.11/site-packages/IPython/core/async_helpers.py\", line 128, in _pseudo_sync_runner\n",
      "    coro.send(None)\n",
      "  File \"/Users/shirshmall/anaconda3/envs/credit_risk_project/lib/python3.11/site-packages/IPython/core/interactiveshell.py\", line 3334, in run_cell_async\n",
      "    has_raised = await self.run_ast_nodes(code_ast.body, cell_name,\n",
      "  File \"/Users/shirshmall/anaconda3/envs/credit_risk_project/lib/python3.11/site-packages/IPython/core/interactiveshell.py\", line 3517, in run_ast_nodes\n",
      "    if await self.run_code(code, result, async_=asy):\n",
      "  File \"/Users/shirshmall/anaconda3/envs/credit_risk_project/lib/python3.11/site-packages/IPython/core/interactiveshell.py\", line 3577, in run_code\n",
      "    exec(code_obj, self.user_global_ns, self.user_ns)\n",
      "  File \"/var/folders/kn/8nz3qzjj2jgd6c5fbrnp5z0w0000gn/T/ipykernel_57960/3192302262.py\", line 1, in <module>\n",
      "    from notebooks.utils import column_stats, get_shape_df, get_columns_high_missing_values\n",
      "  File \"/Users/shirshmall/Personal_Drive/Credit_Risk_Model_Project/notebooks/utils.py\", line 1, in <module>\n",
      "    import pandas as pd\n",
      "  File \"/Users/shirshmall/anaconda3/envs/credit_risk_project/lib/python3.11/site-packages/pandas/__init__.py\", line 26, in <module>\n",
      "    from pandas.compat import (\n",
      "  File \"/Users/shirshmall/anaconda3/envs/credit_risk_project/lib/python3.11/site-packages/pandas/compat/__init__.py\", line 27, in <module>\n",
      "    from pandas.compat.pyarrow import (\n",
      "  File \"/Users/shirshmall/anaconda3/envs/credit_risk_project/lib/python3.11/site-packages/pandas/compat/pyarrow.py\", line 8, in <module>\n",
      "    import pyarrow as pa\n",
      "  File \"/Users/shirshmall/anaconda3/envs/credit_risk_project/lib/python3.11/site-packages/pyarrow/__init__.py\", line 65, in <module>\n",
      "    import pyarrow.lib as _lib\n"
     ]
    },
    {
     "ename": "AttributeError",
     "evalue": "_ARRAY_API not found",
     "output_type": "error",
     "traceback": [
      "\u001b[0;31m---------------------------------------------------------------------------\u001b[0m",
      "\u001b[0;31mAttributeError\u001b[0m                            Traceback (most recent call last)",
      "\u001b[0;31mAttributeError\u001b[0m: _ARRAY_API not found"
     ]
    },
    {
     "name": "stderr",
     "output_type": "stream",
     "text": [
      "\n",
      "A module that was compiled using NumPy 1.x cannot be run in\n",
      "NumPy 2.0.0 as it may crash. To support both 1.x and 2.x\n",
      "versions of NumPy, modules must be compiled with NumPy 2.0.\n",
      "Some module may need to rebuild instead e.g. with 'pybind11>=2.12'.\n",
      "\n",
      "If you are a user of the module, the easiest solution will be to\n",
      "downgrade to 'numpy<2' or try to upgrade the affected module.\n",
      "We expect that some modules will need time to support NumPy 2.\n",
      "\n",
      "Traceback (most recent call last):  File \"<frozen runpy>\", line 198, in _run_module_as_main\n",
      "  File \"<frozen runpy>\", line 88, in _run_code\n",
      "  File \"/Users/shirshmall/anaconda3/envs/credit_risk_project/lib/python3.11/site-packages/ipykernel_launcher.py\", line 18, in <module>\n",
      "    app.launch_new_instance()\n",
      "  File \"/Users/shirshmall/anaconda3/envs/credit_risk_project/lib/python3.11/site-packages/traitlets/config/application.py\", line 1075, in launch_instance\n",
      "    app.start()\n",
      "  File \"/Users/shirshmall/anaconda3/envs/credit_risk_project/lib/python3.11/site-packages/ipykernel/kernelapp.py\", line 739, in start\n",
      "    self.io_loop.start()\n",
      "  File \"/Users/shirshmall/anaconda3/envs/credit_risk_project/lib/python3.11/site-packages/tornado/platform/asyncio.py\", line 205, in start\n",
      "    self.asyncio_loop.run_forever()\n",
      "  File \"/Users/shirshmall/anaconda3/envs/credit_risk_project/lib/python3.11/asyncio/base_events.py\", line 608, in run_forever\n",
      "    self._run_once()\n",
      "  File \"/Users/shirshmall/anaconda3/envs/credit_risk_project/lib/python3.11/asyncio/base_events.py\", line 1936, in _run_once\n",
      "    handle._run()\n",
      "  File \"/Users/shirshmall/anaconda3/envs/credit_risk_project/lib/python3.11/asyncio/events.py\", line 84, in _run\n",
      "    self._context.run(self._callback, *self._args)\n",
      "  File \"/Users/shirshmall/anaconda3/envs/credit_risk_project/lib/python3.11/site-packages/ipykernel/kernelbase.py\", line 545, in dispatch_queue\n",
      "    await self.process_one()\n",
      "  File \"/Users/shirshmall/anaconda3/envs/credit_risk_project/lib/python3.11/site-packages/ipykernel/kernelbase.py\", line 534, in process_one\n",
      "    await dispatch(*args)\n",
      "  File \"/Users/shirshmall/anaconda3/envs/credit_risk_project/lib/python3.11/site-packages/ipykernel/kernelbase.py\", line 437, in dispatch_shell\n",
      "    await result\n",
      "  File \"/Users/shirshmall/anaconda3/envs/credit_risk_project/lib/python3.11/site-packages/ipykernel/ipkernel.py\", line 362, in execute_request\n",
      "    await super().execute_request(stream, ident, parent)\n",
      "  File \"/Users/shirshmall/anaconda3/envs/credit_risk_project/lib/python3.11/site-packages/ipykernel/kernelbase.py\", line 778, in execute_request\n",
      "    reply_content = await reply_content\n",
      "  File \"/Users/shirshmall/anaconda3/envs/credit_risk_project/lib/python3.11/site-packages/ipykernel/ipkernel.py\", line 449, in do_execute\n",
      "    res = shell.run_cell(\n",
      "  File \"/Users/shirshmall/anaconda3/envs/credit_risk_project/lib/python3.11/site-packages/ipykernel/zmqshell.py\", line 549, in run_cell\n",
      "    return super().run_cell(*args, **kwargs)\n",
      "  File \"/Users/shirshmall/anaconda3/envs/credit_risk_project/lib/python3.11/site-packages/IPython/core/interactiveshell.py\", line 3075, in run_cell\n",
      "    result = self._run_cell(\n",
      "  File \"/Users/shirshmall/anaconda3/envs/credit_risk_project/lib/python3.11/site-packages/IPython/core/interactiveshell.py\", line 3130, in _run_cell\n",
      "    result = runner(coro)\n",
      "  File \"/Users/shirshmall/anaconda3/envs/credit_risk_project/lib/python3.11/site-packages/IPython/core/async_helpers.py\", line 128, in _pseudo_sync_runner\n",
      "    coro.send(None)\n",
      "  File \"/Users/shirshmall/anaconda3/envs/credit_risk_project/lib/python3.11/site-packages/IPython/core/interactiveshell.py\", line 3334, in run_cell_async\n",
      "    has_raised = await self.run_ast_nodes(code_ast.body, cell_name,\n",
      "  File \"/Users/shirshmall/anaconda3/envs/credit_risk_project/lib/python3.11/site-packages/IPython/core/interactiveshell.py\", line 3517, in run_ast_nodes\n",
      "    if await self.run_code(code, result, async_=asy):\n",
      "  File \"/Users/shirshmall/anaconda3/envs/credit_risk_project/lib/python3.11/site-packages/IPython/core/interactiveshell.py\", line 3577, in run_code\n",
      "    exec(code_obj, self.user_global_ns, self.user_ns)\n",
      "  File \"/var/folders/kn/8nz3qzjj2jgd6c5fbrnp5z0w0000gn/T/ipykernel_57960/3192302262.py\", line 1, in <module>\n",
      "    from notebooks.utils import column_stats, get_shape_df, get_columns_high_missing_values\n",
      "  File \"/Users/shirshmall/Personal_Drive/Credit_Risk_Model_Project/notebooks/utils.py\", line 1, in <module>\n",
      "    import pandas as pd\n",
      "  File \"/Users/shirshmall/anaconda3/envs/credit_risk_project/lib/python3.11/site-packages/pandas/__init__.py\", line 49, in <module>\n",
      "    from pandas.core.api import (\n",
      "  File \"/Users/shirshmall/anaconda3/envs/credit_risk_project/lib/python3.11/site-packages/pandas/core/api.py\", line 9, in <module>\n",
      "    from pandas.core.dtypes.dtypes import (\n",
      "  File \"/Users/shirshmall/anaconda3/envs/credit_risk_project/lib/python3.11/site-packages/pandas/core/dtypes/dtypes.py\", line 24, in <module>\n",
      "    from pandas._libs import (\n",
      "  File \"/Users/shirshmall/anaconda3/envs/credit_risk_project/lib/python3.11/site-packages/pyarrow/__init__.py\", line 65, in <module>\n",
      "    import pyarrow.lib as _lib\n"
     ]
    },
    {
     "ename": "AttributeError",
     "evalue": "_ARRAY_API not found",
     "output_type": "error",
     "traceback": [
      "\u001b[0;31m---------------------------------------------------------------------------\u001b[0m",
      "\u001b[0;31mAttributeError\u001b[0m                            Traceback (most recent call last)",
      "\u001b[0;31mAttributeError\u001b[0m: _ARRAY_API not found"
     ]
    }
   ],
   "source": [
    "from notebooks.utils import column_stats, get_shape_df, get_columns_high_missing_values\n",
    "from tqdm import tqdm"
   ]
  },
  {
   "cell_type": "code",
   "execution_count": 3,
   "metadata": {},
   "outputs": [
    {
     "name": "stderr",
     "output_type": "stream",
     "text": [
      "24/07/21 17:34:09 WARN Utils: Your hostname, Shirshs-MacBook-Air.local resolves to a loopback address: 127.0.0.1; using 192.168.68.106 instead (on interface en0)\n",
      "24/07/21 17:34:09 WARN Utils: Set SPARK_LOCAL_IP if you need to bind to another address\n",
      "Setting default log level to \"WARN\".\n",
      "To adjust logging level use sc.setLogLevel(newLevel). For SparkR, use setLogLevel(newLevel).\n",
      "24/07/21 17:34:10 WARN NativeCodeLoader: Unable to load native-hadoop library for your platform... using builtin-java classes where applicable\n",
      "24/07/21 17:34:10 WARN Utils: Service 'SparkUI' could not bind on port 4040. Attempting port 4041.\n",
      "24/07/21 17:34:12 WARN SparkStringUtils: Truncated the string representation of a plan since it was too large. This behavior can be adjusted by setting 'spark.sql.debug.maxToStringFields'.\n"
     ]
    },
    {
     "name": "stdout",
     "output_type": "stream",
     "text": [
      "+-------+--------------+------------+-----------------+------------------------+---------------------+------------+-----------------+--------------------------+--------------------+----------------------+---------------------+-------------------+-------------------------+---------------+-------------+------------+------------------+-------------+------------+--------------+-------------------------+---------------+-----------------+----------------+--------------------------+------------------------+-----------------+----------------+----------------------+--------------------+----------+--------------------+---------+----------------+---------------+-----------------+---------------------------+---------------------+-----------+----------+\n",
      "|case_id|actualdpd_943P|annuity_853A|approvaldate_319D|byoccupationinc_3656910L|cancelreason_3545846M|childnum_21L|creationdate_885D|credacc_actualbalance_314A|credacc_credlmt_575A|credacc_maxhisbal_375A|credacc_minhisbal_90A|credacc_status_367L|credacc_transactions_402L|credamount_590A|credtype_587L|currdebt_94A|dateactivated_425D|district_544M|downpmt_134A|dtlastpmt_581D|dtlastpmtallstes_3545839D|education_1138M|employedfrom_700D|familystate_726L|firstnonzeroinstldate_307D|inittransactioncode_279L|isbidproduct_390L|isdebitcard_527L|mainoccupationinc_437A|maxdpdtolerance_577P|num_group1|outstandingdebt_522A|pmtnum_8L|postype_4733339M|profession_152M|rejectreason_755M|rejectreasonclient_4145042M|revolvingaccount_394A|status_219L|tenor_203L|\n",
      "+-------+--------------+------------+-----------------+------------------------+---------------------+------------+-----------------+--------------------------+--------------------+----------------------+---------------------+-------------------+-------------------------+---------------+-------------+------------+------------------+-------------+------------+--------------+-------------------------+---------------+-----------------+----------------+--------------------------+------------------------+-----------------+----------------+----------------------+--------------------+----------+--------------------+---------+----------------+---------------+-----------------+---------------------------+---------------------+-----------+----------+\n",
      "|      2|           0.0|       640.2|             NULL|                    NULL|             a55475b1|         0.0|       2013-04-03|                      NULL|                 0.0|                  NULL|                 NULL|               NULL|                     NULL|        10000.0|          CAL|        NULL|              NULL| P136_108_173|         0.0|          NULL|                     NULL|     P97_36_170|       2010-02-15|          SINGLE|                2013-05-04|                    CASH|            false|            NULL|                8200.0|                NULL|         0|                NULL|     24.0|        a55475b1|       a55475b1|         a55475b1|                   a55475b1|                 NULL|          D|      24.0|\n",
      "|      2|           0.0|      1682.4|             NULL|                    NULL|             a55475b1|         0.0|       2013-04-03|                      NULL|                 0.0|                  NULL|                 NULL|               NULL|                     NULL|        16000.0|          CAL|        NULL|              NULL| P136_108_173|         0.0|          NULL|                     NULL|     P97_36_170|       2010-02-15|          SINGLE|                2013-05-04|                    CASH|            false|            NULL|                8200.0|                NULL|         1|                NULL|     12.0|        a55475b1|       a55475b1|         a55475b1|                   a55475b1|                 NULL|          D|      12.0|\n",
      "|      3|           0.0|      6140.0|             NULL|                    NULL|          P94_109_143|        NULL|       2019-01-07|                      NULL|                 0.0|                  NULL|                 NULL|               NULL|                     NULL|        59999.8|          CAL|        NULL|              NULL|  P131_33_167|         0.0|          NULL|                     NULL|     P97_36_170|       2018-05-15|         MARRIED|                2019-02-07|                    CASH|            false|            NULL|               11000.0|                NULL|         0|                NULL|     12.0|        a55475b1|       a55475b1|      P94_109_143|                   a55475b1|                 NULL|          D|      12.0|\n",
      "|      4|           0.0|      2556.6|             NULL|                    NULL|            P24_27_36|        NULL|       2019-01-08|                      NULL|                 0.0|                  NULL|                 NULL|               NULL|                     NULL|        40000.0|          CAL|        NULL|              NULL|  P194_82_174|         0.0|          NULL|                     NULL|       a55475b1|             NULL|            NULL|                2019-02-08|                    CASH|            false|            NULL|               16000.0|                NULL|         0|                NULL|     24.0|        a55475b1|       a55475b1|         a55475b1|                   a55475b1|                 NULL|          T|      24.0|\n",
      "|      5|           0.0|        NULL|             NULL|                    NULL|          P85_114_140|        NULL|       2019-01-16|                      NULL|                NULL|                  NULL|                 NULL|               NULL|                     NULL|           NULL|         NULL|        NULL|              NULL|   P54_133_26|        NULL|          NULL|                     NULL|       a55475b1|             NULL|            NULL|                      NULL|                    NULL|            false|            NULL|               62000.0|                NULL|         0|                NULL|     NULL|        a55475b1|       a55475b1|         a55475b1|                   a55475b1|                 NULL|          T|      NULL|\n",
      "|      6|           0.0|      1110.4|             NULL|                     1.0|             a55475b1|         0.0|       2014-11-18|                      NULL|                 0.0|                  NULL|                 NULL|               NULL|                     NULL|        17380.0|          COL|         0.0|              NULL|     a55475b1|         0.0|          NULL|                     NULL|     P97_36_170|       2012-09-15|          SINGLE|                2014-12-18|                     POS|            false|            NULL|               14000.0|                NULL|         2|                 0.0|     24.0|        a55475b1|       a55475b1|         a55475b1|                   a55475b1|                 NULL|          D|      24.0|\n",
      "|      6|           0.0|      1773.8|             NULL|                    NULL|          P94_109_143|        NULL|       2018-09-12|                      NULL|                 0.0|                  NULL|                 NULL|               NULL|                     NULL|        15980.0|          CAL|        NULL|              NULL|  P82_154_182|         0.0|          NULL|                     NULL|       a55475b1|             NULL|            NULL|                2018-10-12|                    CASH|            false|            NULL|               37000.0|                NULL|         0|                NULL|     11.0|        a55475b1|       a55475b1|      P94_109_143|                   a55475b1|                 NULL|          D|      11.0|\n",
      "|      6|           0.0|      4189.6|             NULL|                    NULL|          P94_109_143|         0.0|       2017-12-28|                      NULL|                 0.0|                  NULL|                 NULL|               NULL|                     NULL|        32000.0|          CAL|        NULL|              NULL|  P82_154_182|         0.0|          NULL|                     NULL|     P97_36_170|       2013-09-15|          SINGLE|                2018-01-28|                    CASH|            false|            NULL|               35000.0|                NULL|         1|                NULL|     11.0|        a55475b1|       a55475b1|      P94_109_143|                   a55475b1|                 NULL|          D|      11.0|\n",
      "|     10|           0.0|   10916.601|       2019-01-11|                    NULL|          P73_130_169|        NULL|       2019-01-11|                      NULL|                 0.0|                  NULL|                 NULL|               NULL|                     NULL|       100000.0|          CAL|        NULL|              NULL|    P38_65_49|         0.0|          NULL|                     NULL|     P17_36_170|             NULL|         MARRIED|                2019-02-11|                    CASH|            false|            NULL|               57000.0|                NULL|         0|                NULL|     12.0|        a55475b1|       a55475b1|         a55475b1|                   a55475b1|                 NULL|          T|      12.0|\n",
      "|     13|           0.0|      1603.8|             NULL|                    NULL|             a55475b1|         2.0|       2007-04-16|                      NULL|                 0.0|                  NULL|                 NULL|               NULL|                     NULL|        19800.0|          COL|        NULL|              NULL|  P120_80_181|       720.0|          NULL|                     NULL|     P97_36_170|       2002-03-15|         MARRIED|                2007-05-16|                     POS|            false|            NULL|                5000.0|                NULL|         2|                NULL|     18.0|        a55475b1|       a55475b1|         a55475b1|                   a55475b1|                 NULL|          D|      18.0|\n",
      "|     13|           0.0|      5069.6|             NULL|                    NULL|          P94_109_143|        NULL|       2018-08-20|                      NULL|                 0.0|                  NULL|                 NULL|               NULL|                     NULL|        40000.0|          CAL|        NULL|              NULL|  P120_80_181|         0.0|          NULL|                     NULL|       a55475b1|             NULL|            NULL|                2018-09-20|                    CASH|            false|            NULL|               64000.0|                NULL|         0|                NULL|     12.0|        a55475b1|       a55475b1|      P94_109_143|                   a55475b1|                 NULL|          D|      12.0|\n",
      "|     13|           0.0|   5334.8003|             NULL|                    NULL|          P94_109_143|        NULL|       2017-08-22|                      NULL|                 0.0|                  NULL|                 NULL|               NULL|                     NULL|        40000.0|          CAL|        NULL|              NULL|  P120_80_181|         0.0|          NULL|                     NULL|       a55475b1|             NULL|            NULL|                2017-09-22|                    CASH|            false|            NULL|               64000.0|                NULL|         1|                NULL|     12.0|        a55475b1|       a55475b1|      P94_109_143|                   a55475b1|                 NULL|          D|      12.0|\n",
      "|     14|           0.0|      2218.0|             NULL|                    NULL|            P30_86_84|        NULL|       2018-12-12|                      NULL|                 0.0|                  NULL|                 NULL|               NULL|                     NULL|         6000.0|          COL|        NULL|              NULL| P205_129_155|         0.0|          NULL|                     NULL|       a55475b1|             NULL|            NULL|                2019-01-11|                     POS|            false|            NULL|               32000.0|                NULL|         0|                NULL|      3.0|        a55475b1|       a55475b1|        P30_86_84|                   a55475b1|                 NULL|          D|       3.0|\n",
      "|     14|           0.0|      2508.6|             NULL|                    NULL|          P94_109_143|        NULL|       2017-01-20|                      NULL|                 0.0|                  NULL|                 NULL|               NULL|                     NULL|        25112.0|          COL|        NULL|              NULL| P205_129_155|         0.0|          NULL|                     NULL|       a55475b1|             NULL|            NULL|                2017-02-20|                     POS|            false|            NULL|               50000.0|                NULL|         2|                NULL|     12.0|        a55475b1|       a55475b1|      P94_109_143|                   a55475b1|                 NULL|          D|      12.0|\n",
      "|     14|           0.0|      4178.0|       2018-10-11|                    NULL|             a55475b1|        NULL|       2018-10-11|                      NULL|                 0.0|                  NULL|                 NULL|               NULL|                     NULL|        11994.0|          COL|         0.0|        2018-10-19| P205_129_155|         0.0|    2019-01-10|               2019-01-10|     P97_36_170|       2007-01-15|         MARRIED|                2018-11-10|                     POS|            false|            NULL|               50000.0|                 0.0|         1|                 0.0|      3.0|        a55475b1|       a55475b1|         a55475b1|                   a55475b1|                 NULL|          K|       3.0|\n",
      "|     16|           0.0|      2821.6|             NULL|                    NULL|          P94_109_143|         0.0|       2018-04-09|                      NULL|                 0.0|                  NULL|                 NULL|               NULL|                     NULL|        40000.0|          CAL|        NULL|              NULL|   P37_46_141|         0.0|          NULL|                     NULL|     P97_36_170|             NULL|         MARRIED|                2018-05-10|                    CASH|            false|            NULL|               30000.0|                NULL|         0|                NULL|     36.0|        a55475b1|       a55475b1|      P94_109_143|                   a55475b1|                 NULL|          D|      36.0|\n",
      "|     16|           0.0|      4873.6|             NULL|                    NULL|          P94_109_143|         0.0|       2018-04-04|                      NULL|                 0.0|                  NULL|                 NULL|               NULL|                     NULL|        80000.0|          CAL|        NULL|              NULL|   P37_46_141|         0.0|          NULL|                     NULL|     P97_36_170|             NULL|         MARRIED|                2018-05-05|                    CASH|            false|            NULL|               79600.0|                NULL|         1|                NULL|     48.0|        a55475b1|       a55475b1|      P94_109_143|                   a55475b1|                 NULL|          D|      48.0|\n",
      "|     17|           0.0|   3665.4001|             NULL|                    NULL|          P94_109_143|        NULL|       2017-12-03|                      NULL|                 0.0|                  NULL|                 NULL|               NULL|                     NULL|        43996.0|          COL|        NULL|              NULL|    P16_86_94|         0.0|          NULL|                     NULL|       a55475b1|             NULL|            NULL|                2018-01-02|                     POS|            false|            NULL|               37000.0|                NULL|         0|                NULL|     16.0|        a55475b1|       a55475b1|      P94_109_143|                   a55475b1|                 NULL|          D|      16.0|\n",
      "|     18|           0.0|         0.0|       2018-12-31|                    NULL|          P73_130_169|        NULL|       2018-12-31|                      NULL|             40600.0|                  NULL|                 NULL|               NULL|                     NULL|        40600.0|          REL|        NULL|              NULL|  P197_47_166|         0.0|          NULL|                     NULL|     P97_36_170|       2008-02-06|         MARRIED|                      NULL|                     NDF|            false|           false|               50000.0|                NULL|         0|                NULL|     NULL|        a55475b1|       a55475b1|         a55475b1|                   a55475b1|                 NULL|          T|      NULL|\n",
      "|     20|           0.0|   3979.4001|       2018-11-02|                    NULL|             a55475b1|        NULL|       2018-11-02|                      NULL|                 0.0|                  NULL|                 NULL|               NULL|                     NULL|        32000.0|          CAL|    29897.87|        2018-11-07|  P131_33_167|         0.0|          NULL|               2018-12-29|    P33_146_175|       2018-02-15|          SINGLE|                2018-12-03|                    CASH|            false|            NULL|               96000.0|                 0.0|         0|             35748.6|     12.0|        a55475b1|       a55475b1|         a55475b1|                   a55475b1|                 NULL|          A|      12.0|\n",
      "+-------+--------------+------------+-----------------+------------------------+---------------------+------------+-----------------+--------------------------+--------------------+----------------------+---------------------+-------------------+-------------------------+---------------+-------------+------------+------------------+-------------+------------+--------------+-------------------------+---------------+-----------------+----------------+--------------------------+------------------------+-----------------+----------------+----------------------+--------------------+----------+--------------------+---------+----------------+---------------+-----------------+---------------------------+---------------------+-----------+----------+\n",
      "only showing top 20 rows\n",
      "\n"
     ]
    }
   ],
   "source": [
    "parquet_file_path = CURRENT_DIRECTORY_NOTEBOOK / Path(\n",
    "    \"raw_main_dataset/home-credit-credit-risk-model-stability/parquet_files/train/train_applprev_1_0.parquet\"\n",
    ")\n",
    "\n",
    "spark = SparkSession.builder.appName(\"Parquet_File_Exploration_Static_0\").getOrCreate()\n",
    "\n",
    "df_applprev_1_0 = spark.read.parquet(str(parquet_file_path))\n",
    "df_applprev_1_0.show()"
   ]
  },
  {
   "cell_type": "code",
   "execution_count": 4,
   "metadata": {},
   "outputs": [
    {
     "name": "stdout",
     "output_type": "stream",
     "text": [
      "+-------+--------------+------------+-----------------+------------------------+---------------------+------------+-----------------+--------------------------+--------------------+----------------------+---------------------+-------------------+-------------------------+---------------+-------------+------------+------------------+-------------+------------+--------------+-------------------------+---------------+-----------------+----------------+--------------------------+------------------------+-----------------+----------------+----------------------+--------------------+----------+--------------------+---------+----------------+---------------+-----------------+---------------------------+---------------------+-----------+----------+\n",
      "|case_id|actualdpd_943P|annuity_853A|approvaldate_319D|byoccupationinc_3656910L|cancelreason_3545846M|childnum_21L|creationdate_885D|credacc_actualbalance_314A|credacc_credlmt_575A|credacc_maxhisbal_375A|credacc_minhisbal_90A|credacc_status_367L|credacc_transactions_402L|credamount_590A|credtype_587L|currdebt_94A|dateactivated_425D|district_544M|downpmt_134A|dtlastpmt_581D|dtlastpmtallstes_3545839D|education_1138M|employedfrom_700D|familystate_726L|firstnonzeroinstldate_307D|inittransactioncode_279L|isbidproduct_390L|isdebitcard_527L|mainoccupationinc_437A|maxdpdtolerance_577P|num_group1|outstandingdebt_522A|pmtnum_8L|postype_4733339M|profession_152M|rejectreason_755M|rejectreasonclient_4145042M|revolvingaccount_394A|status_219L|tenor_203L|\n",
      "+-------+--------------+------------+-----------------+------------------------+---------------------+------------+-----------------+--------------------------+--------------------+----------------------+---------------------+-------------------+-------------------------+---------------+-------------+------------+------------------+-------------+------------+--------------+-------------------------+---------------+-----------------+----------------+--------------------------+------------------------+-----------------+----------------+----------------------+--------------------+----------+--------------------+---------+----------------+---------------+-----------------+---------------------------+---------------------+-----------+----------+\n",
      "|  40704|           0.0|      7204.6|             NULL|                    NULL|          P94_109_143|        NULL|       2018-11-20|                      NULL|                 0.0|                  NULL|                 NULL|               NULL|                     NULL|        54000.0|          CAL|        NULL|              NULL|   P147_6_101|         0.0|          NULL|                     NULL|       a55475b1|             NULL|            NULL|                2018-12-20|                    CASH|            false|            NULL|               40000.0|                NULL|         0|                NULL|     12.0|      P46_145_78|       a55475b1|       P198_131_9|                P94_109_143|                 NULL|          D|      12.0|\n",
      "|  40734|           0.0|      3870.2|             NULL|                    NULL|          P94_109_143|        NULL|       2019-12-26|                      NULL|                 0.0|                  NULL|                 NULL|               NULL|                     NULL|        50000.0|          CAL|        NULL|              NULL| P111_148_100|         0.0|          NULL|                     NULL|       a55475b1|             NULL|            NULL|                2020-01-26|                    CASH|            false|            NULL|               50000.0|                NULL|         0|                NULL|     18.0|     P149_40_170|       a55475b1|       P45_84_106|                P94_109_143|                 NULL|          D|      18.0|\n",
      "|  40737|           0.0|   2324.4001|             NULL|                     1.0|             a55475b1|         0.0|       2014-07-17|                      NULL|                 0.0|                  NULL|                 NULL|               NULL|                     NULL|        30000.0|          CAL|         0.0|              NULL|     a55475b1|         0.0|          NULL|                     NULL|     P97_36_170|       2014-01-15|         MARRIED|                2014-08-17|                    CASH|            false|            NULL|               16000.0|                NULL|         0|                 0.0|     18.0|      P46_145_78|       a55475b1|         a55475b1|                   a55475b1|                 NULL|          D|      18.0|\n",
      "|  40791|           0.0|      2320.8|             NULL|                     1.0|             a55475b1|         0.0|       2014-12-28|                      NULL|                 0.0|                  NULL|                 NULL|               NULL|                     NULL|        27830.0|          COL|         0.0|              NULL|     a55475b1|         0.0|          NULL|                     NULL|     P97_36_170|       2013-04-15|          SINGLE|                2015-01-28|                     POS|            false|            NULL|               16000.0|                NULL|         1|                 0.0|     12.0|     P60_146_156|       a55475b1|         a55475b1|                   a55475b1|                 NULL|          D|      12.0|\n",
      "|  40791|           0.0|      2541.2|             NULL|                     1.0|             a55475b1|         0.0|       2014-12-28|                      NULL|                 0.0|                  NULL|                 NULL|               NULL|                     NULL|        58239.8|          COL|         0.0|              NULL|     a55475b1|         0.0|          NULL|                     NULL|     P97_36_170|       2013-04-15|          SINGLE|                2015-01-28|                     POS|            false|            NULL|               22000.0|                NULL|         2|                 0.0|     24.0|    P177_117_192|       a55475b1|         a55475b1|                   a55475b1|                 NULL|          D|      24.0|\n",
      "|  40791|           0.0|   3044.4001|             NULL|                    NULL|          P94_109_143|        NULL|       2017-08-21|                      NULL|                 0.0|                  NULL|                 NULL|               NULL|                     NULL|        44840.0|          COL|        NULL|              NULL|   P19_11_176|         0.0|          NULL|                     NULL|       a55475b1|             NULL|            NULL|                2017-09-21|                     POS|            false|            NULL|               30000.0|                NULL|         0|                NULL|     24.0|    P177_117_192|       a55475b1|       P99_56_166|                P94_109_143|                 NULL|          D|      24.0|\n",
      "|  40821|           0.0|      4627.2|             NULL|                    NULL|          P94_109_143|        NULL|       2018-01-26|                      NULL|                 0.0|                  NULL|                 NULL|               NULL|                     NULL|        64000.0|          CAL|        NULL|              NULL|  P41_162_177|         0.0|          NULL|                     NULL|       a55475b1|             NULL|            NULL|                2018-02-26|                    CASH|            false|            NULL|               52000.0|                NULL|         0|                NULL|     30.0|      P46_145_78|       a55475b1|      P94_109_143|                P94_109_143|                 NULL|          D|      30.0|\n",
      "|  40821|           0.0|      5335.6|             NULL|                    NULL|          P94_109_143|        NULL|       2017-06-15|                      NULL|                 0.0|                  NULL|                 NULL|               NULL|                     NULL|        40000.0|          CAL|        NULL|              NULL|  P41_162_177|         0.0|          NULL|                     NULL|       a55475b1|             NULL|            NULL|                2017-07-15|                    CASH|            false|            NULL|               46000.0|                NULL|         1|                NULL|     12.0|      P46_145_78|       a55475b1|       P99_56_166|                P94_109_143|                 NULL|          D|      12.0|\n",
      "|  40865|           0.0|      3795.2|             NULL|                    NULL|          P94_109_143|         0.0|       2017-12-29|                      NULL|                 0.0|                  NULL|                 NULL|               NULL|                     NULL|        18280.0|          COL|        NULL|              NULL|  P82_154_182|         0.0|          NULL|                     NULL|     P97_36_170|             NULL|         MARRIED|                2018-01-29|                     POS|            false|            NULL|               32000.0|                NULL|         1|                NULL|      6.0|    P177_117_192|       a55475b1|       P99_56_166|                P94_109_143|                 NULL|          D|       6.0|\n",
      "|  40865|           0.0|        NULL|             NULL|                    NULL|          P94_109_143|        NULL|       2017-12-30|                      NULL|                NULL|                  NULL|                 NULL|               NULL|                     NULL|           NULL|         NULL|        NULL|              NULL|  P82_154_182|        NULL|          NULL|                     NULL|       a55475b1|             NULL|            NULL|                      NULL|                    NULL|            false|            NULL|               32000.0|                NULL|         0|                NULL|     NULL|    P177_117_192|       a55475b1|      P94_109_143|                P94_109_143|                 NULL|          D|      NULL|\n",
      "|  40872|           0.0|   2514.4001|             NULL|                    NULL|             a55475b1|         2.0|       2012-12-14|                      NULL|                 0.0|                  NULL|                 NULL|               NULL|                     NULL|        52034.6|          COL|         0.0|              NULL|   P147_6_101|         0.0|          NULL|                     NULL|     P97_36_170|       2012-02-15|         MARRIED|                2013-01-15|                     POS|            false|            NULL|               18000.0|                NULL|         1|                 0.0|     23.0|    P177_117_192|       a55475b1|         a55475b1|                   a55475b1|                 NULL|          D|      23.0|\n",
      "|  40872|           0.0|   6631.8003|             NULL|                    NULL|          P94_109_143|        NULL|       2019-09-09|                      NULL|                 0.0|                  NULL|                 NULL|               NULL|                     NULL|        80000.0|          CAL|        NULL|              NULL|     a55475b1|         0.0|          NULL|                     NULL|       a55475b1|             NULL|            NULL|                2019-10-10|                    CASH|            false|            NULL|               50000.0|                NULL|         0|                NULL|     24.0|      P46_145_78|       a55475b1|       P45_84_106|                P94_109_143|                 NULL|          D|      24.0|\n",
      "|  40881|           0.0|   1932.2001|             NULL|                    NULL|          P94_109_143|        NULL|       2019-01-16|                      NULL|                 0.0|                  NULL|                 NULL|               NULL|                     NULL|        39998.0|          COL|        NULL|              NULL|  P186_84_175|         0.0|          NULL|                     NULL|       a55475b1|             NULL|            NULL|                2019-02-16|                     POS|            false|            NULL|               60000.0|                NULL|         6|                NULL|     30.0|    P177_117_192|       a55475b1|      P94_109_143|                P94_109_143|                 NULL|          D|      30.0|\n",
      "|  40881|           0.0|   2098.4001|             NULL|                    NULL|          P94_109_143|        NULL|       2018-06-06|                      NULL|                 0.0|                  NULL|                 NULL|               NULL|                     NULL|         5660.0|          COL|        NULL|              NULL|  P186_84_175|         0.0|          NULL|                     NULL|       a55475b1|             NULL|            NULL|                2018-07-07|                     POS|            false|            NULL|               30000.0|                NULL|         7|                NULL|      3.0|    P177_117_192|       a55475b1|       P99_56_166|                P94_109_143|                 NULL|          D|       3.0|\n",
      "|  40881|           0.0|      2992.2|             NULL|                    NULL|            P30_86_84|        NULL|       2019-12-28|                      NULL|                 0.0|                  NULL|                 NULL|               NULL|                     NULL|        16000.0|          CAL|        NULL|              NULL|     a55475b1|         0.0|          NULL|                     NULL|       a55475b1|             NULL|            NULL|                2020-01-28|                    CASH|            false|            NULL|               36000.0|                NULL|         0|                NULL|      6.0|     P67_102_161|       a55475b1|       P99_56_166|                  P30_86_84|                 NULL|          D|       6.0|\n",
      "|  40881|           0.0|   3089.4001|       2019-10-28|                    NULL|             a55475b1|        NULL|       2019-10-28|                      NULL|                 0.0|                  NULL|                 NULL|               NULL|                     NULL|         8740.0|          COL|     2977.33|        2019-11-06|  P186_84_175|         0.0|          NULL|               2019-12-28|     P97_36_170|       2018-01-15|         MARRIED|                2019-11-28|                     POS|            false|            NULL|               36000.0|                 0.0|         4|              3068.0|      3.0|     P149_40_170|       a55475b1|         a55475b1|                   a55475b1|                 NULL|          A|       3.0|\n",
      "|  40881|           0.0|      3740.0|             NULL|                    NULL|            P30_86_84|        NULL|       2019-12-27|                      NULL|                 0.0|                  NULL|                 NULL|               NULL|                     NULL|        20000.0|          CAL|        NULL|              NULL|     a55475b1|         0.0|          NULL|                     NULL|       a55475b1|             NULL|            NULL|                2020-01-27|                    CASH|            false|            NULL|               36000.0|                NULL|         1|                NULL|      6.0|     P67_102_161|       a55475b1|       P99_56_166|                  P30_86_84|                 NULL|          D|       6.0|\n",
      "|  40881|           0.0|      3740.2|             NULL|                    NULL|            P30_86_84|        NULL|       2019-12-23|                      NULL|                 0.0|                  NULL|                 NULL|               NULL|                     NULL|        20000.0|          CAL|        NULL|              NULL|     a55475b1|         0.0|          NULL|                     NULL|       a55475b1|             NULL|            NULL|                2020-01-23|                    CASH|            false|            NULL|               36000.0|                NULL|         2|                NULL|      6.0|     P67_102_161|       a55475b1|       P99_56_166|                  P30_86_84|                 NULL|          D|       6.0|\n",
      "|  40881|           0.0|      3740.2|             NULL|                    NULL|            P30_86_84|        NULL|       2019-12-22|                      NULL|                 0.0|                  NULL|                 NULL|               NULL|                     NULL|        20000.0|          CAL|        NULL|              NULL|     a55475b1|         0.0|          NULL|                     NULL|       a55475b1|             NULL|            NULL|                2020-01-22|                    CASH|            false|            NULL|               36000.0|                NULL|         3|                NULL|      6.0|     P67_102_161|       a55475b1|       P99_56_166|                  P30_86_84|                 NULL|          D|       6.0|\n",
      "|  40881|           0.0|      3991.0|       2019-09-13|                    NULL|             a55475b1|        NULL|       2019-09-13|                      NULL|                 0.0|                  NULL|                 NULL|               NULL|                     NULL|        10800.0|          COL|         0.0|        2019-09-19|  P186_84_175|         0.0|    2019-12-15|               2019-12-15|     P97_36_170|       2018-01-15|        DIVORCED|                2019-10-15|                     POS|            false|            NULL|               30000.0|                 1.0|         5|                 0.0|      3.0|    P177_117_192|       a55475b1|         a55475b1|                   a55475b1|                 NULL|          K|       3.0|\n",
      "+-------+--------------+------------+-----------------+------------------------+---------------------+------------+-----------------+--------------------------+--------------------+----------------------+---------------------+-------------------+-------------------------+---------------+-------------+------------+------------------+-------------+------------+--------------+-------------------------+---------------+-----------------+----------------+--------------------------+------------------------+-----------------+----------------+----------------------+--------------------+----------+--------------------+---------+----------------+---------------+-----------------+---------------------------+---------------------+-----------+----------+\n",
      "only showing top 20 rows\n",
      "\n"
     ]
    }
   ],
   "source": [
    "parquet_file_path = CURRENT_DIRECTORY_NOTEBOOK / Path(\n",
    "    \"raw_main_dataset/home-credit-credit-risk-model-stability/parquet_files/train/train_applprev_1_1.parquet\"\n",
    ")\n",
    "\n",
    "spark = SparkSession.builder.appName(\"Parquet_File_Exploration_Static_0\").getOrCreate()\n",
    "\n",
    "df_applprev_1_1 = spark.read.parquet(str(parquet_file_path))\n",
    "df_applprev_1_1.show()"
   ]
  },
  {
   "cell_type": "code",
   "execution_count": 5,
   "metadata": {},
   "outputs": [
    {
     "data": {
      "text/plain": [
       "True"
      ]
     },
     "execution_count": 5,
     "metadata": {},
     "output_type": "execute_result"
    }
   ],
   "source": [
    "df_applprev_1_1.columns == df_applprev_1_0.columns"
   ]
  },
  {
   "cell_type": "code",
   "execution_count": 6,
   "metadata": {},
   "outputs": [
    {
     "name": "stderr",
     "output_type": "stream",
     "text": [
      "100%|██████████| 41/41 [00:05<00:00,  8.16it/s]\n"
     ]
    },
    {
     "data": {
      "application/vnd.plotly.v1+json": {
       "config": {
        "plotlyServerURL": "https://plot.ly"
       },
       "data": [
        {
         "type": "bar",
         "x": [
          "revolvingaccount_394A",
          "credacc_actualbalance_314A",
          "credacc_maxhisbal_375A",
          "credacc_minhisbal_90A",
          "credacc_status_367L",
          "credacc_transactions_402L",
          "isdebitcard_527L",
          "byoccupationinc_3656910L",
          "dtlastpmt_581D",
          "dtlastpmtallstes_3545839D",
          "employedfrom_700D",
          "childnum_21L",
          "dateactivated_425D",
          "maxdpdtolerance_577P",
          "approvaldate_319D",
          "outstandingdebt_522A",
          "currdebt_94A",
          "familystate_726L"
         ],
         "y": [
          95.97058300005865,
          95.67408256432365,
          95.67408256432365,
          95.67408256432365,
          95.67408256432365,
          95.67408256432365,
          93.56598941683532,
          74.49226840453082,
          73.57529572876807,
          62.611956115774845,
          56.09686898420756,
          50.25853438705409,
          47.44989561908838,
          46.74706071789785,
          45.42604285739273,
          32.87103581463926,
          32.67696139912606,
          32.029377902113445
         ]
        }
       ],
       "layout": {
        "bargap": 0.2,
        "height": 600,
        "template": {
         "data": {
          "bar": [
           {
            "error_x": {
             "color": "#2a3f5f"
            },
            "error_y": {
             "color": "#2a3f5f"
            },
            "marker": {
             "line": {
              "color": "#E5ECF6",
              "width": 0.5
             },
             "pattern": {
              "fillmode": "overlay",
              "size": 10,
              "solidity": 0.2
             }
            },
            "type": "bar"
           }
          ],
          "barpolar": [
           {
            "marker": {
             "line": {
              "color": "#E5ECF6",
              "width": 0.5
             },
             "pattern": {
              "fillmode": "overlay",
              "size": 10,
              "solidity": 0.2
             }
            },
            "type": "barpolar"
           }
          ],
          "carpet": [
           {
            "aaxis": {
             "endlinecolor": "#2a3f5f",
             "gridcolor": "white",
             "linecolor": "white",
             "minorgridcolor": "white",
             "startlinecolor": "#2a3f5f"
            },
            "baxis": {
             "endlinecolor": "#2a3f5f",
             "gridcolor": "white",
             "linecolor": "white",
             "minorgridcolor": "white",
             "startlinecolor": "#2a3f5f"
            },
            "type": "carpet"
           }
          ],
          "choropleth": [
           {
            "colorbar": {
             "outlinewidth": 0,
             "ticks": ""
            },
            "type": "choropleth"
           }
          ],
          "contour": [
           {
            "colorbar": {
             "outlinewidth": 0,
             "ticks": ""
            },
            "colorscale": [
             [
              0,
              "#0d0887"
             ],
             [
              0.1111111111111111,
              "#46039f"
             ],
             [
              0.2222222222222222,
              "#7201a8"
             ],
             [
              0.3333333333333333,
              "#9c179e"
             ],
             [
              0.4444444444444444,
              "#bd3786"
             ],
             [
              0.5555555555555556,
              "#d8576b"
             ],
             [
              0.6666666666666666,
              "#ed7953"
             ],
             [
              0.7777777777777778,
              "#fb9f3a"
             ],
             [
              0.8888888888888888,
              "#fdca26"
             ],
             [
              1,
              "#f0f921"
             ]
            ],
            "type": "contour"
           }
          ],
          "contourcarpet": [
           {
            "colorbar": {
             "outlinewidth": 0,
             "ticks": ""
            },
            "type": "contourcarpet"
           }
          ],
          "heatmap": [
           {
            "colorbar": {
             "outlinewidth": 0,
             "ticks": ""
            },
            "colorscale": [
             [
              0,
              "#0d0887"
             ],
             [
              0.1111111111111111,
              "#46039f"
             ],
             [
              0.2222222222222222,
              "#7201a8"
             ],
             [
              0.3333333333333333,
              "#9c179e"
             ],
             [
              0.4444444444444444,
              "#bd3786"
             ],
             [
              0.5555555555555556,
              "#d8576b"
             ],
             [
              0.6666666666666666,
              "#ed7953"
             ],
             [
              0.7777777777777778,
              "#fb9f3a"
             ],
             [
              0.8888888888888888,
              "#fdca26"
             ],
             [
              1,
              "#f0f921"
             ]
            ],
            "type": "heatmap"
           }
          ],
          "heatmapgl": [
           {
            "colorbar": {
             "outlinewidth": 0,
             "ticks": ""
            },
            "colorscale": [
             [
              0,
              "#0d0887"
             ],
             [
              0.1111111111111111,
              "#46039f"
             ],
             [
              0.2222222222222222,
              "#7201a8"
             ],
             [
              0.3333333333333333,
              "#9c179e"
             ],
             [
              0.4444444444444444,
              "#bd3786"
             ],
             [
              0.5555555555555556,
              "#d8576b"
             ],
             [
              0.6666666666666666,
              "#ed7953"
             ],
             [
              0.7777777777777778,
              "#fb9f3a"
             ],
             [
              0.8888888888888888,
              "#fdca26"
             ],
             [
              1,
              "#f0f921"
             ]
            ],
            "type": "heatmapgl"
           }
          ],
          "histogram": [
           {
            "marker": {
             "pattern": {
              "fillmode": "overlay",
              "size": 10,
              "solidity": 0.2
             }
            },
            "type": "histogram"
           }
          ],
          "histogram2d": [
           {
            "colorbar": {
             "outlinewidth": 0,
             "ticks": ""
            },
            "colorscale": [
             [
              0,
              "#0d0887"
             ],
             [
              0.1111111111111111,
              "#46039f"
             ],
             [
              0.2222222222222222,
              "#7201a8"
             ],
             [
              0.3333333333333333,
              "#9c179e"
             ],
             [
              0.4444444444444444,
              "#bd3786"
             ],
             [
              0.5555555555555556,
              "#d8576b"
             ],
             [
              0.6666666666666666,
              "#ed7953"
             ],
             [
              0.7777777777777778,
              "#fb9f3a"
             ],
             [
              0.8888888888888888,
              "#fdca26"
             ],
             [
              1,
              "#f0f921"
             ]
            ],
            "type": "histogram2d"
           }
          ],
          "histogram2dcontour": [
           {
            "colorbar": {
             "outlinewidth": 0,
             "ticks": ""
            },
            "colorscale": [
             [
              0,
              "#0d0887"
             ],
             [
              0.1111111111111111,
              "#46039f"
             ],
             [
              0.2222222222222222,
              "#7201a8"
             ],
             [
              0.3333333333333333,
              "#9c179e"
             ],
             [
              0.4444444444444444,
              "#bd3786"
             ],
             [
              0.5555555555555556,
              "#d8576b"
             ],
             [
              0.6666666666666666,
              "#ed7953"
             ],
             [
              0.7777777777777778,
              "#fb9f3a"
             ],
             [
              0.8888888888888888,
              "#fdca26"
             ],
             [
              1,
              "#f0f921"
             ]
            ],
            "type": "histogram2dcontour"
           }
          ],
          "mesh3d": [
           {
            "colorbar": {
             "outlinewidth": 0,
             "ticks": ""
            },
            "type": "mesh3d"
           }
          ],
          "parcoords": [
           {
            "line": {
             "colorbar": {
              "outlinewidth": 0,
              "ticks": ""
             }
            },
            "type": "parcoords"
           }
          ],
          "pie": [
           {
            "automargin": true,
            "type": "pie"
           }
          ],
          "scatter": [
           {
            "fillpattern": {
             "fillmode": "overlay",
             "size": 10,
             "solidity": 0.2
            },
            "type": "scatter"
           }
          ],
          "scatter3d": [
           {
            "line": {
             "colorbar": {
              "outlinewidth": 0,
              "ticks": ""
             }
            },
            "marker": {
             "colorbar": {
              "outlinewidth": 0,
              "ticks": ""
             }
            },
            "type": "scatter3d"
           }
          ],
          "scattercarpet": [
           {
            "marker": {
             "colorbar": {
              "outlinewidth": 0,
              "ticks": ""
             }
            },
            "type": "scattercarpet"
           }
          ],
          "scattergeo": [
           {
            "marker": {
             "colorbar": {
              "outlinewidth": 0,
              "ticks": ""
             }
            },
            "type": "scattergeo"
           }
          ],
          "scattergl": [
           {
            "marker": {
             "colorbar": {
              "outlinewidth": 0,
              "ticks": ""
             }
            },
            "type": "scattergl"
           }
          ],
          "scattermapbox": [
           {
            "marker": {
             "colorbar": {
              "outlinewidth": 0,
              "ticks": ""
             }
            },
            "type": "scattermapbox"
           }
          ],
          "scatterpolar": [
           {
            "marker": {
             "colorbar": {
              "outlinewidth": 0,
              "ticks": ""
             }
            },
            "type": "scatterpolar"
           }
          ],
          "scatterpolargl": [
           {
            "marker": {
             "colorbar": {
              "outlinewidth": 0,
              "ticks": ""
             }
            },
            "type": "scatterpolargl"
           }
          ],
          "scatterternary": [
           {
            "marker": {
             "colorbar": {
              "outlinewidth": 0,
              "ticks": ""
             }
            },
            "type": "scatterternary"
           }
          ],
          "surface": [
           {
            "colorbar": {
             "outlinewidth": 0,
             "ticks": ""
            },
            "colorscale": [
             [
              0,
              "#0d0887"
             ],
             [
              0.1111111111111111,
              "#46039f"
             ],
             [
              0.2222222222222222,
              "#7201a8"
             ],
             [
              0.3333333333333333,
              "#9c179e"
             ],
             [
              0.4444444444444444,
              "#bd3786"
             ],
             [
              0.5555555555555556,
              "#d8576b"
             ],
             [
              0.6666666666666666,
              "#ed7953"
             ],
             [
              0.7777777777777778,
              "#fb9f3a"
             ],
             [
              0.8888888888888888,
              "#fdca26"
             ],
             [
              1,
              "#f0f921"
             ]
            ],
            "type": "surface"
           }
          ],
          "table": [
           {
            "cells": {
             "fill": {
              "color": "#EBF0F8"
             },
             "line": {
              "color": "white"
             }
            },
            "header": {
             "fill": {
              "color": "#C8D4E3"
             },
             "line": {
              "color": "white"
             }
            },
            "type": "table"
           }
          ]
         },
         "layout": {
          "annotationdefaults": {
           "arrowcolor": "#2a3f5f",
           "arrowhead": 0,
           "arrowwidth": 1
          },
          "autotypenumbers": "strict",
          "coloraxis": {
           "colorbar": {
            "outlinewidth": 0,
            "ticks": ""
           }
          },
          "colorscale": {
           "diverging": [
            [
             0,
             "#8e0152"
            ],
            [
             0.1,
             "#c51b7d"
            ],
            [
             0.2,
             "#de77ae"
            ],
            [
             0.3,
             "#f1b6da"
            ],
            [
             0.4,
             "#fde0ef"
            ],
            [
             0.5,
             "#f7f7f7"
            ],
            [
             0.6,
             "#e6f5d0"
            ],
            [
             0.7,
             "#b8e186"
            ],
            [
             0.8,
             "#7fbc41"
            ],
            [
             0.9,
             "#4d9221"
            ],
            [
             1,
             "#276419"
            ]
           ],
           "sequential": [
            [
             0,
             "#0d0887"
            ],
            [
             0.1111111111111111,
             "#46039f"
            ],
            [
             0.2222222222222222,
             "#7201a8"
            ],
            [
             0.3333333333333333,
             "#9c179e"
            ],
            [
             0.4444444444444444,
             "#bd3786"
            ],
            [
             0.5555555555555556,
             "#d8576b"
            ],
            [
             0.6666666666666666,
             "#ed7953"
            ],
            [
             0.7777777777777778,
             "#fb9f3a"
            ],
            [
             0.8888888888888888,
             "#fdca26"
            ],
            [
             1,
             "#f0f921"
            ]
           ],
           "sequentialminus": [
            [
             0,
             "#0d0887"
            ],
            [
             0.1111111111111111,
             "#46039f"
            ],
            [
             0.2222222222222222,
             "#7201a8"
            ],
            [
             0.3333333333333333,
             "#9c179e"
            ],
            [
             0.4444444444444444,
             "#bd3786"
            ],
            [
             0.5555555555555556,
             "#d8576b"
            ],
            [
             0.6666666666666666,
             "#ed7953"
            ],
            [
             0.7777777777777778,
             "#fb9f3a"
            ],
            [
             0.8888888888888888,
             "#fdca26"
            ],
            [
             1,
             "#f0f921"
            ]
           ]
          },
          "colorway": [
           "#636efa",
           "#EF553B",
           "#00cc96",
           "#ab63fa",
           "#FFA15A",
           "#19d3f3",
           "#FF6692",
           "#B6E880",
           "#FF97FF",
           "#FECB52"
          ],
          "font": {
           "color": "#2a3f5f"
          },
          "geo": {
           "bgcolor": "white",
           "lakecolor": "white",
           "landcolor": "#E5ECF6",
           "showlakes": true,
           "showland": true,
           "subunitcolor": "white"
          },
          "hoverlabel": {
           "align": "left"
          },
          "hovermode": "closest",
          "mapbox": {
           "style": "light"
          },
          "paper_bgcolor": "white",
          "plot_bgcolor": "#E5ECF6",
          "polar": {
           "angularaxis": {
            "gridcolor": "white",
            "linecolor": "white",
            "ticks": ""
           },
           "bgcolor": "#E5ECF6",
           "radialaxis": {
            "gridcolor": "white",
            "linecolor": "white",
            "ticks": ""
           }
          },
          "scene": {
           "xaxis": {
            "backgroundcolor": "#E5ECF6",
            "gridcolor": "white",
            "gridwidth": 2,
            "linecolor": "white",
            "showbackground": true,
            "ticks": "",
            "zerolinecolor": "white"
           },
           "yaxis": {
            "backgroundcolor": "#E5ECF6",
            "gridcolor": "white",
            "gridwidth": 2,
            "linecolor": "white",
            "showbackground": true,
            "ticks": "",
            "zerolinecolor": "white"
           },
           "zaxis": {
            "backgroundcolor": "#E5ECF6",
            "gridcolor": "white",
            "gridwidth": 2,
            "linecolor": "white",
            "showbackground": true,
            "ticks": "",
            "zerolinecolor": "white"
           }
          },
          "shapedefaults": {
           "line": {
            "color": "#2a3f5f"
           }
          },
          "ternary": {
           "aaxis": {
            "gridcolor": "white",
            "linecolor": "white",
            "ticks": ""
           },
           "baxis": {
            "gridcolor": "white",
            "linecolor": "white",
            "ticks": ""
           },
           "bgcolor": "#E5ECF6",
           "caxis": {
            "gridcolor": "white",
            "linecolor": "white",
            "ticks": ""
           }
          },
          "title": {
           "x": 0.05
          },
          "xaxis": {
           "automargin": true,
           "gridcolor": "white",
           "linecolor": "white",
           "ticks": "",
           "title": {
            "standoff": 15
           },
           "zerolinecolor": "white",
           "zerolinewidth": 2
          },
          "yaxis": {
           "automargin": true,
           "gridcolor": "white",
           "linecolor": "white",
           "ticks": "",
           "title": {
            "standoff": 15
           },
           "zerolinecolor": "white",
           "zerolinewidth": 2
          }
         }
        },
        "title": {
         "text": "Percentage of Missing Values by Column"
        },
        "width": 1800,
        "xaxis": {
         "tickmode": "linear",
         "title": {
          "text": "Columns"
         }
        },
        "yaxis": {
         "title": {
          "text": "Percentage of Missing Values"
         }
        }
       }
      }
     },
     "metadata": {},
     "output_type": "display_data"
    }
   ],
   "source": [
    "missing_values_dict = get_columns_high_missing_values(\n",
    "    df_applprev_1_0, threshold=25, display=True\n",
    ")\n",
    "\n",
    "df_applprev_1_0 = df_applprev_1_0.drop(*list(missing_values_dict.keys()))"
   ]
  },
  {
   "cell_type": "code",
   "execution_count": 7,
   "metadata": {},
   "outputs": [
    {
     "name": "stderr",
     "output_type": "stream",
     "text": [
      " 15%|█▍        | 6/41 [00:00<00:02, 12.15it/s]24/07/21 17:34:21 WARN GarbageCollectionMetrics: To enable non-built-in garbage collector(s) List(G1 Concurrent GC), users should configure it(them) to spark.eventLog.gcMetrics.youngGenerationGarbageCollectors or spark.eventLog.gcMetrics.oldGenerationGarbageCollectors\n",
      "100%|██████████| 41/41 [00:03<00:00, 11.13it/s]\n"
     ]
    },
    {
     "data": {
      "application/vnd.plotly.v1+json": {
       "config": {
        "plotlyServerURL": "https://plot.ly"
       },
       "data": [
        {
         "type": "bar",
         "x": [
          "revolvingaccount_394A",
          "credacc_actualbalance_314A",
          "credacc_maxhisbal_375A",
          "credacc_minhisbal_90A",
          "credacc_status_367L",
          "credacc_transactions_402L",
          "isdebitcard_527L",
          "byoccupationinc_3656910L",
          "dtlastpmt_581D",
          "employedfrom_700D",
          "dtlastpmtallstes_3545839D",
          "childnum_21L",
          "dateactivated_425D",
          "maxdpdtolerance_577P",
          "approvaldate_319D",
          "familystate_726L",
          "outstandingdebt_522A",
          "currdebt_94A"
         ],
         "y": [
          94.68979018646512,
          94.24416147549837,
          94.24416147549837,
          94.24416147549837,
          94.24416147549837,
          94.24416147549837,
          91.93119040895729,
          79.42656147246612,
          71.63751589568263,
          64.64815344758641,
          61.00401964147299,
          60.85487028554426,
          49.162470459141225,
          48.45273178321605,
          47.16201182960965,
          43.53914175632369,
          37.15831626107013,
          36.998705603429485
         ]
        }
       ],
       "layout": {
        "bargap": 0.2,
        "height": 600,
        "template": {
         "data": {
          "bar": [
           {
            "error_x": {
             "color": "#2a3f5f"
            },
            "error_y": {
             "color": "#2a3f5f"
            },
            "marker": {
             "line": {
              "color": "#E5ECF6",
              "width": 0.5
             },
             "pattern": {
              "fillmode": "overlay",
              "size": 10,
              "solidity": 0.2
             }
            },
            "type": "bar"
           }
          ],
          "barpolar": [
           {
            "marker": {
             "line": {
              "color": "#E5ECF6",
              "width": 0.5
             },
             "pattern": {
              "fillmode": "overlay",
              "size": 10,
              "solidity": 0.2
             }
            },
            "type": "barpolar"
           }
          ],
          "carpet": [
           {
            "aaxis": {
             "endlinecolor": "#2a3f5f",
             "gridcolor": "white",
             "linecolor": "white",
             "minorgridcolor": "white",
             "startlinecolor": "#2a3f5f"
            },
            "baxis": {
             "endlinecolor": "#2a3f5f",
             "gridcolor": "white",
             "linecolor": "white",
             "minorgridcolor": "white",
             "startlinecolor": "#2a3f5f"
            },
            "type": "carpet"
           }
          ],
          "choropleth": [
           {
            "colorbar": {
             "outlinewidth": 0,
             "ticks": ""
            },
            "type": "choropleth"
           }
          ],
          "contour": [
           {
            "colorbar": {
             "outlinewidth": 0,
             "ticks": ""
            },
            "colorscale": [
             [
              0,
              "#0d0887"
             ],
             [
              0.1111111111111111,
              "#46039f"
             ],
             [
              0.2222222222222222,
              "#7201a8"
             ],
             [
              0.3333333333333333,
              "#9c179e"
             ],
             [
              0.4444444444444444,
              "#bd3786"
             ],
             [
              0.5555555555555556,
              "#d8576b"
             ],
             [
              0.6666666666666666,
              "#ed7953"
             ],
             [
              0.7777777777777778,
              "#fb9f3a"
             ],
             [
              0.8888888888888888,
              "#fdca26"
             ],
             [
              1,
              "#f0f921"
             ]
            ],
            "type": "contour"
           }
          ],
          "contourcarpet": [
           {
            "colorbar": {
             "outlinewidth": 0,
             "ticks": ""
            },
            "type": "contourcarpet"
           }
          ],
          "heatmap": [
           {
            "colorbar": {
             "outlinewidth": 0,
             "ticks": ""
            },
            "colorscale": [
             [
              0,
              "#0d0887"
             ],
             [
              0.1111111111111111,
              "#46039f"
             ],
             [
              0.2222222222222222,
              "#7201a8"
             ],
             [
              0.3333333333333333,
              "#9c179e"
             ],
             [
              0.4444444444444444,
              "#bd3786"
             ],
             [
              0.5555555555555556,
              "#d8576b"
             ],
             [
              0.6666666666666666,
              "#ed7953"
             ],
             [
              0.7777777777777778,
              "#fb9f3a"
             ],
             [
              0.8888888888888888,
              "#fdca26"
             ],
             [
              1,
              "#f0f921"
             ]
            ],
            "type": "heatmap"
           }
          ],
          "heatmapgl": [
           {
            "colorbar": {
             "outlinewidth": 0,
             "ticks": ""
            },
            "colorscale": [
             [
              0,
              "#0d0887"
             ],
             [
              0.1111111111111111,
              "#46039f"
             ],
             [
              0.2222222222222222,
              "#7201a8"
             ],
             [
              0.3333333333333333,
              "#9c179e"
             ],
             [
              0.4444444444444444,
              "#bd3786"
             ],
             [
              0.5555555555555556,
              "#d8576b"
             ],
             [
              0.6666666666666666,
              "#ed7953"
             ],
             [
              0.7777777777777778,
              "#fb9f3a"
             ],
             [
              0.8888888888888888,
              "#fdca26"
             ],
             [
              1,
              "#f0f921"
             ]
            ],
            "type": "heatmapgl"
           }
          ],
          "histogram": [
           {
            "marker": {
             "pattern": {
              "fillmode": "overlay",
              "size": 10,
              "solidity": 0.2
             }
            },
            "type": "histogram"
           }
          ],
          "histogram2d": [
           {
            "colorbar": {
             "outlinewidth": 0,
             "ticks": ""
            },
            "colorscale": [
             [
              0,
              "#0d0887"
             ],
             [
              0.1111111111111111,
              "#46039f"
             ],
             [
              0.2222222222222222,
              "#7201a8"
             ],
             [
              0.3333333333333333,
              "#9c179e"
             ],
             [
              0.4444444444444444,
              "#bd3786"
             ],
             [
              0.5555555555555556,
              "#d8576b"
             ],
             [
              0.6666666666666666,
              "#ed7953"
             ],
             [
              0.7777777777777778,
              "#fb9f3a"
             ],
             [
              0.8888888888888888,
              "#fdca26"
             ],
             [
              1,
              "#f0f921"
             ]
            ],
            "type": "histogram2d"
           }
          ],
          "histogram2dcontour": [
           {
            "colorbar": {
             "outlinewidth": 0,
             "ticks": ""
            },
            "colorscale": [
             [
              0,
              "#0d0887"
             ],
             [
              0.1111111111111111,
              "#46039f"
             ],
             [
              0.2222222222222222,
              "#7201a8"
             ],
             [
              0.3333333333333333,
              "#9c179e"
             ],
             [
              0.4444444444444444,
              "#bd3786"
             ],
             [
              0.5555555555555556,
              "#d8576b"
             ],
             [
              0.6666666666666666,
              "#ed7953"
             ],
             [
              0.7777777777777778,
              "#fb9f3a"
             ],
             [
              0.8888888888888888,
              "#fdca26"
             ],
             [
              1,
              "#f0f921"
             ]
            ],
            "type": "histogram2dcontour"
           }
          ],
          "mesh3d": [
           {
            "colorbar": {
             "outlinewidth": 0,
             "ticks": ""
            },
            "type": "mesh3d"
           }
          ],
          "parcoords": [
           {
            "line": {
             "colorbar": {
              "outlinewidth": 0,
              "ticks": ""
             }
            },
            "type": "parcoords"
           }
          ],
          "pie": [
           {
            "automargin": true,
            "type": "pie"
           }
          ],
          "scatter": [
           {
            "fillpattern": {
             "fillmode": "overlay",
             "size": 10,
             "solidity": 0.2
            },
            "type": "scatter"
           }
          ],
          "scatter3d": [
           {
            "line": {
             "colorbar": {
              "outlinewidth": 0,
              "ticks": ""
             }
            },
            "marker": {
             "colorbar": {
              "outlinewidth": 0,
              "ticks": ""
             }
            },
            "type": "scatter3d"
           }
          ],
          "scattercarpet": [
           {
            "marker": {
             "colorbar": {
              "outlinewidth": 0,
              "ticks": ""
             }
            },
            "type": "scattercarpet"
           }
          ],
          "scattergeo": [
           {
            "marker": {
             "colorbar": {
              "outlinewidth": 0,
              "ticks": ""
             }
            },
            "type": "scattergeo"
           }
          ],
          "scattergl": [
           {
            "marker": {
             "colorbar": {
              "outlinewidth": 0,
              "ticks": ""
             }
            },
            "type": "scattergl"
           }
          ],
          "scattermapbox": [
           {
            "marker": {
             "colorbar": {
              "outlinewidth": 0,
              "ticks": ""
             }
            },
            "type": "scattermapbox"
           }
          ],
          "scatterpolar": [
           {
            "marker": {
             "colorbar": {
              "outlinewidth": 0,
              "ticks": ""
             }
            },
            "type": "scatterpolar"
           }
          ],
          "scatterpolargl": [
           {
            "marker": {
             "colorbar": {
              "outlinewidth": 0,
              "ticks": ""
             }
            },
            "type": "scatterpolargl"
           }
          ],
          "scatterternary": [
           {
            "marker": {
             "colorbar": {
              "outlinewidth": 0,
              "ticks": ""
             }
            },
            "type": "scatterternary"
           }
          ],
          "surface": [
           {
            "colorbar": {
             "outlinewidth": 0,
             "ticks": ""
            },
            "colorscale": [
             [
              0,
              "#0d0887"
             ],
             [
              0.1111111111111111,
              "#46039f"
             ],
             [
              0.2222222222222222,
              "#7201a8"
             ],
             [
              0.3333333333333333,
              "#9c179e"
             ],
             [
              0.4444444444444444,
              "#bd3786"
             ],
             [
              0.5555555555555556,
              "#d8576b"
             ],
             [
              0.6666666666666666,
              "#ed7953"
             ],
             [
              0.7777777777777778,
              "#fb9f3a"
             ],
             [
              0.8888888888888888,
              "#fdca26"
             ],
             [
              1,
              "#f0f921"
             ]
            ],
            "type": "surface"
           }
          ],
          "table": [
           {
            "cells": {
             "fill": {
              "color": "#EBF0F8"
             },
             "line": {
              "color": "white"
             }
            },
            "header": {
             "fill": {
              "color": "#C8D4E3"
             },
             "line": {
              "color": "white"
             }
            },
            "type": "table"
           }
          ]
         },
         "layout": {
          "annotationdefaults": {
           "arrowcolor": "#2a3f5f",
           "arrowhead": 0,
           "arrowwidth": 1
          },
          "autotypenumbers": "strict",
          "coloraxis": {
           "colorbar": {
            "outlinewidth": 0,
            "ticks": ""
           }
          },
          "colorscale": {
           "diverging": [
            [
             0,
             "#8e0152"
            ],
            [
             0.1,
             "#c51b7d"
            ],
            [
             0.2,
             "#de77ae"
            ],
            [
             0.3,
             "#f1b6da"
            ],
            [
             0.4,
             "#fde0ef"
            ],
            [
             0.5,
             "#f7f7f7"
            ],
            [
             0.6,
             "#e6f5d0"
            ],
            [
             0.7,
             "#b8e186"
            ],
            [
             0.8,
             "#7fbc41"
            ],
            [
             0.9,
             "#4d9221"
            ],
            [
             1,
             "#276419"
            ]
           ],
           "sequential": [
            [
             0,
             "#0d0887"
            ],
            [
             0.1111111111111111,
             "#46039f"
            ],
            [
             0.2222222222222222,
             "#7201a8"
            ],
            [
             0.3333333333333333,
             "#9c179e"
            ],
            [
             0.4444444444444444,
             "#bd3786"
            ],
            [
             0.5555555555555556,
             "#d8576b"
            ],
            [
             0.6666666666666666,
             "#ed7953"
            ],
            [
             0.7777777777777778,
             "#fb9f3a"
            ],
            [
             0.8888888888888888,
             "#fdca26"
            ],
            [
             1,
             "#f0f921"
            ]
           ],
           "sequentialminus": [
            [
             0,
             "#0d0887"
            ],
            [
             0.1111111111111111,
             "#46039f"
            ],
            [
             0.2222222222222222,
             "#7201a8"
            ],
            [
             0.3333333333333333,
             "#9c179e"
            ],
            [
             0.4444444444444444,
             "#bd3786"
            ],
            [
             0.5555555555555556,
             "#d8576b"
            ],
            [
             0.6666666666666666,
             "#ed7953"
            ],
            [
             0.7777777777777778,
             "#fb9f3a"
            ],
            [
             0.8888888888888888,
             "#fdca26"
            ],
            [
             1,
             "#f0f921"
            ]
           ]
          },
          "colorway": [
           "#636efa",
           "#EF553B",
           "#00cc96",
           "#ab63fa",
           "#FFA15A",
           "#19d3f3",
           "#FF6692",
           "#B6E880",
           "#FF97FF",
           "#FECB52"
          ],
          "font": {
           "color": "#2a3f5f"
          },
          "geo": {
           "bgcolor": "white",
           "lakecolor": "white",
           "landcolor": "#E5ECF6",
           "showlakes": true,
           "showland": true,
           "subunitcolor": "white"
          },
          "hoverlabel": {
           "align": "left"
          },
          "hovermode": "closest",
          "mapbox": {
           "style": "light"
          },
          "paper_bgcolor": "white",
          "plot_bgcolor": "#E5ECF6",
          "polar": {
           "angularaxis": {
            "gridcolor": "white",
            "linecolor": "white",
            "ticks": ""
           },
           "bgcolor": "#E5ECF6",
           "radialaxis": {
            "gridcolor": "white",
            "linecolor": "white",
            "ticks": ""
           }
          },
          "scene": {
           "xaxis": {
            "backgroundcolor": "#E5ECF6",
            "gridcolor": "white",
            "gridwidth": 2,
            "linecolor": "white",
            "showbackground": true,
            "ticks": "",
            "zerolinecolor": "white"
           },
           "yaxis": {
            "backgroundcolor": "#E5ECF6",
            "gridcolor": "white",
            "gridwidth": 2,
            "linecolor": "white",
            "showbackground": true,
            "ticks": "",
            "zerolinecolor": "white"
           },
           "zaxis": {
            "backgroundcolor": "#E5ECF6",
            "gridcolor": "white",
            "gridwidth": 2,
            "linecolor": "white",
            "showbackground": true,
            "ticks": "",
            "zerolinecolor": "white"
           }
          },
          "shapedefaults": {
           "line": {
            "color": "#2a3f5f"
           }
          },
          "ternary": {
           "aaxis": {
            "gridcolor": "white",
            "linecolor": "white",
            "ticks": ""
           },
           "baxis": {
            "gridcolor": "white",
            "linecolor": "white",
            "ticks": ""
           },
           "bgcolor": "#E5ECF6",
           "caxis": {
            "gridcolor": "white",
            "linecolor": "white",
            "ticks": ""
           }
          },
          "title": {
           "x": 0.05
          },
          "xaxis": {
           "automargin": true,
           "gridcolor": "white",
           "linecolor": "white",
           "ticks": "",
           "title": {
            "standoff": 15
           },
           "zerolinecolor": "white",
           "zerolinewidth": 2
          },
          "yaxis": {
           "automargin": true,
           "gridcolor": "white",
           "linecolor": "white",
           "ticks": "",
           "title": {
            "standoff": 15
           },
           "zerolinecolor": "white",
           "zerolinewidth": 2
          }
         }
        },
        "title": {
         "text": "Percentage of Missing Values by Column"
        },
        "width": 1800,
        "xaxis": {
         "tickmode": "linear",
         "title": {
          "text": "Columns"
         }
        },
        "yaxis": {
         "title": {
          "text": "Percentage of Missing Values"
         }
        }
       }
      }
     },
     "metadata": {},
     "output_type": "display_data"
    }
   ],
   "source": [
    "missing_values_dict = get_columns_high_missing_values(\n",
    "    df_applprev_1_1, threshold=25, display=True\n",
    ")\n",
    "\n",
    "df_applprev_1_1 = df_applprev_1_1.drop(*list(missing_values_dict.keys()))"
   ]
  },
  {
   "cell_type": "code",
   "execution_count": 8,
   "metadata": {},
   "outputs": [],
   "source": [
    "df_applprev_depth1 = df_applprev_1_0.union(df_applprev_1_1)"
   ]
  },
  {
   "cell_type": "code",
   "execution_count": 9,
   "metadata": {},
   "outputs": [
    {
     "name": "stderr",
     "output_type": "stream",
     "text": [
      "100%|██████████| 23/23 [00:04<00:00,  4.90it/s]\n"
     ]
    },
    {
     "data": {
      "application/vnd.plotly.v1+json": {
       "config": {
        "plotlyServerURL": "https://plot.ly"
       },
       "data": [
        {
         "type": "bar",
         "x": [
          "firstnonzeroinstldate_307D",
          "pmtnum_8L",
          "tenor_203L",
          "annuity_853A",
          "credamount_590A",
          "credtype_587L",
          "downpmt_134A",
          "inittransactioncode_279L",
          "credacc_credlmt_575A",
          "mainoccupationinc_437A",
          "actualdpd_943P",
          "creationdate_885D",
          "isbidproduct_390L",
          "status_219L",
          "case_id",
          "cancelreason_3545846M",
          "district_544M",
          "education_1138M",
          "num_group1",
          "postype_4733339M",
          "profession_152M",
          "rejectreason_755M",
          "rejectreasonclient_4145042M"
         ],
         "y": [
          9.99822402125413,
          8.455742808856726,
          8.455742808856726,
          3.8421208526720667,
          3.0983550514030154,
          3.0983550514030154,
          3.0983550514030154,
          3.0983550514030154,
          2.9747567376480983,
          1.5627233860237673,
          0.038308428513177874,
          0.0010113425127478957,
          0.0010113425127478957,
          0.0010113425127478957,
          0,
          0,
          0,
          0,
          0,
          0,
          0,
          0,
          0
         ]
        }
       ],
       "layout": {
        "bargap": 0.2,
        "height": 600,
        "template": {
         "data": {
          "bar": [
           {
            "error_x": {
             "color": "#2a3f5f"
            },
            "error_y": {
             "color": "#2a3f5f"
            },
            "marker": {
             "line": {
              "color": "#E5ECF6",
              "width": 0.5
             },
             "pattern": {
              "fillmode": "overlay",
              "size": 10,
              "solidity": 0.2
             }
            },
            "type": "bar"
           }
          ],
          "barpolar": [
           {
            "marker": {
             "line": {
              "color": "#E5ECF6",
              "width": 0.5
             },
             "pattern": {
              "fillmode": "overlay",
              "size": 10,
              "solidity": 0.2
             }
            },
            "type": "barpolar"
           }
          ],
          "carpet": [
           {
            "aaxis": {
             "endlinecolor": "#2a3f5f",
             "gridcolor": "white",
             "linecolor": "white",
             "minorgridcolor": "white",
             "startlinecolor": "#2a3f5f"
            },
            "baxis": {
             "endlinecolor": "#2a3f5f",
             "gridcolor": "white",
             "linecolor": "white",
             "minorgridcolor": "white",
             "startlinecolor": "#2a3f5f"
            },
            "type": "carpet"
           }
          ],
          "choropleth": [
           {
            "colorbar": {
             "outlinewidth": 0,
             "ticks": ""
            },
            "type": "choropleth"
           }
          ],
          "contour": [
           {
            "colorbar": {
             "outlinewidth": 0,
             "ticks": ""
            },
            "colorscale": [
             [
              0,
              "#0d0887"
             ],
             [
              0.1111111111111111,
              "#46039f"
             ],
             [
              0.2222222222222222,
              "#7201a8"
             ],
             [
              0.3333333333333333,
              "#9c179e"
             ],
             [
              0.4444444444444444,
              "#bd3786"
             ],
             [
              0.5555555555555556,
              "#d8576b"
             ],
             [
              0.6666666666666666,
              "#ed7953"
             ],
             [
              0.7777777777777778,
              "#fb9f3a"
             ],
             [
              0.8888888888888888,
              "#fdca26"
             ],
             [
              1,
              "#f0f921"
             ]
            ],
            "type": "contour"
           }
          ],
          "contourcarpet": [
           {
            "colorbar": {
             "outlinewidth": 0,
             "ticks": ""
            },
            "type": "contourcarpet"
           }
          ],
          "heatmap": [
           {
            "colorbar": {
             "outlinewidth": 0,
             "ticks": ""
            },
            "colorscale": [
             [
              0,
              "#0d0887"
             ],
             [
              0.1111111111111111,
              "#46039f"
             ],
             [
              0.2222222222222222,
              "#7201a8"
             ],
             [
              0.3333333333333333,
              "#9c179e"
             ],
             [
              0.4444444444444444,
              "#bd3786"
             ],
             [
              0.5555555555555556,
              "#d8576b"
             ],
             [
              0.6666666666666666,
              "#ed7953"
             ],
             [
              0.7777777777777778,
              "#fb9f3a"
             ],
             [
              0.8888888888888888,
              "#fdca26"
             ],
             [
              1,
              "#f0f921"
             ]
            ],
            "type": "heatmap"
           }
          ],
          "heatmapgl": [
           {
            "colorbar": {
             "outlinewidth": 0,
             "ticks": ""
            },
            "colorscale": [
             [
              0,
              "#0d0887"
             ],
             [
              0.1111111111111111,
              "#46039f"
             ],
             [
              0.2222222222222222,
              "#7201a8"
             ],
             [
              0.3333333333333333,
              "#9c179e"
             ],
             [
              0.4444444444444444,
              "#bd3786"
             ],
             [
              0.5555555555555556,
              "#d8576b"
             ],
             [
              0.6666666666666666,
              "#ed7953"
             ],
             [
              0.7777777777777778,
              "#fb9f3a"
             ],
             [
              0.8888888888888888,
              "#fdca26"
             ],
             [
              1,
              "#f0f921"
             ]
            ],
            "type": "heatmapgl"
           }
          ],
          "histogram": [
           {
            "marker": {
             "pattern": {
              "fillmode": "overlay",
              "size": 10,
              "solidity": 0.2
             }
            },
            "type": "histogram"
           }
          ],
          "histogram2d": [
           {
            "colorbar": {
             "outlinewidth": 0,
             "ticks": ""
            },
            "colorscale": [
             [
              0,
              "#0d0887"
             ],
             [
              0.1111111111111111,
              "#46039f"
             ],
             [
              0.2222222222222222,
              "#7201a8"
             ],
             [
              0.3333333333333333,
              "#9c179e"
             ],
             [
              0.4444444444444444,
              "#bd3786"
             ],
             [
              0.5555555555555556,
              "#d8576b"
             ],
             [
              0.6666666666666666,
              "#ed7953"
             ],
             [
              0.7777777777777778,
              "#fb9f3a"
             ],
             [
              0.8888888888888888,
              "#fdca26"
             ],
             [
              1,
              "#f0f921"
             ]
            ],
            "type": "histogram2d"
           }
          ],
          "histogram2dcontour": [
           {
            "colorbar": {
             "outlinewidth": 0,
             "ticks": ""
            },
            "colorscale": [
             [
              0,
              "#0d0887"
             ],
             [
              0.1111111111111111,
              "#46039f"
             ],
             [
              0.2222222222222222,
              "#7201a8"
             ],
             [
              0.3333333333333333,
              "#9c179e"
             ],
             [
              0.4444444444444444,
              "#bd3786"
             ],
             [
              0.5555555555555556,
              "#d8576b"
             ],
             [
              0.6666666666666666,
              "#ed7953"
             ],
             [
              0.7777777777777778,
              "#fb9f3a"
             ],
             [
              0.8888888888888888,
              "#fdca26"
             ],
             [
              1,
              "#f0f921"
             ]
            ],
            "type": "histogram2dcontour"
           }
          ],
          "mesh3d": [
           {
            "colorbar": {
             "outlinewidth": 0,
             "ticks": ""
            },
            "type": "mesh3d"
           }
          ],
          "parcoords": [
           {
            "line": {
             "colorbar": {
              "outlinewidth": 0,
              "ticks": ""
             }
            },
            "type": "parcoords"
           }
          ],
          "pie": [
           {
            "automargin": true,
            "type": "pie"
           }
          ],
          "scatter": [
           {
            "fillpattern": {
             "fillmode": "overlay",
             "size": 10,
             "solidity": 0.2
            },
            "type": "scatter"
           }
          ],
          "scatter3d": [
           {
            "line": {
             "colorbar": {
              "outlinewidth": 0,
              "ticks": ""
             }
            },
            "marker": {
             "colorbar": {
              "outlinewidth": 0,
              "ticks": ""
             }
            },
            "type": "scatter3d"
           }
          ],
          "scattercarpet": [
           {
            "marker": {
             "colorbar": {
              "outlinewidth": 0,
              "ticks": ""
             }
            },
            "type": "scattercarpet"
           }
          ],
          "scattergeo": [
           {
            "marker": {
             "colorbar": {
              "outlinewidth": 0,
              "ticks": ""
             }
            },
            "type": "scattergeo"
           }
          ],
          "scattergl": [
           {
            "marker": {
             "colorbar": {
              "outlinewidth": 0,
              "ticks": ""
             }
            },
            "type": "scattergl"
           }
          ],
          "scattermapbox": [
           {
            "marker": {
             "colorbar": {
              "outlinewidth": 0,
              "ticks": ""
             }
            },
            "type": "scattermapbox"
           }
          ],
          "scatterpolar": [
           {
            "marker": {
             "colorbar": {
              "outlinewidth": 0,
              "ticks": ""
             }
            },
            "type": "scatterpolar"
           }
          ],
          "scatterpolargl": [
           {
            "marker": {
             "colorbar": {
              "outlinewidth": 0,
              "ticks": ""
             }
            },
            "type": "scatterpolargl"
           }
          ],
          "scatterternary": [
           {
            "marker": {
             "colorbar": {
              "outlinewidth": 0,
              "ticks": ""
             }
            },
            "type": "scatterternary"
           }
          ],
          "surface": [
           {
            "colorbar": {
             "outlinewidth": 0,
             "ticks": ""
            },
            "colorscale": [
             [
              0,
              "#0d0887"
             ],
             [
              0.1111111111111111,
              "#46039f"
             ],
             [
              0.2222222222222222,
              "#7201a8"
             ],
             [
              0.3333333333333333,
              "#9c179e"
             ],
             [
              0.4444444444444444,
              "#bd3786"
             ],
             [
              0.5555555555555556,
              "#d8576b"
             ],
             [
              0.6666666666666666,
              "#ed7953"
             ],
             [
              0.7777777777777778,
              "#fb9f3a"
             ],
             [
              0.8888888888888888,
              "#fdca26"
             ],
             [
              1,
              "#f0f921"
             ]
            ],
            "type": "surface"
           }
          ],
          "table": [
           {
            "cells": {
             "fill": {
              "color": "#EBF0F8"
             },
             "line": {
              "color": "white"
             }
            },
            "header": {
             "fill": {
              "color": "#C8D4E3"
             },
             "line": {
              "color": "white"
             }
            },
            "type": "table"
           }
          ]
         },
         "layout": {
          "annotationdefaults": {
           "arrowcolor": "#2a3f5f",
           "arrowhead": 0,
           "arrowwidth": 1
          },
          "autotypenumbers": "strict",
          "coloraxis": {
           "colorbar": {
            "outlinewidth": 0,
            "ticks": ""
           }
          },
          "colorscale": {
           "diverging": [
            [
             0,
             "#8e0152"
            ],
            [
             0.1,
             "#c51b7d"
            ],
            [
             0.2,
             "#de77ae"
            ],
            [
             0.3,
             "#f1b6da"
            ],
            [
             0.4,
             "#fde0ef"
            ],
            [
             0.5,
             "#f7f7f7"
            ],
            [
             0.6,
             "#e6f5d0"
            ],
            [
             0.7,
             "#b8e186"
            ],
            [
             0.8,
             "#7fbc41"
            ],
            [
             0.9,
             "#4d9221"
            ],
            [
             1,
             "#276419"
            ]
           ],
           "sequential": [
            [
             0,
             "#0d0887"
            ],
            [
             0.1111111111111111,
             "#46039f"
            ],
            [
             0.2222222222222222,
             "#7201a8"
            ],
            [
             0.3333333333333333,
             "#9c179e"
            ],
            [
             0.4444444444444444,
             "#bd3786"
            ],
            [
             0.5555555555555556,
             "#d8576b"
            ],
            [
             0.6666666666666666,
             "#ed7953"
            ],
            [
             0.7777777777777778,
             "#fb9f3a"
            ],
            [
             0.8888888888888888,
             "#fdca26"
            ],
            [
             1,
             "#f0f921"
            ]
           ],
           "sequentialminus": [
            [
             0,
             "#0d0887"
            ],
            [
             0.1111111111111111,
             "#46039f"
            ],
            [
             0.2222222222222222,
             "#7201a8"
            ],
            [
             0.3333333333333333,
             "#9c179e"
            ],
            [
             0.4444444444444444,
             "#bd3786"
            ],
            [
             0.5555555555555556,
             "#d8576b"
            ],
            [
             0.6666666666666666,
             "#ed7953"
            ],
            [
             0.7777777777777778,
             "#fb9f3a"
            ],
            [
             0.8888888888888888,
             "#fdca26"
            ],
            [
             1,
             "#f0f921"
            ]
           ]
          },
          "colorway": [
           "#636efa",
           "#EF553B",
           "#00cc96",
           "#ab63fa",
           "#FFA15A",
           "#19d3f3",
           "#FF6692",
           "#B6E880",
           "#FF97FF",
           "#FECB52"
          ],
          "font": {
           "color": "#2a3f5f"
          },
          "geo": {
           "bgcolor": "white",
           "lakecolor": "white",
           "landcolor": "#E5ECF6",
           "showlakes": true,
           "showland": true,
           "subunitcolor": "white"
          },
          "hoverlabel": {
           "align": "left"
          },
          "hovermode": "closest",
          "mapbox": {
           "style": "light"
          },
          "paper_bgcolor": "white",
          "plot_bgcolor": "#E5ECF6",
          "polar": {
           "angularaxis": {
            "gridcolor": "white",
            "linecolor": "white",
            "ticks": ""
           },
           "bgcolor": "#E5ECF6",
           "radialaxis": {
            "gridcolor": "white",
            "linecolor": "white",
            "ticks": ""
           }
          },
          "scene": {
           "xaxis": {
            "backgroundcolor": "#E5ECF6",
            "gridcolor": "white",
            "gridwidth": 2,
            "linecolor": "white",
            "showbackground": true,
            "ticks": "",
            "zerolinecolor": "white"
           },
           "yaxis": {
            "backgroundcolor": "#E5ECF6",
            "gridcolor": "white",
            "gridwidth": 2,
            "linecolor": "white",
            "showbackground": true,
            "ticks": "",
            "zerolinecolor": "white"
           },
           "zaxis": {
            "backgroundcolor": "#E5ECF6",
            "gridcolor": "white",
            "gridwidth": 2,
            "linecolor": "white",
            "showbackground": true,
            "ticks": "",
            "zerolinecolor": "white"
           }
          },
          "shapedefaults": {
           "line": {
            "color": "#2a3f5f"
           }
          },
          "ternary": {
           "aaxis": {
            "gridcolor": "white",
            "linecolor": "white",
            "ticks": ""
           },
           "baxis": {
            "gridcolor": "white",
            "linecolor": "white",
            "ticks": ""
           },
           "bgcolor": "#E5ECF6",
           "caxis": {
            "gridcolor": "white",
            "linecolor": "white",
            "ticks": ""
           }
          },
          "title": {
           "x": 0.05
          },
          "xaxis": {
           "automargin": true,
           "gridcolor": "white",
           "linecolor": "white",
           "ticks": "",
           "title": {
            "standoff": 15
           },
           "zerolinecolor": "white",
           "zerolinewidth": 2
          },
          "yaxis": {
           "automargin": true,
           "gridcolor": "white",
           "linecolor": "white",
           "ticks": "",
           "title": {
            "standoff": 15
           },
           "zerolinecolor": "white",
           "zerolinewidth": 2
          }
         }
        },
        "title": {
         "text": "Percentage of Missing Values by Column"
        },
        "width": 1800,
        "xaxis": {
         "tickmode": "linear",
         "title": {
          "text": "Columns"
         }
        },
        "yaxis": {
         "title": {
          "text": "Percentage of Missing Values"
         }
        }
       }
      }
     },
     "metadata": {},
     "output_type": "display_data"
    }
   ],
   "source": [
    "missing_values_dict = get_columns_high_missing_values(\n",
    "    df_applprev_depth1, threshold=None, display=True\n",
    ")"
   ]
  },
  {
   "cell_type": "markdown",
   "metadata": {},
   "source": [
    "Column: actualdpd_943P\n",
    "- Action: We can take Groupby with Average\n",
    "\n",
    "Column: annuity_853A\n",
    "- Action: We can take Groupby with Average\n",
    "\n",
    "Column: cancelreason_3545846M\n",
    "- Multiple Cancel Reasons are possible for any Case ID\n",
    "- Action: Not Sure"
   ]
  },
  {
   "cell_type": "code",
   "execution_count": 10,
   "metadata": {},
   "outputs": [
    {
     "name": "stderr",
     "output_type": "stream",
     "text": [
      "                                                                                \r"
     ]
    },
    {
     "name": "stdout",
     "output_type": "stream",
     "text": [
      "+-------+--------------+------------+---------------------+-----------------+--------------------+---------------+-------------+-------------+------------+---------------+--------------------------+------------------------+-----------------+----------------------+----------+---------+----------------+---------------+-----------------+---------------------------+-----------+----------+\n",
      "|case_id|actualdpd_943P|annuity_853A|cancelreason_3545846M|creationdate_885D|credacc_credlmt_575A|credamount_590A|credtype_587L|district_544M|downpmt_134A|education_1138M|firstnonzeroinstldate_307D|inittransactioncode_279L|isbidproduct_390L|mainoccupationinc_437A|num_group1|pmtnum_8L|postype_4733339M|profession_152M|rejectreason_755M|rejectreasonclient_4145042M|status_219L|tenor_203L|\n",
      "+-------+--------------+------------+---------------------+-----------------+--------------------+---------------+-------------+-------------+------------+---------------+--------------------------+------------------------+-----------------+----------------------+----------+---------+----------------+---------------+-----------------+---------------------------+-----------+----------+\n",
      "|1699434|           0.0|      1598.4|             a55475b1|       2019-11-24|                 0.0|         8798.0|          COL|  P204_99_158|         0.0|       a55475b1|                2019-12-24|                     POS|            false|              150000.0|         1|      6.0|    P177_117_192|       a55475b1|         a55475b1|                   a55475b1|          A|       6.0|\n",
      "|1699434|           0.0|   1700.2001|             a55475b1|       2019-09-01|                 0.0|         9358.2|          COL|  P204_99_158|         0.0|       a55475b1|                2019-10-02|                     POS|            false|               90000.0|         2|      6.0|    P177_117_192|       a55475b1|         a55475b1|                   a55475b1|          A|       6.0|\n",
      "|1699434|           0.0|      1925.6|             a55475b1|       2018-11-27|                 0.0|        15496.0|          COL|  P204_99_158|         0.0|     P97_36_170|                2018-12-27|                     POS|            false|               66000.0|         3|     12.0|    P177_117_192|       a55475b1|         a55475b1|                   a55475b1|          K|      12.0|\n",
      "|1699434|           0.0|      2961.2|          P94_109_143|       2016-07-30|                 0.0|        33000.0|          CAL|  P204_99_158|         0.0|     P97_36_170|                2016-08-30|                    CASH|            false|               32000.0|         4|     24.0|      P46_145_78|       a55475b1|      P94_109_143|                P94_109_143|          D|      24.0|\n",
      "|1699434|           0.0|      3479.2|          P94_109_143|       2016-07-29|                 0.0|        60000.0|          CAL|  P204_99_158|         0.0|     P97_36_170|                2016-08-29|                    CASH|            false|               32000.0|         5|     48.0|      P46_145_78|       a55475b1|       P45_84_106|                P94_109_143|          D|      48.0|\n",
      "|1699434|           0.0|      3865.8|            P30_86_84|       2019-12-09|                 0.0|       140000.0|          CAL|     a55475b1|         0.0|       a55475b1|                2020-01-08|                    CASH|            false|              150000.0|         0|     60.0|     P67_102_161|       a55475b1|       P99_56_166|                  P30_86_84|          D|      60.0|\n",
      "+-------+--------------+------------+---------------------+-----------------+--------------------+---------------+-------------+-------------+------------+---------------+--------------------------+------------------------+-----------------+----------------------+----------+---------+----------------+---------------+-----------------+---------------------------+-----------+----------+\n",
      "\n"
     ]
    }
   ],
   "source": [
    "from pyspark.sql.functions import countDistinct\n",
    "\n",
    "temp_df = df_applprev_depth1.select(\"case_id\", \"cancelreason_3545846M\")\n",
    "\n",
    "# Get the distinct count of 'cancelreason_3545846M' per 'case_id'\n",
    "distinct_cancel_reason_per_case_id_df = temp_df.groupBy(\"case_id\").agg(countDistinct(\"cancelreason_3545846M\").alias(\"distinct_count\"))\n",
    "\n",
    "# Collect the results into a dictionary\n",
    "distinct_cancel_reason_per_case_id = {row[\"case_id\"]: row[\"distinct_count\"] for row in distinct_cancel_reason_per_case_id_df.collect()}\n",
    "\n",
    "df_applprev_depth1.filter(df_applprev_depth1.case_id==1699434).show()"
   ]
  },
  {
   "cell_type": "code",
   "execution_count": 11,
   "metadata": {},
   "outputs": [
    {
     "name": "stderr",
     "output_type": "stream",
     "text": [
      "                                                                                \r"
     ]
    },
    {
     "name": "stdout",
     "output_type": "stream",
     "text": [
      "Column Name: case_id\n",
      "Minimum Value: 2\n",
      "Maximum Value: 2703454\n",
      "Missing Values Count: 0 (0.00%)\n",
      "Number of Unique Values: 1221522\n",
      "Total Number of Rows: 6525979\n",
      "Column Name:  case_id\n",
      "Description - Not Found\n",
      "---------------------------------------------------------------------------------------------------- \n",
      "\n",
      "\n",
      "Column Name: actualdpd_943P\n",
      "Minimum Value: 0.0\n",
      "Maximum Value: 4206.0\n",
      "Missing Values Count: 2500 (0.04%)\n",
      "Number of Unique Values: 189\n",
      "Total Number of Rows: 6525979\n",
      "Column Name:  actualdpd_943P\n",
      "Column Description:  Days Past Due (DPD) of previous contract (actual).\n",
      "---------------------------------------------------------------------------------------------------- \n",
      "\n",
      "\n"
     ]
    },
    {
     "name": "stderr",
     "output_type": "stream",
     "text": [
      "                                                                                \r"
     ]
    },
    {
     "name": "stdout",
     "output_type": "stream",
     "text": [
      "Column Name: annuity_853A\n",
      "Minimum Value: 0.0\n",
      "Maximum Value: 105130.2\n",
      "Missing Values Count: 250736 (3.84%)\n",
      "Number of Unique Values: 89297\n",
      "Total Number of Rows: 6525979\n",
      "Column Name:  annuity_853A\n",
      "Column Description:  Monthly annuity for previous applications.\n",
      "---------------------------------------------------------------------------------------------------- \n",
      "\n",
      "\n",
      "Column Name: cancelreason_3545846M\n",
      "Minimum Value: P107_145_100\n",
      "Maximum Value: a55475b1\n",
      "Missing Values Count: 0 (0.00%)\n",
      "Number of Unique Values: 76\n",
      "Total Number of Rows: 6525979\n",
      "Column Name:  cancelreason_3545846M\n",
      "Column Description:  Application cancellation reason.\n",
      "---------------------------------------------------------------------------------------------------- \n",
      "\n",
      "\n"
     ]
    },
    {
     "name": "stderr",
     "output_type": "stream",
     "text": [
      "                                                                                \r"
     ]
    },
    {
     "name": "stdout",
     "output_type": "stream",
     "text": [
      "Column Name: creationdate_885D\n",
      "Minimum Value: 2005-12-26\n",
      "Maximum Value: 2020-10-19\n",
      "Missing Values Count: 66 (0.00%)\n",
      "Number of Unique Values: 5405\n",
      "Total Number of Rows: 6525979\n",
      "Column Name:  creationdate_885D\n",
      "Column Description:  Date when previous application was created.\n",
      "---------------------------------------------------------------------------------------------------- \n",
      "\n",
      "\n"
     ]
    },
    {
     "name": "stderr",
     "output_type": "stream",
     "text": [
      "                                                                                \r"
     ]
    },
    {
     "name": "stdout",
     "output_type": "stream",
     "text": [
      "Column Name: credacc_credlmt_575A\n",
      "Minimum Value: 0.0\n",
      "Maximum Value: 400000.0\n",
      "Missing Values Count: 194132 (2.97%)\n",
      "Number of Unique Values: 52331\n",
      "Total Number of Rows: 6525979\n",
      "Column Name:  credacc_credlmt_575A\n",
      "Column Description:  Credit card credit limit provided for previous applications.\n",
      "---------------------------------------------------------------------------------------------------- \n",
      "\n",
      "\n"
     ]
    },
    {
     "name": "stderr",
     "output_type": "stream",
     "text": [
      "                                                                                \r"
     ]
    },
    {
     "name": "stdout",
     "output_type": "stream",
     "text": [
      "Column Name: credamount_590A\n",
      "Minimum Value: 0.0\n",
      "Maximum Value: 1000000.0\n",
      "Missing Values Count: 202198 (3.10%)\n",
      "Number of Unique Values: 252460\n",
      "Total Number of Rows: 6525979\n",
      "Column Name:  credamount_590A\n",
      "Column Description:  Loan amount or card limit of previous applications.\n",
      "---------------------------------------------------------------------------------------------------- \n",
      "\n",
      "\n",
      "Column Name: credtype_587L\n",
      "Minimum Value: CAL\n",
      "Maximum Value: REL\n",
      "Missing Values Count: 202198 (3.10%)\n",
      "Number of Unique Values: 3\n",
      "Total Number of Rows: 6525979\n",
      "Column Name:  credtype_587L\n",
      "Column Description:  Credit type of previous application.\n",
      "---------------------------------------------------------------------------------------------------- \n",
      "\n",
      "\n"
     ]
    },
    {
     "name": "stderr",
     "output_type": "stream",
     "text": [
      "                                                                                \r"
     ]
    },
    {
     "name": "stdout",
     "output_type": "stream",
     "text": [
      "Column Name: district_544M\n",
      "Minimum Value: P0_111_121\n",
      "Maximum Value: a55475b1\n",
      "Missing Values Count: 0 (0.00%)\n",
      "Number of Unique Values: 1063\n",
      "Total Number of Rows: 6525979\n",
      "Column Name:  district_544M\n",
      "Column Description:  District of the address used in the previous loan application.\n",
      "---------------------------------------------------------------------------------------------------- \n",
      "\n",
      "\n"
     ]
    },
    {
     "name": "stderr",
     "output_type": "stream",
     "text": [
      "                                                                                \r"
     ]
    },
    {
     "name": "stdout",
     "output_type": "stream",
     "text": [
      "Column Name: downpmt_134A\n",
      "Minimum Value: 0.0\n",
      "Maximum Value: 420400.0\n",
      "Missing Values Count: 202198 (3.10%)\n",
      "Number of Unique Values: 22975\n",
      "Total Number of Rows: 6525979\n",
      "Column Name:  downpmt_134A\n",
      "Column Description:  Previous application downpayment amount.\n",
      "---------------------------------------------------------------------------------------------------- \n",
      "\n",
      "\n",
      "Column Name: education_1138M\n",
      "Minimum Value: P106_81_188\n",
      "Maximum Value: a55475b1\n",
      "Missing Values Count: 0 (0.00%)\n",
      "Number of Unique Values: 6\n",
      "Total Number of Rows: 6525979\n",
      "Column Name:  education_1138M\n",
      "Column Description:  Applicant's education level from their previous application.\n",
      "---------------------------------------------------------------------------------------------------- \n",
      "\n",
      "\n"
     ]
    },
    {
     "name": "stderr",
     "output_type": "stream",
     "text": [
      "                                                                                \r"
     ]
    },
    {
     "name": "stdout",
     "output_type": "stream",
     "text": [
      "Column Name: firstnonzeroinstldate_307D\n",
      "Minimum Value: 2006-01-26\n",
      "Maximum Value: 2020-11-19\n",
      "Missing Values Count: 652482 (10.00%)\n",
      "Number of Unique Values: 5165\n",
      "Total Number of Rows: 6525979\n",
      "Column Name:  firstnonzeroinstldate_307D\n",
      "Column Description:  Date of first instalment in the previous application.\n",
      "---------------------------------------------------------------------------------------------------- \n",
      "\n",
      "\n",
      "Column Name: inittransactioncode_279L\n",
      "Minimum Value: CASH\n",
      "Maximum Value: POS\n",
      "Missing Values Count: 202198 (3.10%)\n",
      "Number of Unique Values: 3\n",
      "Total Number of Rows: 6525979\n",
      "Column Name:  inittransactioncode_279L\n",
      "Column Description:  Type of the initial transaction made in the previous application of the client.\n",
      "---------------------------------------------------------------------------------------------------- \n",
      "\n",
      "\n"
     ]
    },
    {
     "name": "stderr",
     "output_type": "stream",
     "text": [
      "                                                                                \r"
     ]
    },
    {
     "name": "stdout",
     "output_type": "stream",
     "text": [
      "Column Name: isbidproduct_390L\n",
      "Minimum Value: False\n",
      "Maximum Value: True\n",
      "Missing Values Count: 66 (0.00%)\n",
      "Number of Unique Values: 2\n",
      "Total Number of Rows: 6525979\n",
      "Column Name:  isbidproduct_390L\n",
      "Column Description:  Flag for determining if the product is a cross-sell in previous applications.\n",
      "---------------------------------------------------------------------------------------------------- \n",
      "\n",
      "\n"
     ]
    },
    {
     "name": "stderr",
     "output_type": "stream",
     "text": [
      "                                                                                \r"
     ]
    },
    {
     "name": "stdout",
     "output_type": "stream",
     "text": [
      "Column Name: mainoccupationinc_437A\n",
      "Minimum Value: 0.0\n",
      "Maximum Value: 199600.0\n",
      "Missing Values Count: 101983 (1.56%)\n",
      "Number of Unique Values: 28717\n",
      "Total Number of Rows: 6525979\n",
      "Column Name:  mainoccupationinc_437A\n",
      "Column Description:  Client's main income amount in their previous application.\n",
      "---------------------------------------------------------------------------------------------------- \n",
      "\n",
      "\n",
      "Column Name: num_group1\n",
      "Minimum Value: 0\n",
      "Maximum Value: 19\n",
      "Missing Values Count: 0 (0.00%)\n",
      "Number of Unique Values: 20\n",
      "Total Number of Rows: 6525979\n",
      "Column Name:  num_group1\n",
      "Description - Not Found\n",
      "---------------------------------------------------------------------------------------------------- \n",
      "\n",
      "\n",
      "Column Name: pmtnum_8L\n",
      "Minimum Value: 3.0\n",
      "Maximum Value: 63.0\n",
      "Missing Values Count: 551820 (8.46%)\n",
      "Number of Unique Values: 60\n",
      "Total Number of Rows: 6525979\n",
      "Column Name:  pmtnum_8L\n",
      "Column Description:  Number of payments made for the previous application.\n",
      "---------------------------------------------------------------------------------------------------- \n",
      "\n",
      "\n",
      "Column Name: postype_4733339M\n",
      "Minimum Value: P140_48_169\n",
      "Maximum Value: a55475b1\n",
      "Missing Values Count: 0 (0.00%)\n",
      "Number of Unique Values: 9\n",
      "Total Number of Rows: 6525979\n",
      "Column Name:  postype_4733339M\n",
      "Column Description:  Type of point of sale.\n",
      "---------------------------------------------------------------------------------------------------- \n",
      "\n",
      "\n"
     ]
    },
    {
     "name": "stderr",
     "output_type": "stream",
     "text": [
      "                                                                                \r"
     ]
    },
    {
     "name": "stdout",
     "output_type": "stream",
     "text": [
      "Column Name: profession_152M\n",
      "Minimum Value: P0_102_76\n",
      "Maximum Value: a55475b1\n",
      "Missing Values Count: 0 (0.00%)\n",
      "Number of Unique Values: 11508\n",
      "Total Number of Rows: 6525979\n",
      "Column Name:  profession_152M\n",
      "Column Description:  Profession of the client during their previous loan application.\n",
      "---------------------------------------------------------------------------------------------------- \n",
      "\n",
      "\n",
      "Column Name: rejectreason_755M\n",
      "Minimum Value: P121_60_164\n",
      "Maximum Value: a55475b1\n",
      "Missing Values Count: 0 (0.00%)\n",
      "Number of Unique Values: 18\n",
      "Total Number of Rows: 6525979\n",
      "Column Name:  rejectreason_755M\n",
      "Column Description:  Reason for previous application rejection.\n",
      "---------------------------------------------------------------------------------------------------- \n",
      "\n",
      "\n",
      "Column Name: rejectreasonclient_4145042M\n",
      "Minimum Value: P129_162_80\n",
      "Maximum Value: a55475b1\n",
      "Missing Values Count: 0 (0.00%)\n",
      "Number of Unique Values: 14\n",
      "Total Number of Rows: 6525979\n",
      "Column Name:  rejectreasonclient_4145042M\n",
      "Column Description:  Reason for rejection of the client's previous application.\n",
      "---------------------------------------------------------------------------------------------------- \n",
      "\n",
      "\n",
      "Column Name: status_219L\n",
      "Minimum Value: A\n",
      "Maximum Value: T\n",
      "Missing Values Count: 66 (0.00%)\n",
      "Number of Unique Values: 11\n",
      "Total Number of Rows: 6525979\n",
      "Column Name:  status_219L\n",
      "Column Description:  Previous application status.\n",
      "---------------------------------------------------------------------------------------------------- \n",
      "\n",
      "\n",
      "Column Name: tenor_203L\n",
      "Minimum Value: 3.0\n",
      "Maximum Value: 63.0\n",
      "Missing Values Count: 551820 (8.46%)\n",
      "Number of Unique Values: 60\n",
      "Total Number of Rows: 6525979\n",
      "Column Name:  tenor_203L\n",
      "Column Description:  Number of instalments in the previous application.\n",
      "---------------------------------------------------------------------------------------------------- \n",
      "\n",
      "\n"
     ]
    }
   ],
   "source": [
    "for column_name in df_applprev_depth1.columns:\n",
    "    column_stats(df_applprev_depth1, column_name)"
   ]
  },
  {
   "cell_type": "code",
   "execution_count": null,
   "metadata": {},
   "outputs": [],
   "source": []
  },
  {
   "cell_type": "code",
   "execution_count": null,
   "metadata": {},
   "outputs": [],
   "source": []
  },
  {
   "cell_type": "code",
   "execution_count": null,
   "metadata": {},
   "outputs": [],
   "source": []
  },
  {
   "cell_type": "code",
   "execution_count": null,
   "metadata": {},
   "outputs": [],
   "source": [
    "parquet_file_path = CURRENT_DIRECTORY_NOTEBOOK / Path(\n",
    "    \"raw_main_dataset/home-credit-credit-risk-model-stability/parquet_files/train/depth_2/train_applprev_2.parquet\"\n",
    ")\n",
    "\n",
    "spark = SparkSession.builder.appName(\"Parquet_File_Exploration_Static_0\").getOrCreate()\n",
    "\n",
    "df_applprev_2 = spark.read.parquet(str(parquet_file_path))\n",
    "df_applprev_2.show()"
   ]
  },
  {
   "cell_type": "code",
   "execution_count": null,
   "metadata": {},
   "outputs": [],
   "source": []
  }
 ],
 "metadata": {
  "kernelspec": {
   "display_name": "credit_risk_project",
   "language": "python",
   "name": "python3"
  },
  "language_info": {
   "codemirror_mode": {
    "name": "ipython",
    "version": 3
   },
   "file_extension": ".py",
   "mimetype": "text/x-python",
   "name": "python",
   "nbconvert_exporter": "python",
   "pygments_lexer": "ipython3",
   "version": "3.11.9"
  }
 },
 "nbformat": 4,
 "nbformat_minor": 2
}
