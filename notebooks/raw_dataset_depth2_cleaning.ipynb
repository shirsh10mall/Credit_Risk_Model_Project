{
 "cells": [
  {
   "cell_type": "code",
   "execution_count": 1,
   "metadata": {},
   "outputs": [
    {
     "name": "stdout",
     "output_type": "stream",
     "text": [
      "Current directory for notebook:  /Users/shirshmall/Personal_Drive/Credit_Risk_Model_Project\n"
     ]
    }
   ],
   "source": [
    "from dotenv import load_dotenv\n",
    "import os\n",
    "from pathlib import Path\n",
    "\n",
    "CURRENT_DIRECTORY_NOTEBOOK = None\n",
    "\n",
    "\n",
    "def intitate_notebook():\n",
    "    load_dotenv()\n",
    "    global CURRENT_DIRECTORY_NOTEBOOK\n",
    "    if CURRENT_DIRECTORY_NOTEBOOK is None:\n",
    "        os.chdir(os.getenv(\"PROJECT_BASE_PATH\"))\n",
    "        CURRENT_DIRECTORY_NOTEBOOK = Path(os.getcwd())\n",
    "        print(\"Current directory for notebook: \", CURRENT_DIRECTORY_NOTEBOOK)\n",
    "    else:\n",
    "        print(\n",
    "            \"Current directory for notebook is already set: \",\n",
    "            CURRENT_DIRECTORY_NOTEBOOK,\n",
    "        )\n",
    "\n",
    "intitate_notebook()\n",
    "\n",
    "from src.utils.common import clear_gc\n",
    "clear_gc()\n",
    "\n",
    "TRAIN_PARQUET_FOLDER_PATH = (\n",
    "    \"raw_main_dataset/home-credit-credit-risk-model-stability/parquet_files/train\"\n",
    ")\n",
    "\n",
    "CLEANED_DATASET_DIRECTORY_PATH = Path(\"datasets/cleaned_data\")"
   ]
  },
  {
   "cell_type": "code",
   "execution_count": 2,
   "metadata": {},
   "outputs": [],
   "source": [
    "from src.utils.common import import_parquet_file, import_and_concatenate_parquet_files\n",
    "from src.data_cleaning import get_columns_high_missing_values, get_max_per_group\n",
    "from pyspark.sql.functions import countDistinct"
   ]
  },
  {
   "cell_type": "markdown",
   "metadata": {},
   "source": [
    "### Data Info\n",
    "- Data Name: Previous Applications (applprev_2)\n",
    "- Depth: 2\n",
    "- Source: Internal data source\n",
    "- Relevant for Training: No - None of the columns contains any relevant information."
   ]
  },
  {
   "cell_type": "code",
   "execution_count": 4,
   "metadata": {},
   "outputs": [
    {
     "name": "stderr",
     "output_type": "stream",
     "text": [
      "\u001b[32m2024-07-25 06:58:38.008\u001b[0m | \u001b[1mINFO    \u001b[0m | \u001b[36msrc.utils.common\u001b[0m:\u001b[36mimport_parquet_file\u001b[0m:\u001b[36m37\u001b[0m - \u001b[1mStarting Spark session with app name: Previous_Application__Data_Cleaning_Train\u001b[0m\n",
      "\u001b[32m2024-07-25 06:58:38.128\u001b[0m | \u001b[1mINFO    \u001b[0m | \u001b[36msrc.utils.common\u001b[0m:\u001b[36mimport_parquet_file\u001b[0m:\u001b[36m55\u001b[0m - \u001b[1mReading Parquet file from path: /Users/shirshmall/Personal_Drive/Credit_Risk_Model_Project/raw_main_dataset/home-credit-credit-risk-model-stability/parquet_files/train/depth_2/train_applprev_2.parquet\u001b[0m\n",
      "\u001b[32m2024-07-25 06:58:39.781\u001b[0m | \u001b[1mINFO    \u001b[0m | \u001b[36msrc.utils.common\u001b[0m:\u001b[36mimport_parquet_file\u001b[0m:\u001b[36m57\u001b[0m - \u001b[1mParquet file loaded successfully\u001b[0m\n"
     ]
    },
    {
     "name": "stderr",
     "output_type": "stream",
     "text": [
      "24/07/25 06:58:50 WARN GarbageCollectionMetrics: To enable non-built-in garbage collector(s) List(G1 Concurrent GC), users should configure it(them) to spark.eventLog.gcMetrics.youngGenerationGarbageCollectors or spark.eventLog.gcMetrics.oldGenerationGarbageCollectors\n"
     ]
    }
   ],
   "source": [
    "applprev2_df, spark = import_parquet_file(\n",
    "    file_path=(\n",
    "        CURRENT_DIRECTORY_NOTEBOOK\n",
    "        / TRAIN_PARQUET_FOLDER_PATH\n",
    "        / Path(\"depth_2/train_applprev_2.parquet\")\n",
    "    ),\n",
    "    app_name=\"Previous_Application_2_Data_Cleaning_Train\",\n",
    ")"
   ]
  },
  {
   "cell_type": "code",
   "execution_count": 6,
   "metadata": {},
   "outputs": [
    {
     "name": "stdout",
     "output_type": "stream",
     "text": [
      "+-------+----------------------+----------------+------------------------+----------+----------+\n",
      "|case_id|cacccardblochreas_147M| conts_type_509L|credacc_cards_status_52L|num_group1|num_group2|\n",
      "+-------+----------------------+----------------+------------------------+----------+----------+\n",
      "|      2|                  NULL|  PRIMARY_MOBILE|                    NULL|         0|         0|\n",
      "|      2|                  NULL|EMPLOYMENT_PHONE|                    NULL|         0|         1|\n",
      "|      2|                  NULL|  PRIMARY_MOBILE|                    NULL|         1|         0|\n",
      "|      2|                  NULL|EMPLOYMENT_PHONE|                    NULL|         1|         1|\n",
      "|      3|                  NULL|           PHONE|                    NULL|         0|         0|\n",
      "|      3|                  NULL|  PRIMARY_MOBILE|                    NULL|         0|         1|\n",
      "|      3|                  NULL|   PRIMARY_EMAIL|                    NULL|         0|         2|\n",
      "|      4|                  NULL|  PRIMARY_MOBILE|                    NULL|         0|         0|\n",
      "|      4|                  NULL|      HOME_PHONE|                    NULL|         0|         1|\n",
      "|      5|                  NULL|  PRIMARY_MOBILE|                    NULL|         0|         0|\n",
      "+-------+----------------------+----------------+------------------------+----------+----------+\n",
      "only showing top 10 rows\n",
      "\n"
     ]
    }
   ],
   "source": [
    "applprev2_df.show(10)"
   ]
  },
  {
   "cell_type": "code",
   "execution_count": 7,
   "metadata": {},
   "outputs": [
    {
     "name": "stderr",
     "output_type": "stream",
     "text": [
      "100%|██████████| 6/6 [00:01<00:00,  3.87it/s]\n"
     ]
    },
    {
     "data": {
      "application/vnd.plotly.v1+json": {
       "config": {
        "plotlyServerURL": "https://plot.ly"
       },
       "data": [
        {
         "type": "bar",
         "x": [
          "credacc_cards_status_52L",
          "conts_type_509L",
          "cacccardblochreas_147M",
          "case_id",
          "num_group1",
          "num_group2"
         ],
         "y": [
          97.5696542506842,
          17.008690356504182,
          0.7761649739010806,
          0,
          0,
          0
         ]
        }
       ],
       "layout": {
        "bargap": 0.2,
        "height": 600,
        "template": {
         "data": {
          "bar": [
           {
            "error_x": {
             "color": "#2a3f5f"
            },
            "error_y": {
             "color": "#2a3f5f"
            },
            "marker": {
             "line": {
              "color": "#E5ECF6",
              "width": 0.5
             },
             "pattern": {
              "fillmode": "overlay",
              "size": 10,
              "solidity": 0.2
             }
            },
            "type": "bar"
           }
          ],
          "barpolar": [
           {
            "marker": {
             "line": {
              "color": "#E5ECF6",
              "width": 0.5
             },
             "pattern": {
              "fillmode": "overlay",
              "size": 10,
              "solidity": 0.2
             }
            },
            "type": "barpolar"
           }
          ],
          "carpet": [
           {
            "aaxis": {
             "endlinecolor": "#2a3f5f",
             "gridcolor": "white",
             "linecolor": "white",
             "minorgridcolor": "white",
             "startlinecolor": "#2a3f5f"
            },
            "baxis": {
             "endlinecolor": "#2a3f5f",
             "gridcolor": "white",
             "linecolor": "white",
             "minorgridcolor": "white",
             "startlinecolor": "#2a3f5f"
            },
            "type": "carpet"
           }
          ],
          "choropleth": [
           {
            "colorbar": {
             "outlinewidth": 0,
             "ticks": ""
            },
            "type": "choropleth"
           }
          ],
          "contour": [
           {
            "colorbar": {
             "outlinewidth": 0,
             "ticks": ""
            },
            "colorscale": [
             [
              0,
              "#0d0887"
             ],
             [
              0.1111111111111111,
              "#46039f"
             ],
             [
              0.2222222222222222,
              "#7201a8"
             ],
             [
              0.3333333333333333,
              "#9c179e"
             ],
             [
              0.4444444444444444,
              "#bd3786"
             ],
             [
              0.5555555555555556,
              "#d8576b"
             ],
             [
              0.6666666666666666,
              "#ed7953"
             ],
             [
              0.7777777777777778,
              "#fb9f3a"
             ],
             [
              0.8888888888888888,
              "#fdca26"
             ],
             [
              1,
              "#f0f921"
             ]
            ],
            "type": "contour"
           }
          ],
          "contourcarpet": [
           {
            "colorbar": {
             "outlinewidth": 0,
             "ticks": ""
            },
            "type": "contourcarpet"
           }
          ],
          "heatmap": [
           {
            "colorbar": {
             "outlinewidth": 0,
             "ticks": ""
            },
            "colorscale": [
             [
              0,
              "#0d0887"
             ],
             [
              0.1111111111111111,
              "#46039f"
             ],
             [
              0.2222222222222222,
              "#7201a8"
             ],
             [
              0.3333333333333333,
              "#9c179e"
             ],
             [
              0.4444444444444444,
              "#bd3786"
             ],
             [
              0.5555555555555556,
              "#d8576b"
             ],
             [
              0.6666666666666666,
              "#ed7953"
             ],
             [
              0.7777777777777778,
              "#fb9f3a"
             ],
             [
              0.8888888888888888,
              "#fdca26"
             ],
             [
              1,
              "#f0f921"
             ]
            ],
            "type": "heatmap"
           }
          ],
          "heatmapgl": [
           {
            "colorbar": {
             "outlinewidth": 0,
             "ticks": ""
            },
            "colorscale": [
             [
              0,
              "#0d0887"
             ],
             [
              0.1111111111111111,
              "#46039f"
             ],
             [
              0.2222222222222222,
              "#7201a8"
             ],
             [
              0.3333333333333333,
              "#9c179e"
             ],
             [
              0.4444444444444444,
              "#bd3786"
             ],
             [
              0.5555555555555556,
              "#d8576b"
             ],
             [
              0.6666666666666666,
              "#ed7953"
             ],
             [
              0.7777777777777778,
              "#fb9f3a"
             ],
             [
              0.8888888888888888,
              "#fdca26"
             ],
             [
              1,
              "#f0f921"
             ]
            ],
            "type": "heatmapgl"
           }
          ],
          "histogram": [
           {
            "marker": {
             "pattern": {
              "fillmode": "overlay",
              "size": 10,
              "solidity": 0.2
             }
            },
            "type": "histogram"
           }
          ],
          "histogram2d": [
           {
            "colorbar": {
             "outlinewidth": 0,
             "ticks": ""
            },
            "colorscale": [
             [
              0,
              "#0d0887"
             ],
             [
              0.1111111111111111,
              "#46039f"
             ],
             [
              0.2222222222222222,
              "#7201a8"
             ],
             [
              0.3333333333333333,
              "#9c179e"
             ],
             [
              0.4444444444444444,
              "#bd3786"
             ],
             [
              0.5555555555555556,
              "#d8576b"
             ],
             [
              0.6666666666666666,
              "#ed7953"
             ],
             [
              0.7777777777777778,
              "#fb9f3a"
             ],
             [
              0.8888888888888888,
              "#fdca26"
             ],
             [
              1,
              "#f0f921"
             ]
            ],
            "type": "histogram2d"
           }
          ],
          "histogram2dcontour": [
           {
            "colorbar": {
             "outlinewidth": 0,
             "ticks": ""
            },
            "colorscale": [
             [
              0,
              "#0d0887"
             ],
             [
              0.1111111111111111,
              "#46039f"
             ],
             [
              0.2222222222222222,
              "#7201a8"
             ],
             [
              0.3333333333333333,
              "#9c179e"
             ],
             [
              0.4444444444444444,
              "#bd3786"
             ],
             [
              0.5555555555555556,
              "#d8576b"
             ],
             [
              0.6666666666666666,
              "#ed7953"
             ],
             [
              0.7777777777777778,
              "#fb9f3a"
             ],
             [
              0.8888888888888888,
              "#fdca26"
             ],
             [
              1,
              "#f0f921"
             ]
            ],
            "type": "histogram2dcontour"
           }
          ],
          "mesh3d": [
           {
            "colorbar": {
             "outlinewidth": 0,
             "ticks": ""
            },
            "type": "mesh3d"
           }
          ],
          "parcoords": [
           {
            "line": {
             "colorbar": {
              "outlinewidth": 0,
              "ticks": ""
             }
            },
            "type": "parcoords"
           }
          ],
          "pie": [
           {
            "automargin": true,
            "type": "pie"
           }
          ],
          "scatter": [
           {
            "fillpattern": {
             "fillmode": "overlay",
             "size": 10,
             "solidity": 0.2
            },
            "type": "scatter"
           }
          ],
          "scatter3d": [
           {
            "line": {
             "colorbar": {
              "outlinewidth": 0,
              "ticks": ""
             }
            },
            "marker": {
             "colorbar": {
              "outlinewidth": 0,
              "ticks": ""
             }
            },
            "type": "scatter3d"
           }
          ],
          "scattercarpet": [
           {
            "marker": {
             "colorbar": {
              "outlinewidth": 0,
              "ticks": ""
             }
            },
            "type": "scattercarpet"
           }
          ],
          "scattergeo": [
           {
            "marker": {
             "colorbar": {
              "outlinewidth": 0,
              "ticks": ""
             }
            },
            "type": "scattergeo"
           }
          ],
          "scattergl": [
           {
            "marker": {
             "colorbar": {
              "outlinewidth": 0,
              "ticks": ""
             }
            },
            "type": "scattergl"
           }
          ],
          "scattermapbox": [
           {
            "marker": {
             "colorbar": {
              "outlinewidth": 0,
              "ticks": ""
             }
            },
            "type": "scattermapbox"
           }
          ],
          "scatterpolar": [
           {
            "marker": {
             "colorbar": {
              "outlinewidth": 0,
              "ticks": ""
             }
            },
            "type": "scatterpolar"
           }
          ],
          "scatterpolargl": [
           {
            "marker": {
             "colorbar": {
              "outlinewidth": 0,
              "ticks": ""
             }
            },
            "type": "scatterpolargl"
           }
          ],
          "scatterternary": [
           {
            "marker": {
             "colorbar": {
              "outlinewidth": 0,
              "ticks": ""
             }
            },
            "type": "scatterternary"
           }
          ],
          "surface": [
           {
            "colorbar": {
             "outlinewidth": 0,
             "ticks": ""
            },
            "colorscale": [
             [
              0,
              "#0d0887"
             ],
             [
              0.1111111111111111,
              "#46039f"
             ],
             [
              0.2222222222222222,
              "#7201a8"
             ],
             [
              0.3333333333333333,
              "#9c179e"
             ],
             [
              0.4444444444444444,
              "#bd3786"
             ],
             [
              0.5555555555555556,
              "#d8576b"
             ],
             [
              0.6666666666666666,
              "#ed7953"
             ],
             [
              0.7777777777777778,
              "#fb9f3a"
             ],
             [
              0.8888888888888888,
              "#fdca26"
             ],
             [
              1,
              "#f0f921"
             ]
            ],
            "type": "surface"
           }
          ],
          "table": [
           {
            "cells": {
             "fill": {
              "color": "#EBF0F8"
             },
             "line": {
              "color": "white"
             }
            },
            "header": {
             "fill": {
              "color": "#C8D4E3"
             },
             "line": {
              "color": "white"
             }
            },
            "type": "table"
           }
          ]
         },
         "layout": {
          "annotationdefaults": {
           "arrowcolor": "#2a3f5f",
           "arrowhead": 0,
           "arrowwidth": 1
          },
          "autotypenumbers": "strict",
          "coloraxis": {
           "colorbar": {
            "outlinewidth": 0,
            "ticks": ""
           }
          },
          "colorscale": {
           "diverging": [
            [
             0,
             "#8e0152"
            ],
            [
             0.1,
             "#c51b7d"
            ],
            [
             0.2,
             "#de77ae"
            ],
            [
             0.3,
             "#f1b6da"
            ],
            [
             0.4,
             "#fde0ef"
            ],
            [
             0.5,
             "#f7f7f7"
            ],
            [
             0.6,
             "#e6f5d0"
            ],
            [
             0.7,
             "#b8e186"
            ],
            [
             0.8,
             "#7fbc41"
            ],
            [
             0.9,
             "#4d9221"
            ],
            [
             1,
             "#276419"
            ]
           ],
           "sequential": [
            [
             0,
             "#0d0887"
            ],
            [
             0.1111111111111111,
             "#46039f"
            ],
            [
             0.2222222222222222,
             "#7201a8"
            ],
            [
             0.3333333333333333,
             "#9c179e"
            ],
            [
             0.4444444444444444,
             "#bd3786"
            ],
            [
             0.5555555555555556,
             "#d8576b"
            ],
            [
             0.6666666666666666,
             "#ed7953"
            ],
            [
             0.7777777777777778,
             "#fb9f3a"
            ],
            [
             0.8888888888888888,
             "#fdca26"
            ],
            [
             1,
             "#f0f921"
            ]
           ],
           "sequentialminus": [
            [
             0,
             "#0d0887"
            ],
            [
             0.1111111111111111,
             "#46039f"
            ],
            [
             0.2222222222222222,
             "#7201a8"
            ],
            [
             0.3333333333333333,
             "#9c179e"
            ],
            [
             0.4444444444444444,
             "#bd3786"
            ],
            [
             0.5555555555555556,
             "#d8576b"
            ],
            [
             0.6666666666666666,
             "#ed7953"
            ],
            [
             0.7777777777777778,
             "#fb9f3a"
            ],
            [
             0.8888888888888888,
             "#fdca26"
            ],
            [
             1,
             "#f0f921"
            ]
           ]
          },
          "colorway": [
           "#636efa",
           "#EF553B",
           "#00cc96",
           "#ab63fa",
           "#FFA15A",
           "#19d3f3",
           "#FF6692",
           "#B6E880",
           "#FF97FF",
           "#FECB52"
          ],
          "font": {
           "color": "#2a3f5f"
          },
          "geo": {
           "bgcolor": "white",
           "lakecolor": "white",
           "landcolor": "#E5ECF6",
           "showlakes": true,
           "showland": true,
           "subunitcolor": "white"
          },
          "hoverlabel": {
           "align": "left"
          },
          "hovermode": "closest",
          "mapbox": {
           "style": "light"
          },
          "paper_bgcolor": "white",
          "plot_bgcolor": "#E5ECF6",
          "polar": {
           "angularaxis": {
            "gridcolor": "white",
            "linecolor": "white",
            "ticks": ""
           },
           "bgcolor": "#E5ECF6",
           "radialaxis": {
            "gridcolor": "white",
            "linecolor": "white",
            "ticks": ""
           }
          },
          "scene": {
           "xaxis": {
            "backgroundcolor": "#E5ECF6",
            "gridcolor": "white",
            "gridwidth": 2,
            "linecolor": "white",
            "showbackground": true,
            "ticks": "",
            "zerolinecolor": "white"
           },
           "yaxis": {
            "backgroundcolor": "#E5ECF6",
            "gridcolor": "white",
            "gridwidth": 2,
            "linecolor": "white",
            "showbackground": true,
            "ticks": "",
            "zerolinecolor": "white"
           },
           "zaxis": {
            "backgroundcolor": "#E5ECF6",
            "gridcolor": "white",
            "gridwidth": 2,
            "linecolor": "white",
            "showbackground": true,
            "ticks": "",
            "zerolinecolor": "white"
           }
          },
          "shapedefaults": {
           "line": {
            "color": "#2a3f5f"
           }
          },
          "ternary": {
           "aaxis": {
            "gridcolor": "white",
            "linecolor": "white",
            "ticks": ""
           },
           "baxis": {
            "gridcolor": "white",
            "linecolor": "white",
            "ticks": ""
           },
           "bgcolor": "#E5ECF6",
           "caxis": {
            "gridcolor": "white",
            "linecolor": "white",
            "ticks": ""
           }
          },
          "title": {
           "x": 0.05
          },
          "xaxis": {
           "automargin": true,
           "gridcolor": "white",
           "linecolor": "white",
           "ticks": "",
           "title": {
            "standoff": 15
           },
           "zerolinecolor": "white",
           "zerolinewidth": 2
          },
          "yaxis": {
           "automargin": true,
           "gridcolor": "white",
           "linecolor": "white",
           "ticks": "",
           "title": {
            "standoff": 15
           },
           "zerolinecolor": "white",
           "zerolinewidth": 2
          }
         }
        },
        "title": {
         "text": "Percentage of Missing Values by Column"
        },
        "width": 1800,
        "xaxis": {
         "tickmode": "linear",
         "title": {
          "text": "Columns"
         }
        },
        "yaxis": {
         "title": {
          "text": "Percentage of Missing Values"
         }
        }
       }
      }
     },
     "metadata": {},
     "output_type": "display_data"
    }
   ],
   "source": [
    "missing_values_dict = get_columns_high_missing_values(df=applprev2_df, threshold=None,)"
   ]
  },
  {
   "cell_type": "markdown",
   "metadata": {},
   "source": [
    "### Data Info\n",
    "- Data Name: Person (preson_2)\n",
    "- Depth: 2\n",
    "- Source: Internal data source\n",
    "- Relevant for Training: No - All the columns are categorical - Taking GroupBy with Max is not relevant."
   ]
  },
  {
   "cell_type": "code",
   "execution_count": 13,
   "metadata": {},
   "outputs": [
    {
     "name": "stderr",
     "output_type": "stream",
     "text": [
      "\u001b[32m2024-07-25 07:05:03.395\u001b[0m | \u001b[1mINFO    \u001b[0m | \u001b[36msrc.utils.common\u001b[0m:\u001b[36mimport_parquet_file\u001b[0m:\u001b[36m37\u001b[0m - \u001b[1mStarting Spark session with app name: Person_2_Data_Cleaning_Train\u001b[0m\n",
      "\u001b[32m2024-07-25 07:05:03.833\u001b[0m | \u001b[1mINFO    \u001b[0m | \u001b[36msrc.utils.common\u001b[0m:\u001b[36mimport_parquet_file\u001b[0m:\u001b[36m55\u001b[0m - \u001b[1mReading Parquet file from path: /Users/shirshmall/Personal_Drive/Credit_Risk_Model_Project/raw_main_dataset/home-credit-credit-risk-model-stability/parquet_files/train/depth_2/train_person_2.parquet\u001b[0m\n",
      "\u001b[32m2024-07-25 07:05:03.948\u001b[0m | \u001b[1mINFO    \u001b[0m | \u001b[36msrc.utils.common\u001b[0m:\u001b[36mimport_parquet_file\u001b[0m:\u001b[36m57\u001b[0m - \u001b[1mParquet file loaded successfully\u001b[0m\n"
     ]
    }
   ],
   "source": [
    "person2_df, spark = import_parquet_file(\n",
    "    file_path=(\n",
    "        CURRENT_DIRECTORY_NOTEBOOK\n",
    "        / TRAIN_PARQUET_FOLDER_PATH\n",
    "        / Path(\"depth_2/train_person_2.parquet\")\n",
    "    ),\n",
    "    app_name=\"Person_2_Data_Cleaning_Train\",\n",
    ")"
   ]
  },
  {
   "cell_type": "code",
   "execution_count": 15,
   "metadata": {},
   "outputs": [
    {
     "name": "stdout",
     "output_type": "stream",
     "text": [
      "+-------+--------------------+----------------+---------------+--------------+-----------------------+-----------------------+------------------------+----------+----------+------------------------+\n",
      "|case_id|addres_district_368M|addres_role_871L|addres_zip_823M|conts_role_79M|empls_economicalst_849M|empls_employedfrom_796D|empls_employer_name_740M|num_group1|num_group2|relatedpersons_role_762T|\n",
      "+-------+--------------------+----------------+---------------+--------------+-----------------------+-----------------------+------------------------+----------+----------+------------------------+\n",
      "|      5|            a55475b1|            NULL|       a55475b1|      a55475b1|               a55475b1|                   NULL|                a55475b1|         0|         0|                    NULL|\n",
      "|      6|          P55_110_32|         CONTACT|      P10_68_40|    P38_92_157|            P164_110_33|                   NULL|                a55475b1|         0|         0|                    NULL|\n",
      "|      6|          P55_110_32|       PERMANENT|      P10_68_40|      a55475b1|               a55475b1|                   NULL|                a55475b1|         0|         1|                    NULL|\n",
      "|      6|         P204_92_178|         CONTACT|    P65_136_169|    P38_92_157|            P164_110_33|                   NULL|                a55475b1|         1|         0|          OTHER_RELATIVE|\n",
      "|      6|         P191_109_75|         CONTACT|      P10_68_40|    P7_147_157|               a55475b1|                   NULL|                a55475b1|         1|         1|          OTHER_RELATIVE|\n",
      "|      6|         P204_92_178|         CONTACT|    P164_28_170|    P38_92_157|               a55475b1|                   NULL|                a55475b1|         1|         2|                    NULL|\n",
      "|      6|          P55_110_32|       PERMANENT|      P10_68_40|    P38_92_157|               a55475b1|                   NULL|                a55475b1|         1|         3|                    NULL|\n",
      "|      6|         P204_92_178|       PERMANENT|    P65_136_169|      a55475b1|               a55475b1|                   NULL|                a55475b1|         1|         4|                    NULL|\n",
      "|      6|         P204_92_178|       PERMANENT|    P164_28_170|      a55475b1|               a55475b1|                   NULL|                a55475b1|         1|         5|                    NULL|\n",
      "|      7|            a55475b1|            NULL|       a55475b1|      a55475b1|               a55475b1|                   NULL|                a55475b1|         0|         0|                    NULL|\n",
      "|      8|            a55475b1|            NULL|       a55475b1|      a55475b1|               a55475b1|                   NULL|                a55475b1|         0|         0|                    NULL|\n",
      "|      9|            a55475b1|            NULL|       a55475b1|      a55475b1|               a55475b1|                   NULL|                a55475b1|         0|         0|                    NULL|\n",
      "|     10|            a55475b1|            NULL|       a55475b1|      a55475b1|               a55475b1|                   NULL|                a55475b1|         0|         0|                    NULL|\n",
      "|     11|            a55475b1|            NULL|       a55475b1|      a55475b1|               a55475b1|                   NULL|                a55475b1|         0|         0|                    NULL|\n",
      "|     12|            a55475b1|            NULL|       a55475b1|      a55475b1|               a55475b1|                   NULL|                a55475b1|         0|         0|                    NULL|\n",
      "|     13|            a55475b1|            NULL|       a55475b1|      a55475b1|               a55475b1|                   NULL|                a55475b1|         0|         0|                    NULL|\n",
      "|     14|            a55475b1|            NULL|       a55475b1|      a55475b1|               a55475b1|                   NULL|                a55475b1|         0|         0|                    NULL|\n",
      "|     15|            a55475b1|            NULL|       a55475b1|      a55475b1|               a55475b1|                   NULL|                a55475b1|         0|         0|                    NULL|\n",
      "|     16|            a55475b1|            NULL|       a55475b1|      a55475b1|               a55475b1|                   NULL|                a55475b1|         0|         0|                    NULL|\n",
      "|     17|            a55475b1|            NULL|       a55475b1|      a55475b1|               a55475b1|                   NULL|                a55475b1|         0|         0|                    NULL|\n",
      "+-------+--------------------+----------------+---------------+--------------+-----------------------+-----------------------+------------------------+----------+----------+------------------------+\n",
      "only showing top 20 rows\n",
      "\n"
     ]
    }
   ],
   "source": [
    "person2_df.show()"
   ]
  },
  {
   "cell_type": "code",
   "execution_count": 17,
   "metadata": {},
   "outputs": [
    {
     "name": "stderr",
     "output_type": "stream",
     "text": [
      "\u001b[32m2024-07-25 07:09:49.383\u001b[0m | \u001b[1mINFO    \u001b[0m | \u001b[36msrc.utils.common\u001b[0m:\u001b[36mimport_and_concatenate_parquet_files\u001b[0m:\u001b[36m70\u001b[0m - \u001b[1mInitializing SparkSession\u001b[0m\n",
      "\u001b[32m2024-07-25 07:09:49.391\u001b[0m | \u001b[1mINFO    \u001b[0m | \u001b[36msrc.utils.common\u001b[0m:\u001b[36mimport_and_concatenate_parquet_files\u001b[0m:\u001b[36m83\u001b[0m - \u001b[1mReading file train_credit_bureau_a_2_0.parquet with app name Credit_Bureau_A_2_Train_Dataset_Cleaning\u001b[0m\n",
      "\u001b[32m2024-07-25 07:09:50.012\u001b[0m | \u001b[1mINFO    \u001b[0m | \u001b[36msrc.utils.common\u001b[0m:\u001b[36mimport_and_concatenate_parquet_files\u001b[0m:\u001b[36m85\u001b[0m - \u001b[1mFile Loaded - Rows Count: 5296031\u001b[0m\n",
      "\u001b[32m2024-07-25 07:09:50.016\u001b[0m | \u001b[1mINFO    \u001b[0m | \u001b[36msrc.utils.common\u001b[0m:\u001b[36mimport_and_concatenate_parquet_files\u001b[0m:\u001b[36m83\u001b[0m - \u001b[1mReading file train_credit_bureau_a_2_1.parquet with app name Credit_Bureau_A_2_Train_Dataset_Cleaning\u001b[0m\n",
      "\u001b[32m2024-07-25 07:09:50.258\u001b[0m | \u001b[1mINFO    \u001b[0m | \u001b[36msrc.utils.common\u001b[0m:\u001b[36mimport_and_concatenate_parquet_files\u001b[0m:\u001b[36m85\u001b[0m - \u001b[1mFile Loaded - Rows Count: 7861809\u001b[0m\n",
      "\u001b[32m2024-07-25 07:09:50.260\u001b[0m | \u001b[1mINFO    \u001b[0m | \u001b[36msrc.utils.common\u001b[0m:\u001b[36mimport_and_concatenate_parquet_files\u001b[0m:\u001b[36m83\u001b[0m - \u001b[1mReading file train_credit_bureau_a_2_2.parquet with app name Credit_Bureau_A_2_Train_Dataset_Cleaning\u001b[0m\n",
      "\u001b[32m2024-07-25 07:09:50.570\u001b[0m | \u001b[1mINFO    \u001b[0m | \u001b[36msrc.utils.common\u001b[0m:\u001b[36mimport_and_concatenate_parquet_files\u001b[0m:\u001b[36m85\u001b[0m - \u001b[1mFile Loaded - Rows Count: 17893536\u001b[0m\n",
      "\u001b[32m2024-07-25 07:09:50.574\u001b[0m | \u001b[1mINFO    \u001b[0m | \u001b[36msrc.utils.common\u001b[0m:\u001b[36mimport_and_concatenate_parquet_files\u001b[0m:\u001b[36m83\u001b[0m - \u001b[1mReading file train_credit_bureau_a_2_3.parquet with app name Credit_Bureau_A_2_Train_Dataset_Cleaning\u001b[0m\n",
      "\u001b[32m2024-07-25 07:09:50.839\u001b[0m | \u001b[1mINFO    \u001b[0m | \u001b[36msrc.utils.common\u001b[0m:\u001b[36mimport_and_concatenate_parquet_files\u001b[0m:\u001b[36m85\u001b[0m - \u001b[1mFile Loaded - Rows Count: 26563901\u001b[0m\n",
      "\u001b[32m2024-07-25 07:09:50.841\u001b[0m | \u001b[1mINFO    \u001b[0m | \u001b[36msrc.utils.common\u001b[0m:\u001b[36mimport_and_concatenate_parquet_files\u001b[0m:\u001b[36m83\u001b[0m - \u001b[1mReading file train_credit_bureau_a_2_4.parquet with app name Credit_Bureau_A_2_Train_Dataset_Cleaning\u001b[0m\n",
      "\u001b[32m2024-07-25 07:09:51.137\u001b[0m | \u001b[1mINFO    \u001b[0m | \u001b[36msrc.utils.common\u001b[0m:\u001b[36mimport_and_concatenate_parquet_files\u001b[0m:\u001b[36m85\u001b[0m - \u001b[1mFile Loaded - Rows Count: 27025737\u001b[0m\n",
      "\u001b[32m2024-07-25 07:09:51.140\u001b[0m | \u001b[1mINFO    \u001b[0m | \u001b[36msrc.utils.common\u001b[0m:\u001b[36mimport_and_concatenate_parquet_files\u001b[0m:\u001b[36m83\u001b[0m - \u001b[1mReading file train_credit_bureau_a_2_5.parquet with app name Credit_Bureau_A_2_Train_Dataset_Cleaning\u001b[0m\n",
      "\u001b[32m2024-07-25 07:09:51.349\u001b[0m | \u001b[1mINFO    \u001b[0m | \u001b[36msrc.utils.common\u001b[0m:\u001b[36mimport_and_concatenate_parquet_files\u001b[0m:\u001b[36m85\u001b[0m - \u001b[1mFile Loaded - Rows Count: 33053760\u001b[0m\n",
      "\u001b[32m2024-07-25 07:09:51.351\u001b[0m | \u001b[1mINFO    \u001b[0m | \u001b[36msrc.utils.common\u001b[0m:\u001b[36mimport_and_concatenate_parquet_files\u001b[0m:\u001b[36m83\u001b[0m - \u001b[1mReading file train_credit_bureau_a_2_6.parquet with app name Credit_Bureau_A_2_Train_Dataset_Cleaning\u001b[0m\n",
      "\u001b[32m2024-07-25 07:09:51.560\u001b[0m | \u001b[1mINFO    \u001b[0m | \u001b[36msrc.utils.common\u001b[0m:\u001b[36mimport_and_concatenate_parquet_files\u001b[0m:\u001b[36m85\u001b[0m - \u001b[1mFile Loaded - Rows Count: 25511332\u001b[0m\n",
      "\u001b[32m2024-07-25 07:09:51.566\u001b[0m | \u001b[1mINFO    \u001b[0m | \u001b[36msrc.utils.common\u001b[0m:\u001b[36mimport_and_concatenate_parquet_files\u001b[0m:\u001b[36m83\u001b[0m - \u001b[1mReading file train_credit_bureau_a_2_7.parquet with app name Credit_Bureau_A_2_Train_Dataset_Cleaning\u001b[0m\n",
      "\u001b[32m2024-07-25 07:09:51.740\u001b[0m | \u001b[1mINFO    \u001b[0m | \u001b[36msrc.utils.common\u001b[0m:\u001b[36mimport_and_concatenate_parquet_files\u001b[0m:\u001b[36m85\u001b[0m - \u001b[1mFile Loaded - Rows Count: 8055986\u001b[0m\n",
      "\u001b[32m2024-07-25 07:09:51.742\u001b[0m | \u001b[1mINFO    \u001b[0m | \u001b[36msrc.utils.common\u001b[0m:\u001b[36mimport_and_concatenate_parquet_files\u001b[0m:\u001b[36m83\u001b[0m - \u001b[1mReading file train_credit_bureau_a_2_8.parquet with app name Credit_Bureau_A_2_Train_Dataset_Cleaning\u001b[0m\n",
      "\u001b[32m2024-07-25 07:09:51.922\u001b[0m | \u001b[1mINFO    \u001b[0m | \u001b[36msrc.utils.common\u001b[0m:\u001b[36mimport_and_concatenate_parquet_files\u001b[0m:\u001b[36m85\u001b[0m - \u001b[1mFile Loaded - Rows Count: 13927071\u001b[0m\n",
      "\u001b[32m2024-07-25 07:09:51.924\u001b[0m | \u001b[1mINFO    \u001b[0m | \u001b[36msrc.utils.common\u001b[0m:\u001b[36mimport_and_concatenate_parquet_files\u001b[0m:\u001b[36m83\u001b[0m - \u001b[1mReading file train_credit_bureau_a_2_9.parquet with app name Credit_Bureau_A_2_Train_Dataset_Cleaning\u001b[0m\n",
      "\u001b[32m2024-07-25 07:09:52.101\u001b[0m | \u001b[1mINFO    \u001b[0m | \u001b[36msrc.utils.common\u001b[0m:\u001b[36mimport_and_concatenate_parquet_files\u001b[0m:\u001b[36m85\u001b[0m - \u001b[1mFile Loaded - Rows Count: 18723227\u001b[0m\n",
      "\u001b[32m2024-07-25 07:09:52.103\u001b[0m | \u001b[1mINFO    \u001b[0m | \u001b[36msrc.utils.common\u001b[0m:\u001b[36mimport_and_concatenate_parquet_files\u001b[0m:\u001b[36m83\u001b[0m - \u001b[1mReading file train_credit_bureau_a_2_10.parquet with app name Credit_Bureau_A_2_Train_Dataset_Cleaning\u001b[0m\n",
      "\u001b[32m2024-07-25 07:09:52.262\u001b[0m | \u001b[1mINFO    \u001b[0m | \u001b[36msrc.utils.common\u001b[0m:\u001b[36mimport_and_concatenate_parquet_files\u001b[0m:\u001b[36m85\u001b[0m - \u001b[1mFile Loaded - Rows Count: 4386062\u001b[0m\n",
      "\u001b[32m2024-07-25 07:09:52.265\u001b[0m | \u001b[1mINFO    \u001b[0m | \u001b[36msrc.utils.common\u001b[0m:\u001b[36mimport_and_concatenate_parquet_files\u001b[0m:\u001b[36m105\u001b[0m - \u001b[1mConcatenating DataFrames\u001b[0m\n",
      "\u001b[32m2024-07-25 07:09:52.427\u001b[0m | \u001b[1mINFO    \u001b[0m | \u001b[36msrc.utils.common\u001b[0m:\u001b[36mimport_and_concatenate_parquet_files\u001b[0m:\u001b[36m110\u001b[0m - \u001b[1mConcatenation complete\u001b[0m\n"
     ]
    },
    {
     "name": "stdout",
     "output_type": "stream",
     "text": [
      "+-------+-------------------------------+-------------------------------+-------------------------------+------------------------------+-------------------------------+-------------------------------+----------+----------+--------------+-------------+---------------+---------------+------------------+------------------+---------------+--------------+----------------------+----------------------+\n",
      "|case_id|collater_typofvalofguarant_298M|collater_typofvalofguarant_407M|collater_valueofguarantee_1124L|collater_valueofguarantee_876L|collaterals_typeofguarante_359M|collaterals_typeofguarante_669M|num_group1|num_group2|pmts_dpd_1073P|pmts_dpd_303P|pmts_month_158T|pmts_month_706T|pmts_overdue_1140A|pmts_overdue_1152A|pmts_year_1139T|pmts_year_507T|subjectroles_name_541M|subjectroles_name_838M|\n",
      "+-------+-------------------------------+-------------------------------+-------------------------------+------------------------------+-------------------------------+-------------------------------+----------+----------+--------------+-------------+---------------+---------------+------------------+------------------+---------------+--------------+----------------------+----------------------+\n",
      "|    388|                       8fd95e4b|                       a55475b1|                            0.0|                          NULL|                       a55475b1|                       c7a5ad39|         0|         0|          NULL|         NULL|            2.0|           NULL|              NULL|              NULL|         2018.0|          NULL|              a55475b1|              ab3c25cf|\n",
      "|    388|                       9a0c095e|                       a55475b1|                            0.0|                          NULL|                       a55475b1|                       c7a5ad39|         1|         0|          NULL|         NULL|            2.0|           NULL|              NULL|              NULL|         2018.0|          NULL|              a55475b1|              ab3c25cf|\n",
      "|    388|                       a55475b1|                       a55475b1|                           NULL|                          NULL|                       a55475b1|                       a55475b1|         0|         1|          NULL|         NULL|            3.0|           NULL|              NULL|              NULL|         2018.0|          NULL|              a55475b1|              a55475b1|\n",
      "|    388|                       a55475b1|                       a55475b1|                           NULL|                          NULL|                       a55475b1|                       a55475b1|         0|         2|          NULL|         NULL|            4.0|           NULL|              NULL|              NULL|         2018.0|          NULL|              a55475b1|              a55475b1|\n",
      "|    388|                       a55475b1|                       a55475b1|                           NULL|                          NULL|                       a55475b1|                       a55475b1|         0|         3|          NULL|         NULL|            5.0|           NULL|              NULL|              NULL|         2018.0|          NULL|              a55475b1|              a55475b1|\n",
      "+-------+-------------------------------+-------------------------------+-------------------------------+------------------------------+-------------------------------+-------------------------------+----------+----------+--------------+-------------+---------------+---------------+------------------+------------------+---------------+--------------+----------------------+----------------------+\n",
      "only showing top 5 rows\n",
      "\n"
     ]
    }
   ],
   "source": [
    "train_credit_bureau2_df, spark = import_and_concatenate_parquet_files(\n",
    "    data_file_names=[\n",
    "        \"train_credit_bureau_a_2_0.parquet\", \n",
    "        \"train_credit_bureau_a_2_1.parquet\",\n",
    "        \"train_credit_bureau_a_2_2.parquet\",\n",
    "        \"train_credit_bureau_a_2_3.parquet\",\n",
    "        \"train_credit_bureau_a_2_4.parquet\",\n",
    "        \"train_credit_bureau_a_2_5.parquet\",\n",
    "        \"train_credit_bureau_a_2_6.parquet\",\n",
    "        \"train_credit_bureau_a_2_7.parquet\",\n",
    "        \"train_credit_bureau_a_2_8.parquet\",\n",
    "        \"train_credit_bureau_a_2_9.parquet\",\n",
    "        \"train_credit_bureau_a_2_10.parquet\"\n",
    "    ],\n",
    "    app_name=\"Credit_Bureau_A_2_Train_Dataset_Cleaning\",\n",
    "    base_path=TRAIN_PARQUET_FOLDER_PATH / Path(\"depth_2\"),\n",
    ")\n",
    "\n",
    "train_credit_bureau2_df.sort(\"case_id\", \"num_group1\")\n",
    "train_credit_bureau2_df.show(5)"
   ]
  },
  {
   "cell_type": "code",
   "execution_count": 18,
   "metadata": {},
   "outputs": [],
   "source": [
    "spark.stop()"
   ]
  },
  {
   "cell_type": "code",
   "execution_count": null,
   "metadata": {},
   "outputs": [],
   "source": []
  }
 ],
 "metadata": {
  "kernelspec": {
   "display_name": "credit_risk_project",
   "language": "python",
   "name": "python3"
  },
  "language_info": {
   "codemirror_mode": {
    "name": "ipython",
    "version": 3
   },
   "file_extension": ".py",
   "mimetype": "text/x-python",
   "name": "python",
   "nbconvert_exporter": "python",
   "pygments_lexer": "ipython3",
   "version": "3.9.19"
  }
 },
 "nbformat": 4,
 "nbformat_minor": 2
}
